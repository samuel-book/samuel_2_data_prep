{
 "cells": [
  {
   "attachments": {},
   "cell_type": "markdown",
   "metadata": {},
   "source": [
    "# Descriptive analysis\n",
    "\n",
    "## Plain English Summary\n",
    "\n",
    "tbc\n",
    "\n",
    "## Aims\n",
    "\n",
    "tbc\n",
    "\n",
    "## Observations\n",
    "\n",
    "tbc"
   ]
  },
  {
   "attachments": {},
   "cell_type": "markdown",
   "metadata": {},
   "source": [
    "## Set up"
   ]
  },
  {
   "cell_type": "code",
   "execution_count": 1,
   "metadata": {},
   "outputs": [],
   "source": [
    "# Linting\n",
    "%load_ext pycodestyle_magic\n",
    "%pycodestyle_on"
   ]
  },
  {
   "cell_type": "code",
   "execution_count": 2,
   "metadata": {},
   "outputs": [],
   "source": [
    "# Import packages and functions\n",
    "from dataclasses import dataclass\n",
    "import matplotlib.pyplot as plt\n",
    "import os\n",
    "import pandas as pd"
   ]
  },
  {
   "cell_type": "code",
   "execution_count": 3,
   "metadata": {},
   "outputs": [],
   "source": [
    "# Set paths and filenames\n",
    "@dataclass(frozen=True)\n",
    "class Paths:\n",
    "    '''Singleton object for storing paths to data and files.'''\n",
    "\n",
    "    data_path = './../output/'\n",
    "    data_filename = 'reformatted_data_restricted.csv'\n",
    "    unrestricted_data_filename = 'reformatted_data.csv'\n",
    "    notebook = '01'\n",
    "\n",
    "\n",
    "paths = Paths()"
   ]
  },
  {
   "cell_type": "code",
   "execution_count": 4,
   "metadata": {},
   "outputs": [],
   "source": [
    "# Load dataset\n",
    "data = pd.read_csv(os.path.join(paths.data_path, paths.data_filename))\n",
    "full_data = pd.read_csv(os.path.join(paths.data_path,\n",
    "                                     paths.unrestricted_data_filename))"
   ]
  },
  {
   "attachments": {},
   "cell_type": "markdown",
   "metadata": {},
   "source": [
    "## Functions"
   ]
  },
  {
   "cell_type": "code",
   "execution_count": 5,
   "metadata": {},
   "outputs": [],
   "source": [
    "def n_freq(series):\n",
    "    '''\n",
    "    Finds value counts and their frequency\n",
    "    Input series e.g. data[col], data[[col1, col2]],\n",
    "    data.groupby(col1)[col2]\n",
    "    '''\n",
    "    res = pd.concat(\n",
    "        [series.value_counts(dropna=False),\n",
    "         series.value_counts(dropna=False, normalize=True)],\n",
    "        axis=1,\n",
    "        keys=('n', 'freq'))\n",
    "    if res.index.nlevels > 1:\n",
    "        res = res.reset_index()\n",
    "    return (res)"
   ]
  },
  {
   "attachments": {},
   "cell_type": "markdown",
   "metadata": {},
   "source": [
    "## Overview of dataset"
   ]
  },
  {
   "cell_type": "code",
   "execution_count": 6,
   "metadata": {},
   "outputs": [
    {
     "data": {
      "text/plain": [
       "(177631, 71)"
      ]
     },
     "execution_count": 6,
     "metadata": {},
     "output_type": "execute_result"
    }
   ],
   "source": [
    "# Show shape of the data\n",
    "data.shape"
   ]
  },
  {
   "cell_type": "code",
   "execution_count": 7,
   "metadata": {},
   "outputs": [
    {
     "data": {
      "text/html": [
       "<div>\n",
       "<style scoped>\n",
       "    .dataframe tbody tr th:only-of-type {\n",
       "        vertical-align: middle;\n",
       "    }\n",
       "\n",
       "    .dataframe tbody tr th {\n",
       "        vertical-align: top;\n",
       "    }\n",
       "\n",
       "    .dataframe thead th {\n",
       "        text-align: right;\n",
       "    }\n",
       "</style>\n",
       "<table border=\"1\" class=\"dataframe\">\n",
       "  <thead>\n",
       "    <tr style=\"text-align: right;\">\n",
       "      <th></th>\n",
       "      <th>Data type</th>\n",
       "      <th>Proportion complete</th>\n",
       "    </tr>\n",
       "  </thead>\n",
       "  <tbody>\n",
       "    <tr>\n",
       "      <th>Unnamed: 0</th>\n",
       "      <td>int64</td>\n",
       "      <td>1.000000</td>\n",
       "    </tr>\n",
       "    <tr>\n",
       "      <th>id</th>\n",
       "      <td>int64</td>\n",
       "      <td>1.000000</td>\n",
       "    </tr>\n",
       "    <tr>\n",
       "      <th>stroke_team</th>\n",
       "      <td>object</td>\n",
       "      <td>1.000000</td>\n",
       "    </tr>\n",
       "    <tr>\n",
       "      <th>age</th>\n",
       "      <td>float64</td>\n",
       "      <td>1.000000</td>\n",
       "    </tr>\n",
       "    <tr>\n",
       "      <th>male</th>\n",
       "      <td>int64</td>\n",
       "      <td>1.000000</td>\n",
       "    </tr>\n",
       "    <tr>\n",
       "      <th>...</th>\n",
       "      <td>...</td>\n",
       "      <td>...</td>\n",
       "    </tr>\n",
       "    <tr>\n",
       "      <th>patient_id</th>\n",
       "      <td>int64</td>\n",
       "      <td>1.000000</td>\n",
       "    </tr>\n",
       "    <tr>\n",
       "      <th>CallConnectedtoArrivalMinutes</th>\n",
       "      <td>float64</td>\n",
       "      <td>0.159719</td>\n",
       "    </tr>\n",
       "    <tr>\n",
       "      <th>ArrivalPatientLocationtoArrivalMinutes</th>\n",
       "      <td>float64</td>\n",
       "      <td>0.159707</td>\n",
       "    </tr>\n",
       "    <tr>\n",
       "      <th>DeparturePatientLocationtoArrivalMinutes</th>\n",
       "      <td>float64</td>\n",
       "      <td>0.159555</td>\n",
       "    </tr>\n",
       "    <tr>\n",
       "      <th>WheelsStoptoArrivalMinutes</th>\n",
       "      <td>float64</td>\n",
       "      <td>0.130963</td>\n",
       "    </tr>\n",
       "  </tbody>\n",
       "</table>\n",
       "<p>71 rows × 2 columns</p>\n",
       "</div>"
      ],
      "text/plain": [
       "                                         Data type  Proportion complete\n",
       "Unnamed: 0                                   int64             1.000000\n",
       "id                                           int64             1.000000\n",
       "stroke_team                                 object             1.000000\n",
       "age                                        float64             1.000000\n",
       "male                                         int64             1.000000\n",
       "...                                            ...                  ...\n",
       "patient_id                                   int64             1.000000\n",
       "CallConnectedtoArrivalMinutes              float64             0.159719\n",
       "ArrivalPatientLocationtoArrivalMinutes     float64             0.159707\n",
       "DeparturePatientLocationtoArrivalMinutes   float64             0.159555\n",
       "WheelsStoptoArrivalMinutes                 float64             0.130963\n",
       "\n",
       "[71 rows x 2 columns]"
      ]
     },
     "execution_count": 7,
     "metadata": {},
     "output_type": "execute_result"
    }
   ],
   "source": [
    "# List all columns and show their data types and proportion of completed data\n",
    "data_types = data.dtypes\n",
    "completion = data.count() / data.shape[0]\n",
    "data_info = pd.DataFrame({'Data type': data_types,\n",
    "                          'Proportion complete': completion})\n",
    "\n",
    "# Show dataframe\n",
    "data_info"
   ]
  },
  {
   "attachments": {},
   "cell_type": "markdown",
   "metadata": {},
   "source": [
    "## Admissions"
   ]
  },
  {
   "attachments": {},
   "cell_type": "markdown",
   "metadata": {},
   "source": [
    "Full dataset - <mark>to consider:</mark> actual number of admissions doesn't drop in 2020"
   ]
  },
  {
   "cell_type": "code",
   "execution_count": 8,
   "metadata": {},
   "outputs": [
    {
     "data": {
      "image/png": "[encoded data removed]",
      "text/plain": [
       "<Figure size 640x480 with 1 Axes>"
      ]
     },
     "metadata": {},
     "output_type": "display_data"
    }
   ],
   "source": [
    "# Admissions per year\n",
    "yearly_admissions_full = (full_data\n",
    "                          .groupby('year')\n",
    "                          .size()\n",
    "                          .reset_index(name='admissions'))\n",
    "yearly_admissions_full.plot.bar(\n",
    "    x='year', y='admissions',\n",
    "    title='Number of stroke admissions per year',\n",
    "    legend=None)\n",
    "plt.show()"
   ]
  },
  {
   "cell_type": "code",
   "execution_count": 9,
   "metadata": {},
   "outputs": [
    {
     "data": {
      "image/png": "[encoded data removed]",
      "text/plain": [
       "<Figure size 640x480 with 1 Axes>"
      ]
     },
     "metadata": {},
     "output_type": "display_data"
    }
   ],
   "source": [
    "# Find number of admissions per stroke team per year\n",
    "full_team_admissions_yearly = (\n",
    "    full_data\n",
    "    .groupby(['stroke_team', 'year'])\n",
    "    .size()\n",
    "    .reset_index(name='admissions'))\n",
    "\n",
    "# Plot per year\n",
    "full_team_admissions_yearly.boxplot('admissions', by='year')\n",
    "plt.xlabel('Year')\n",
    "plt.ylabel('Admissions')\n",
    "plt.title('Admissions per stroke team per year')\n",
    "plt.suptitle('')\n",
    "plt.grid(None)\n",
    "plt.show()"
   ]
  },
  {
   "attachments": {},
   "cell_type": "markdown",
   "metadata": {},
   "source": [
    "Restricted dataset"
   ]
  },
  {
   "cell_type": "code",
   "execution_count": 10,
   "metadata": {},
   "outputs": [
    {
     "data": {
      "text/plain": [
       "177631"
      ]
     },
     "execution_count": 10,
     "metadata": {},
     "output_type": "execute_result"
    }
   ],
   "source": [
    "# Total admissions\n",
    "len(data.index)"
   ]
  },
  {
   "cell_type": "code",
   "execution_count": 11,
   "metadata": {},
   "outputs": [
    {
     "data": {
      "image/png": "[encoded data removed]",
      "text/plain": [
       "<Figure size 640x480 with 1 Axes>"
      ]
     },
     "metadata": {},
     "output_type": "display_data"
    }
   ],
   "source": [
    "# Admissions per year\n",
    "yearly_admissions = data.groupby('year').size().reset_index(name='admissions')\n",
    "yearly_admissions.plot.bar(x='year', y='admissions',\n",
    "                           title='Number of stroke admissions per year',\n",
    "                           legend=None)\n",
    "plt.show()"
   ]
  },
  {
   "cell_type": "code",
   "execution_count": 12,
   "metadata": {},
   "outputs": [
    {
     "data": {
      "text/plain": [
       "59210.33"
      ]
     },
     "execution_count": 12,
     "metadata": {},
     "output_type": "execute_result"
    }
   ],
   "source": [
    "# Mean admissions per year\n",
    "round(yearly_admissions['admissions'].mean(), 2)"
   ]
  },
  {
   "cell_type": "code",
   "execution_count": 13,
   "metadata": {},
   "outputs": [
    {
     "data": {
      "image/png": "[encoded data removed]",
      "text/plain": [
       "<Figure size 640x480 with 1 Axes>"
      ]
     },
     "metadata": {},
     "output_type": "display_data"
    }
   ],
   "source": [
    "# Admissions per stroke team\n",
    "team_admissions = data.groupby('stroke_team').size()\n",
    "\n",
    "# Plot distribution of admissions\n",
    "plt.boxplot(team_admissions)\n",
    "plt.ylabel('Admissions per stroke team (full period)')\n",
    "\n",
    "# Remove x axis ticks as only one variable\n",
    "plt.tick_params(axis='x', which='both', bottom=False,\n",
    "                top=False, labelbottom=False)\n",
    "\n",
    "plt.show()"
   ]
  },
  {
   "cell_type": "code",
   "execution_count": 14,
   "metadata": {},
   "outputs": [
    {
     "data": {
      "image/png": "[encoded data removed]",
      "text/plain": [
       "<Figure size 640x480 with 1 Axes>"
      ]
     },
     "metadata": {},
     "output_type": "display_data"
    }
   ],
   "source": [
    "# Find number of admissions per stroke team per year\n",
    "team_admissions_yearly = (data\n",
    "                          .groupby(['stroke_team', 'year'])\n",
    "                          .size()\n",
    "                          .reset_index(name='admissions'))\n",
    "\n",
    "# Plot per year\n",
    "team_admissions_yearly.boxplot('admissions', by='year')\n",
    "plt.xlabel('Year')\n",
    "plt.ylabel('Admissions')\n",
    "plt.title('Admissions per stroke team per year')\n",
    "plt.suptitle('')\n",
    "plt.grid(None)\n",
    "plt.show()"
   ]
  },
  {
   "attachments": {},
   "cell_type": "markdown",
   "metadata": {},
   "source": [
    "## Stroke types"
   ]
  },
  {
   "cell_type": "code",
   "execution_count": 15,
   "metadata": {},
   "outputs": [
    {
     "data": {
      "text/html": [
       "<div>\n",
       "<style scoped>\n",
       "    .dataframe tbody tr th:only-of-type {\n",
       "        vertical-align: middle;\n",
       "    }\n",
       "\n",
       "    .dataframe tbody tr th {\n",
       "        vertical-align: top;\n",
       "    }\n",
       "\n",
       "    .dataframe thead th {\n",
       "        text-align: right;\n",
       "    }\n",
       "</style>\n",
       "<table border=\"1\" class=\"dataframe\">\n",
       "  <thead>\n",
       "    <tr style=\"text-align: right;\">\n",
       "      <th></th>\n",
       "      <th>n</th>\n",
       "      <th>freq</th>\n",
       "    </tr>\n",
       "  </thead>\n",
       "  <tbody>\n",
       "    <tr>\n",
       "      <th>Infarction</th>\n",
       "      <td>155367</td>\n",
       "      <td>0.874662</td>\n",
       "    </tr>\n",
       "    <tr>\n",
       "      <th>Primary Intracerebral Haemorrage</th>\n",
       "      <td>21546</td>\n",
       "      <td>0.121296</td>\n",
       "    </tr>\n",
       "    <tr>\n",
       "      <th>NaN</th>\n",
       "      <td>718</td>\n",
       "      <td>0.004042</td>\n",
       "    </tr>\n",
       "  </tbody>\n",
       "</table>\n",
       "</div>"
      ],
      "text/plain": [
       "                                       n      freq\n",
       "Infarction                        155367  0.874662\n",
       "Primary Intracerebral Haemorrage   21546  0.121296\n",
       "NaN                                  718  0.004042"
      ]
     },
     "execution_count": 15,
     "metadata": {},
     "output_type": "execute_result"
    }
   ],
   "source": [
    "n_freq(data['infarction'].map({1: 'Infarction',\n",
    "                               0: 'Primary Intracerebral Haemorrage'}))"
   ]
  },
  {
   "attachments": {},
   "cell_type": "markdown",
   "metadata": {},
   "source": [
    "## Thrombolysis and thrombectomy"
   ]
  },
  {
   "cell_type": "code",
   "execution_count": 16,
   "metadata": {},
   "outputs": [
    {
     "data": {
      "text/html": [
       "<div>\n",
       "<style scoped>\n",
       "    .dataframe tbody tr th:only-of-type {\n",
       "        vertical-align: middle;\n",
       "    }\n",
       "\n",
       "    .dataframe tbody tr th {\n",
       "        vertical-align: top;\n",
       "    }\n",
       "\n",
       "    .dataframe thead th {\n",
       "        text-align: right;\n",
       "    }\n",
       "</style>\n",
       "<table border=\"1\" class=\"dataframe\">\n",
       "  <thead>\n",
       "    <tr style=\"text-align: right;\">\n",
       "      <th></th>\n",
       "      <th>n</th>\n",
       "      <th>freq</th>\n",
       "    </tr>\n",
       "  </thead>\n",
       "  <tbody>\n",
       "    <tr>\n",
       "      <th>0</th>\n",
       "      <td>156836</td>\n",
       "      <td>0.882931</td>\n",
       "    </tr>\n",
       "    <tr>\n",
       "      <th>1</th>\n",
       "      <td>20795</td>\n",
       "      <td>0.117069</td>\n",
       "    </tr>\n",
       "  </tbody>\n",
       "</table>\n",
       "</div>"
      ],
      "text/plain": [
       "        n      freq\n",
       "0  156836  0.882931\n",
       "1   20795  0.117069"
      ]
     },
     "execution_count": 16,
     "metadata": {},
     "output_type": "execute_result"
    }
   ],
   "source": [
    "# Thrombolysis use\n",
    "n_freq(data['thrombolysis'])"
   ]
  },
  {
   "cell_type": "code",
   "execution_count": 17,
   "metadata": {},
   "outputs": [
    {
     "data": {
      "text/html": [
       "<div>\n",
       "<style scoped>\n",
       "    .dataframe tbody tr th:only-of-type {\n",
       "        vertical-align: middle;\n",
       "    }\n",
       "\n",
       "    .dataframe tbody tr th {\n",
       "        vertical-align: top;\n",
       "    }\n",
       "\n",
       "    .dataframe thead th {\n",
       "        text-align: right;\n",
       "    }\n",
       "</style>\n",
       "<table border=\"1\" class=\"dataframe\">\n",
       "  <thead>\n",
       "    <tr style=\"text-align: right;\">\n",
       "      <th></th>\n",
       "      <th>n</th>\n",
       "      <th>freq</th>\n",
       "    </tr>\n",
       "  </thead>\n",
       "  <tbody>\n",
       "    <tr>\n",
       "      <th>0</th>\n",
       "      <td>175840</td>\n",
       "      <td>0.989917</td>\n",
       "    </tr>\n",
       "    <tr>\n",
       "      <th>1</th>\n",
       "      <td>1791</td>\n",
       "      <td>0.010083</td>\n",
       "    </tr>\n",
       "  </tbody>\n",
       "</table>\n",
       "</div>"
      ],
      "text/plain": [
       "        n      freq\n",
       "0  175840  0.989917\n",
       "1    1791  0.010083"
      ]
     },
     "execution_count": 17,
     "metadata": {},
     "output_type": "execute_result"
    }
   ],
   "source": [
    "# Thrombectomy use\n",
    "n_freq(data['thrombectomy'])"
   ]
  },
  {
   "cell_type": "code",
   "execution_count": 18,
   "metadata": {},
   "outputs": [
    {
     "data": {
      "text/html": [
       "<div>\n",
       "<style scoped>\n",
       "    .dataframe tbody tr th:only-of-type {\n",
       "        vertical-align: middle;\n",
       "    }\n",
       "\n",
       "    .dataframe tbody tr th {\n",
       "        vertical-align: top;\n",
       "    }\n",
       "\n",
       "    .dataframe thead th {\n",
       "        text-align: right;\n",
       "    }\n",
       "</style>\n",
       "<table border=\"1\" class=\"dataframe\">\n",
       "  <thead>\n",
       "    <tr style=\"text-align: right;\">\n",
       "      <th></th>\n",
       "      <th>thrombolysis</th>\n",
       "      <th>thrombectomy</th>\n",
       "      <th>n</th>\n",
       "      <th>freq</th>\n",
       "    </tr>\n",
       "  </thead>\n",
       "  <tbody>\n",
       "    <tr>\n",
       "      <th>0</th>\n",
       "      <td>0</td>\n",
       "      <td>0</td>\n",
       "      <td>156141</td>\n",
       "      <td>0.879019</td>\n",
       "    </tr>\n",
       "    <tr>\n",
       "      <th>3</th>\n",
       "      <td>0</td>\n",
       "      <td>1</td>\n",
       "      <td>695</td>\n",
       "      <td>0.003913</td>\n",
       "    </tr>\n",
       "    <tr>\n",
       "      <th>1</th>\n",
       "      <td>1</td>\n",
       "      <td>0</td>\n",
       "      <td>19699</td>\n",
       "      <td>0.110898</td>\n",
       "    </tr>\n",
       "    <tr>\n",
       "      <th>2</th>\n",
       "      <td>1</td>\n",
       "      <td>1</td>\n",
       "      <td>1096</td>\n",
       "      <td>0.006170</td>\n",
       "    </tr>\n",
       "  </tbody>\n",
       "</table>\n",
       "</div>"
      ],
      "text/plain": [
       "   thrombolysis  thrombectomy       n      freq\n",
       "0             0             0  156141  0.879019\n",
       "3             0             1     695  0.003913\n",
       "1             1             0   19699  0.110898\n",
       "2             1             1    1096  0.006170"
      ]
     },
     "execution_count": 18,
     "metadata": {},
     "output_type": "execute_result"
    }
   ],
   "source": [
    "# Thrombolysis and/or thrombectomy use\n",
    "n_freq(data[['thrombolysis', 'thrombectomy']]).sort_values(by='thrombolysis')"
   ]
  },
  {
   "cell_type": "code",
   "execution_count": 19,
   "metadata": {},
   "outputs": [
    {
     "data": {
      "text/html": [
       "<div>\n",
       "<style scoped>\n",
       "    .dataframe tbody tr th:only-of-type {\n",
       "        vertical-align: middle;\n",
       "    }\n",
       "\n",
       "    .dataframe tbody tr th {\n",
       "        vertical-align: top;\n",
       "    }\n",
       "\n",
       "    .dataframe thead th {\n",
       "        text-align: right;\n",
       "    }\n",
       "</style>\n",
       "<table border=\"1\" class=\"dataframe\">\n",
       "  <thead>\n",
       "    <tr style=\"text-align: right;\">\n",
       "      <th></th>\n",
       "      <th>n</th>\n",
       "      <th>freq</th>\n",
       "    </tr>\n",
       "  </thead>\n",
       "  <tbody>\n",
       "    <tr>\n",
       "      <th>1</th>\n",
       "      <td>139837</td>\n",
       "      <td>0.787233</td>\n",
       "    </tr>\n",
       "    <tr>\n",
       "      <th>0</th>\n",
       "      <td>37794</td>\n",
       "      <td>0.212767</td>\n",
       "    </tr>\n",
       "  </tbody>\n",
       "</table>\n",
       "</div>"
      ],
      "text/plain": [
       "        n      freq\n",
       "1  139837  0.787233\n",
       "0   37794  0.212767"
      ]
     },
     "execution_count": 19,
     "metadata": {},
     "output_type": "execute_result"
    }
   ],
   "source": [
    "# Arrival by ambulance\n",
    "n_freq(data['arrive_by_ambulance'])"
   ]
  },
  {
   "cell_type": "code",
   "execution_count": 20,
   "metadata": {},
   "outputs": [
    {
     "data": {
      "text/html": [
       "<div>\n",
       "<style scoped>\n",
       "    .dataframe tbody tr th:only-of-type {\n",
       "        vertical-align: middle;\n",
       "    }\n",
       "\n",
       "    .dataframe tbody tr th {\n",
       "        vertical-align: top;\n",
       "    }\n",
       "\n",
       "    .dataframe thead th {\n",
       "        text-align: right;\n",
       "    }\n",
       "</style>\n",
       "<table border=\"1\" class=\"dataframe\">\n",
       "  <thead>\n",
       "    <tr style=\"text-align: right;\">\n",
       "      <th></th>\n",
       "      <th>arrive_by_ambulance</th>\n",
       "      <th>thrombolysis</th>\n",
       "      <th>n</th>\n",
       "      <th>freq</th>\n",
       "    </tr>\n",
       "  </thead>\n",
       "  <tbody>\n",
       "    <tr>\n",
       "      <th>0</th>\n",
       "      <td>0</td>\n",
       "      <td>0</td>\n",
       "      <td>36287</td>\n",
       "      <td>0.960126</td>\n",
       "    </tr>\n",
       "    <tr>\n",
       "      <th>1</th>\n",
       "      <td>0</td>\n",
       "      <td>1</td>\n",
       "      <td>1507</td>\n",
       "      <td>0.039874</td>\n",
       "    </tr>\n",
       "    <tr>\n",
       "      <th>2</th>\n",
       "      <td>1</td>\n",
       "      <td>0</td>\n",
       "      <td>120549</td>\n",
       "      <td>0.862068</td>\n",
       "    </tr>\n",
       "    <tr>\n",
       "      <th>3</th>\n",
       "      <td>1</td>\n",
       "      <td>1</td>\n",
       "      <td>19288</td>\n",
       "      <td>0.137932</td>\n",
       "    </tr>\n",
       "  </tbody>\n",
       "</table>\n",
       "</div>"
      ],
      "text/plain": [
       "   arrive_by_ambulance  thrombolysis       n      freq\n",
       "0                    0             0   36287  0.960126\n",
       "1                    0             1    1507  0.039874\n",
       "2                    1             0  120549  0.862068\n",
       "3                    1             1   19288  0.137932"
      ]
     },
     "execution_count": 20,
     "metadata": {},
     "output_type": "execute_result"
    }
   ],
   "source": [
    "# Thrombolysis use, depending on whether arrived by ambulance\n",
    "(n_freq(data.groupby('arrive_by_ambulance')['thrombolysis'])\n",
    " .sort_values(by='arrive_by_ambulance'))"
   ]
  },
  {
   "attachments": {},
   "cell_type": "markdown",
   "metadata": {},
   "source": [
    "## Rough notes"
   ]
  },
  {
   "cell_type": "code",
   "execution_count": 21,
   "metadata": {},
   "outputs": [
    {
     "data": {
      "text/plain": [
       "\"\\n# Arrival times\\ndata['weekday'].value_counts()\\n\\ndata['month'].value_counts().sort_index()\\n\\ndata['year'].value_counts().sort_index()\\n\\ndata['arrival_time_3_hour_period'].value_counts().sort_index()\\n\\n# Analyse by team - group by team, record:\\n# Team, admission numbers, thrombolysis rate, rank before stroke, NIHSS on arrival, proportion with known onset time (remove rest), proportion with onset <4 (remove rest)\\n# rankin again, proportion 80+, onset to arrival, scan within 4 hours, arrival to scan, thrombolysis given, scan to needle, arrival to needle, onset to needle, proportion thrombolysis after 180 or 270\\n\\n# Based on analysis by team, summarise for whole population (average of each hospital)\\n\\n# Those average summary results for under 80 v.s. over 80\\n\\n# Figure with thrombolyysis use (all and < 4 hours onset)\\n# Figure proportion with known onset\\n# Mean arrival to scan time for patients\\n# Mean scan to needle time\\n# Mean arrival to needle time\\n\\n# Stroke severity distribution\\n\\n# Onset to arrival, proportion known onset, severity\\n\\n# Restrict to patients who received thrombolysis\\nthrombolysed = data[data['thrombolysis'] == 1].copy()\\n\\n# Proportion where onset is known\\n# throm_arrival['onset known'] = thrombolysed['onset known'].value_counts(normalize = True)[1]\\n\\n# Arrival within 4 or 6 hours\\nthrombolysed['arrive_within_4'] = np.where(thrombolysed['onset_to_arrival_time'] <= 240, 1, 0)\\nthrombolysed['arrive_within_6'] = np.where(thrombolysed['onset_to_arrival_time'] <= 360, 1, 0)\\n\\n# NIHSS 6+ or 11+\\nthrombolysed['nihss_6_plus'] = np.where(thrombolysed['stroke_severity'] >= 6, 1, 0)\\nthrombolysed['nihss_11_plus'] = np.where(thrombolysed['stroke_severity'] >= 11, 1, 0)\\n\\n# Find results overall, by arrival time group, and by NIHSS group\\n# thrombolysed.groupby('arrive_within_4').mean()\\n\""
      ]
     },
     "execution_count": 21,
     "metadata": {},
     "output_type": "execute_result"
    },
    {
     "name": "stderr",
     "output_type": "stream",
     "text": [
      "14:80: E501 line too long (170 > 79 characters)\n",
      "15:80: E501 line too long (200 > 79 characters)\n",
      "17:80: E501 line too long (86 > 79 characters)\n",
      "35:80: E501 line too long (94 > 79 characters)\n",
      "38:80: E501 line too long (94 > 79 characters)\n",
      "39:80: E501 line too long (94 > 79 characters)\n",
      "42:80: E501 line too long (83 > 79 characters)\n",
      "43:80: E501 line too long (85 > 79 characters)\n",
      "48:1: W391 blank line at end of file\n"
     ]
    }
   ],
   "source": [
    "# Rough notes\n",
    "\n",
    "'''\n",
    "# Arrival times\n",
    "data['weekday'].value_counts()\n",
    "\n",
    "data['month'].value_counts().sort_index()\n",
    "\n",
    "data['year'].value_counts().sort_index()\n",
    "\n",
    "data['arrival_time_3_hour_period'].value_counts().sort_index()\n",
    "\n",
    "# Analyse by team - group by team, record:\n",
    "# Team, admission numbers, thrombolysis rate, rank before stroke, NIHSS on arrival, proportion with known onset time (remove rest), proportion with onset <4 (remove rest)\n",
    "# rankin again, proportion 80+, onset to arrival, scan within 4 hours, arrival to scan, thrombolysis given, scan to needle, arrival to needle, onset to needle, proportion thrombolysis after 180 or 270\n",
    "\n",
    "# Based on analysis by team, summarise for whole population (average of each hospital)\n",
    "\n",
    "# Those average summary results for under 80 v.s. over 80\n",
    "\n",
    "# Figure with thrombolyysis use (all and < 4 hours onset)\n",
    "# Figure proportion with known onset\n",
    "# Mean arrival to scan time for patients\n",
    "# Mean scan to needle time\n",
    "# Mean arrival to needle time\n",
    "\n",
    "# Stroke severity distribution\n",
    "\n",
    "# Onset to arrival, proportion known onset, severity\n",
    "\n",
    "# Restrict to patients who received thrombolysis\n",
    "thrombolysed = data[data['thrombolysis'] == 1].copy()\n",
    "\n",
    "# Proportion where onset is known\n",
    "# throm_arrival['onset known'] = thrombolysed['onset known'].value_counts(normalize = True)[1]\n",
    "\n",
    "# Arrival within 4 or 6 hours\n",
    "thrombolysed['arrive_within_4'] = np.where(thrombolysed['onset_to_arrival_time'] <= 240, 1, 0)\n",
    "thrombolysed['arrive_within_6'] = np.where(thrombolysed['onset_to_arrival_time'] <= 360, 1, 0)\n",
    "\n",
    "# NIHSS 6+ or 11+\n",
    "thrombolysed['nihss_6_plus'] = np.where(thrombolysed['stroke_severity'] >= 6, 1, 0)\n",
    "thrombolysed['nihss_11_plus'] = np.where(thrombolysed['stroke_severity'] >= 11, 1, 0)\n",
    "\n",
    "# Find results overall, by arrival time group, and by NIHSS group\n",
    "# thrombolysed.groupby('arrive_within_4').mean()\n",
    "'''\n"
   ]
  }
 ],
 "metadata": {
  "kernelspec": {
   "display_name": "sam10",
   "language": "python",
   "name": "python3"
  },
  "language_info": {
   "codemirror_mode": {
    "name": "ipython",
    "version": 3
   },
   "file_extension": ".py",
   "mimetype": "text/x-python",
   "name": "python",
   "nbconvert_exporter": "python",
   "pygments_lexer": "ipython3",
   "version": "3.10.11"
  },
  "orig_nbformat": 4
 },
 "nbformat": 4,
 "nbformat_minor": 2
}
