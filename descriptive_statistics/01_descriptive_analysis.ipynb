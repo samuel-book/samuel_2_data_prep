{
 "cells": [
  {
   "attachments": {},
   "cell_type": "markdown",
   "metadata": {},
   "source": [
    "# Descriptive analysis of SSNAP Extract Version 2\n",
    "\n",
    "## Plain English Summary\n",
    "\n",
    "tbc\n",
    "\n",
    "## Aims\n",
    "\n",
    "* Restrict to records from 2017 to 2019 (inclusive), with minimum of 300 admissions and 10 thrombolysis patients per stroke team\n",
    "\n",
    "## Observations\n",
    "\n",
    "tbc"
   ]
  },
  {
   "attachments": {},
   "cell_type": "markdown",
   "metadata": {},
   "source": [
    "## Import libraries"
   ]
  },
  {
   "cell_type": "code",
   "execution_count": 2,
   "metadata": {},
   "outputs": [],
   "source": [
    "import pandas as pd"
   ]
  },
  {
   "cell_type": "markdown",
   "metadata": {},
   "source": [
    "## Set filenames"
   ]
  },
  {
   "cell_type": "code",
   "execution_count": 3,
   "metadata": {},
   "outputs": [],
   "source": [
    "notebook = '01'\n",
    "data_file = './../output/reformatted_data.csv'"
   ]
  },
  {
   "cell_type": "markdown",
   "metadata": {},
   "source": [
    "## Load data"
   ]
  },
  {
   "cell_type": "code",
   "execution_count": 4,
   "metadata": {},
   "outputs": [],
   "source": [
    "raw_data = pd.read_csv(data_file)"
   ]
  },
  {
   "attachments": {},
   "cell_type": "markdown",
   "metadata": {},
   "source": [
    "## Restrict data\n",
    "\n",
    "Restrict to records from 2017, 2018 and 2019."
   ]
  },
  {
   "cell_type": "code",
   "execution_count": 40,
   "metadata": {},
   "outputs": [
    {
     "name": "stdout",
     "output_type": "stream",
     "text": [
      "Number of records per year:\n",
      "2016    56510\n",
      "2017    58983\n",
      "2018    58549\n",
      "2019    60413\n",
      "2020    59301\n",
      "2021    66625\n",
      "Total: 360381\n"
     ]
    }
   ],
   "source": [
    "print('Number of records per year:')\n",
    "print(raw_data.year.value_counts().sort_index().to_string())\n",
    "print('Total: {0}'.format(len(raw_data.index)))"
   ]
  },
  {
   "cell_type": "code",
   "execution_count": 42,
   "metadata": {},
   "outputs": [
    {
     "name": "stdout",
     "output_type": "stream",
     "text": [
      "New total number of records: 177945\n"
     ]
    }
   ],
   "source": [
    "raw_data_restrict = raw_data[raw_data['year'].isin([2017, 2018, 2019])]\n",
    "print('New total number of records: {0}'.format(len(raw_data_restrict.index)))"
   ]
  },
  {
   "attachments": {},
   "cell_type": "markdown",
   "metadata": {},
   "source": [
    "Restrict to stroke teams with a minimum of 300 admissions and 10 thrombolysis patients across that three year period."
   ]
  },
  {
   "cell_type": "code",
   "execution_count": 25,
   "metadata": {},
   "outputs": [
    {
     "name": "stdout",
     "output_type": "stream",
     "text": [
      "Number of stroke teams remaining in dataset: 114\n",
      "Number of stroke teams removed from dataset: 4\n"
     ]
    }
   ],
   "source": [
    "keep = []\n",
    "discard = 0\n",
    "\n",
    "# Group dataframe by stroke team\n",
    "groups = raw_data_restrict.groupby('stroke team')\n",
    "\n",
    "# Loop through name (each stroke team) and group_df (relevant rows from data)\n",
    "for name, group_df in groups:\n",
    "    # Skip if admissions less than 300 or thrombolysis patients less than 10\n",
    "    admissions = len(group_df.index)\n",
    "    thrombolysis_received = group_df['thrombolysis'] == 1\n",
    "    if (admissions < 300) or (thrombolysis_received.sum() < 10):\n",
    "        discard += 1\n",
    "        continue\n",
    "    else:\n",
    "        keep.append(group_df)\n",
    "\n",
    "# Concatenate output\n",
    "data = pd.concat(keep)\n",
    "\n",
    "# Number of stroke teams kept v.s. removed\n",
    "print('Number of stroke teams remaining in dataset: {0}'.format(len(keep)))\n",
    "print('Number of stroke teams removed from dataset: {0}'.format(discard))\n"
   ]
  }
 ],
 "metadata": {
  "kernelspec": {
   "display_name": "sam10",
   "language": "python",
   "name": "python3"
  },
  "language_info": {
   "codemirror_mode": {
    "name": "ipython",
    "version": 3
   },
   "file_extension": ".py",
   "mimetype": "text/x-python",
   "name": "python",
   "nbconvert_exporter": "python",
   "pygments_lexer": "ipython3",
   "version": "3.10.11"
  },
  "orig_nbformat": 4
 },
 "nbformat": 4,
 "nbformat_minor": 2
}
