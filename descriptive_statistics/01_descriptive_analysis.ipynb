{
 "cells": [
  {
   "attachments": {},
   "cell_type": "markdown",
   "metadata": {},
   "source": [
    "# Descriptive analysis of SSNAP Extract Version 2\n",
    "\n",
    "## Plain English Summary\n",
    "\n",
    "tbc\n",
    "\n",
    "## Aims\n",
    "\n",
    "* Restrict to records from 2017 to 2019 (inclusive), with minimum of 300 admissions and 10 thrombolysis patients per stroke team\n",
    "\n",
    "## Observations\n",
    "\n",
    "tbc"
   ]
  },
  {
   "attachments": {},
   "cell_type": "markdown",
   "metadata": {},
   "source": [
    "## Import libraries"
   ]
  },
  {
   "cell_type": "code",
   "execution_count": 16,
   "metadata": {},
   "outputs": [],
   "source": [
    "# Import packages and functions\n",
    "import os\n",
    "import pandas as pd\n",
    "from dataclasses import dataclass\n",
    "\n",
    "# Set the maximum number of columns and rows to 100\n",
    "pd.set_option('display.max_columns', 100)\n",
    "pd.set_option('display.max_rows', 100)"
   ]
  },
  {
   "attachments": {},
   "cell_type": "markdown",
   "metadata": {},
   "source": [
    "## Set paths and filenames"
   ]
  },
  {
   "cell_type": "code",
   "execution_count": 17,
   "metadata": {},
   "outputs": [],
   "source": [
    "@dataclass(frozen=True)\n",
    "class Paths:\n",
    "    '''Singleton object for storing paths to data and files.'''\n",
    "\n",
    "    data_path = './../output/'\n",
    "    data_filename = 'reformatted_data.csv'\n",
    "    notebook = '01'\n",
    "    \n",
    "paths = Paths()"
   ]
  },
  {
   "attachments": {},
   "cell_type": "markdown",
   "metadata": {},
   "source": [
    "## Load and restrict data"
   ]
  },
  {
   "cell_type": "code",
   "execution_count": 18,
   "metadata": {},
   "outputs": [],
   "source": [
    "raw_data = pd.read_csv(os.path.join(paths.data_path, paths.data_filename))"
   ]
  },
  {
   "attachments": {},
   "cell_type": "markdown",
   "metadata": {},
   "source": [
    "Restrict to records from 2017, 2018 and 2019."
   ]
  },
  {
   "cell_type": "code",
   "execution_count": 5,
   "metadata": {},
   "outputs": [
    {
     "name": "stdout",
     "output_type": "stream",
     "text": [
      "Number of records per year:\n",
      "2016    56510\n",
      "2017    58983\n",
      "2018    58549\n",
      "2019    60413\n",
      "2020    59301\n",
      "2021    66625\n",
      "Total: 360381\n"
     ]
    }
   ],
   "source": [
    "print('Number of records per year:')\n",
    "print(raw_data.year.value_counts().sort_index().to_string())\n",
    "print('Total: {0}'.format(len(raw_data.index)))"
   ]
  },
  {
   "cell_type": "code",
   "execution_count": 6,
   "metadata": {},
   "outputs": [
    {
     "name": "stdout",
     "output_type": "stream",
     "text": [
      "New total number of records: 177945\n"
     ]
    }
   ],
   "source": [
    "raw_data_restrict = raw_data[raw_data['year'].isin([2017, 2018, 2019])]\n",
    "print('New total number of records: {0}'.format(len(raw_data_restrict.index)))"
   ]
  },
  {
   "attachments": {},
   "cell_type": "markdown",
   "metadata": {},
   "source": [
    "Restrict to stroke teams with a minimum of 300 admissions and 10 thrombolysis patients across that three year period."
   ]
  },
  {
   "cell_type": "code",
   "execution_count": 7,
   "metadata": {},
   "outputs": [
    {
     "name": "stdout",
     "output_type": "stream",
     "text": [
      "Number of stroke teams remaining in dataset: 114\n",
      "Number of stroke teams removed from dataset: 4\n"
     ]
    }
   ],
   "source": [
    "keep = []\n",
    "discard = 0\n",
    "\n",
    "# Group dataframe by stroke team\n",
    "groups = raw_data_restrict.groupby('stroke team')\n",
    "\n",
    "# Loop through name (each stroke team) and group_df (relevant rows from data)\n",
    "for name, group_df in groups:\n",
    "    # Skip if admissions less than 300 or thrombolysis patients less than 10\n",
    "    admissions = len(group_df.index)\n",
    "    thrombolysis_received = group_df['thrombolysis'] == 1\n",
    "    if (admissions < 300) or (thrombolysis_received.sum() < 10):\n",
    "        discard += 1\n",
    "        continue\n",
    "    else:\n",
    "        keep.append(group_df)\n",
    "\n",
    "# Concatenate output\n",
    "data = pd.concat(keep)\n",
    "\n",
    "# Number of stroke teams kept v.s. removed\n",
    "print('Number of stroke teams remaining in dataset: {0}'.format(len(keep)))\n",
    "print('Number of stroke teams removed from dataset: {0}'.format(discard))\n"
   ]
  },
  {
   "cell_type": "markdown",
   "metadata": {},
   "source": [
    "## Exploratory (to tidy)"
   ]
  },
  {
   "attachments": {},
   "cell_type": "markdown",
   "metadata": {},
   "source": [
    "Initially copied from SAMueL 1"
   ]
  },
  {
   "cell_type": "code",
   "execution_count": 11,
   "metadata": {},
   "outputs": [
    {
     "name": "stdout",
     "output_type": "stream",
     "text": [
      "Total admissions: 177631\n",
      "Average yearly admissions: 59210\n"
     ]
    }
   ],
   "source": [
    "print('Total admissions: {0}'.format(len(data.index)))\n",
    "print('Average yearly admissions: {0}'.format(round(len(data.index)/3)))"
   ]
  },
  {
   "cell_type": "code",
   "execution_count": 25,
   "metadata": {},
   "outputs": [
    {
     "data": {
      "text/plain": [
       "Infarction                          0.874662\n",
       "Primary Intracerebral Haemorrage    0.125338\n",
       "Name: infarction, dtype: float64"
      ]
     },
     "execution_count": 25,
     "metadata": {},
     "output_type": "execute_result"
    }
   ],
   "source": [
    "# Stroke types\n",
    "data['infarction'].map({1: 'Infarction',\n",
    "                        0: 'Primary Intracerebral Haemorrage'}).value_counts(normalize=True)"
   ]
  }
 ],
 "metadata": {
  "kernelspec": {
   "display_name": "sam10",
   "language": "python",
   "name": "python3"
  },
  "language_info": {
   "codemirror_mode": {
    "name": "ipython",
    "version": 3
   },
   "file_extension": ".py",
   "mimetype": "text/x-python",
   "name": "python",
   "nbconvert_exporter": "python",
   "pygments_lexer": "ipython3",
   "version": "3.10.11"
  },
  "orig_nbformat": 4
 },
 "nbformat": 4,
 "nbformat_minor": 2
}
