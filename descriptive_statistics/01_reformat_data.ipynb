{
 "cells": [
  {
   "attachments": {},
   "cell_type": "markdown",
   "metadata": {},
   "source": [
    "# Reformat data\n",
    "\n",
    "## Summary\n",
    "\n",
    "Reformat data for descriptive analysis.\n",
    "\n",
    "## Aims\n",
    "\n",
    "Restrict clean data (from 01_clean_raw_data.ipynb) to:\n",
    "* Years of 2017 to 2019.\n",
    "* Hospitals with at least 20 admissions per year.\n",
    "* Patients who arrived by ambulance."
   ]
  },
  {
   "attachments": {},
   "cell_type": "markdown",
   "metadata": {},
   "source": [
    "## Set up"
   ]
  },
  {
   "cell_type": "code",
   "execution_count": 1,
   "metadata": {},
   "outputs": [],
   "source": [
    "# Linting\n",
    "%load_ext pycodestyle_magic\n",
    "%pycodestyle_on"
   ]
  },
  {
   "cell_type": "code",
   "execution_count": 2,
   "metadata": {},
   "outputs": [],
   "source": [
    "# Import packages and functions\n",
    "from dataclasses import dataclass\n",
    "import matplotlib.pyplot as plt\n",
    "import numpy as np\n",
    "import os\n",
    "import pandas as pd"
   ]
  },
  {
   "cell_type": "code",
   "execution_count": 3,
   "metadata": {},
   "outputs": [],
   "source": [
    "# Set paths and filenames\n",
    "@dataclass(frozen=True)\n",
    "class Paths:\n",
    "    '''Singleton object for storing paths to data and files.'''\n",
    "\n",
    "    data_path = './../output/'\n",
    "    data_filename = 'reformatted_data.csv'\n",
    "    restrict_filename = 'reformatted_data_restricted.csv'\n",
    "    notebook = '01'\n",
    "\n",
    "\n",
    "paths = Paths()"
   ]
  },
  {
   "cell_type": "code",
   "execution_count": 4,
   "metadata": {},
   "outputs": [],
   "source": [
    "# Load data\n",
    "raw_data = pd.read_csv(os.path.join(paths.data_path, paths.data_filename))"
   ]
  },
  {
   "attachments": {},
   "cell_type": "markdown",
   "metadata": {},
   "source": [
    "## Functions"
   ]
  },
  {
   "cell_type": "code",
   "execution_count": 5,
   "metadata": {},
   "outputs": [],
   "source": [
    "def check_criteria(data, min_admissions, min_thrombolysis, output):\n",
    "    '''\n",
    "    Checks whether hospitals meet the restriction criteria:\n",
    "    - min_admissions (minimum number of admissions per year)\n",
    "    - min_thrombolysis (minimum number of thrombolysis patients per year)\n",
    "\n",
    "    Use output to choose what to return, either:\n",
    "    - keep (dataframe with all records from hospitals that met the criteria)\n",
    "    - discard (dataframe with number of admissions and thrombolysis patients\n",
    "    per year at hospitals that did not meet the criteria))\n",
    "    '''\n",
    "    # Create empty objects to store rows, depending on whether meet criteria\n",
    "    discard = []\n",
    "    keep = []\n",
    "\n",
    "    # Loop through name (each stroke team) and group_df (relevant rows\n",
    "    # from data)\n",
    "    groups = data.groupby('stroke_team')\n",
    "    for name, group_df in groups:\n",
    "        # Find admissions and thrombolysis use per year\n",
    "        test_restrictions = pd.concat(\n",
    "            [group_df.groupby('year').size().rename('admissions'),\n",
    "             group_df.groupby('year')['thrombolysis'].sum()],\n",
    "            axis=1).reset_index()\n",
    "        test_restrictions['stroke_team'] = name\n",
    "        # Check if any fail conditions\n",
    "        if ((any(test_restrictions['admissions'] < min_admissions)) or\n",
    "                (any(test_restrictions['thrombolysis'] < min_thrombolysis))):\n",
    "            discard.append(test_restrictions)\n",
    "        else:\n",
    "            keep.append(group_df)\n",
    "\n",
    "    # Return specified output\n",
    "    if output == 'keep':\n",
    "        return_ob = pd.concat(keep)\n",
    "    elif output == 'discard':\n",
    "        return_ob = pd.concat(discard)\n",
    "    return return_ob"
   ]
  },
  {
   "cell_type": "code",
   "execution_count": 6,
   "metadata": {},
   "outputs": [],
   "source": [
    "def plot_admissions_thrombolysis(admission_thrombolysis_data):\n",
    "    '''\n",
    "    Creates plot of number of admissions and number of thrombolysis\n",
    "    patients per year per stroke team in the provided dataset\n",
    "    '''\n",
    "    # Group by stroke team and loop through\n",
    "    admissions_thrombolysis_teams = (\n",
    "        admission_thrombolysis_data.groupby('stroke_team'))\n",
    "\n",
    "    # Set up figure and counter\n",
    "    fig, ax = plt.subplots(figsize=(5, 10),\n",
    "                           nrows=len(admissions_thrombolysis_teams), ncols=2)\n",
    "    i = 0\n",
    "\n",
    "    plt.setp(ax, xticks=[2017, 2018, 2019])\n",
    "\n",
    "    # Loop through teams and plot\n",
    "    for name, group_df in admissions_thrombolysis_teams:\n",
    "        # Admissions plot\n",
    "        group_df.plot(x='year', y='admissions', linestyle='-', marker='o',\n",
    "                      ax=ax[i, 0], color='blue', legend=False, xlabel='')\n",
    "        ax[i, 0].hlines(y=20, xmin=2017, xmax=2019, color='grey')\n",
    "        ax[i, 0].set_ylim([0, None])\n",
    "        ax[i, 0].set_title(name, fontsize=8)\n",
    "\n",
    "        # Thrombolysis patients plot\n",
    "        group_df.plot(x='year', y='thrombolysis', linestyle='-', marker='o',\n",
    "                      ax=ax[i, 1], color='red', legend=False, xlabel='')\n",
    "        ax[i, 1].hlines(y=0, xmin=2017, xmax=2019, color='grey')\n",
    "        ax[i, 1].set_ylim([0, None])\n",
    "        ax[i, 1].set_title(name, fontsize=8)\n",
    "\n",
    "        i += 1\n",
    "\n",
    "    fig.tight_layout()\n",
    "    fig.suptitle('Admissions (left) and thrombolysis (right)')\n",
    "    fig.subplots_adjust(top=0.93)\n",
    "    plt.show()"
   ]
  },
  {
   "attachments": {},
   "cell_type": "markdown",
   "metadata": {},
   "source": [
    "## Restrict by year\n",
    "\n",
    "Restrict to records from 2017 to 2019 because:\n",
    "* 2016 is quite old\n",
    "* 2020 onwards is impacted by the COVID pandemic."
   ]
  },
  {
   "cell_type": "code",
   "execution_count": 7,
   "metadata": {},
   "outputs": [],
   "source": [
    "raw_data_years = raw_data[raw_data['year'].isin([2017, 2018, 2019])]"
   ]
  },
  {
   "cell_type": "code",
   "execution_count": 8,
   "metadata": {},
   "outputs": [
    {
     "name": "stdout",
     "output_type": "stream",
     "text": [
      "\n",
      "Number of records per year:\n",
      "2016    55937\n",
      "2017    58360\n",
      "2018    58002\n",
      "2019    59896\n",
      "2020    58829\n",
      "2021    66079\n",
      "Total records (all years): 357103\n",
      "Total records (2017-19): 176258\n"
     ]
    }
   ],
   "source": [
    "# Printing change in number of records due to restricting years\n",
    "print(f'''\n",
    "Number of records per year:\n",
    "{raw_data.year.value_counts().sort_index().to_string()}\n",
    "Total records (all years): {len(raw_data.index)}\n",
    "Total records (2017-19): {len(raw_data_years.index)}''')"
   ]
  },
  {
   "attachments": {},
   "cell_type": "markdown",
   "metadata": {},
   "source": [
    "## Restrict by number of admissions\n",
    "\n",
    "We also want to remove very small centres (i.e. not considered \"stroke units\", not routinely receiving patients).\n",
    "\n",
    "To determine an appropriate threshold of a \"small centre\", reviewed the number of admissions and thrombolysis patients per year for hospitals where they had any year with either (a) less than 100 admissions, or (b) less than 3 thrombolysis patients.\n",
    "\n",
    "Suggested restrictions:\n",
    "* **Minimum of 20 admissions per year** - this means we drop really small hospitals (three have no more than 10 per year), but still keep fairly small (one has around 90-100 admissions per year).\n",
    "* **No minimum number of thrombolysis patients** - as there are hospitals like Warwick Hospital with around 180 admissions per year but only 2 to 10 thrombolysis patients per year.\n",
    "\n",
    "<mark>To check.</mark> If should be dropping Leeds General Infirmary 2018 (23 admissions, 7 thrombolysis, but have higher rates in 2017 and 2019) - i.e. should criteria be year-by-year basis?"
   ]
  },
  {
   "cell_type": "code",
   "execution_count": 9,
   "metadata": {},
   "outputs": [
    {
     "data": {
      "text/html": [
       "<div>\n",
       "<style scoped>\n",
       "    .dataframe tbody tr th:only-of-type {\n",
       "        vertical-align: middle;\n",
       "    }\n",
       "\n",
       "    .dataframe tbody tr th {\n",
       "        vertical-align: top;\n",
       "    }\n",
       "\n",
       "    .dataframe thead th {\n",
       "        text-align: right;\n",
       "    }\n",
       "</style>\n",
       "<table border=\"1\" class=\"dataframe\">\n",
       "  <thead>\n",
       "    <tr style=\"text-align: right;\">\n",
       "      <th></th>\n",
       "      <th>year</th>\n",
       "      <th>admissions</th>\n",
       "      <th>thrombolysis</th>\n",
       "      <th>stroke_team</th>\n",
       "    </tr>\n",
       "  </thead>\n",
       "  <tbody>\n",
       "    <tr>\n",
       "      <th>0</th>\n",
       "      <td>2017</td>\n",
       "      <td>96</td>\n",
       "      <td>18</td>\n",
       "      <td>Bronglais Hospital</td>\n",
       "    </tr>\n",
       "    <tr>\n",
       "      <th>1</th>\n",
       "      <td>2018</td>\n",
       "      <td>107</td>\n",
       "      <td>28</td>\n",
       "      <td>Bronglais Hospital</td>\n",
       "    </tr>\n",
       "    <tr>\n",
       "      <th>2</th>\n",
       "      <td>2019</td>\n",
       "      <td>91</td>\n",
       "      <td>21</td>\n",
       "      <td>Bronglais Hospital</td>\n",
       "    </tr>\n",
       "    <tr>\n",
       "      <th>0</th>\n",
       "      <td>2017</td>\n",
       "      <td>743</td>\n",
       "      <td>73</td>\n",
       "      <td>Leeds General Infirmary</td>\n",
       "    </tr>\n",
       "    <tr>\n",
       "      <th>1</th>\n",
       "      <td>2018</td>\n",
       "      <td>23</td>\n",
       "      <td>7</td>\n",
       "      <td>Leeds General Infirmary</td>\n",
       "    </tr>\n",
       "    <tr>\n",
       "      <th>2</th>\n",
       "      <td>2019</td>\n",
       "      <td>73</td>\n",
       "      <td>13</td>\n",
       "      <td>Leeds General Infirmary</td>\n",
       "    </tr>\n",
       "    <tr>\n",
       "      <th>0</th>\n",
       "      <td>2017</td>\n",
       "      <td>3</td>\n",
       "      <td>0</td>\n",
       "      <td>Princess Alexandra Hospital</td>\n",
       "    </tr>\n",
       "    <tr>\n",
       "      <th>0</th>\n",
       "      <td>2017</td>\n",
       "      <td>1</td>\n",
       "      <td>0</td>\n",
       "      <td>Princess Royal Hospital Haywards Heath</td>\n",
       "    </tr>\n",
       "    <tr>\n",
       "      <th>0</th>\n",
       "      <td>2017</td>\n",
       "      <td>2</td>\n",
       "      <td>0</td>\n",
       "      <td>Queen's Medical Centre - Nottingham</td>\n",
       "    </tr>\n",
       "    <tr>\n",
       "      <th>1</th>\n",
       "      <td>2018</td>\n",
       "      <td>10</td>\n",
       "      <td>3</td>\n",
       "      <td>Queen's Medical Centre - Nottingham</td>\n",
       "    </tr>\n",
       "    <tr>\n",
       "      <th>2</th>\n",
       "      <td>2019</td>\n",
       "      <td>4</td>\n",
       "      <td>3</td>\n",
       "      <td>Queen's Medical Centre - Nottingham</td>\n",
       "    </tr>\n",
       "    <tr>\n",
       "      <th>0</th>\n",
       "      <td>2017</td>\n",
       "      <td>186</td>\n",
       "      <td>10</td>\n",
       "      <td>Warwick Hospital</td>\n",
       "    </tr>\n",
       "    <tr>\n",
       "      <th>1</th>\n",
       "      <td>2018</td>\n",
       "      <td>175</td>\n",
       "      <td>6</td>\n",
       "      <td>Warwick Hospital</td>\n",
       "    </tr>\n",
       "    <tr>\n",
       "      <th>2</th>\n",
       "      <td>2019</td>\n",
       "      <td>185</td>\n",
       "      <td>2</td>\n",
       "      <td>Warwick Hospital</td>\n",
       "    </tr>\n",
       "  </tbody>\n",
       "</table>\n",
       "</div>"
      ],
      "text/plain": [
       "   year  admissions  thrombolysis                             stroke_team\n",
       "0  2017          96            18                      Bronglais Hospital\n",
       "1  2018         107            28                      Bronglais Hospital\n",
       "2  2019          91            21                      Bronglais Hospital\n",
       "0  2017         743            73                 Leeds General Infirmary\n",
       "1  2018          23             7                 Leeds General Infirmary\n",
       "2  2019          73            13                 Leeds General Infirmary\n",
       "0  2017           3             0             Princess Alexandra Hospital\n",
       "0  2017           1             0  Princess Royal Hospital Haywards Heath\n",
       "0  2017           2             0     Queen's Medical Centre - Nottingham\n",
       "1  2018          10             3     Queen's Medical Centre - Nottingham\n",
       "2  2019           4             3     Queen's Medical Centre - Nottingham\n",
       "0  2017         186            10                        Warwick Hospital\n",
       "1  2018         175             6                        Warwick Hospital\n",
       "2  2019         185             2                        Warwick Hospital"
      ]
     },
     "metadata": {},
     "output_type": "display_data"
    },
    {
     "data": {
      "image/png": "[encoded data removed]",
      "text/plain": [
       "<Figure size 500x1000 with 12 Axes>"
      ]
     },
     "metadata": {},
     "output_type": "display_data"
    }
   ],
   "source": [
    "# Extract teams with less than 100 admissions or 3 thrombolysis per year\n",
    "admissions_thrombolysis = check_criteria(\n",
    "    data=raw_data_years,\n",
    "    min_admissions=100,\n",
    "    min_thrombolysis=3,\n",
    "    output='discard')\n",
    "display(admissions_thrombolysis)\n",
    "\n",
    "# Plot this data\n",
    "plot_admissions_thrombolysis(admissions_thrombolysis)"
   ]
  },
  {
   "cell_type": "code",
   "execution_count": 10,
   "metadata": {},
   "outputs": [],
   "source": [
    "# Extract teams with more than 20 admissions per year\n",
    "raw_data_years_size = check_criteria(\n",
    "    data=raw_data_years,\n",
    "    min_admissions=20,\n",
    "    min_thrombolysis=0,\n",
    "    output='keep')"
   ]
  },
  {
   "cell_type": "code",
   "execution_count": 11,
   "metadata": {},
   "outputs": [
    {
     "name": "stdout",
     "output_type": "stream",
     "text": [
      "Number of stroke teams remaining in dataset: 115\n",
      "Number of stroke teams removed from dataset: 3\n"
     ]
    }
   ],
   "source": [
    "# Printing number of stroke teams kept v.s. removed\n",
    "n_raw_team = len(raw_data_years['stroke_team'].unique())\n",
    "n_clean_team = len(raw_data_years_size['stroke_team'].unique())\n",
    "print('Number of stroke teams remaining in dataset: {0}'.format(n_clean_team))\n",
    "print('Number of stroke teams removed from dataset: {0}'.format(\n",
    "    n_raw_team - n_clean_team\n",
    "))"
   ]
  },
  {
   "attachments": {},
   "cell_type": "markdown",
   "metadata": {},
   "source": [
    "## Restrict by arrival by ambulance\n",
    "\n",
    "This project is just focussed on the **emergency stroke pathway**, and hence just on individuals who arrived by ambulance."
   ]
  },
  {
   "cell_type": "code",
   "execution_count": 12,
   "metadata": {},
   "outputs": [],
   "source": [
    "data = raw_data_years_size[raw_data_years_size['arrive_by_ambulance'] == 1]"
   ]
  },
  {
   "cell_type": "code",
   "execution_count": 13,
   "metadata": {},
   "outputs": [
    {
     "data": {
      "text/html": [
       "<div>\n",
       "<style scoped>\n",
       "    .dataframe tbody tr th:only-of-type {\n",
       "        vertical-align: middle;\n",
       "    }\n",
       "\n",
       "    .dataframe tbody tr th {\n",
       "        vertical-align: top;\n",
       "    }\n",
       "\n",
       "    .dataframe thead th {\n",
       "        text-align: right;\n",
       "    }\n",
       "</style>\n",
       "<table border=\"1\" class=\"dataframe\">\n",
       "  <thead>\n",
       "    <tr style=\"text-align: right;\">\n",
       "      <th></th>\n",
       "      <th>index</th>\n",
       "      <th>count</th>\n",
       "      <th>percentage</th>\n",
       "    </tr>\n",
       "  </thead>\n",
       "  <tbody>\n",
       "    <tr>\n",
       "      <th>0</th>\n",
       "      <td>Arrived by ambulance</td>\n",
       "      <td>139291</td>\n",
       "      <td>79.035736</td>\n",
       "    </tr>\n",
       "    <tr>\n",
       "      <th>1</th>\n",
       "      <td>Did not arrive by ambulance</td>\n",
       "      <td>36947</td>\n",
       "      <td>20.964264</td>\n",
       "    </tr>\n",
       "  </tbody>\n",
       "</table>\n",
       "</div>"
      ],
      "text/plain": [
       "                         index   count  percentage\n",
       "0         Arrived by ambulance  139291   79.035736\n",
       "1  Did not arrive by ambulance   36947   20.964264"
      ]
     },
     "execution_count": 13,
     "metadata": {},
     "output_type": "execute_result"
    }
   ],
   "source": [
    "# Find counts arriving by ambulance or not\n",
    "arrive_ambulance_stats = (\n",
    "    raw_data_years_size['arrive_by_ambulance']\n",
    "    .map({0: 'Did not arrive by ambulance', 1: 'Arrived by ambulance'})\n",
    "    .value_counts(dropna=False)\n",
    "    .reset_index(name='count'))\n",
    "\n",
    "# Find proportions\n",
    "arrive_ambulance_stats['percentage'] = (\n",
    "    arrive_ambulance_stats['count'] /\n",
    "    arrive_ambulance_stats['count'].sum()*100)\n",
    "\n",
    "arrive_ambulance_stats"
   ]
  },
  {
   "attachments": {},
   "cell_type": "markdown",
   "metadata": {},
   "source": [
    "## Save data"
   ]
  },
  {
   "cell_type": "code",
   "execution_count": 14,
   "metadata": {},
   "outputs": [],
   "source": [
    "# Save restricted dataset\n",
    "filename = os.path.join(paths.data_path, paths.restrict_filename)\n",
    "data.to_csv(filename)"
   ]
  },
  {
   "attachments": {},
   "cell_type": "markdown",
   "metadata": {},
   "source": [
    "## Appendices\n",
    "\n",
    "### Comparing patients who arrived by ambulance to those who did not\n",
    "\n",
    "#### Prior disability\n",
    "\n",
    "Patients who arrived by ambulance typically had more severe strokes."
   ]
  },
  {
   "cell_type": "code",
   "execution_count": 15,
   "metadata": {},
   "outputs": [
    {
     "data": {
      "text/html": [
       "<div>\n",
       "<style scoped>\n",
       "    .dataframe tbody tr th:only-of-type {\n",
       "        vertical-align: middle;\n",
       "    }\n",
       "\n",
       "    .dataframe tbody tr th {\n",
       "        vertical-align: top;\n",
       "    }\n",
       "\n",
       "    .dataframe thead th {\n",
       "        text-align: right;\n",
       "    }\n",
       "</style>\n",
       "<table border=\"1\" class=\"dataframe\">\n",
       "  <thead>\n",
       "    <tr style=\"text-align: right;\">\n",
       "      <th></th>\n",
       "      <th>count</th>\n",
       "      <th>mean</th>\n",
       "      <th>std</th>\n",
       "      <th>min</th>\n",
       "      <th>25%</th>\n",
       "      <th>50%</th>\n",
       "      <th>75%</th>\n",
       "      <th>max</th>\n",
       "    </tr>\n",
       "    <tr>\n",
       "      <th>arrive_by_ambulance</th>\n",
       "      <th></th>\n",
       "      <th></th>\n",
       "      <th></th>\n",
       "      <th></th>\n",
       "      <th></th>\n",
       "      <th></th>\n",
       "      <th></th>\n",
       "      <th></th>\n",
       "    </tr>\n",
       "  </thead>\n",
       "  <tbody>\n",
       "    <tr>\n",
       "      <th>0.0</th>\n",
       "      <td>36947.0</td>\n",
       "      <td>0.555823</td>\n",
       "      <td>0.984006</td>\n",
       "      <td>0.0</td>\n",
       "      <td>0.0</td>\n",
       "      <td>0.0</td>\n",
       "      <td>1.0</td>\n",
       "      <td>5.0</td>\n",
       "    </tr>\n",
       "    <tr>\n",
       "      <th>1.0</th>\n",
       "      <td>139291.0</td>\n",
       "      <td>1.173636</td>\n",
       "      <td>1.443219</td>\n",
       "      <td>0.0</td>\n",
       "      <td>0.0</td>\n",
       "      <td>1.0</td>\n",
       "      <td>2.0</td>\n",
       "      <td>5.0</td>\n",
       "    </tr>\n",
       "  </tbody>\n",
       "</table>\n",
       "</div>"
      ],
      "text/plain": [
       "                        count      mean       std  min  25%  50%  75%  max\n",
       "arrive_by_ambulance                                                       \n",
       "0.0                   36947.0  0.555823  0.984006  0.0  0.0  0.0  1.0  5.0\n",
       "1.0                  139291.0  1.173636  1.443219  0.0  0.0  1.0  2.0  5.0"
      ]
     },
     "execution_count": 15,
     "metadata": {},
     "output_type": "execute_result"
    }
   ],
   "source": [
    "(raw_data_years_size\n",
    " .groupby('arrive_by_ambulance')['prior_disability']\n",
    " .describe())"
   ]
  },
  {
   "cell_type": "code",
   "execution_count": 16,
   "metadata": {},
   "outputs": [
    {
     "data": {
      "image/png": "[encoded data removed]",
      "text/plain": [
       "<Figure size 640x480 with 1 Axes>"
      ]
     },
     "metadata": {},
     "output_type": "display_data"
    }
   ],
   "source": [
    "(raw_data_years_size[['prior_disability', 'arrive_by_ambulance']]\n",
    " .boxplot(by='arrive_by_ambulance', vert=False))\n",
    "plt.xlabel('Prior disability (mRS)')\n",
    "plt.show()"
   ]
  },
  {
   "cell_type": "code",
   "execution_count": 17,
   "metadata": {},
   "outputs": [
    {
     "data": {
      "text/html": [
       "<div>\n",
       "<style scoped>\n",
       "    .dataframe tbody tr th:only-of-type {\n",
       "        vertical-align: middle;\n",
       "    }\n",
       "\n",
       "    .dataframe tbody tr th {\n",
       "        vertical-align: top;\n",
       "    }\n",
       "\n",
       "    .dataframe thead th {\n",
       "        text-align: right;\n",
       "    }\n",
       "</style>\n",
       "<table border=\"1\" class=\"dataframe\">\n",
       "  <thead>\n",
       "    <tr style=\"text-align: right;\">\n",
       "      <th></th>\n",
       "      <th>arrive_by_ambulance</th>\n",
       "      <th>prior_disability</th>\n",
       "      <th>count</th>\n",
       "      <th>proportion</th>\n",
       "    </tr>\n",
       "  </thead>\n",
       "  <tbody>\n",
       "    <tr>\n",
       "      <th>0</th>\n",
       "      <td>0.0</td>\n",
       "      <td>0</td>\n",
       "      <td>25368</td>\n",
       "      <td>0.143942</td>\n",
       "    </tr>\n",
       "    <tr>\n",
       "      <th>1</th>\n",
       "      <td>0.0</td>\n",
       "      <td>1</td>\n",
       "      <td>6078</td>\n",
       "      <td>0.034487</td>\n",
       "    </tr>\n",
       "    <tr>\n",
       "      <th>2</th>\n",
       "      <td>0.0</td>\n",
       "      <td>2</td>\n",
       "      <td>2865</td>\n",
       "      <td>0.016256</td>\n",
       "    </tr>\n",
       "    <tr>\n",
       "      <th>3</th>\n",
       "      <td>0.0</td>\n",
       "      <td>3</td>\n",
       "      <td>1909</td>\n",
       "      <td>0.010832</td>\n",
       "    </tr>\n",
       "    <tr>\n",
       "      <th>4</th>\n",
       "      <td>0.0</td>\n",
       "      <td>4</td>\n",
       "      <td>634</td>\n",
       "      <td>0.003597</td>\n",
       "    </tr>\n",
       "    <tr>\n",
       "      <th>5</th>\n",
       "      <td>0.0</td>\n",
       "      <td>5</td>\n",
       "      <td>93</td>\n",
       "      <td>0.000528</td>\n",
       "    </tr>\n",
       "    <tr>\n",
       "      <th>6</th>\n",
       "      <td>1.0</td>\n",
       "      <td>0</td>\n",
       "      <td>69553</td>\n",
       "      <td>0.394654</td>\n",
       "    </tr>\n",
       "    <tr>\n",
       "      <th>7</th>\n",
       "      <td>1.0</td>\n",
       "      <td>1</td>\n",
       "      <td>22840</td>\n",
       "      <td>0.129597</td>\n",
       "    </tr>\n",
       "    <tr>\n",
       "      <th>8</th>\n",
       "      <td>1.0</td>\n",
       "      <td>3</td>\n",
       "      <td>18398</td>\n",
       "      <td>0.104393</td>\n",
       "    </tr>\n",
       "    <tr>\n",
       "      <th>9</th>\n",
       "      <td>1.0</td>\n",
       "      <td>2</td>\n",
       "      <td>15763</td>\n",
       "      <td>0.089442</td>\n",
       "    </tr>\n",
       "    <tr>\n",
       "      <th>10</th>\n",
       "      <td>1.0</td>\n",
       "      <td>4</td>\n",
       "      <td>9768</td>\n",
       "      <td>0.055425</td>\n",
       "    </tr>\n",
       "    <tr>\n",
       "      <th>11</th>\n",
       "      <td>1.0</td>\n",
       "      <td>5</td>\n",
       "      <td>2969</td>\n",
       "      <td>0.016847</td>\n",
       "    </tr>\n",
       "  </tbody>\n",
       "</table>\n",
       "</div>"
      ],
      "text/plain": [
       "    arrive_by_ambulance  prior_disability  count  proportion\n",
       "0                   0.0                 0  25368    0.143942\n",
       "1                   0.0                 1   6078    0.034487\n",
       "2                   0.0                 2   2865    0.016256\n",
       "3                   0.0                 3   1909    0.010832\n",
       "4                   0.0                 4    634    0.003597\n",
       "5                   0.0                 5     93    0.000528\n",
       "6                   1.0                 0  69553    0.394654\n",
       "7                   1.0                 1  22840    0.129597\n",
       "8                   1.0                 3  18398    0.104393\n",
       "9                   1.0                 2  15763    0.089442\n",
       "10                  1.0                 4   9768    0.055425\n",
       "11                  1.0                 5   2969    0.016847"
      ]
     },
     "metadata": {},
     "output_type": "display_data"
    },
    {
     "data": {
      "image/png": "[encoded data removed]",
      "text/plain": [
       "<Figure size 640x480 with 1 Axes>"
      ]
     },
     "metadata": {},
     "output_type": "display_data"
    }
   ],
   "source": [
    "# Show counts and proportion of each mRS score\n",
    "# (by whether arrived by ambulance)\n",
    "amb_mrs = (raw_data_years_size\n",
    "           .groupby('arrive_by_ambulance')['prior_disability']\n",
    "           .value_counts()\n",
    "           .reset_index(name='count'))\n",
    "amb_mrs['proportion'] = amb_mrs['count'] / amb_mrs['count'].sum()\n",
    "display(amb_mrs)\n",
    "\n",
    "# Create grouped bar plot based on proportions\n",
    "(raw_data_years_size\n",
    " .groupby('arrive_by_ambulance')['prior_disability']\n",
    " .value_counts(normalize=True)\n",
    " .unstack('prior_disability')\n",
    " .plot.bar())\n",
    "plt.ylabel('Proportion')\n",
    "plt.show()"
   ]
  },
  {
   "attachments": {},
   "cell_type": "markdown",
   "metadata": {},
   "source": [
    "#### Onset to arrival"
   ]
  },
  {
   "attachments": {},
   "cell_type": "markdown",
   "metadata": {},
   "source": []
  }
 ],
 "metadata": {
  "kernelspec": {
   "display_name": "sam10",
   "language": "python",
   "name": "python3"
  },
  "language_info": {
   "codemirror_mode": {
    "name": "ipython",
    "version": 3
   },
   "file_extension": ".py",
   "mimetype": "text/x-python",
   "name": "python",
   "nbconvert_exporter": "python",
   "pygments_lexer": "ipython3",
   "version": "3.10.11"
  },
  "orig_nbformat": 4
 },
 "nbformat": 4,
 "nbformat_minor": 2
}
