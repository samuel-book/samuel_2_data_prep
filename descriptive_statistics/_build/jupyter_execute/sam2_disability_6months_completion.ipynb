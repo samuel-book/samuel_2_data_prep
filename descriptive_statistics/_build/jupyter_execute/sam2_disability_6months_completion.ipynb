{
 "cells": [
  {
   "cell_type": "markdown",
   "metadata": {},
   "source": [
    "# Disability at six months (completion)\n",
    "\n",
    "In this notebook, we explore the completion of disability at six months\n",
    "\n",
    "## Context about measurement of disability\n",
    "\n",
    "Disability is measured using the modified Rankin Scale (mRS). The scale ranges from 0 to 6, where 0 is perfect health without symptoms and 6 is death. The dataset contains information on:\n",
    "* Disability before the stroke\n",
    "* Disability at discharge\n",
    "* Disability at six months\n",
    "\n",
    "## Aims\n",
    "\n",
    "* Investigate the completion of disability at six months\n",
    "\n",
    "## Purpose of this analysis\n",
    "\n",
    "In other analyses, we are using discharge disability. One reason for that is because six month disability is so incomplete. This analysis looks into levels of completion and whether there are factors associated with completion (as we anticipate that it will not be missing at random).\n",
    "\n",
    "## Summary\n",
    "\n",
    "* Of patients who were alive at discharge, **35.4%** have disability at 6 months\n",
    "* Completion of disability at 6 months varies substantially between stroke teams from **10.25% to 99.95%** of patients missing data\n",
    "* Using descriptive analysis (and note that some of these are very marginal differences), we see **more missing data** for patients:\n",
    "    * With more severe strokes or with no stroke symptoms\n",
    "    * With greater discharge disability\n",
    "    * Who were not thrombolysed\n",
    "    * Who did not have an infarction\n",
    "    * With greater prior disability\n",
    "    * With younger or older age (least missing around apx. people in their 70s)\n",
    "* Regression (with random undersampling to account for class imbalance) has very low accuracy\n",
    "\n",
    "## Set up"
   ]
  },
  {
   "cell_type": "code",
   "execution_count": 1,
   "metadata": {},
   "outputs": [],
   "source": [
    "# Import packages and functions\n",
    "from collections import defaultdict\n",
    "from dataclasses import dataclass\n",
    "import matplotlib.pyplot as plt\n",
    "import matplotlib\n",
    "import numpy as np\n",
    "import os\n",
    "import pandas as pd\n",
    "from sklearn.linear_model import LinearRegression, LogisticRegression\n",
    "from sklearn.model_selection import KFold\n",
    "from sklearn.preprocessing import StandardScaler\n",
    "from sklearn.metrics import (mean_absolute_error, mean_squared_error,\n",
    "                             r2_score, confusion_matrix)\n",
    "\n",
    "# Set max rows when display dataframe\n",
    "pd.set_option('display.max_rows', 100)\n",
    "\n",
    "# Linting\n",
    "%load_ext pycodestyle_magic\n",
    "%pycodestyle_on"
   ]
  },
  {
   "cell_type": "code",
   "execution_count": 2,
   "metadata": {},
   "outputs": [],
   "source": [
    "# Set paths and filenames\n",
    "@dataclass(frozen=True)\n",
    "class Paths:\n",
    "    '''Singleton object for storing paths to data and files.'''\n",
    "\n",
    "    data_path = './../output/'\n",
    "    data_filename = 'reformatted_data.csv'\n",
    "    admission_only_filename = 'reformatted_data_admissions_only.csv'\n",
    "\n",
    "\n",
    "paths = Paths()"
   ]
  },
  {
   "cell_type": "code",
   "execution_count": 3,
   "metadata": {},
   "outputs": [],
   "source": [
    "# Load data\n",
    "data_full = pd.read_csv(os.path.join(paths.data_path,\n",
    "                                     paths.admission_only_filename))"
   ]
  },
  {
   "cell_type": "markdown",
   "metadata": {},
   "source": [
    "## Completion of data on disability at six months"
   ]
  },
  {
   "cell_type": "markdown",
   "metadata": {},
   "source": [
    "**Remove patients dead at discharge**\n",
    "\n",
    "Data on disability at six months will not be available for patients who were dead (mRS score of 6) at discharge. Therefore, we will remove them from the analysis, and focus only on patients who were alive at discharge.\n",
    "\n",
    "Of all the patients in the SSNAP dataset:\n",
    "* 13.9% were dead at discharge\n",
    "* 85.4% had a disability score of 0 to 5\n",
    "* 0.7% were missing data on disability at discharge"
   ]
  },
  {
   "cell_type": "code",
   "execution_count": 4,
   "metadata": {},
   "outputs": [
    {
     "data": {
      "text/html": [
       "<div>\n",
       "<style scoped>\n",
       "    .dataframe tbody tr th:only-of-type {\n",
       "        vertical-align: middle;\n",
       "    }\n",
       "\n",
       "    .dataframe tbody tr th {\n",
       "        vertical-align: top;\n",
       "    }\n",
       "\n",
       "    .dataframe thead th {\n",
       "        text-align: right;\n",
       "    }\n",
       "</style>\n",
       "<table border=\"1\" class=\"dataframe\">\n",
       "  <thead>\n",
       "    <tr style=\"text-align: right;\">\n",
       "      <th></th>\n",
       "      <th>Discharge Disability</th>\n",
       "      <th>Proportion</th>\n",
       "    </tr>\n",
       "  </thead>\n",
       "  <tbody>\n",
       "    <tr>\n",
       "      <th>0</th>\n",
       "      <td>0.0</td>\n",
       "      <td>0.129267</td>\n",
       "    </tr>\n",
       "    <tr>\n",
       "      <th>1</th>\n",
       "      <td>1.0</td>\n",
       "      <td>0.211068</td>\n",
       "    </tr>\n",
       "    <tr>\n",
       "      <th>2</th>\n",
       "      <td>2.0</td>\n",
       "      <td>0.181825</td>\n",
       "    </tr>\n",
       "    <tr>\n",
       "      <th>3</th>\n",
       "      <td>3.0</td>\n",
       "      <td>0.160238</td>\n",
       "    </tr>\n",
       "    <tr>\n",
       "      <th>4</th>\n",
       "      <td>4.0</td>\n",
       "      <td>0.115781</td>\n",
       "    </tr>\n",
       "    <tr>\n",
       "      <th>5</th>\n",
       "      <td>5.0</td>\n",
       "      <td>0.055937</td>\n",
       "    </tr>\n",
       "    <tr>\n",
       "      <th>6</th>\n",
       "      <td>6.0</td>\n",
       "      <td>0.138836</td>\n",
       "    </tr>\n",
       "    <tr>\n",
       "      <th>7</th>\n",
       "      <td>NaN</td>\n",
       "      <td>0.007047</td>\n",
       "    </tr>\n",
       "  </tbody>\n",
       "</table>\n",
       "</div>"
      ],
      "text/plain": [
       "   Discharge Disability  Proportion\n",
       "0                   0.0    0.129267\n",
       "1                   1.0    0.211068\n",
       "2                   2.0    0.181825\n",
       "3                   3.0    0.160238\n",
       "4                   4.0    0.115781\n",
       "5                   5.0    0.055937\n",
       "6                   6.0    0.138836\n",
       "7                   NaN    0.007047"
      ]
     },
     "metadata": {},
     "output_type": "display_data"
    }
   ],
   "source": [
    "# Find proportion of patients with each discharge disability score\n",
    "display(data_full['discharge_disability']\n",
    "        .value_counts(dropna=False, normalize=True)\n",
    "        .rename_axis('Discharge Disability')\n",
    "        .sort_index()\n",
    "        .reset_index(name='Proportion'))"
   ]
  },
  {
   "cell_type": "code",
   "execution_count": 5,
   "metadata": {},
   "outputs": [
    {
     "name": "stdout",
     "output_type": "stream",
     "text": [
      "Patients not dead at discharge: 309046\n"
     ]
    }
   ],
   "source": [
    "# Remove patients who were dead at discharge\n",
    "data_full_alive = data_full[data_full['death'] == 0].copy()\n",
    "\n",
    "# Print count of remaining patients\n",
    "print(f'Patients not dead at discharge: {len(data_full_alive.index)}')"
   ]
  },
  {
   "cell_type": "markdown",
   "metadata": {},
   "source": [
    "**Find proportion missing disability at discharge and/or six months**\n",
    "\n",
    "Of all the patients in the SSNAP dataset who were not dead at discharge:\n",
    "* 35.4% have data on disability at discharge and 6 months\n",
    "* 63.8% are just missing disability at 6 months\n",
    "* 0.8% are missing disability at discharge and 6 months"
   ]
  },
  {
   "cell_type": "code",
   "execution_count": 6,
   "metadata": {},
   "outputs": [
    {
     "data": {
      "text/html": [
       "<div>\n",
       "<style scoped>\n",
       "    .dataframe tbody tr th:only-of-type {\n",
       "        vertical-align: middle;\n",
       "    }\n",
       "\n",
       "    .dataframe tbody tr th {\n",
       "        vertical-align: top;\n",
       "    }\n",
       "\n",
       "    .dataframe thead th {\n",
       "        text-align: right;\n",
       "    }\n",
       "</style>\n",
       "<table border=\"1\" class=\"dataframe\">\n",
       "  <thead>\n",
       "    <tr style=\"text-align: right;\">\n",
       "      <th></th>\n",
       "      <th>discharge_disability</th>\n",
       "      <th>disability_6_month</th>\n",
       "      <th>proportion</th>\n",
       "    </tr>\n",
       "  </thead>\n",
       "  <tbody>\n",
       "    <tr>\n",
       "      <th>1</th>\n",
       "      <td>Not missing</td>\n",
       "      <td>Not missing</td>\n",
       "      <td>0.353737</td>\n",
       "    </tr>\n",
       "    <tr>\n",
       "      <th>0</th>\n",
       "      <td>Not missing</td>\n",
       "      <td>Missing</td>\n",
       "      <td>0.638119</td>\n",
       "    </tr>\n",
       "    <tr>\n",
       "      <th>2</th>\n",
       "      <td>Missing</td>\n",
       "      <td>Missing</td>\n",
       "      <td>0.008144</td>\n",
       "    </tr>\n",
       "  </tbody>\n",
       "</table>\n",
       "</div>"
      ],
      "text/plain": [
       "  discharge_disability disability_6_month  proportion\n",
       "1          Not missing        Not missing    0.353737\n",
       "0          Not missing            Missing    0.638119\n",
       "2              Missing            Missing    0.008144"
      ]
     },
     "execution_count": 6,
     "metadata": {},
     "output_type": "execute_result"
    }
   ],
   "source": [
    "(data_full_alive[['discharge_disability', 'disability_6_month']]\n",
    " .isnull()\n",
    " .apply(lambda x: x.map({True: 'Missing', False: 'Not missing'}))\n",
    " .value_counts(normalize=True)\n",
    " .reset_index(name='proportion')\n",
    " .sort_values(by='disability_6_month', ascending=False))"
   ]
  },
  {
   "cell_type": "markdown",
   "metadata": {},
   "source": [
    "**Visualise completion of disability at 6 months by team**\n",
    "\n",
    "The graph presents the proportion of patients who were not dead at discharge and are missing disability at six months. We can see there is **large variability** between teams, from 10.25% missing data to 99.95% missing data. "
   ]
  },
  {
   "cell_type": "code",
   "execution_count": 7,
   "metadata": {},
   "outputs": [
    {
     "data": {
      "text/plain": [
       "count    119.000000\n",
       "mean       0.641830\n",
       "std        0.214977\n",
       "min        0.102513\n",
       "25%        0.486390\n",
       "50%        0.635166\n",
       "75%        0.802901\n",
       "max        0.999516\n",
       "Name: missing_6_month, dtype: float64"
      ]
     },
     "metadata": {},
     "output_type": "display_data"
    },
    {
     "data": {
      "image/png": "[encoded data removed]",
      "text/plain": [
       "<Figure size 1000x500 with 1 Axes>"
      ]
     },
     "metadata": {},
     "output_type": "display_data"
    }
   ],
   "source": [
    "# Create columns where they are TRUE if missing disability\n",
    "data_full_alive['missing_6_month'] = (\n",
    "    data_full_alive['disability_6_month'].isnull())\n",
    "\n",
    "# Find proportion missing disability\n",
    "missing_6_month = (\n",
    "    data_full_alive\n",
    "    .groupby('stroke_team')['missing_6_month']\n",
    "    .mean()\n",
    "    .sort_values())\n",
    "\n",
    "# Describe\n",
    "display(missing_6_month.describe())\n",
    "\n",
    "# Plot completion rate for 6 month disability in each team, ascending\n",
    "fig, ax = plt.subplots(figsize=(10, 5))\n",
    "ax.bar(x=missing_6_month.index,\n",
    "       height=missing_6_month)\n",
    "ax.set_xlabel('Stroke team (ordered by proportion)')\n",
    "ax.set_ylabel('Proportion or patients missing 6 month disability')\n",
    "ax.tick_params(labelbottom=False)\n",
    "plt.show()"
   ]
  },
  {
   "cell_type": "markdown",
   "metadata": {},
   "source": [
    "**Investigate whether completion is associated with size**\n",
    "\n",
    "There appears to be no relationship between completion rate and the total patients who were alive at discharge."
   ]
  },
  {
   "cell_type": "code",
   "execution_count": 8,
   "metadata": {},
   "outputs": [
    {
     "data": {
      "image/png": "[encoded data removed]",
      "text/plain": [
       "<Figure size 700x500 with 1 Axes>"
      ]
     },
     "metadata": {},
     "output_type": "display_data"
    }
   ],
   "source": [
    "# Combine size with the proportion missing\n",
    "team_size = (\n",
    "    data_full_alive.groupby('stroke_team').size().rename('alive_at_discharge'))\n",
    "team_followup_size = pd.concat([missing_6_month,\n",
    "                                team_size], axis=1).reset_index()\n",
    "\n",
    "# Find correlation\n",
    "team_followup_size['alive_at_discharge'].corr(\n",
    "    team_followup_size['missing_6_month'])\n",
    "\n",
    "# Create scatter plot\n",
    "fig, ax = plt.subplots(figsize=(7, 5))\n",
    "ax.scatter(x=team_followup_size['alive_at_discharge'],\n",
    "           y=team_followup_size['missing_6_month'])\n",
    "ax.set_xlabel('Total patients alive at discharge')\n",
    "ax.set_ylabel('Proportion with missing 6-month follow-up')\n",
    "plt.show()"
   ]
  },
  {
   "cell_type": "markdown",
   "metadata": {},
   "source": [
    "## Factors associated with completion\n",
    "\n",
    "As above, this analysis only focusses on patients who were not marked as having died at discharge, else it would be an unfair comparison, as patients who died at discharge could not possibly have a six month follow up."
   ]
  },
  {
   "cell_type": "code",
   "execution_count": 9,
   "metadata": {},
   "outputs": [
    {
     "data": {
      "text/plain": [
       "stroke_severity_groups\n",
       "0        0.668312\n",
       "1-4      0.639312\n",
       "5-15     0.643820\n",
       "16-20    0.662404\n",
       "21-42    0.677691\n",
       "Name: missing_6_month, dtype: float64"
      ]
     },
     "metadata": {},
     "output_type": "display_data"
    },
    {
     "data": {
      "text/plain": [
       "discharge_disability\n",
       "0.0    0.654337\n",
       "1.0    0.631467\n",
       "2.0    0.623058\n",
       "3.0    0.636253\n",
       "4.0    0.668945\n",
       "5.0    0.696239\n",
       "Name: missing_6_month, dtype: float64"
      ]
     },
     "metadata": {},
     "output_type": "display_data"
    },
    {
     "data": {
      "text/plain": [
       "thrombolysis\n",
       "0    0.647322\n",
       "1    0.638126\n",
       "Name: missing_6_month, dtype: float64"
      ]
     },
     "metadata": {},
     "output_type": "display_data"
    },
    {
     "data": {
      "text/plain": [
       "infarction\n",
       "0.0    0.653785\n",
       "1.0    0.645511\n",
       "Name: missing_6_month, dtype: float64"
      ]
     },
     "metadata": {},
     "output_type": "display_data"
    },
    {
     "data": {
      "text/plain": [
       "prior_disability\n",
       "0    0.641965\n",
       "1    0.625371\n",
       "2    0.647275\n",
       "3    0.672922\n",
       "4    0.698523\n",
       "5    0.702144\n",
       "Name: missing_6_month, dtype: float64"
      ]
     },
     "metadata": {},
     "output_type": "display_data"
    },
    {
     "data": {
      "text/plain": [
       "age\n",
       "37.5    0.717289\n",
       "42.5    0.693690\n",
       "47.5    0.694955\n",
       "52.5    0.679575\n",
       "57.5    0.658418\n",
       "62.5    0.647985\n",
       "67.5    0.636270\n",
       "72.5    0.626529\n",
       "77.5    0.623241\n",
       "82.5    0.630371\n",
       "87.5    0.655567\n",
       "92.5    0.673107\n",
       "Name: missing_6_month, dtype: float64"
      ]
     },
     "metadata": {},
     "output_type": "display_data"
    },
    {
     "data": {
      "image/png": "[encoded data removed]",
      "text/plain": [
       "<Figure size 1500x800 with 6 Axes>"
      ]
     },
     "metadata": {},
     "output_type": "display_data"
    }
   ],
   "source": [
    "def plot_proportion_missing_by_variable(variable, ax, order=False):\n",
    "    '''\n",
    "    Creates plot of the proportion missing six month disability data\n",
    "    When grouped by the specified variable.\n",
    "    Inputs:\n",
    "    variable - string\n",
    "    ax - axis to plot on\n",
    "    order - array defining order for x axis (default False)\n",
    "    '''\n",
    "    # Group, find proportion, display table, and plot\n",
    "    df = (data_full_alive\n",
    "          .groupby(variable)['missing_6_month']\n",
    "          .mean())\n",
    "    if order:\n",
    "        display(df.loc[order])\n",
    "        df.loc[order].plot(kind='bar', ax=ax)\n",
    "    else:\n",
    "        display(df)\n",
    "        df.plot(kind='bar', ax=ax)\n",
    "    ax.set_ylabel('Proportion missing 6 month follow up')\n",
    "\n",
    "    # Set consistent y axis with horizontal grid lines\n",
    "    ax.set_ylim([0, 1])\n",
    "    ax.set_yticks(np.arange(0, 1, 0.1), minor=True)\n",
    "    ax.grid(axis='y', which='minor', alpha=0.5)\n",
    "    ax.grid(axis='y', which='major', alpha=0.5)\n",
    "    ax.set_axisbelow(True)\n",
    "\n",
    "\n",
    "# Set up figure\n",
    "fig, ax = plt.subplots(nrows=2, ncols=3, figsize=(15, 8))\n",
    "\n",
    "# Create stroke severity column with groups so can plot in same way as others\n",
    "conditions = [(data_full_alive['stroke_severity'] == 0),\n",
    "              (data_full_alive['stroke_severity'].isin(np.arange(1, 5))),\n",
    "              (data_full_alive['stroke_severity'].isin(np.arange(5, 16))),\n",
    "              (data_full_alive['stroke_severity'].isin(np.arange(16, 21))),\n",
    "              (data_full_alive['stroke_severity'].isin(np.arange(21, 43)))]\n",
    "nihss_choices = ['0', '1-4', '5-15', '16-20', '21-42']\n",
    "data_full_alive['stroke_severity_groups'] = np.select(conditions,\n",
    "                                                      nihss_choices)\n",
    "plot_proportion_missing_by_variable('stroke_severity_groups',\n",
    "                                    ax[0, 0], order=nihss_choices)\n",
    "\n",
    "# Plot proportion missing by group\n",
    "plot_proportion_missing_by_variable('discharge_disability', ax[0, 1])\n",
    "plot_proportion_missing_by_variable('thrombolysis', ax[0, 2])\n",
    "plot_proportion_missing_by_variable('infarction', ax[1, 0])\n",
    "plot_proportion_missing_by_variable('prior_disability', ax[1, 1])\n",
    "plot_proportion_missing_by_variable('age', ax[1, 2])\n",
    "\n",
    "plt.tight_layout()\n",
    "plt.show()"
   ]
  },
  {
   "cell_type": "markdown",
   "metadata": {},
   "source": [
    "Observations: \n",
    "* **Stroke severity:** A slightly higher proportion of people with severe strokes are not followed up (NIHSS 21-42, 67.8%), then no symptoms (NIHSS 0, 66.8%) and moderate to severe strokes (NIHSS 16-20, 66.2%), with the least missing follow-up for moderate strokes (NIHSS 5-15, 64.4%) and mild strokes (NIHSS 1-4, 63.9%).\n",
    "* **Discharge disability:** A slightly higher proportion of people with a greater discharge disability are missing follow-up (69.6%), with least missing for discharge disability of mRS 1 to 3 (but more again missing for mRS 0).\n",
    "* **Thrombolysis:** A slightly lower proportion of thrombolysed patients are missing follow up (63.8%), compared with patients not thrombolysed (64.7%)\n",
    "* **Infarction:** A slightly lower proportion of patients who had an infarction are missing follow up (64.6%), compared with patients who did not have an infarction (65.4%)\n",
    "* **Prior disability:** A slightly higher proportion of people with a greater prior disability are missing follow up (eg. 70.2% of people who were mRS 5, compared with 64.2% mRS 0 and 62.5% mRS 1)\n",
    "* **Age:** A higher proportion of people in the younger or older age categories are not followed up, with the least missing follow up in the  77.5 (i.e. 75 to 80 years old, 62.3% missing follow up)"
   ]
  },
  {
   "cell_type": "code",
   "execution_count": 10,
   "metadata": {},
   "outputs": [
    {
     "name": "stdout",
     "output_type": "stream",
     "text": [
      "                    count      mean       std  min  25%  50%  75%   max\n",
      "missing_6_month                                                        \n",
      "False            109321.0  5.370002  5.683979  0.0  2.0  3.0  7.0  42.0\n",
      "True             199725.0  5.511238  5.949742  0.0  2.0  3.0  7.0  42.0\n"
     ]
    },
    {
     "data": {
      "image/png": "[encoded data removed]",
      "text/plain": [
       "<Figure size 500x300 with 1 Axes>"
      ]
     },
     "metadata": {},
     "output_type": "display_data"
    }
   ],
   "source": [
    "# For stroke severity, compare distributions using overlaid histograms\n",
    "# As number of patients at higher stroke severities is very small in\n",
    "# each group, so doing proportion per group would be misleading\n",
    "# (unless you created larger categories combining groups)\n",
    "\n",
    "fig, ax = plt.subplots(figsize=(5, 3))\n",
    "\n",
    "# Seperate out\n",
    "plot_missing = data_full_alive.loc[\n",
    "    data_full_alive['missing_6_month'], 'stroke_severity']\n",
    "plot_present = data_full_alive.loc[\n",
    "    ~data_full_alive['missing_6_month'], 'stroke_severity']\n",
    "\n",
    "# Plot overlapping histograms\n",
    "ax.hist(plot_missing,\n",
    "        weights=np.ones(len(plot_missing)) / len(plot_missing),\n",
    "        bins=np.arange(0, 43, 1), alpha=0.5, label=\"Missing\")\n",
    "ax.hist(plot_present,\n",
    "        weights=np.ones(len(plot_present)) / len(plot_present),\n",
    "        bins=np.arange(0, 43, 1), alpha=0.5, label=\"Present\")\n",
    "ax.set_xlabel('Stroke severity (NIHSS)')\n",
    "ax.set_ylabel('Proportion')\n",
    "ax.legend()\n",
    "\n",
    "# Describe results for each group\n",
    "print(\n",
    "    data_full_alive.groupby('missing_6_month')['stroke_severity'].describe())"
   ]
  },
  {
   "cell_type": "markdown",
   "metadata": {},
   "source": [
    "Observations: The stroke severity of followed-up patients is, on average, slightly higher (5.51 vs 5.37). "
   ]
  },
  {
   "cell_type": "markdown",
   "metadata": {},
   "source": [
    "## Multiple logistic regression"
   ]
  },
  {
   "cell_type": "markdown",
   "metadata": {},
   "source": [
    "### Dataset\n",
    "\n",
    "The dataset is patients who have complete data data for discharge disability, stroke severity, age and whether thrombolysed. They can have incomplete data for 6-month follow-up (as that is what we are predicting)."
   ]
  },
  {
   "cell_type": "code",
   "execution_count": 11,
   "metadata": {},
   "outputs": [
    {
     "data": {
      "text/plain": [
       "(356355, 6)"
      ]
     },
     "metadata": {},
     "output_type": "display_data"
    },
    {
     "data": {
      "text/plain": [
       "0    0.693224\n",
       "1    0.306776\n",
       "Name: 6_month_complete, dtype: float64"
      ]
     },
     "metadata": {},
     "output_type": "display_data"
    }
   ],
   "source": [
    "# Extract relevant columns, resetting index else set on slice\n",
    "reg_df = data_full[[\n",
    "    'prior_disability', 'stroke_severity', 'age',\n",
    "    'thrombolysis', 'discharge_disability']].reset_index(drop=True)\n",
    "\n",
    "# Create column of whether had follow-up\n",
    "reg_df['6_month_complete'] = (\n",
    "    data_full['disability_6_month'].isnull().map({False: 1, True: 0}))\n",
    "\n",
    "# Drop NA\n",
    "reg_df = reg_df.dropna().reset_index(drop=True)\n",
    "display(reg_df.shape)\n",
    "\n",
    "# Count values in each\n",
    "display(reg_df['6_month_complete'].value_counts(normalize=True))\n",
    "\n",
    "# Define predictor and response variables\n",
    "X = reg_df[['prior_disability', 'stroke_severity', 'age',\n",
    "            'thrombolysis', 'discharge_disability']]\n",
    "y = reg_df['6_month_complete']"
   ]
  },
  {
   "cell_type": "markdown",
   "metadata": {},
   "source": [
    "### Regression"
   ]
  },
  {
   "cell_type": "code",
   "execution_count": 12,
   "metadata": {},
   "outputs": [],
   "source": [
    "def standardise_data(X_train, X_test):\n",
    "    '''\n",
    "    Put features on a similar scale through standardisation.\n",
    "    Just transforms features (not response/target variable).\n",
    "    Invovles subtracting mean and dividing by standard deviation (SD)\n",
    "    of each feature, so data have mean of 0 and SD of 1.\n",
    "    Test data is standardised on training data mean and SD.\n",
    "    '''\n",
    "\n",
    "    # Set up scaling object and fit on training data\n",
    "    sc = StandardScaler()\n",
    "    sc.fit(X_train)\n",
    "\n",
    "    # Apply scaling to training and test data\n",
    "    train_std = sc.transform(X_train)\n",
    "    test_std = sc.transform(X_test)\n",
    "\n",
    "    return train_std, test_std"
   ]
  },
  {
   "cell_type": "code",
   "execution_count": 13,
   "metadata": {},
   "outputs": [],
   "source": [
    "def logistic_regression(df, standardise):\n",
    "    '''\n",
    "    Run logistic regression with 5-fold cross-validation\n",
    "    Can choose whether to standardise input variables or not\n",
    "    Returns feature weights, accuracy and confusion matrix\n",
    "    Inputs:\n",
    "    df - dataframe containing variables used in regression\n",
    "    standardise - true or false, whether want to standardise variables\n",
    "    '''\n",
    "    # Define predictor and response variables\n",
    "    X = df[['prior_disability', 'stroke_severity', 'age',\n",
    "            'thrombolysis', 'discharge_disability']]\n",
    "    y = df['6_month_complete']\n",
    "\n",
    "    # Set up to create five training/test data splits\n",
    "    kfold = KFold(n_splits=5, shuffle=True, random_state=1)\n",
    "\n",
    "    # Create empty dictionary to store results\n",
    "    # (defaultdict so don't have to pre-define keys)\n",
    "    reg_results = defaultdict(list)\n",
    "\n",
    "    # Use loop to test model on those five different splits\n",
    "    for train_row, test_row in kfold.split(X):\n",
    "        # Split into training and test data\n",
    "        X_train, X_test = X.iloc[train_row], X.iloc[test_row]\n",
    "        y_train, y_test = y[train_row], y[test_row]\n",
    "\n",
    "        if standardise:\n",
    "            # Standardise X data\n",
    "            X_train, X_test = standardise_data(X_train, X_test)\n",
    "\n",
    "        # Set up and fit multiple linear regression\n",
    "        model = LogisticRegression()\n",
    "        model.fit(X_train, y_train)\n",
    "\n",
    "        # Get feature weights\n",
    "        reg_results['feature_weights'].append(model.coef_)\n",
    "\n",
    "        # Get accuracy\n",
    "        reg_results['accuracy'] = model.score(X_test, y_test)\n",
    "\n",
    "        # Get confusion matrix\n",
    "        predictions = model.predict(X_test)\n",
    "        reg_results['confusion'] = confusion_matrix(y_test, predictions)\n",
    "\n",
    "    return (reg_results)"
   ]
  },
  {
   "cell_type": "code",
   "execution_count": 14,
   "metadata": {},
   "outputs": [
    {
     "data": {
      "text/plain": [
       "defaultdict(list,\n",
       "            {'feature_weights': [array([[ 0.04656685, -0.13427037,  0.07747488,  0.04044917, -0.46130055]]),\n",
       "              array([[ 0.04511475, -0.1328435 ,  0.07879367,  0.03787641, -0.45563004]]),\n",
       "              array([[ 0.04239823, -0.13610947,  0.07885667,  0.04281216, -0.45526751]]),\n",
       "              array([[ 0.04392537, -0.13297785,  0.07556136,  0.03773259, -0.45832226]]),\n",
       "              array([[ 0.0408941 , -0.13453528,  0.07800657,  0.04224722, -0.45412759]])],\n",
       "             'accuracy': 0.6920486593425096,\n",
       "             'confusion': array([[49307,     8],\n",
       "                    [21940,    16]])})"
      ]
     },
     "execution_count": 14,
     "metadata": {},
     "output_type": "execute_result"
    }
   ],
   "source": [
    "logistic_regression(reg_df, standardise=True)"
   ]
  },
  {
   "cell_type": "markdown",
   "metadata": {},
   "source": [
    "Predicts everything to not be a follow-up as that is the majority in the dataset. Would need to perform undersampling to balance the dataset."
   ]
  },
  {
   "cell_type": "markdown",
   "metadata": {},
   "source": [
    "### Random undersampling\n",
    "\n",
    "Very simple method of undersampling - randomly removing points from the majority class until it has the same number of points as the majority class."
   ]
  },
  {
   "cell_type": "code",
   "execution_count": 15,
   "metadata": {},
   "outputs": [
    {
     "data": {
      "text/plain": [
       "0    109321\n",
       "1    109321\n",
       "Name: 6_month_complete, dtype: int64"
      ]
     },
     "execution_count": 15,
     "metadata": {},
     "output_type": "execute_result"
    }
   ],
   "source": [
    "# Seperate into minority and majority\n",
    "minority = reg_df[reg_df['6_month_complete'] == 1]\n",
    "majority = reg_df[reg_df['6_month_complete'] == 0]\n",
    "\n",
    "# Randomly undersample majority class to be size of minority\n",
    "majority_under = majority.sample(minority.shape[0])\n",
    "\n",
    "# Combine together again\n",
    "reg_df_under = pd.concat([majority_under, minority]).reset_index()\n",
    "\n",
    "# Demonstrate counts\n",
    "reg_df_under['6_month_complete'].value_counts()"
   ]
  },
  {
   "cell_type": "code",
   "execution_count": 16,
   "metadata": {},
   "outputs": [
    {
     "data": {
      "text/plain": [
       "defaultdict(list,\n",
       "            {'feature_weights': [array([[ 0.04703205, -0.12254233,  0.07573366,  0.03339329, -0.46743752]]),\n",
       "              array([[ 0.054982  , -0.12387545,  0.07085426,  0.03905425, -0.47335221]]),\n",
       "              array([[ 0.05334856, -0.12321454,  0.08037915,  0.04038137, -0.47323735]]),\n",
       "              array([[ 0.04877762, -0.12038816,  0.07621313,  0.04049618, -0.46952761]]),\n",
       "              array([[ 0.05267271, -0.12486921,  0.07459176,  0.03982176, -0.47283985]])],\n",
       "             'accuracy': 0.5684001097694841,\n",
       "             'confusion': array([[10945, 10903],\n",
       "                    [ 7970, 13910]])})"
      ]
     },
     "execution_count": 16,
     "metadata": {},
     "output_type": "execute_result"
    }
   ],
   "source": [
    "logistic_regression(reg_df_under, standardise=True)"
   ]
  },
  {
   "cell_type": "markdown",
   "metadata": {},
   "source": [
    "Very low accuracy - 0.57.\n",
    "\n",
    "Would need to test assumptions - but anticipating it does not satisfy them all."
   ]
  }
 ],
 "metadata": {
  "kernelspec": {
   "display_name": "sam10",
   "language": "python",
   "name": "python3"
  },
  "language_info": {
   "codemirror_mode": {
    "name": "ipython",
    "version": 3
   },
   "file_extension": ".py",
   "mimetype": "text/x-python",
   "name": "python",
   "nbconvert_exporter": "python",
   "pygments_lexer": "ipython3",
   "version": "3.10.11"
  }
 },
 "nbformat": 4,
 "nbformat_minor": 2
}