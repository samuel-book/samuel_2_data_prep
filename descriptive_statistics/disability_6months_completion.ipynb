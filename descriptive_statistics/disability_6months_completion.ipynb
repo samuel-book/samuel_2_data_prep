{
 "cells": [
  {
   "cell_type": "markdown",
   "metadata": {},
   "source": [
    "# Disability at six months (completion)\n",
    "\n",
    "In this notebook, we explore the completion of disability at six months\n",
    "\n",
    "## Context about measurement of disability\n",
    "\n",
    "Disability is measured using the modified Rankin Scale (mRS). The scale ranges from 0 to 6, where 0 is perfect health without symptoms and 6 is death. The dataset contains information on:\n",
    "* Disability before the stroke\n",
    "* Disability at discharge\n",
    "* Disability at six months\n",
    "\n",
    "## Aims\n",
    "\n",
    "* Investigate the completion of disability at six months\n",
    "\n",
    "## Purpose of this analysis\n",
    "\n",
    "In other analyses, we are using discharge disability. One reason for that is because six month disability is so incomplete.\n",
    "\n",
    "This analysis looks into levels of completion and whether there are factors associated with completion (as we anticipate that it will not be missing at random)."
   ]
  },
  {
   "cell_type": "code",
   "execution_count": 1,
   "metadata": {},
   "outputs": [],
   "source": [
    "# Import packages and functions\n",
    "from collections import defaultdict\n",
    "from dataclasses import dataclass\n",
    "import matplotlib.pyplot as plt\n",
    "import matplotlib\n",
    "import numpy as np\n",
    "import os\n",
    "import pandas as pd\n",
    "from sklearn.linear_model import LinearRegression, LogisticRegression\n",
    "from sklearn.model_selection import KFold\n",
    "from sklearn.preprocessing import StandardScaler\n",
    "from sklearn.metrics import (mean_absolute_error, mean_squared_error,\n",
    "                             r2_score, confusion_matrix)\n",
    "\n",
    "# Set max rows when display dataframe\n",
    "pd.set_option('display.max_rows', 100)\n",
    "\n",
    "# Linting\n",
    "%load_ext pycodestyle_magic\n",
    "%pycodestyle_on"
   ]
  },
  {
   "cell_type": "code",
   "execution_count": 2,
   "metadata": {},
   "outputs": [],
   "source": [
    "# Set paths and filenames\n",
    "@dataclass(frozen=True)\n",
    "class Paths:\n",
    "    '''Singleton object for storing paths to data and files.'''\n",
    "\n",
    "    data_path = './../output/'\n",
    "    data_filename = 'reformatted_data.csv'\n",
    "    admission_only_filename = 'reformatted_data_admissions_only.csv'\n",
    "\n",
    "\n",
    "paths = Paths()"
   ]
  },
  {
   "cell_type": "code",
   "execution_count": 3,
   "metadata": {},
   "outputs": [],
   "source": [
    "# Load data\n",
    "data_full = pd.read_csv(os.path.join(paths.data_path,\n",
    "                                     paths.admission_only_filename))"
   ]
  },
  {
   "cell_type": "markdown",
   "metadata": {},
   "source": [
    "## Completion of data on disability at six months"
   ]
  },
  {
   "cell_type": "markdown",
   "metadata": {},
   "source": [
    "**Remove patients dead at discharge**\n",
    "\n",
    "Data on disability at six months will not be available for patients who were dead (mRS score of 6) at discharge. Therefore, we will remove them from the analysis, and focus only on patients who were alive at discharge.\n",
    "\n",
    "Of all the patients in the SSNAP dataset:\n",
    "* 13.9% were dead at discharge\n",
    "* 85.4% had a disability score of 0 to 5\n",
    "* 0.7% were missing data on disability at discharge"
   ]
  },
  {
   "cell_type": "code",
   "execution_count": 4,
   "metadata": {},
   "outputs": [
    {
     "data": {
      "text/html": [
       "<div>\n",
       "<style scoped>\n",
       "    .dataframe tbody tr th:only-of-type {\n",
       "        vertical-align: middle;\n",
       "    }\n",
       "\n",
       "    .dataframe tbody tr th {\n",
       "        vertical-align: top;\n",
       "    }\n",
       "\n",
       "    .dataframe thead th {\n",
       "        text-align: right;\n",
       "    }\n",
       "</style>\n",
       "<table border=\"1\" class=\"dataframe\">\n",
       "  <thead>\n",
       "    <tr style=\"text-align: right;\">\n",
       "      <th></th>\n",
       "      <th>Discharge Disability</th>\n",
       "      <th>Proportion</th>\n",
       "    </tr>\n",
       "  </thead>\n",
       "  <tbody>\n",
       "    <tr>\n",
       "      <th>0</th>\n",
       "      <td>0.0</td>\n",
       "      <td>0.129267</td>\n",
       "    </tr>\n",
       "    <tr>\n",
       "      <th>1</th>\n",
       "      <td>1.0</td>\n",
       "      <td>0.211068</td>\n",
       "    </tr>\n",
       "    <tr>\n",
       "      <th>2</th>\n",
       "      <td>2.0</td>\n",
       "      <td>0.181825</td>\n",
       "    </tr>\n",
       "    <tr>\n",
       "      <th>3</th>\n",
       "      <td>3.0</td>\n",
       "      <td>0.160238</td>\n",
       "    </tr>\n",
       "    <tr>\n",
       "      <th>4</th>\n",
       "      <td>4.0</td>\n",
       "      <td>0.115781</td>\n",
       "    </tr>\n",
       "    <tr>\n",
       "      <th>5</th>\n",
       "      <td>5.0</td>\n",
       "      <td>0.055937</td>\n",
       "    </tr>\n",
       "    <tr>\n",
       "      <th>6</th>\n",
       "      <td>6.0</td>\n",
       "      <td>0.138836</td>\n",
       "    </tr>\n",
       "    <tr>\n",
       "      <th>7</th>\n",
       "      <td>NaN</td>\n",
       "      <td>0.007047</td>\n",
       "    </tr>\n",
       "  </tbody>\n",
       "</table>\n",
       "</div>"
      ],
      "text/plain": [
       "   Discharge Disability  Proportion\n",
       "0                   0.0    0.129267\n",
       "1                   1.0    0.211068\n",
       "2                   2.0    0.181825\n",
       "3                   3.0    0.160238\n",
       "4                   4.0    0.115781\n",
       "5                   5.0    0.055937\n",
       "6                   6.0    0.138836\n",
       "7                   NaN    0.007047"
      ]
     },
     "metadata": {},
     "output_type": "display_data"
    }
   ],
   "source": [
    "# Find proportion of patients with each discharge disability score\n",
    "display(data_full['discharge_disability']\n",
    "        .value_counts(dropna=False, normalize=True)\n",
    "        .rename_axis('Discharge Disability')\n",
    "        .sort_index()\n",
    "        .reset_index(name='Proportion'))"
   ]
  },
  {
   "cell_type": "code",
   "execution_count": 5,
   "metadata": {},
   "outputs": [
    {
     "name": "stdout",
     "output_type": "stream",
     "text": [
      "Patients not dead at discharge: 309046\n"
     ]
    }
   ],
   "source": [
    "# Remove patients who were dead at discharge\n",
    "data_full_alive = data_full[data_full['death'] == 0].copy()\n",
    "\n",
    "# Print count of remaining patients\n",
    "print(f'Patients not dead at discharge: {len(data_full_alive.index)}')"
   ]
  },
  {
   "cell_type": "markdown",
   "metadata": {},
   "source": [
    "**Find proportion missing disability at discharge and/or six months**\n",
    "\n",
    "Of all the patients in the SSNAP dataset who were not dead at discharge:\n",
    "* 35.4% have data on disability at discharge and 6 months\n",
    "* 63.8% are just missing disability at 6 months\n",
    "* 0.8% are missing disability at discharge and 6 months"
   ]
  },
  {
   "cell_type": "code",
   "execution_count": 6,
   "metadata": {},
   "outputs": [
    {
     "data": {
      "text/html": [
       "<div>\n",
       "<style scoped>\n",
       "    .dataframe tbody tr th:only-of-type {\n",
       "        vertical-align: middle;\n",
       "    }\n",
       "\n",
       "    .dataframe tbody tr th {\n",
       "        vertical-align: top;\n",
       "    }\n",
       "\n",
       "    .dataframe thead th {\n",
       "        text-align: right;\n",
       "    }\n",
       "</style>\n",
       "<table border=\"1\" class=\"dataframe\">\n",
       "  <thead>\n",
       "    <tr style=\"text-align: right;\">\n",
       "      <th></th>\n",
       "      <th>discharge_disability</th>\n",
       "      <th>disability_6_month</th>\n",
       "      <th>proportion</th>\n",
       "    </tr>\n",
       "  </thead>\n",
       "  <tbody>\n",
       "    <tr>\n",
       "      <th>1</th>\n",
       "      <td>Not missing</td>\n",
       "      <td>Not missing</td>\n",
       "      <td>0.353737</td>\n",
       "    </tr>\n",
       "    <tr>\n",
       "      <th>0</th>\n",
       "      <td>Not missing</td>\n",
       "      <td>Missing</td>\n",
       "      <td>0.638119</td>\n",
       "    </tr>\n",
       "    <tr>\n",
       "      <th>2</th>\n",
       "      <td>Missing</td>\n",
       "      <td>Missing</td>\n",
       "      <td>0.008144</td>\n",
       "    </tr>\n",
       "  </tbody>\n",
       "</table>\n",
       "</div>"
      ],
      "text/plain": [
       "  discharge_disability disability_6_month  proportion\n",
       "1          Not missing        Not missing    0.353737\n",
       "0          Not missing            Missing    0.638119\n",
       "2              Missing            Missing    0.008144"
      ]
     },
     "execution_count": 6,
     "metadata": {},
     "output_type": "execute_result"
    }
   ],
   "source": [
    "(data_full_alive[['discharge_disability', 'disability_6_month']]\n",
    " .isnull()\n",
    " .apply(lambda x: x.map({True: 'Missing', False: 'Not missing'}))\n",
    " .value_counts(normalize=True)\n",
    " .reset_index(name='proportion')\n",
    " .sort_values(by='disability_6_month', ascending=False))"
   ]
  },
  {
   "cell_type": "markdown",
   "metadata": {},
   "source": [
    "**Visualise completion of disability at 6 months by team**\n",
    "\n",
    "The graph presents the proportion of patients who were not dead at discharge and are missing disability at six months. We can see there is **large variability** between teams, from 10.25% missing data to 99.95% missing data. "
   ]
  },
  {
   "cell_type": "code",
   "execution_count": 7,
   "metadata": {},
   "outputs": [
    {
     "data": {
      "text/plain": [
       "count    119.000000\n",
       "mean       0.641830\n",
       "std        0.214977\n",
       "min        0.102513\n",
       "25%        0.486390\n",
       "50%        0.635166\n",
       "75%        0.802901\n",
       "max        0.999516\n",
       "Name: missing_6_month, dtype: float64"
      ]
     },
     "metadata": {},
     "output_type": "display_data"
    },
    {
     "data": {
      "image/png": "[encoded data removed]",
      "text/plain": [
       "<Figure size 1000x500 with 1 Axes>"
      ]
     },
     "metadata": {},
     "output_type": "display_data"
    }
   ],
   "source": [
    "# Create columns where they are TRUE if missing disability\n",
    "data_full_alive['missing_6_month'] = (\n",
    "    data_full_alive['disability_6_month'].isnull())\n",
    "\n",
    "# Find proportion missing disability\n",
    "missing_6_month = (\n",
    "    data_full_alive\n",
    "    .groupby('stroke_team')['missing_6_month']\n",
    "    .mean()\n",
    "    .sort_values())\n",
    "\n",
    "# Describe\n",
    "display(missing_6_month.describe())\n",
    "\n",
    "# Plot completion rate for 6 month disability in each team, ascending\n",
    "fig, ax = plt.subplots(figsize=(10, 5))\n",
    "ax.bar(x=missing_6_month.index,\n",
    "       height=missing_6_month)\n",
    "ax.set_xlabel('Stroke team (ordered by proportion)')\n",
    "ax.set_ylabel('Proportion or patients missing 6 month disability')\n",
    "ax.tick_params(labelbottom=False)\n",
    "plt.show()"
   ]
  },
  {
   "cell_type": "markdown",
   "metadata": {},
   "source": [
    "**Investigate whether completion is associated with size**\n",
    "\n",
    "There appears to be no relationship between completion rate and the total patients who were alive at discharge."
   ]
  },
  {
   "cell_type": "code",
   "execution_count": 8,
   "metadata": {},
   "outputs": [
    {
     "data": {
      "image/png": "[encoded data removed]",
      "text/plain": [
       "<Figure size 700x500 with 1 Axes>"
      ]
     },
     "metadata": {},
     "output_type": "display_data"
    }
   ],
   "source": [
    "# Combine size with the proportion missing\n",
    "team_size = (\n",
    "    data_full_alive.groupby('stroke_team').size().rename('alive_at_discharge'))\n",
    "team_followup_size = pd.concat([missing_6_month,\n",
    "                                team_size], axis=1).reset_index()\n",
    "\n",
    "# Find correlation\n",
    "team_followup_size['alive_at_discharge'].corr(\n",
    "    team_followup_size['missing_6_month'])\n",
    "\n",
    "# Create scatter plot\n",
    "fig, ax = plt.subplots(figsize=(7, 5))\n",
    "ax.scatter(x=team_followup_size['alive_at_discharge'],\n",
    "           y=team_followup_size['missing_6_month'])\n",
    "ax.set_xlabel('Total patients alive at discharge')\n",
    "ax.set_ylabel('Proportion with missing 6-month follow-up')\n",
    "plt.show()"
   ]
  },
  {
   "cell_type": "markdown",
   "metadata": {},
   "source": [
    "## Factors associated with completion\n",
    "\n",
    "As above, this analysis only focusses on patients who were not marked as having died at discharge, else it would be an unfair comparison, as patients who died at discharge could not possibly have a six month follow up."
   ]
  },
  {
   "cell_type": "code",
   "execution_count": 9,
   "metadata": {},
   "outputs": [
    {
     "name": "stdout",
     "output_type": "stream",
     "text": [
      "                    count      mean       std  min  25%  50%  75%   max\n",
      "missing_6_month                                                        \n",
      "False            109321.0  5.370002  5.683979  0.0  2.0  3.0  7.0  42.0\n",
      "True             199725.0  5.511238  5.949742  0.0  2.0  3.0  7.0  42.0\n"
     ]
    },
    {
     "data": {
      "text/plain": [
       "stroke_severity_groups\n",
       "0        0.668312\n",
       "1-4      0.639312\n",
       "5-15     0.643820\n",
       "16-20    0.662404\n",
       "21-42    0.677691\n",
       "Name: missing_6_month, dtype: float64"
      ]
     },
     "metadata": {},
     "output_type": "display_data"
    },
    {
     "data": {
      "text/plain": [
       "thrombolysis\n",
       "0    0.647322\n",
       "1    0.638126\n",
       "Name: missing_6_month, dtype: float64"
      ]
     },
     "metadata": {},
     "output_type": "display_data"
    },
    {
     "data": {
      "text/plain": [
       "infarction\n",
       "0.0    0.653785\n",
       "1.0    0.645511\n",
       "Name: missing_6_month, dtype: float64"
      ]
     },
     "metadata": {},
     "output_type": "display_data"
    },
    {
     "data": {
      "text/plain": [
       "prior_disability\n",
       "0    0.641965\n",
       "1    0.625371\n",
       "2    0.647275\n",
       "3    0.672922\n",
       "4    0.698523\n",
       "5    0.702144\n",
       "Name: missing_6_month, dtype: float64"
      ]
     },
     "metadata": {},
     "output_type": "display_data"
    },
    {
     "data": {
      "text/plain": [
       "age\n",
       "37.5    0.717289\n",
       "42.5    0.693690\n",
       "47.5    0.694955\n",
       "52.5    0.679575\n",
       "57.5    0.658418\n",
       "62.5    0.647985\n",
       "67.5    0.636270\n",
       "72.5    0.626529\n",
       "77.5    0.623241\n",
       "82.5    0.630371\n",
       "87.5    0.655567\n",
       "92.5    0.673107\n",
       "Name: missing_6_month, dtype: float64"
      ]
     },
     "metadata": {},
     "output_type": "display_data"
    },
    {
     "data": {
      "image/png": "[encoded data removed]",
      "text/plain": [
       "<Figure size 1500x800 with 6 Axes>"
      ]
     },
     "metadata": {},
     "output_type": "display_data"
    }
   ],
   "source": [
    "def plot_proportion_missing_by_variable(variable, ax, order=False):\n",
    "    '''\n",
    "    Creates plot of the proportion missing six month disability data\n",
    "    When grouped by the specified variable.\n",
    "    Inputs:\n",
    "    variable - string\n",
    "    ax - axis to plot on\n",
    "    order - array defining order for x axis (default False)\n",
    "    '''\n",
    "    # Group, find proportion, display table, and plot\n",
    "    df = (data_full_alive\n",
    "          .groupby(variable)['missing_6_month']\n",
    "          .mean())\n",
    "    if order:\n",
    "        display(df.loc[order])\n",
    "        df.loc[order].plot(kind='bar', ax=ax)\n",
    "    else:\n",
    "        display(df)\n",
    "        df.plot(kind='bar', ax=ax)\n",
    "    ax.set_ylabel('Proportion missing 6 month follow up')\n",
    "\n",
    "    # Set consistent y axis with horizontal grid lines\n",
    "    ax.set_ylim([0, 1])\n",
    "    ax.set_yticks(np.arange(0, 1, 0.1), minor=True)\n",
    "    ax.grid(axis='y', which='minor', alpha=0.5)\n",
    "    ax.grid(axis='y', which='major', alpha=0.5)\n",
    "    ax.set_axisbelow(True)\n",
    "\n",
    "\n",
    "# Set up figure\n",
    "fig, ax = plt.subplots(nrows=2, ncols=3, figsize=(15, 8))\n",
    "\n",
    "# For stroke severity, compare distributions using overlaid histograms\n",
    "# As number of patients at higher stroke severities is very small in\n",
    "# each group, so doing proportion per group would be misleading\n",
    "# (unless you created larger categories combining groups)\n",
    "plot_missing = data_full_alive.loc[\n",
    "    data_full_alive['missing_6_month'], 'stroke_severity']\n",
    "plot_present = data_full_alive.loc[\n",
    "    ~data_full_alive['missing_6_month'], 'stroke_severity']\n",
    "ax[0, 0].hist(plot_missing,\n",
    "              weights=np.ones(len(plot_missing)) / len(plot_missing),\n",
    "              bins=np.arange(0, 43, 1), alpha=0.5, label=\"Missing\")\n",
    "ax[0, 0].hist(plot_present,\n",
    "              weights=np.ones(len(plot_present)) / len(plot_present),\n",
    "              bins=np.arange(0, 43, 1), alpha=0.5, label=\"Present\")\n",
    "ax[0, 0].set_xlabel('Stroke severity (NIHSS)')\n",
    "ax[0, 0].set_ylabel('Proportion')\n",
    "ax[0, 0].legend()\n",
    "\n",
    "# Describe results for each group\n",
    "print(\n",
    "    data_full_alive.groupby('missing_6_month')['stroke_severity'].describe())\n",
    "\n",
    "# Create stroke severity column with groups so can plot in same way as others\n",
    "conditions = [(data_full_alive['stroke_severity'] == 0),\n",
    "              (data_full_alive['stroke_severity'].isin(np.arange(1, 5))),\n",
    "              (data_full_alive['stroke_severity'].isin(np.arange(5, 16))),\n",
    "              (data_full_alive['stroke_severity'].isin(np.arange(16, 21))),\n",
    "              (data_full_alive['stroke_severity'].isin(np.arange(21, 43)))]\n",
    "nihss_choices = ['0', '1-4', '5-15', '16-20', '21-42']\n",
    "data_full_alive['stroke_severity_groups'] = np.select(conditions,\n",
    "                                                      nihss_choices)\n",
    "plot_proportion_missing_by_variable('stroke_severity_groups',\n",
    "                                    ax[0, 1], order=nihss_choices)\n",
    "\n",
    "# Plot proportion missing by group\n",
    "plot_proportion_missing_by_variable('thrombolysis', ax[0, 2])\n",
    "plot_proportion_missing_by_variable('infarction', ax[1, 0])\n",
    "plot_proportion_missing_by_variable('prior_disability', ax[1, 1])\n",
    "plot_proportion_missing_by_variable('age', ax[1, 2])\n",
    "\n",
    "plt.tight_layout()\n",
    "plt.show()"
   ]
  },
  {
   "cell_type": "markdown",
   "metadata": {},
   "source": [
    "Observations: \n",
    "* **Stroke severity:** The stroke severity of followed-up patients is, on average, slightly higher (5.51 vs 5.37). A slightly higher proportion of people with severe strokes are not followed up (NIHSS 21-42, 67.8%), then no symptoms (NIHSS 0, 66.8%) and moderate to severe strokes (NIHSS 16-20, 66.2%), with the least missing follow-up for moderate strokes (NIHSS 5-15, 64.4%) and mild strokes (NIHSS 1-4, 63.9%).\n",
    "* **Thrombolysis:** A slightly lower proportion of thrombolysed patients are missing follow up (63.8%), compared with patients not thrombolysed (64.7%)\n",
    "* **Infarction:** A slightly lower proportion of patients who had an infarction are missing follow up (64.6%), compared with patients who did not have an infarction (65.4%)\n",
    "* **Prior disability:** A slightly higher proportion of people with a greater prior disability are missing follow up (eg. 70.2% of people who were mRS 5, compared with 64.2% mRS 0 and 62.5% mRS 1)\n",
    "* **Age:** A higher proportion of people in the younger or older age categories are not followed up, with the least missing follow up in the  77.5 (i.e. 75 to 80 years old, 62.3% missing follow up)"
   ]
  },
  {
   "cell_type": "markdown",
   "metadata": {},
   "source": [
    "## Change in disability between discharge and 6-month follow-up"
   ]
  },
  {
   "cell_type": "code",
   "execution_count": 10,
   "metadata": {},
   "outputs": [
    {
     "data": {
      "text/html": [
       "<div>\n",
       "<style scoped>\n",
       "    .dataframe tbody tr th:only-of-type {\n",
       "        vertical-align: middle;\n",
       "    }\n",
       "\n",
       "    .dataframe tbody tr th {\n",
       "        vertical-align: top;\n",
       "    }\n",
       "\n",
       "    .dataframe thead th {\n",
       "        text-align: right;\n",
       "    }\n",
       "</style>\n",
       "<table border=\"1\" class=\"dataframe\">\n",
       "  <thead>\n",
       "    <tr style=\"text-align: right;\">\n",
       "      <th></th>\n",
       "      <th>discharge_disability</th>\n",
       "      <th>disability_6_month</th>\n",
       "    </tr>\n",
       "  </thead>\n",
       "  <tbody>\n",
       "    <tr>\n",
       "      <th>count</th>\n",
       "      <td>356355.000000</td>\n",
       "      <td>109321.000000</td>\n",
       "    </tr>\n",
       "    <tr>\n",
       "      <th>mean</th>\n",
       "      <td>2.649933</td>\n",
       "      <td>2.176947</td>\n",
       "    </tr>\n",
       "    <tr>\n",
       "      <th>std</th>\n",
       "      <td>1.919072</td>\n",
       "      <td>1.807213</td>\n",
       "    </tr>\n",
       "    <tr>\n",
       "      <th>min</th>\n",
       "      <td>0.000000</td>\n",
       "      <td>0.000000</td>\n",
       "    </tr>\n",
       "    <tr>\n",
       "      <th>25%</th>\n",
       "      <td>1.000000</td>\n",
       "      <td>1.000000</td>\n",
       "    </tr>\n",
       "    <tr>\n",
       "      <th>50%</th>\n",
       "      <td>2.000000</td>\n",
       "      <td>2.000000</td>\n",
       "    </tr>\n",
       "    <tr>\n",
       "      <th>75%</th>\n",
       "      <td>4.000000</td>\n",
       "      <td>3.000000</td>\n",
       "    </tr>\n",
       "    <tr>\n",
       "      <th>max</th>\n",
       "      <td>6.000000</td>\n",
       "      <td>6.000000</td>\n",
       "    </tr>\n",
       "  </tbody>\n",
       "</table>\n",
       "</div>"
      ],
      "text/plain": [
       "       discharge_disability  disability_6_month\n",
       "count         356355.000000       109321.000000\n",
       "mean               2.649933            2.176947\n",
       "std                1.919072            1.807213\n",
       "min                0.000000            0.000000\n",
       "25%                1.000000            1.000000\n",
       "50%                2.000000            2.000000\n",
       "75%                4.000000            3.000000\n",
       "max                6.000000            6.000000"
      ]
     },
     "execution_count": 10,
     "metadata": {},
     "output_type": "execute_result"
    }
   ],
   "source": [
    "# Describe average disability at each timepoint\n",
    "pd.concat([data_full['discharge_disability'].describe(),\n",
    "           data_full['disability_6_month'].describe()], axis=1)"
   ]
  },
  {
   "cell_type": "markdown",
   "metadata": {},
   "source": [
    "Observations: There are 109,321 patients with data on six month disability, with a mean mRS score of 2.18 and median score of 2. This is lower than the average disability of the 356,355 patients with discharge disability recorded, which was a mean of 2.65."
   ]
  },
  {
   "cell_type": "code",
   "execution_count": 11,
   "metadata": {},
   "outputs": [
    {
     "data": {
      "text/html": [
       "<div>\n",
       "<style scoped>\n",
       "    .dataframe tbody tr th:only-of-type {\n",
       "        vertical-align: middle;\n",
       "    }\n",
       "\n",
       "    .dataframe tbody tr th {\n",
       "        vertical-align: top;\n",
       "    }\n",
       "\n",
       "    .dataframe thead th {\n",
       "        text-align: right;\n",
       "    }\n",
       "</style>\n",
       "<table border=\"1\" class=\"dataframe\">\n",
       "  <thead>\n",
       "    <tr style=\"text-align: right;\">\n",
       "      <th></th>\n",
       "      <th>discharge_disability</th>\n",
       "      <th>disability_6_month</th>\n",
       "    </tr>\n",
       "  </thead>\n",
       "  <tbody>\n",
       "    <tr>\n",
       "      <th>0.0</th>\n",
       "      <td>0.130185</td>\n",
       "      <td>0.164580</td>\n",
       "    </tr>\n",
       "    <tr>\n",
       "      <th>1.0</th>\n",
       "      <td>0.212566</td>\n",
       "      <td>0.288078</td>\n",
       "    </tr>\n",
       "    <tr>\n",
       "      <th>2.0</th>\n",
       "      <td>0.183115</td>\n",
       "      <td>0.189781</td>\n",
       "    </tr>\n",
       "    <tr>\n",
       "      <th>3.0</th>\n",
       "      <td>0.161376</td>\n",
       "      <td>0.156841</td>\n",
       "    </tr>\n",
       "    <tr>\n",
       "      <th>4.0</th>\n",
       "      <td>0.116603</td>\n",
       "      <td>0.070654</td>\n",
       "    </tr>\n",
       "    <tr>\n",
       "      <th>5.0</th>\n",
       "      <td>0.056334</td>\n",
       "      <td>0.024231</td>\n",
       "    </tr>\n",
       "    <tr>\n",
       "      <th>6.0</th>\n",
       "      <td>0.139821</td>\n",
       "      <td>0.105835</td>\n",
       "    </tr>\n",
       "  </tbody>\n",
       "</table>\n",
       "</div>"
      ],
      "text/plain": [
       "     discharge_disability  disability_6_month\n",
       "0.0              0.130185            0.164580\n",
       "1.0              0.212566            0.288078\n",
       "2.0              0.183115            0.189781\n",
       "3.0              0.161376            0.156841\n",
       "4.0              0.116603            0.070654\n",
       "5.0              0.056334            0.024231\n",
       "6.0              0.139821            0.105835"
      ]
     },
     "metadata": {},
     "output_type": "display_data"
    },
    {
     "data": {
      "image/png": "[encoded data removed]",
      "text/plain": [
       "<Figure size 1000x400 with 2 Axes>"
      ]
     },
     "metadata": {},
     "output_type": "display_data"
    }
   ],
   "source": [
    "# Show proportion of each disability score at each timepoint\n",
    "\n",
    "def describe_disability(timepoint, ax=ax):\n",
    "    '''\n",
    "    For the specified timepoint, describe the proportion of people\n",
    "    with each disability score and present in a plot\n",
    "    timepoint: string e.g. discharge_disability\n",
    "    ax: axes object to create plot on\n",
    "    '''\n",
    "    # Find and display proportion of people with each score\n",
    "    mrs_6m = (data_full[timepoint]\n",
    "              .value_counts(normalize=True)\n",
    "              .sort_index())\n",
    "\n",
    "    # Create plot\n",
    "    mrs_6m.plot(kind='bar', ax=ax)\n",
    "    ax.set_xlabel(timepoint)\n",
    "    ax.set_ylabel('Proportion')\n",
    "    ax.set_ylim([0, 0.3])\n",
    "\n",
    "    # Return results\n",
    "    return mrs_6m\n",
    "\n",
    "\n",
    "fig, ax = plt.subplots(nrows=1, ncols=2, figsize=(10, 4))\n",
    "mrs_discharge = describe_disability('discharge_disability', ax[0])\n",
    "mrs_6months = describe_disability('disability_6_month', ax[1])\n",
    "display(pd.concat([mrs_discharge, mrs_6months], axis=1))\n",
    "plt.show()"
   ]
  },
  {
   "cell_type": "markdown",
   "metadata": {},
   "source": [
    "**Remember!** These are two different samples.\n",
    "\n",
    "Observations: A greater proportion of patients at six months have lower mRS scores - e.g. 28.8% mRS 1 at six months, versus 21.2% at discharge. Conversely, a lower proportion of patients at six months have higher mRS scores - e.g. 10.6% mRS 6 at six months, versus 14.0% at discharge."
   ]
  },
  {
   "cell_type": "code",
   "execution_count": 12,
   "metadata": {},
   "outputs": [],
   "source": [
    "data_full_alive['discharge_to_6_month'] = (\n",
    "    data_full_alive['disability_6_month'] -\n",
    "    data_full_alive['discharge_disability'])"
   ]
  },
  {
   "cell_type": "code",
   "execution_count": 13,
   "metadata": {},
   "outputs": [
    {
     "name": "stdout",
     "output_type": "stream",
     "text": [
      "count    109321.00000\n",
      "mean          0.11533\n",
      "std           1.52376\n",
      "min          -5.00000\n",
      "25%          -1.00000\n",
      "50%           0.00000\n",
      "75%           1.00000\n",
      "max           6.00000\n",
      "Name: discharge_to_6_month, dtype: float64\n"
     ]
    },
    {
     "data": {
      "text/plain": [
       "-5.0    0.000201\n",
       "-4.0    0.003183\n",
       "-3.0    0.024177\n",
       "-2.0    0.092041\n",
       "-1.0    0.218979\n",
       " 0.0    0.315283\n",
       " 1.0    0.196248\n",
       " 2.0    0.086635\n",
       " 3.0    0.035849\n",
       " 4.0    0.013803\n",
       " 5.0    0.009230\n",
       " 6.0    0.004372\n",
       "Name: discharge_to_6_month, dtype: float64"
      ]
     },
     "metadata": {},
     "output_type": "display_data"
    },
    {
     "data": {
      "image/png": "[encoded data removed]",
      "text/plain": [
       "<Figure size 700x500 with 1 Axes>"
      ]
     },
     "metadata": {},
     "output_type": "display_data"
    }
   ],
   "source": [
    "# Calculate change in disability\n",
    "mrs_change = data_full_alive['discharge_to_6_month'].dropna()\n",
    "\n",
    "# Describe average change\n",
    "print(mrs_change.describe())\n",
    "\n",
    "# Find proportion with each change\n",
    "mrs_change_prop = mrs_change.value_counts(normalize=True).sort_index()\n",
    "display(mrs_change_prop)\n",
    "\n",
    "# Visualise distribution of changes\n",
    "fig, ax = plt.subplots(figsize=(7, 5))\n",
    "mrs_change_prop.plot(kind='bar', ax=ax)\n",
    "ax.set_xlabel('Change in disability from discharge to 6 months')\n",
    "ax.set_ylabel('Proportion')\n",
    "plt.show()"
   ]
  },
  {
   "cell_type": "markdown",
   "metadata": {},
   "source": [
    "**Remember!** This is just the sample of people with disability recorded at 6 months.\n",
    "\n",
    "Observations: We see a mean change of 0.1 (worsening). Looking at the distribution of results - \n",
    "* **Most frequently see no change** in disability (31.5%)\n",
    "* **Looking at one or two mRS change, we see more people getting better**. One mRS better for 21.9% and one mRS worse for 19.6%. Two mRS better for 9.2% and two mRS worse for 8.7%\n",
    "* **Looking at a change of 3 mRS or more, we see more people getting worse**. Three mRS better for 2.4% and three mRS worse for 3.6%. Very few of a change of four mRS or more. There are very few patients with four mRS (0.3%) or five mRS (0.02%) better. There are slightly more with worsening mRS - four mRS (0.1%), five mRS (0.09%) or six mRS (0.04%) worse"
   ]
  },
  {
   "cell_type": "markdown",
   "metadata": {},
   "source": [
    "## Multiple logistic regression"
   ]
  },
  {
   "cell_type": "markdown",
   "metadata": {},
   "source": [
    "### Dataset\n",
    "\n",
    "The dataset is patients who have complete data data for discharge disability, stroke severity, age and whether thrombolysed. They can have incomplete data for 6-month follow-up (as that is what we are predicting)."
   ]
  },
  {
   "cell_type": "code",
   "execution_count": 14,
   "metadata": {},
   "outputs": [
    {
     "data": {
      "text/plain": [
       "0    0.695386\n",
       "1    0.304614\n",
       "Name: 6_month_complete, dtype: float64"
      ]
     },
     "metadata": {},
     "output_type": "display_data"
    },
    {
     "data": {
      "text/plain": [
       "(356355, 6)"
      ]
     },
     "metadata": {},
     "output_type": "display_data"
    }
   ],
   "source": [
    "# Extract relevant columns, resetting index else set on slice\n",
    "reg_df = data_full[[\n",
    "    'prior_disability', 'stroke_severity', 'age',\n",
    "    'thrombolysis', 'discharge_disability']].reset_index(drop=True)\n",
    "\n",
    "# Create column of whether had follow-up\n",
    "reg_df['6_month_complete'] = (\n",
    "    data_full['disability_6_month'].isnull().map({False: 1, True: 0}))\n",
    "display(reg_df['6_month_complete'].value_counts(normalize=True))\n",
    "\n",
    "# Drop NA\n",
    "reg_df = reg_df.dropna().reset_index(drop=True)\n",
    "display(reg_df.shape)\n",
    "\n",
    "# Define predictor and response variables\n",
    "X = reg_df[['prior_disability', 'stroke_severity', 'age',\n",
    "            'thrombolysis', 'discharge_disability']]\n",
    "y = reg_df['6_month_complete']"
   ]
  },
  {
   "cell_type": "markdown",
   "metadata": {},
   "source": [
    "### Regression"
   ]
  },
  {
   "cell_type": "code",
   "execution_count": 15,
   "metadata": {},
   "outputs": [],
   "source": [
    "def standardise_data(X_train, X_test):\n",
    "    '''\n",
    "    Put features on a similar scale through standardisation.\n",
    "    Just transforms features (not response/target variable).\n",
    "    Invovles subtracting mean and dividing by standard deviation (SD)\n",
    "    of each feature, so data have mean of 0 and SD of 1.\n",
    "    Test data is standardised on training data mean and SD.\n",
    "    '''\n",
    "\n",
    "    # Set up scaling object and fit on training data\n",
    "    sc = StandardScaler()\n",
    "    sc.fit(X_train)\n",
    "\n",
    "    # Apply scaling to training and test data\n",
    "    train_std = sc.transform(X_train)\n",
    "    test_std = sc.transform(X_test)\n",
    "\n",
    "    return train_std, test_std\n",
    "\n",
    "\n",
    "def logistic_regression(standardise):\n",
    "    '''\n",
    "    Run logistic regression with 5-fold cross-validation\n",
    "    Can choose whether to standardise input variables or not\n",
    "    Returns MAE, MSE, RMSE, R2, adjusted R2, feature weights and residuals\n",
    "    '''\n",
    "    # Set up to create five training/test data splits\n",
    "    kfold = KFold(n_splits=5, shuffle=True, random_state=1)\n",
    "\n",
    "    # Create empty dictionary to store results\n",
    "    # (defaultdict so don't have to pre-define keys)\n",
    "    reg_results = defaultdict(list)\n",
    "\n",
    "    # Use loop to test model on those five different splits\n",
    "    for train_row, test_row in kfold.split(X):\n",
    "        # Split into training and test data\n",
    "        X_train, X_test = X.iloc[train_row], X.iloc[test_row]\n",
    "        y_train, y_test = y[train_row], y[test_row]\n",
    "\n",
    "        if standardise:\n",
    "            # Standardise X data\n",
    "            X_train, X_test = standardise_data(X_train, X_test)\n",
    "\n",
    "        # Set up and fit multiple linear regression\n",
    "        model = LogisticRegression()\n",
    "        model.fit(X_train, y_train)\n",
    "\n",
    "        # Get feature weights\n",
    "        reg_results['feature_weights'].append(model.coef_)\n",
    "\n",
    "        # Get accuracy\n",
    "        reg_results['accuracy'] = model.score(X_test, y_test)\n",
    "\n",
    "        # Get confusion matrix\n",
    "        predictions = model.predict(X_test)\n",
    "        reg_results['confusion'] = confusion_matrix(y_test, predictions)\n",
    "\n",
    "    return (reg_results)"
   ]
  },
  {
   "cell_type": "code",
   "execution_count": 16,
   "metadata": {},
   "outputs": [
    {
     "data": {
      "text/plain": [
       "defaultdict(list,\n",
       "            {'feature_weights': [array([[ 0.04656685, -0.13427037,  0.07747488,  0.04044917, -0.46130055]]),\n",
       "              array([[ 0.04511475, -0.1328435 ,  0.07879367,  0.03787641, -0.45563004]]),\n",
       "              array([[ 0.04239823, -0.13610947,  0.07885667,  0.04281216, -0.45526751]]),\n",
       "              array([[ 0.04392537, -0.13297785,  0.07556136,  0.03773259, -0.45832226]]),\n",
       "              array([[ 0.0408941 , -0.13453528,  0.07800657,  0.04224722, -0.45412759]])],\n",
       "             'accuracy': 0.6920486593425096,\n",
       "             'confusion': array([[49307,     8],\n",
       "                    [21940,    16]])})"
      ]
     },
     "execution_count": 16,
     "metadata": {},
     "output_type": "execute_result"
    }
   ],
   "source": [
    "logistic_regression(True)"
   ]
  },
  {
   "cell_type": "markdown",
   "metadata": {},
   "source": [
    "Predicts everything to not be a follow-up as that is the majority in the dataset."
   ]
  }
 ],
 "metadata": {
  "kernelspec": {
   "display_name": "sam10",
   "language": "python",
   "name": "python3"
  },
  "language_info": {
   "codemirror_mode": {
    "name": "ipython",
    "version": 3
   },
   "file_extension": ".py",
   "mimetype": "text/x-python",
   "name": "python",
   "nbconvert_exporter": "python",
   "pygments_lexer": "ipython3",
   "version": "3.10.11"
  },
  "orig_nbformat": 4
 },
 "nbformat": 4,
 "nbformat_minor": 2
}
