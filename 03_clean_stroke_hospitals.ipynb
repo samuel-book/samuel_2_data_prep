{
 "cells": [
  {
   "attachments": {},
   "cell_type": "markdown",
   "metadata": {},
   "source": [
    "# Clean stroke hospitals\n",
    "\n",
    "## Summary\n",
    "\n",
    "This notebook cleans stroke_hospitals_2022.csv, by adding a teams column to stroke_hospitals that matches teams in our SSNAP dataset.\n",
    "\n",
    "## Set up"
   ]
  },
  {
   "cell_type": "code",
   "execution_count": 1,
   "metadata": {},
   "outputs": [],
   "source": [
    "# Import packages\n",
    "from dataclasses import dataclass\n",
    "import numpy as np\n",
    "import os\n",
    "import pandas as pd\n",
    "\n",
    "# Linting\n",
    "%load_ext pycodestyle_magic\n",
    "%pycodestyle_on"
   ]
  },
  {
   "cell_type": "code",
   "execution_count": 2,
   "metadata": {},
   "outputs": [],
   "source": [
    "# Set paths and filenames\n",
    "@dataclass(frozen=True)\n",
    "class Paths:\n",
    "    '''Singleton object for storing paths to data and database.'''\n",
    "\n",
    "    raw_path: str = './data'\n",
    "    data_filename: str = 'stroke_hospitals_2022.csv'\n",
    "\n",
    "    clean_path: str = './output'\n",
    "    save_filename: str = 'clean_stroke_hospitals_2022.csv'\n",
    "    ssnap_filename: str = 'clean_samuel_ssnap_extract_v2.csv'\n",
    "\n",
    "    database_filename: str = 'samuel.db'\n",
    "\n",
    "\n",
    "paths = Paths()"
   ]
  },
  {
   "cell_type": "code",
   "execution_count": 3,
   "metadata": {},
   "outputs": [],
   "source": [
    "# Load data\n",
    "hospitals: pd.DataFrame = pd.read_csv(os.path.join(\n",
    "    paths.raw_path, paths.data_filename), low_memory=False)\n",
    "ssnap: pd.DataFrame = pd.read_csv(os.path.join(\n",
    "    paths.clean_path, paths.ssnap_filename))"
   ]
  },
  {
   "attachments": {},
   "cell_type": "markdown",
   "metadata": {},
   "source": [
    "## Preview hospitals dataframe"
   ]
  },
  {
   "cell_type": "code",
   "execution_count": 4,
   "metadata": {},
   "outputs": [
    {
     "data": {
      "text/plain": [
       "Index(['Postcode', 'Hospital_name', 'Use_IVT', 'Use_MT', 'Use_MSU', 'Country',\n",
       "       'Strategic Clinical Network', 'Health Board / Trust', 'Stroke Team',\n",
       "       'SSNAP name', 'Admissions 21/22', 'Thrombolysis', 'ivt_rate', 'Easting',\n",
       "       'Northing', 'long', 'lat', 'Neuroscience',\n",
       "       '30 England Thrombectomy Example', 'hospital_city', 'Notes'],\n",
       "      dtype='object')"
      ]
     },
     "metadata": {},
     "output_type": "display_data"
    },
    {
     "data": {
      "text/html": [
       "<div>\n",
       "<style scoped>\n",
       "    .dataframe tbody tr th:only-of-type {\n",
       "        vertical-align: middle;\n",
       "    }\n",
       "\n",
       "    .dataframe tbody tr th {\n",
       "        vertical-align: top;\n",
       "    }\n",
       "\n",
       "    .dataframe thead th {\n",
       "        text-align: right;\n",
       "    }\n",
       "</style>\n",
       "<table border=\"1\" class=\"dataframe\">\n",
       "  <thead>\n",
       "    <tr style=\"text-align: right;\">\n",
       "      <th></th>\n",
       "      <th>Postcode</th>\n",
       "      <th>Hospital_name</th>\n",
       "      <th>Use_IVT</th>\n",
       "      <th>Use_MT</th>\n",
       "      <th>Use_MSU</th>\n",
       "      <th>Country</th>\n",
       "      <th>Strategic Clinical Network</th>\n",
       "      <th>Health Board / Trust</th>\n",
       "      <th>Stroke Team</th>\n",
       "      <th>SSNAP name</th>\n",
       "      <th>...</th>\n",
       "      <th>Thrombolysis</th>\n",
       "      <th>ivt_rate</th>\n",
       "      <th>Easting</th>\n",
       "      <th>Northing</th>\n",
       "      <th>long</th>\n",
       "      <th>lat</th>\n",
       "      <th>Neuroscience</th>\n",
       "      <th>30 England Thrombectomy Example</th>\n",
       "      <th>hospital_city</th>\n",
       "      <th>Notes</th>\n",
       "    </tr>\n",
       "  </thead>\n",
       "  <tbody>\n",
       "    <tr>\n",
       "      <th>0</th>\n",
       "      <td>RM70AG</td>\n",
       "      <td>RM70AG</td>\n",
       "      <td>1</td>\n",
       "      <td>1</td>\n",
       "      <td>1</td>\n",
       "      <td>England</td>\n",
       "      <td>London SCN</td>\n",
       "      <td>Barking</td>\n",
       "      <td>Havering and Redbridge University Hospitals N...</td>\n",
       "      <td>Queens Hospital Romford HASU</td>\n",
       "      <td>...</td>\n",
       "      <td>117.0</td>\n",
       "      <td>11.9</td>\n",
       "      <td>551118</td>\n",
       "      <td>187780</td>\n",
       "      <td>0.179031</td>\n",
       "      <td>51.568647</td>\n",
       "      <td>1</td>\n",
       "      <td>0</td>\n",
       "      <td>Romford</td>\n",
       "      <td>NaN</td>\n",
       "    </tr>\n",
       "    <tr>\n",
       "      <th>1</th>\n",
       "      <td>E11BB</td>\n",
       "      <td>E11BB</td>\n",
       "      <td>1</td>\n",
       "      <td>1</td>\n",
       "      <td>1</td>\n",
       "      <td>England</td>\n",
       "      <td>London SCN</td>\n",
       "      <td>Barts Health NHS Trust</td>\n",
       "      <td>The Royal London Hospital</td>\n",
       "      <td>Royal London Hospital HASU</td>\n",
       "      <td>...</td>\n",
       "      <td>115.0</td>\n",
       "      <td>13.4</td>\n",
       "      <td>534829</td>\n",
       "      <td>181798</td>\n",
       "      <td>-0.058133</td>\n",
       "      <td>51.519018</td>\n",
       "      <td>1</td>\n",
       "      <td>1</td>\n",
       "      <td>Royal London</td>\n",
       "      <td>NaN</td>\n",
       "    </tr>\n",
       "    <tr>\n",
       "      <th>2</th>\n",
       "      <td>SW66SX</td>\n",
       "      <td>SW66SX</td>\n",
       "      <td>1</td>\n",
       "      <td>1</td>\n",
       "      <td>1</td>\n",
       "      <td>England</td>\n",
       "      <td>London SCN</td>\n",
       "      <td>Imperial College Healthcare NHS Trust</td>\n",
       "      <td>Charing Cross Hospital, London</td>\n",
       "      <td>Charing Cross Hospital HASU</td>\n",
       "      <td>...</td>\n",
       "      <td>113.0</td>\n",
       "      <td>9.9</td>\n",
       "      <td>524226</td>\n",
       "      <td>176487</td>\n",
       "      <td>-0.212736</td>\n",
       "      <td>51.473717</td>\n",
       "      <td>1</td>\n",
       "      <td>1</td>\n",
       "      <td>Charing Cross</td>\n",
       "      <td>NaN</td>\n",
       "    </tr>\n",
       "    <tr>\n",
       "      <th>3</th>\n",
       "      <td>SE59RW</td>\n",
       "      <td>SE59RW</td>\n",
       "      <td>1</td>\n",
       "      <td>1</td>\n",
       "      <td>1</td>\n",
       "      <td>England</td>\n",
       "      <td>London SCN</td>\n",
       "      <td>King's College Hospital NHS Foundation Trust</td>\n",
       "      <td>King's College Hospital, London</td>\n",
       "      <td>King's College Hospital HASU</td>\n",
       "      <td>...</td>\n",
       "      <td>124.0</td>\n",
       "      <td>15.0</td>\n",
       "      <td>532536</td>\n",
       "      <td>176228</td>\n",
       "      <td>-0.093251</td>\n",
       "      <td>51.469505</td>\n",
       "      <td>1</td>\n",
       "      <td>0</td>\n",
       "      <td>Kings College</td>\n",
       "      <td>NaN</td>\n",
       "    </tr>\n",
       "    <tr>\n",
       "      <th>4</th>\n",
       "      <td>BR68ND</td>\n",
       "      <td>BR68ND</td>\n",
       "      <td>1</td>\n",
       "      <td>0</td>\n",
       "      <td>0</td>\n",
       "      <td>England</td>\n",
       "      <td>London SCN</td>\n",
       "      <td>King's College Hospital NHS Foundation Trust</td>\n",
       "      <td>Princess Royal University Hospital</td>\n",
       "      <td>Princess Royal University Hospital HASU</td>\n",
       "      <td>...</td>\n",
       "      <td>113.0</td>\n",
       "      <td>13.3</td>\n",
       "      <td>543443</td>\n",
       "      <td>165032</td>\n",
       "      <td>0.059146</td>\n",
       "      <td>51.366243</td>\n",
       "      <td>0</td>\n",
       "      <td>0</td>\n",
       "      <td>Princess Royal</td>\n",
       "      <td>NaN</td>\n",
       "    </tr>\n",
       "  </tbody>\n",
       "</table>\n",
       "<p>5 rows × 21 columns</p>\n",
       "</div>"
      ],
      "text/plain": [
       "  Postcode Hospital_name  Use_IVT  Use_MT  Use_MSU  Country  \\\n",
       "0   RM70AG        RM70AG        1       1        1  England   \n",
       "1    E11BB         E11BB        1       1        1  England   \n",
       "2   SW66SX        SW66SX        1       1        1  England   \n",
       "3   SE59RW        SE59RW        1       1        1  England   \n",
       "4   BR68ND        BR68ND        1       0        0  England   \n",
       "\n",
       "  Strategic Clinical Network                          Health Board / Trust  \\\n",
       "0                 London SCN                                       Barking   \n",
       "1                 London SCN                        Barts Health NHS Trust   \n",
       "2                 London SCN         Imperial College Healthcare NHS Trust   \n",
       "3                 London SCN  King's College Hospital NHS Foundation Trust   \n",
       "4                 London SCN  King's College Hospital NHS Foundation Trust   \n",
       "\n",
       "                                         Stroke Team  \\\n",
       "0   Havering and Redbridge University Hospitals N...   \n",
       "1                          The Royal London Hospital   \n",
       "2                     Charing Cross Hospital, London   \n",
       "3                    King's College Hospital, London   \n",
       "4                 Princess Royal University Hospital   \n",
       "\n",
       "                                SSNAP name  ...  Thrombolysis  ivt_rate  \\\n",
       "0             Queens Hospital Romford HASU  ...         117.0      11.9   \n",
       "1               Royal London Hospital HASU  ...         115.0      13.4   \n",
       "2              Charing Cross Hospital HASU  ...         113.0       9.9   \n",
       "3             King's College Hospital HASU  ...         124.0      15.0   \n",
       "4  Princess Royal University Hospital HASU  ...         113.0      13.3   \n",
       "\n",
       "   Easting  Northing      long        lat  Neuroscience  \\\n",
       "0   551118    187780  0.179031  51.568647             1   \n",
       "1   534829    181798 -0.058133  51.519018             1   \n",
       "2   524226    176487 -0.212736  51.473717             1   \n",
       "3   532536    176228 -0.093251  51.469505             1   \n",
       "4   543443    165032  0.059146  51.366243             0   \n",
       "\n",
       "   30 England Thrombectomy Example   hospital_city Notes  \n",
       "0                                0         Romford   NaN  \n",
       "1                                1    Royal London   NaN  \n",
       "2                                1   Charing Cross   NaN  \n",
       "3                                0   Kings College   NaN  \n",
       "4                                0  Princess Royal   NaN  \n",
       "\n",
       "[5 rows x 21 columns]"
      ]
     },
     "metadata": {},
     "output_type": "display_data"
    }
   ],
   "source": [
    "display(hospitals.columns)\n",
    "display(hospitals.head())"
   ]
  },
  {
   "attachments": {},
   "cell_type": "markdown",
   "metadata": {},
   "source": [
    "## Add teams column to match data"
   ]
  },
  {
   "cell_type": "code",
   "execution_count": 5,
   "metadata": {},
   "outputs": [
    {
     "data": {
      "text/plain": [
       "(121, 22)"
      ]
     },
     "execution_count": 5,
     "metadata": {},
     "output_type": "execute_result"
    }
   ],
   "source": [
    "# Merge hospitals with the stroke teams in the SSNAP data\n",
    "data_names = pd.DataFrame({'data_team': ssnap['stroke_team'].unique()})\n",
    "raw_teams = data_names.merge(\n",
    "    hospitals, left_on='data_team', right_on='SSNAP name', how='left')\n",
    "raw_teams.shape"
   ]
  },
  {
   "cell_type": "code",
   "execution_count": 6,
   "metadata": {},
   "outputs": [
    {
     "data": {
      "text/html": [
       "<div>\n",
       "<style scoped>\n",
       "    .dataframe tbody tr th:only-of-type {\n",
       "        vertical-align: middle;\n",
       "    }\n",
       "\n",
       "    .dataframe tbody tr th {\n",
       "        vertical-align: top;\n",
       "    }\n",
       "\n",
       "    .dataframe thead th {\n",
       "        text-align: right;\n",
       "    }\n",
       "</style>\n",
       "<table border=\"1\" class=\"dataframe\">\n",
       "  <thead>\n",
       "    <tr style=\"text-align: right;\">\n",
       "      <th></th>\n",
       "      <th>data_team</th>\n",
       "      <th>Postcode</th>\n",
       "      <th>Country</th>\n",
       "      <th>Strategic Clinical Network</th>\n",
       "      <th>Health Board / Trust</th>\n",
       "      <th>Stroke Team</th>\n",
       "      <th>SSNAP name</th>\n",
       "    </tr>\n",
       "  </thead>\n",
       "  <tbody>\n",
       "  </tbody>\n",
       "</table>\n",
       "</div>"
      ],
      "text/plain": [
       "Empty DataFrame\n",
       "Columns: [data_team, Postcode, Country, Strategic Clinical Network, Health Board / Trust, Stroke Team, SSNAP name]\n",
       "Index: []"
      ]
     },
     "metadata": {},
     "output_type": "display_data"
    },
    {
     "data": {
      "text/plain": [
       "(119, 22)"
      ]
     },
     "execution_count": 6,
     "metadata": {},
     "output_type": "execute_result"
    }
   ],
   "source": [
    "# Identify duplicates and remove incorrect matches\n",
    "display(raw_teams.loc[\n",
    "    raw_teams.duplicated(subset=['data_team'], keep=False),\n",
    "    ['data_team', 'Postcode', 'Country', 'Strategic Clinical Network',\n",
    "     'Health Board / Trust', 'Stroke Team', 'SSNAP name']])\n",
    "teams = raw_teams[~raw_teams['Stroke Team'].isin([\n",
    "    'Princess Royal Hospital, Haywards Heath',\n",
    "    'Pinderfields Hospital, Wakefield'])]\n",
    "teams.shape"
   ]
  },
  {
   "cell_type": "code",
   "execution_count": 7,
   "metadata": {},
   "outputs": [
    {
     "data": {
      "text/plain": [
       "Series([], Name: data_team, dtype: object)"
      ]
     },
     "metadata": {},
     "output_type": "display_data"
    }
   ],
   "source": [
    "# Identity hospitals not merged\n",
    "display(teams.loc[\n",
    "    teams['SSNAP name'].isnull(), 'data_team'])"
   ]
  },
  {
   "attachments": {},
   "cell_type": "markdown",
   "metadata": {},
   "source": [
    "## Save data"
   ]
  },
  {
   "cell_type": "code",
   "execution_count": 10,
   "metadata": {},
   "outputs": [],
   "source": [
    "teams.to_csv(os.path.join(paths.clean_path, paths.save_filename), index=False)"
   ]
  }
 ],
 "metadata": {
  "kernelspec": {
   "display_name": "sam10",
   "language": "python",
   "name": "python3"
  },
  "language_info": {
   "codemirror_mode": {
    "name": "ipython",
    "version": 3
   },
   "file_extension": ".py",
   "mimetype": "text/x-python",
   "name": "python",
   "nbconvert_exporter": "python",
   "pygments_lexer": "ipython3",
   "version": "3.10.11"
  },
  "orig_nbformat": 4
 },
 "nbformat": 4,
 "nbformat_minor": 2
}
