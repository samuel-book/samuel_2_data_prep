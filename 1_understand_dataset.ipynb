{
 "cells": [
  {
   "cell_type": "markdown",
   "metadata": {},
   "source": [
    "### Understand the features and relationships between features in the SAMueL dataset"
   ]
  },
  {
   "cell_type": "markdown",
   "metadata": {},
   "source": [
    "We will impute data from SSNAP by replacing missing (NaN) values and encoding categorical variables.\n",
    "\n",
    "Once have the data in this format, use it to understand the variables and relationships between features.\n",
    "\n",
    "The aim is to identify features to drop from the dataset that will be used by the model. This is with the focus of being able to better explain the models."
   ]
  },
  {
   "cell_type": "markdown",
   "metadata": {},
   "source": [
    "### Import libraries"
   ]
  },
  {
   "cell_type": "code",
   "execution_count": 31,
   "metadata": {},
   "outputs": [],
   "source": [
    "import os\n",
    "import json\n",
    "import pandas as pd\n",
    "import numpy as np\n",
    "import matplotlib.pyplot as plt\n",
    "import math"
   ]
  },
  {
   "cell_type": "markdown",
   "metadata": {},
   "source": [
    "### Definte data directory"
   ]
  },
  {
   "cell_type": "code",
   "execution_count": 4,
   "metadata": {},
   "outputs": [],
   "source": [
    "# location of the raw data and additional files. Will need to be changed by user.\n",
    "\n",
    "data_loc = './data/'"
   ]
  },
  {
   "cell_type": "markdown",
   "metadata": {},
   "source": [
    "### Import Data "
   ]
  },
  {
   "cell_type": "code",
   "execution_count": 5,
   "metadata": {},
   "outputs": [],
   "source": [
    "filename = 'MichaelAllen_HQIP425_300323.csv'\n",
    "data = pd.read_csv(data_loc + filename,low_memory=False)"
   ]
  },
  {
   "cell_type": "code",
   "execution_count": 6,
   "metadata": {},
   "outputs": [
    {
     "data": {
      "text/plain": [
       "81"
      ]
     },
     "execution_count": 6,
     "metadata": {},
     "output_type": "execute_result"
    }
   ],
   "source": [
    "len(data.columns)"
   ]
  },
  {
   "cell_type": "code",
   "execution_count": 7,
   "metadata": {
    "scrolled": true
   },
   "outputs": [
    {
     "data": {
      "text/html": [
       "<div>\n",
       "<style scoped>\n",
       "    .dataframe tbody tr th:only-of-type {\n",
       "        vertical-align: middle;\n",
       "    }\n",
       "\n",
       "    .dataframe tbody tr th {\n",
       "        vertical-align: top;\n",
       "    }\n",
       "\n",
       "    .dataframe thead th {\n",
       "        text-align: right;\n",
       "    }\n",
       "</style>\n",
       "<table border=\"1\" class=\"dataframe\">\n",
       "  <thead>\n",
       "    <tr style=\"text-align: right;\">\n",
       "      <th></th>\n",
       "      <th>TeamName</th>\n",
       "      <th>AgeUnder40</th>\n",
       "      <th>Age40to44</th>\n",
       "      <th>Age45to49</th>\n",
       "      <th>Age50to54</th>\n",
       "      <th>Age55to59</th>\n",
       "      <th>Age60to64</th>\n",
       "      <th>Age65to69</th>\n",
       "      <th>Age70to74</th>\n",
       "      <th>Age75to79</th>\n",
       "      <th>...</th>\n",
       "      <th>S7StrokeUnitDeath</th>\n",
       "      <th>S7RankinDischarge</th>\n",
       "      <th>S8Rankin6Month</th>\n",
       "      <th>S8Rankin6MonthNK</th>\n",
       "      <th>CallConnectedtoArrivalMinutes</th>\n",
       "      <th>ArrivalPatientLocationtoArrivalMinutes</th>\n",
       "      <th>DeparturePatientLocationtoArrivalMinutes</th>\n",
       "      <th>WheelsStoptoArrivalMinutes</th>\n",
       "      <th>MobileDatatoArrivalMinutes</th>\n",
       "      <th>S1PreHospitalImpression</th>\n",
       "    </tr>\n",
       "  </thead>\n",
       "  <tbody>\n",
       "    <tr>\n",
       "      <th>0</th>\n",
       "      <td>Northumbria Specialist Emergency Care Hospital...</td>\n",
       "      <td>0</td>\n",
       "      <td>0</td>\n",
       "      <td>0</td>\n",
       "      <td>0</td>\n",
       "      <td>0</td>\n",
       "      <td>0</td>\n",
       "      <td>0</td>\n",
       "      <td>0</td>\n",
       "      <td>1</td>\n",
       "      <td>...</td>\n",
       "      <td>NaN</td>\n",
       "      <td>1.0</td>\n",
       "      <td>NaN</td>\n",
       "      <td>NaN</td>\n",
       "      <td>NaN</td>\n",
       "      <td>NaN</td>\n",
       "      <td>NaN</td>\n",
       "      <td>NaN</td>\n",
       "      <td>NaN</td>\n",
       "      <td>NaN</td>\n",
       "    </tr>\n",
       "    <tr>\n",
       "      <th>1</th>\n",
       "      <td>Northumbria Specialist Emergency Care Hospital...</td>\n",
       "      <td>0</td>\n",
       "      <td>0</td>\n",
       "      <td>0</td>\n",
       "      <td>0</td>\n",
       "      <td>0</td>\n",
       "      <td>0</td>\n",
       "      <td>0</td>\n",
       "      <td>1</td>\n",
       "      <td>0</td>\n",
       "      <td>...</td>\n",
       "      <td>NaN</td>\n",
       "      <td>1.0</td>\n",
       "      <td>NaN</td>\n",
       "      <td>NaN</td>\n",
       "      <td>NaN</td>\n",
       "      <td>NaN</td>\n",
       "      <td>NaN</td>\n",
       "      <td>NaN</td>\n",
       "      <td>NaN</td>\n",
       "      <td>NaN</td>\n",
       "    </tr>\n",
       "    <tr>\n",
       "      <th>2</th>\n",
       "      <td>West Suffolk Hospital</td>\n",
       "      <td>0</td>\n",
       "      <td>0</td>\n",
       "      <td>0</td>\n",
       "      <td>0</td>\n",
       "      <td>0</td>\n",
       "      <td>0</td>\n",
       "      <td>0</td>\n",
       "      <td>0</td>\n",
       "      <td>0</td>\n",
       "      <td>...</td>\n",
       "      <td>Y</td>\n",
       "      <td>6.0</td>\n",
       "      <td>NaN</td>\n",
       "      <td>0.0</td>\n",
       "      <td>NaN</td>\n",
       "      <td>NaN</td>\n",
       "      <td>NaN</td>\n",
       "      <td>NaN</td>\n",
       "      <td>NaN</td>\n",
       "      <td>NaN</td>\n",
       "    </tr>\n",
       "    <tr>\n",
       "      <th>3</th>\n",
       "      <td>West Suffolk Hospital</td>\n",
       "      <td>0</td>\n",
       "      <td>0</td>\n",
       "      <td>0</td>\n",
       "      <td>0</td>\n",
       "      <td>0</td>\n",
       "      <td>0</td>\n",
       "      <td>0</td>\n",
       "      <td>1</td>\n",
       "      <td>0</td>\n",
       "      <td>...</td>\n",
       "      <td>NaN</td>\n",
       "      <td>1.0</td>\n",
       "      <td>0.0</td>\n",
       "      <td>0.0</td>\n",
       "      <td>NaN</td>\n",
       "      <td>NaN</td>\n",
       "      <td>NaN</td>\n",
       "      <td>NaN</td>\n",
       "      <td>NaN</td>\n",
       "      <td>NaN</td>\n",
       "    </tr>\n",
       "    <tr>\n",
       "      <th>4</th>\n",
       "      <td>Royal Victoria Infirmary</td>\n",
       "      <td>0</td>\n",
       "      <td>0</td>\n",
       "      <td>0</td>\n",
       "      <td>0</td>\n",
       "      <td>0</td>\n",
       "      <td>0</td>\n",
       "      <td>0</td>\n",
       "      <td>0</td>\n",
       "      <td>1</td>\n",
       "      <td>...</td>\n",
       "      <td>NaN</td>\n",
       "      <td>2.0</td>\n",
       "      <td>4.0</td>\n",
       "      <td>0.0</td>\n",
       "      <td>NaN</td>\n",
       "      <td>NaN</td>\n",
       "      <td>NaN</td>\n",
       "      <td>NaN</td>\n",
       "      <td>NaN</td>\n",
       "      <td>NaN</td>\n",
       "    </tr>\n",
       "  </tbody>\n",
       "</table>\n",
       "<p>5 rows × 81 columns</p>\n",
       "</div>"
      ],
      "text/plain": [
       "                                            TeamName  AgeUnder40  Age40to44  \\\n",
       "0  Northumbria Specialist Emergency Care Hospital...           0          0   \n",
       "1  Northumbria Specialist Emergency Care Hospital...           0          0   \n",
       "2                              West Suffolk Hospital           0          0   \n",
       "3                              West Suffolk Hospital           0          0   \n",
       "4                           Royal Victoria Infirmary           0          0   \n",
       "\n",
       "   Age45to49  Age50to54  Age55to59  Age60to64  Age65to69  Age70to74  \\\n",
       "0          0          0          0          0          0          0   \n",
       "1          0          0          0          0          0          1   \n",
       "2          0          0          0          0          0          0   \n",
       "3          0          0          0          0          0          1   \n",
       "4          0          0          0          0          0          0   \n",
       "\n",
       "   Age75to79  ...  S7StrokeUnitDeath  S7RankinDischarge  S8Rankin6Month  \\\n",
       "0          1  ...                NaN                1.0             NaN   \n",
       "1          0  ...                NaN                1.0             NaN   \n",
       "2          0  ...                  Y                6.0             NaN   \n",
       "3          0  ...                NaN                1.0             0.0   \n",
       "4          1  ...                NaN                2.0             4.0   \n",
       "\n",
       "  S8Rankin6MonthNK  CallConnectedtoArrivalMinutes  \\\n",
       "0              NaN                            NaN   \n",
       "1              NaN                            NaN   \n",
       "2              0.0                            NaN   \n",
       "3              0.0                            NaN   \n",
       "4              0.0                            NaN   \n",
       "\n",
       "  ArrivalPatientLocationtoArrivalMinutes  \\\n",
       "0                                    NaN   \n",
       "1                                    NaN   \n",
       "2                                    NaN   \n",
       "3                                    NaN   \n",
       "4                                    NaN   \n",
       "\n",
       "  DeparturePatientLocationtoArrivalMinutes WheelsStoptoArrivalMinutes  \\\n",
       "0                                      NaN                        NaN   \n",
       "1                                      NaN                        NaN   \n",
       "2                                      NaN                        NaN   \n",
       "3                                      NaN                        NaN   \n",
       "4                                      NaN                        NaN   \n",
       "\n",
       "  MobileDatatoArrivalMinutes S1PreHospitalImpression  \n",
       "0                        NaN                     NaN  \n",
       "1                        NaN                     NaN  \n",
       "2                        NaN                     NaN  \n",
       "3                        NaN                     NaN  \n",
       "4                        NaN                     NaN  \n",
       "\n",
       "[5 rows x 81 columns]"
      ]
     },
     "execution_count": 7,
     "metadata": {},
     "output_type": "execute_result"
    }
   ],
   "source": [
    "data.head()"
   ]
  },
  {
   "cell_type": "code",
   "execution_count": 8,
   "metadata": {},
   "outputs": [
    {
     "data": {
      "text/plain": [
       "Index(['TeamName', 'AgeUnder40', 'Age40to44', 'Age45to49', 'Age50to54',\n",
       "       'Age55to59', 'Age60to64', 'Age65to69', 'Age70to74', 'Age75to79',\n",
       "       'Age80to84', 'Age85to89', 'AgeOver90', 'S1Gender',\n",
       "       'OnsettoArrivalMinutes', 'S1OnsetDateType', 'S1OnsetTimeType',\n",
       "       'S1ArriveByAmbulance', 'FirstArrivalMonthYear', 'FirstArrivalWeekday',\n",
       "       'FirstArrivalTime', 'S2CoMCongestiveHeartFailure', 'S2CoMHypertension',\n",
       "       'S2CoMAtrialFibrillation', 'S2CoMDiabetes', 'S2CoMStrokeTIA',\n",
       "       'S2CoMAFAntiplatelet', 'S2CoMAFAnticoagulent',\n",
       "       'S2CoMAFAnticoagulentVitK', 'S2CoMAFAnticoagulentDOAC',\n",
       "       'S2CoMAFAnticoagulentHeparin', 'S2INR', 'S2INRHigh', 'S2INRNK',\n",
       "       'S2NewAFDiagnosis', 'S2RankinBeforeStroke', 'S2NihssArrival',\n",
       "       'S2NihssArrivalLoc', 'S2NihssArrivalLocQuestions',\n",
       "       'S2NihssArrivalLocCommands', 'S2NihssArrivalBestGaze',\n",
       "       'S2NihssArrivalVisual', 'S2NihssArrivalFacialPalsy',\n",
       "       'S2NihssArrivalMotorArmLeft', 'S2NihssArrivalMotorArmRight',\n",
       "       'S2NihssArrivalMotorLegLeft', 'S2NihssArrivalMotorLegRight',\n",
       "       'S2NihssArrivalLimbAtaxia', 'S2NihssArrivalSensory',\n",
       "       'S2NihssArrivalBestLanguage', 'S2NihssArrivalDysarthria',\n",
       "       'S2NihssArrivalExtinctionInattention', 'ArrivaltoBrainImagingMinutes',\n",
       "       'S2StrokeType', 'S2Thrombolysis', 'S2ThrombolysisNoReason',\n",
       "       'S2ThrombolysisNoButHaemorrhagic', 'S2ThrombolysisNoButTimeWindow',\n",
       "       'S2ThrombolysisNoButComorbidity', 'S2ThrombolysisNoButMedication',\n",
       "       'S2ThrombolysisNoButRefusal', 'S2ThrombolysisNoButAge',\n",
       "       'S2ThrombolysisNoButImproving', 'S2ThrombolysisNoButTooMildSevere',\n",
       "       'S2ThrombolysisNoButTimeUnknownWakeUp',\n",
       "       'S2ThrombolysisNoButOtherMedical', 'ArrivaltoThrombolysisMinutes',\n",
       "       'S2TIAInLastMonth', 'DoortoThrombolysisMinutes', 'S7DischargeType',\n",
       "       'ArrivalToDeathDays', 'S7StrokeUnitDeath', 'S7RankinDischarge',\n",
       "       'S8Rankin6Month', 'S8Rankin6MonthNK', 'CallConnectedtoArrivalMinutes',\n",
       "       'ArrivalPatientLocationtoArrivalMinutes',\n",
       "       'DeparturePatientLocationtoArrivalMinutes',\n",
       "       'WheelsStoptoArrivalMinutes', 'MobileDatatoArrivalMinutes',\n",
       "       'S1PreHospitalImpression'],\n",
       "      dtype='object')"
      ]
     },
     "execution_count": 8,
     "metadata": {},
     "output_type": "execute_result"
    }
   ],
   "source": [
    "data.columns"
   ]
  },
  {
   "cell_type": "code",
   "execution_count": 19,
   "metadata": {},
   "outputs": [
    {
     "data": {
      "text/plain": [
       "(array([5.052e+03, 3.290e+02, 4.200e+01, 1.100e+01, 2.000e+00, 0.000e+00,\n",
       "        0.000e+00, 0.000e+00, 0.000e+00, 1.000e+00]),\n",
       " array([  1. ,  39.8,  78.6, 117.4, 156.2, 195. , 233.8, 272.6, 311.4,\n",
       "        350.2, 389. ]),\n",
       " <BarContainer object of 10 artists>)"
      ]
     },
     "execution_count": 19,
     "metadata": {},
     "output_type": "execute_result"
    },
    {
     "data": {
      "image/png": "[encoded data removed]",
      "text/plain": [
       "<Figure size 432x288 with 1 Axes>"
      ]
     },
     "metadata": {
      "needs_background": "light"
     },
     "output_type": "display_data"
    }
   ],
   "source": [
    "plt.hist(data['ArrivalToDeathDays'][data['S2Thrombolysis']==\"Y\"][data['ArrivalToDeathDays']>=1])"
   ]
  },
  {
   "cell_type": "code",
   "execution_count": null,
   "metadata": {},
   "outputs": [],
   "source": [
    "'S7StrokeUnitDeath'"
   ]
  },
  {
   "cell_type": "code",
   "execution_count": 21,
   "metadata": {},
   "outputs": [
    {
     "data": {
      "text/plain": [
       "119"
      ]
     },
     "execution_count": 21,
     "metadata": {},
     "output_type": "execute_result"
    }
   ],
   "source": [
    "data['ArrivalToDeathDays'][data['S2Thrombolysis']==\"Y\"][data['ArrivalToDeathDays']<1].count()"
   ]
  },
  {
   "cell_type": "code",
   "execution_count": 32,
   "metadata": {},
   "outputs": [
    {
     "data": {
      "text/plain": [
       "True"
      ]
     },
     "execution_count": 32,
     "metadata": {},
     "output_type": "execute_result"
    }
   ],
   "source": [
    "math.isnan(data['ArrivalToDeathDays'][data['S2Thrombolysis']==\"Y\"].iloc[0])"
   ]
  },
  {
   "cell_type": "code",
   "execution_count": 33,
   "metadata": {},
   "outputs": [
    {
     "data": {
      "text/plain": [
       "array(['H', 'TC', 'D', 'CH', 'TCN', 'TN', nan, 'SE'], dtype=object)"
      ]
     },
     "execution_count": 33,
     "metadata": {},
     "output_type": "execute_result"
    }
   ],
   "source": [
    "data['S7DischargeType'].unique()"
   ]
  },
  {
   "cell_type": "code",
   "execution_count": 34,
   "metadata": {},
   "outputs": [
    {
     "data": {
      "text/plain": [
       "(array([   2.,    3.,   11.,    2.,    8.,   16.,   21.,   79., 1701.,\n",
       "         748.]),\n",
       " array([-2132. , -1903.5, -1675. , -1446.5, -1218. ,  -989.5,  -761. ,\n",
       "         -532.5,  -304. ,   -75.5,   153. ]),\n",
       " <BarContainer object of 10 artists>)"
      ]
     },
     "execution_count": 34,
     "metadata": {},
     "output_type": "execute_result"
    },
    {
     "data": {
      "image/png": "[encoded data removed]",
      "text/plain": [
       "<Figure size 432x288 with 1 Axes>"
      ]
     },
     "metadata": {
      "needs_background": "light"
     },
     "output_type": "display_data"
    }
   ],
   "source": [
    "plt.hist(data['ArrivaltoThrombolysisMinutes'] - data['DoortoThrombolysisMinutes'])"
   ]
  },
  {
   "cell_type": "markdown",
   "metadata": {},
   "source": [
    "### Import variable2type.json"
   ]
  },
  {
   "cell_type": "markdown",
   "metadata": {},
   "source": [
    "This dictionary maps variables used in the prediction to their data type. Variables that do not appear in the dictionary are not used for the prediction and, apart from 'S2 Thrombolysis', will be dropped."
   ]
  },
  {
   "cell_type": "code",
   "execution_count": 6,
   "metadata": {},
   "outputs": [],
   "source": [
    "with open(data_loc + 'variable2type.json', 'r') as fp:\n",
    "    variable2type = json.load(fp)"
   ]
  },
  {
   "cell_type": "code",
   "execution_count": 7,
   "metadata": {},
   "outputs": [],
   "source": [
    "for feature in data.columns:\n",
    "    \n",
    "    if feature == 'S2Thrombolysis':\n",
    "        \n",
    "        continue\n",
    "    \n",
    "    if feature not in variable2type:\n",
    "\n",
    "        data = data.drop(feature, axis=1)\n",
    "    "
   ]
  },
  {
   "cell_type": "code",
   "execution_count": 8,
   "metadata": {},
   "outputs": [
    {
     "data": {
      "text/plain": [
       "Index(['StrokeTeam', 'Pathway', 'S1AgeOnArrival', 'MoreEqual80y', 'S1Gender',\n",
       "       'S1Ethnicity', 'S1OnsetInHospital', 'S1OnsetToArrival_min',\n",
       "       'S1OnsetDateType', 'S1OnsetTimeType', 'S1ArriveByAmbulance',\n",
       "       'S1AdmissionHour', 'S1AdmissionDay', 'S1AdmissionQuarter',\n",
       "       'S1AdmissionYear', 'CongestiveHeartFailure', 'Hypertension',\n",
       "       'AtrialFibrillation', 'Diabetes', 'StrokeTIA', 'AFAntiplatelet',\n",
       "       'AFAnticoagulent', 'AFAnticoagulentVitK', 'AFAnticoagulentDOAC',\n",
       "       'AFAnticoagulentHeparin', 'S2NewAFDiagnosis', 'S2RankinBeforeStroke',\n",
       "       'Loc', 'LocQuestions', 'LocCommands', 'BestGaze', 'Visual',\n",
       "       'FacialPalsy', 'MotorArmLeft', 'MotorArmRight', 'MotorLegLeft',\n",
       "       'MotorLegRight', 'LimbAtaxia', 'Sensory', 'BestLanguage', 'Dysarthria',\n",
       "       'ExtinctionInattention', 'S2NihssArrival', 'S2BrainImagingTime_min',\n",
       "       'S2StrokeType', 'S2Thrombolysis', 'S2TIAInLastMonth'],\n",
       "      dtype='object')"
      ]
     },
     "execution_count": 8,
     "metadata": {},
     "output_type": "execute_result"
    }
   ],
   "source": [
    "data.columns"
   ]
  },
  {
   "cell_type": "code",
   "execution_count": 9,
   "metadata": {},
   "outputs": [
    {
     "data": {
      "text/plain": [
       "47"
      ]
     },
     "execution_count": 9,
     "metadata": {},
     "output_type": "execute_result"
    }
   ],
   "source": [
    "len(data.columns)"
   ]
  },
  {
   "cell_type": "markdown",
   "metadata": {},
   "source": [
    "### Import variable2method.json "
   ]
  },
  {
   "cell_type": "code",
   "execution_count": 10,
   "metadata": {},
   "outputs": [],
   "source": [
    "with open(data_loc + 'variable2method.json', 'r') as fp:\n",
    "    variable2method = json.load(fp)"
   ]
  },
  {
   "cell_type": "code",
   "execution_count": 11,
   "metadata": {},
   "outputs": [
    {
     "data": {
      "text/plain": [
       "{'S1OnsetToArrival_min': '9999',\n",
       " 'S1ArriveByAmbulance': 'missing',\n",
       " 'AFAntiplatelet': 'missing',\n",
       " 'AFAnticoagulent': 'missing',\n",
       " 'AFAnticoagulentVitK': 'missing',\n",
       " 'AFAnticoagulentDOAC': 'missing',\n",
       " 'AFAnticoagulentHeparin': 'missing',\n",
       " 'S2NewAFDiagnosis': 'missing',\n",
       " 'LocQuestions': 'zero',\n",
       " 'LocCommands': 'zero',\n",
       " 'BestGaze': 'zero',\n",
       " 'Visual': 'zero',\n",
       " 'FacialPalsy': 'zero',\n",
       " 'MotorArmLeft': 'zero',\n",
       " 'MotorArmRight': 'zero',\n",
       " 'MotorLegLeft': 'zero',\n",
       " 'MotorLegRight': 'zero',\n",
       " 'LimbAtaxia': 'zero',\n",
       " 'Sensory': 'zero',\n",
       " 'BestLanguage': 'zero',\n",
       " 'Dysarthria': 'zero',\n",
       " 'ExtinctionInattention': 'zero',\n",
       " 'S2NihssArrival': 'zero',\n",
       " 'S2BrainImagingTime_min': '9999',\n",
       " 'S2StrokeType': 'missing',\n",
       " 'S2TIAInLastMonth': 'missing'}"
      ]
     },
     "execution_count": 11,
     "metadata": {},
     "output_type": "execute_result"
    }
   ],
   "source": [
    "variable2method"
   ]
  },
  {
   "cell_type": "code",
   "execution_count": 12,
   "metadata": {},
   "outputs": [],
   "source": [
    "variable2method['S2NihssArrival'] = 'sum'"
   ]
  },
  {
   "cell_type": "markdown",
   "metadata": {},
   "source": [
    "Values in this dictionary correspond to the following methods:\n",
    "\n",
    "- 9999: replace missing values with 9999\n",
    "- zero: replace missing values with zero\n",
    "- missing: replace missing values with a text label 'missing' "
   ]
  },
  {
   "cell_type": "markdown",
   "metadata": {},
   "source": [
    "## Imputation "
   ]
  },
  {
   "cell_type": "markdown",
   "metadata": {},
   "source": [
    "#### Step 1: Replace all NaN values according to the process in variable2method "
   ]
  },
  {
   "cell_type": "code",
   "execution_count": 13,
   "metadata": {},
   "outputs": [
    {
     "data": {
      "text/plain": [
       "Index(['Loc', 'LocQuestions', 'LocCommands', 'BestGaze', 'Visual',\n",
       "       'FacialPalsy', 'MotorArmLeft', 'MotorArmRight', 'MotorLegLeft',\n",
       "       'MotorLegRight', 'LimbAtaxia', 'Sensory', 'BestLanguage', 'Dysarthria',\n",
       "       'ExtinctionInattention', 'S2NihssArrival'],\n",
       "      dtype='object')"
      ]
     },
     "execution_count": 13,
     "metadata": {},
     "output_type": "execute_result"
    }
   ],
   "source": [
    "data.columns[27:43]"
   ]
  },
  {
   "cell_type": "code",
   "execution_count": 14,
   "metadata": {},
   "outputs": [],
   "source": [
    "imputed = data.copy()\n",
    "\n",
    "for variable, method in variable2method.items():\n",
    "    \n",
    "    series = imputed[variable].copy()\n",
    "    missing = series.isna()\n",
    "    \n",
    "    if method=='missing':\n",
    "        \n",
    "        series[missing] = 'missing'\n",
    "        \n",
    "    elif method=='zero':\n",
    "        \n",
    "        series[missing] = 0\n",
    "        \n",
    "    elif method=='9999':\n",
    "        \n",
    "        series[missing] = 9999\n",
    "        \n",
    "    elif method=='sum':\n",
    "        \n",
    "        series[missing] = imputed[data.columns[27:43]].sum(axis=1)\n",
    "        \n",
    "    else:\n",
    "        raise Exception('{0} not a valid method'.format(method))\n",
    "        \n",
    "    imputed[variable] = series"
   ]
  },
  {
   "cell_type": "markdown",
   "metadata": {},
   "source": [
    "#### Step 2: Use one-hot-encoding to encode all categorical and binary (text) variables "
   ]
  },
  {
   "cell_type": "markdown",
   "metadata": {},
   "source": [
    "#### If preparing data for neural network or train test by hospital, uncomment lines 9 and 10"
   ]
  },
  {
   "cell_type": "code",
   "execution_count": 15,
   "metadata": {},
   "outputs": [],
   "source": [
    "encoded = imputed.copy()\n",
    "\n",
    "variable2family={}\n",
    "\n",
    "for variable, type_ in variable2type.items():\n",
    "    \n",
    "    if type_ in ['Categorical', 'Binary']:\n",
    "        \n",
    "        if variable == 'StrokeTeam':\n",
    "            continue\n",
    "\n",
    "        to_code = encoded[variable]\n",
    "        \n",
    "        if type_ == 'Binary': \n",
    "            \n",
    "            coded = pd.get_dummies(to_code, prefix=variable)\n",
    "            \n",
    "        else:\n",
    "            coded = pd.get_dummies(to_code, prefix=variable)\n",
    "        \n",
    "        encoded = pd.concat([encoded, coded], axis=1)\n",
    "        encoded.drop([variable], axis=1, inplace=True)\n",
    "        \n",
    "        variable2family[variable] = coded.columns.values.tolist()"
   ]
  },
  {
   "cell_type": "code",
   "execution_count": 16,
   "metadata": {},
   "outputs": [],
   "source": [
    "with open(data_loc + 'variable2family.json', 'w') as f: \n",
    "    json.dump(variable2family, f) "
   ]
  },
  {
   "cell_type": "markdown",
   "metadata": {},
   "source": [
    "#### Step 3: Encode 'S2Thrombolysis' to target "
   ]
  },
  {
   "cell_type": "code",
   "execution_count": 17,
   "metadata": {},
   "outputs": [],
   "source": [
    "target=[]\n",
    "for outcome in encoded.S2Thrombolysis.values:\n",
    "    \n",
    "    if outcome in ['No', 'No but']:\n",
    "        \n",
    "        target.append(0)\n",
    "        \n",
    "    elif outcome == 'Yes': \n",
    "        \n",
    "        target.append(1)\n",
    "        \n",
    "encoded['S2Thrombolysis'] = target"
   ]
  },
  {
   "cell_type": "markdown",
   "metadata": {},
   "source": [
    "#### Step 4: Change 'S1AgeOnArrival' to midpoint"
   ]
  },
  {
   "cell_type": "code",
   "execution_count": 18,
   "metadata": {},
   "outputs": [],
   "source": [
    "ages = []\n",
    "for group in encoded.S1AgeOnArrival.values:\n",
    "    minage, maxage = group.split(',')\n",
    "    \n",
    "    minage = int(''.join(list(minage)[1:]))\n",
    "    maxage = int(''.join(list(maxage)[:-1]))\n",
    "    \n",
    "    ages.append(np.median([minage,maxage]))\n",
    "    \n",
    "encoded['S1AgeOnArrival'] = ages"
   ]
  },
  {
   "cell_type": "markdown",
   "metadata": {},
   "source": [
    "### Restrict data to hospitals with at least 300 admissions and 10 thrombolysis"
   ]
  },
  {
   "cell_type": "code",
   "execution_count": 19,
   "metadata": {},
   "outputs": [],
   "source": [
    "# Set up list for dataframe groups\n",
    "keep = []\n",
    "\n",
    "groups = encoded.groupby('StrokeTeam') # creates a new object of groups of data\n",
    "\n",
    "for index, group_df in groups: # each group has an index and a dataframe of data\n",
    "    \n",
    "    # Skip if total admiision less than 300 or total thrombolysis < 10\n",
    "    if (group_df.shape[0] < 300) or (group_df['S2Thrombolysis'].sum() < 10):\n",
    "        continue\n",
    "    \n",
    "    else: \n",
    "        keep.append(group_df)\n",
    "\n",
    "# Concatenate output\n",
    "filtered_data = pd.DataFrame()\n",
    "filtered_data = pd.concat(keep)"
   ]
  },
  {
   "cell_type": "markdown",
   "metadata": {},
   "source": [
    "### Create a dataframe that restricts data to only stroke onset out of hospital with onset to arrival of 4 hours or less\n",
    "\n",
    "This is the restrictions applied to the dataset that is used to train the models (done in \"2_create_kfold_data.ipynb\").\n",
    "\n",
    "Have a version of the dataframe in this notebook to check the number of patients that would be removed due to some filters we are considering (later in the code below)."
   ]
  },
  {
   "cell_type": "code",
   "execution_count": 20,
   "metadata": {},
   "outputs": [],
   "source": [
    "filtered_process_data = filtered_data[\n",
    "                            (filtered_data['S1OnsetInHospital_No']==1 \n",
    "                            & (filtered_data['S1OnsetToArrival_min']<= 240))]"
   ]
  },
  {
   "cell_type": "markdown",
   "metadata": {},
   "source": [
    "## Learning about our data\n",
    "### Motivation to learn which columns to drop\n",
    "\n",
    "In SAMueL2 we will focus more on the explanability of the models. We will do this by looking at the importance of the feature in the model, and also the features SHAP value (the contribution of a feature to the target value). Therefore it is now more useful for us to remove any feature with a near perfect correlation with another feature. Say we have two binary variables, one recording if the patient is female and another recording is a patient is male. These both provide the model with the same information and so one model may give \"female\" a score of 10, amd \"male\" a score of 0, and another may give both a score of 5. When look at the features in terms of ranked importance, having the data represented in this way complicates the interpretation.\n",
    "\n",
    "Calculate the correlation matrix. This contains the correlation for every pair of features. Our first approach is for any pair with a correlation of 1, only include one of the columns. Where the columns are for binary features we have decided to keep the positive column.\n",
    "\n",
    "#### Correlation matrix:"
   ]
  },
  {
   "cell_type": "code",
   "execution_count": 21,
   "metadata": {},
   "outputs": [
    {
     "data": {
      "text/html": [
       "<div>\n",
       "<style scoped>\n",
       "    .dataframe tbody tr th:only-of-type {\n",
       "        vertical-align: middle;\n",
       "    }\n",
       "\n",
       "    .dataframe tbody tr th {\n",
       "        vertical-align: top;\n",
       "    }\n",
       "\n",
       "    .dataframe thead th {\n",
       "        text-align: right;\n",
       "    }\n",
       "</style>\n",
       "<table border=\"1\" class=\"dataframe\">\n",
       "  <thead>\n",
       "    <tr style=\"text-align: right;\">\n",
       "      <th></th>\n",
       "      <th>Pathway</th>\n",
       "      <th>S1AgeOnArrival</th>\n",
       "      <th>S1OnsetToArrival_min</th>\n",
       "      <th>S2RankinBeforeStroke</th>\n",
       "      <th>Loc</th>\n",
       "      <th>LocQuestions</th>\n",
       "      <th>LocCommands</th>\n",
       "      <th>BestGaze</th>\n",
       "      <th>Visual</th>\n",
       "      <th>FacialPalsy</th>\n",
       "      <th>...</th>\n",
       "      <th>S2NewAFDiagnosis_No</th>\n",
       "      <th>S2NewAFDiagnosis_Yes</th>\n",
       "      <th>S2NewAFDiagnosis_missing</th>\n",
       "      <th>S2StrokeType_Infarction</th>\n",
       "      <th>S2StrokeType_Primary Intracerebral Haemorrhage</th>\n",
       "      <th>S2StrokeType_missing</th>\n",
       "      <th>S2TIAInLastMonth_No</th>\n",
       "      <th>S2TIAInLastMonth_No but</th>\n",
       "      <th>S2TIAInLastMonth_Yes</th>\n",
       "      <th>S2TIAInLastMonth_missing</th>\n",
       "    </tr>\n",
       "  </thead>\n",
       "  <tbody>\n",
       "    <tr>\n",
       "      <th>Pathway</th>\n",
       "      <td>1.000000</td>\n",
       "      <td>-0.023159</td>\n",
       "      <td>-0.000804</td>\n",
       "      <td>-0.036467</td>\n",
       "      <td>-0.039827</td>\n",
       "      <td>-0.030580</td>\n",
       "      <td>-0.032156</td>\n",
       "      <td>-0.029681</td>\n",
       "      <td>-0.017991</td>\n",
       "      <td>-0.009815</td>\n",
       "      <td>...</td>\n",
       "      <td>-0.098733</td>\n",
       "      <td>-0.024122</td>\n",
       "      <td>0.104074</td>\n",
       "      <td>0.013512</td>\n",
       "      <td>-0.013724</td>\n",
       "      <td>0.000013</td>\n",
       "      <td>0.005980</td>\n",
       "      <td>-0.005372</td>\n",
       "      <td>-0.000174</td>\n",
       "      <td>-0.003451</td>\n",
       "    </tr>\n",
       "    <tr>\n",
       "      <th>S1AgeOnArrival</th>\n",
       "      <td>-0.023159</td>\n",
       "      <td>1.000000</td>\n",
       "      <td>0.001376</td>\n",
       "      <td>0.355922</td>\n",
       "      <td>0.122708</td>\n",
       "      <td>0.229008</td>\n",
       "      <td>0.179358</td>\n",
       "      <td>0.120558</td>\n",
       "      <td>0.096697</td>\n",
       "      <td>0.074663</td>\n",
       "      <td>...</td>\n",
       "      <td>-0.094955</td>\n",
       "      <td>0.053791</td>\n",
       "      <td>0.075767</td>\n",
       "      <td>-0.013737</td>\n",
       "      <td>0.015089</td>\n",
       "      <td>-0.005597</td>\n",
       "      <td>0.036863</td>\n",
       "      <td>0.024576</td>\n",
       "      <td>-0.001305</td>\n",
       "      <td>-0.042393</td>\n",
       "    </tr>\n",
       "    <tr>\n",
       "      <th>S1OnsetToArrival_min</th>\n",
       "      <td>-0.000804</td>\n",
       "      <td>0.001376</td>\n",
       "      <td>1.000000</td>\n",
       "      <td>-0.001221</td>\n",
       "      <td>-0.001077</td>\n",
       "      <td>-0.002980</td>\n",
       "      <td>-0.002384</td>\n",
       "      <td>-0.002080</td>\n",
       "      <td>-0.001829</td>\n",
       "      <td>-0.003360</td>\n",
       "      <td>...</td>\n",
       "      <td>0.002523</td>\n",
       "      <td>-0.001035</td>\n",
       "      <td>-0.002138</td>\n",
       "      <td>0.001413</td>\n",
       "      <td>-0.001743</td>\n",
       "      <td>0.001515</td>\n",
       "      <td>-0.002026</td>\n",
       "      <td>0.001539</td>\n",
       "      <td>0.000158</td>\n",
       "      <td>0.001248</td>\n",
       "    </tr>\n",
       "    <tr>\n",
       "      <th>S2RankinBeforeStroke</th>\n",
       "      <td>-0.036467</td>\n",
       "      <td>0.355922</td>\n",
       "      <td>-0.001221</td>\n",
       "      <td>1.000000</td>\n",
       "      <td>0.170988</td>\n",
       "      <td>0.268608</td>\n",
       "      <td>0.221005</td>\n",
       "      <td>0.119501</td>\n",
       "      <td>0.083522</td>\n",
       "      <td>0.080976</td>\n",
       "      <td>...</td>\n",
       "      <td>-0.036941</td>\n",
       "      <td>0.000340</td>\n",
       "      <td>0.035980</td>\n",
       "      <td>-0.020783</td>\n",
       "      <td>0.018959</td>\n",
       "      <td>0.010545</td>\n",
       "      <td>0.090999</td>\n",
       "      <td>0.040320</td>\n",
       "      <td>0.001940</td>\n",
       "      <td>-0.098430</td>\n",
       "    </tr>\n",
       "    <tr>\n",
       "      <th>Loc</th>\n",
       "      <td>-0.039827</td>\n",
       "      <td>0.122708</td>\n",
       "      <td>-0.001077</td>\n",
       "      <td>0.170988</td>\n",
       "      <td>1.000000</td>\n",
       "      <td>0.401399</td>\n",
       "      <td>0.524578</td>\n",
       "      <td>0.372313</td>\n",
       "      <td>0.230749</td>\n",
       "      <td>0.180382</td>\n",
       "      <td>...</td>\n",
       "      <td>-0.033281</td>\n",
       "      <td>0.009075</td>\n",
       "      <td>0.029644</td>\n",
       "      <td>-0.239053</td>\n",
       "      <td>0.239520</td>\n",
       "      <td>0.015921</td>\n",
       "      <td>0.000793</td>\n",
       "      <td>0.009909</td>\n",
       "      <td>-0.013113</td>\n",
       "      <td>-0.001193</td>\n",
       "    </tr>\n",
       "    <tr>\n",
       "      <th>...</th>\n",
       "      <td>...</td>\n",
       "      <td>...</td>\n",
       "      <td>...</td>\n",
       "      <td>...</td>\n",
       "      <td>...</td>\n",
       "      <td>...</td>\n",
       "      <td>...</td>\n",
       "      <td>...</td>\n",
       "      <td>...</td>\n",
       "      <td>...</td>\n",
       "      <td>...</td>\n",
       "      <td>...</td>\n",
       "      <td>...</td>\n",
       "      <td>...</td>\n",
       "      <td>...</td>\n",
       "      <td>...</td>\n",
       "      <td>...</td>\n",
       "      <td>...</td>\n",
       "      <td>...</td>\n",
       "      <td>...</td>\n",
       "      <td>...</td>\n",
       "    </tr>\n",
       "    <tr>\n",
       "      <th>S2StrokeType_missing</th>\n",
       "      <td>0.000013</td>\n",
       "      <td>-0.005597</td>\n",
       "      <td>0.001515</td>\n",
       "      <td>0.010545</td>\n",
       "      <td>0.015921</td>\n",
       "      <td>-0.008473</td>\n",
       "      <td>-0.002106</td>\n",
       "      <td>-0.009547</td>\n",
       "      <td>-0.009074</td>\n",
       "      <td>-0.022857</td>\n",
       "      <td>...</td>\n",
       "      <td>-0.000942</td>\n",
       "      <td>-0.002304</td>\n",
       "      <td>0.001648</td>\n",
       "      <td>-0.175815</td>\n",
       "      <td>-0.024960</td>\n",
       "      <td>1.000000</td>\n",
       "      <td>-0.001999</td>\n",
       "      <td>0.001694</td>\n",
       "      <td>0.009474</td>\n",
       "      <td>-0.001084</td>\n",
       "    </tr>\n",
       "    <tr>\n",
       "      <th>S2TIAInLastMonth_No</th>\n",
       "      <td>0.005980</td>\n",
       "      <td>0.036863</td>\n",
       "      <td>-0.002026</td>\n",
       "      <td>0.090999</td>\n",
       "      <td>0.000793</td>\n",
       "      <td>0.020935</td>\n",
       "      <td>0.009300</td>\n",
       "      <td>-0.004781</td>\n",
       "      <td>0.004765</td>\n",
       "      <td>-0.000052</td>\n",
       "      <td>...</td>\n",
       "      <td>-0.022162</td>\n",
       "      <td>-0.014063</td>\n",
       "      <td>0.026093</td>\n",
       "      <td>0.001848</td>\n",
       "      <td>-0.001469</td>\n",
       "      <td>-0.001999</td>\n",
       "      <td>1.000000</td>\n",
       "      <td>-0.028164</td>\n",
       "      <td>-0.018429</td>\n",
       "      <td>-0.899093</td>\n",
       "    </tr>\n",
       "    <tr>\n",
       "      <th>S2TIAInLastMonth_No but</th>\n",
       "      <td>-0.005372</td>\n",
       "      <td>0.024576</td>\n",
       "      <td>0.001539</td>\n",
       "      <td>0.040320</td>\n",
       "      <td>0.009909</td>\n",
       "      <td>0.011930</td>\n",
       "      <td>0.011344</td>\n",
       "      <td>0.004500</td>\n",
       "      <td>0.006308</td>\n",
       "      <td>0.001048</td>\n",
       "      <td>...</td>\n",
       "      <td>-0.008386</td>\n",
       "      <td>-0.005592</td>\n",
       "      <td>0.009960</td>\n",
       "      <td>-0.004544</td>\n",
       "      <td>0.004270</td>\n",
       "      <td>0.001694</td>\n",
       "      <td>-0.028164</td>\n",
       "      <td>1.000000</td>\n",
       "      <td>-0.006961</td>\n",
       "      <td>-0.339602</td>\n",
       "    </tr>\n",
       "    <tr>\n",
       "      <th>S2TIAInLastMonth_Yes</th>\n",
       "      <td>-0.000174</td>\n",
       "      <td>-0.001305</td>\n",
       "      <td>0.000158</td>\n",
       "      <td>0.001940</td>\n",
       "      <td>-0.013113</td>\n",
       "      <td>-0.013112</td>\n",
       "      <td>-0.013299</td>\n",
       "      <td>-0.009110</td>\n",
       "      <td>-0.007232</td>\n",
       "      <td>-0.004963</td>\n",
       "      <td>...</td>\n",
       "      <td>-0.003436</td>\n",
       "      <td>-0.004624</td>\n",
       "      <td>0.004818</td>\n",
       "      <td>0.012233</td>\n",
       "      <td>-0.014351</td>\n",
       "      <td>0.009474</td>\n",
       "      <td>-0.018429</td>\n",
       "      <td>-0.006961</td>\n",
       "      <td>1.000000</td>\n",
       "      <td>-0.222222</td>\n",
       "    </tr>\n",
       "    <tr>\n",
       "      <th>S2TIAInLastMonth_missing</th>\n",
       "      <td>-0.003451</td>\n",
       "      <td>-0.042393</td>\n",
       "      <td>0.001248</td>\n",
       "      <td>-0.098430</td>\n",
       "      <td>-0.001193</td>\n",
       "      <td>-0.020343</td>\n",
       "      <td>-0.009449</td>\n",
       "      <td>0.004919</td>\n",
       "      <td>-0.004923</td>\n",
       "      <td>0.000862</td>\n",
       "      <td>...</td>\n",
       "      <td>0.024162</td>\n",
       "      <td>0.016022</td>\n",
       "      <td>-0.028665</td>\n",
       "      <td>-0.002977</td>\n",
       "      <td>0.003243</td>\n",
       "      <td>-0.001084</td>\n",
       "      <td>-0.899093</td>\n",
       "      <td>-0.339602</td>\n",
       "      <td>-0.222222</td>\n",
       "      <td>1.000000</td>\n",
       "    </tr>\n",
       "  </tbody>\n",
       "</table>\n",
       "<p>101 rows × 101 columns</p>\n",
       "</div>"
      ],
      "text/plain": [
       "                           Pathway  S1AgeOnArrival  S1OnsetToArrival_min  \\\n",
       "Pathway                   1.000000       -0.023159             -0.000804   \n",
       "S1AgeOnArrival           -0.023159        1.000000              0.001376   \n",
       "S1OnsetToArrival_min     -0.000804        0.001376              1.000000   \n",
       "S2RankinBeforeStroke     -0.036467        0.355922             -0.001221   \n",
       "Loc                      -0.039827        0.122708             -0.001077   \n",
       "...                            ...             ...                   ...   \n",
       "S2StrokeType_missing      0.000013       -0.005597              0.001515   \n",
       "S2TIAInLastMonth_No       0.005980        0.036863             -0.002026   \n",
       "S2TIAInLastMonth_No but  -0.005372        0.024576              0.001539   \n",
       "S2TIAInLastMonth_Yes     -0.000174       -0.001305              0.000158   \n",
       "S2TIAInLastMonth_missing -0.003451       -0.042393              0.001248   \n",
       "\n",
       "                          S2RankinBeforeStroke       Loc  LocQuestions  \\\n",
       "Pathway                              -0.036467 -0.039827     -0.030580   \n",
       "S1AgeOnArrival                        0.355922  0.122708      0.229008   \n",
       "S1OnsetToArrival_min                 -0.001221 -0.001077     -0.002980   \n",
       "S2RankinBeforeStroke                  1.000000  0.170988      0.268608   \n",
       "Loc                                   0.170988  1.000000      0.401399   \n",
       "...                                        ...       ...           ...   \n",
       "S2StrokeType_missing                  0.010545  0.015921     -0.008473   \n",
       "S2TIAInLastMonth_No                   0.090999  0.000793      0.020935   \n",
       "S2TIAInLastMonth_No but               0.040320  0.009909      0.011930   \n",
       "S2TIAInLastMonth_Yes                  0.001940 -0.013113     -0.013112   \n",
       "S2TIAInLastMonth_missing             -0.098430 -0.001193     -0.020343   \n",
       "\n",
       "                          LocCommands  BestGaze    Visual  FacialPalsy  ...  \\\n",
       "Pathway                     -0.032156 -0.029681 -0.017991    -0.009815  ...   \n",
       "S1AgeOnArrival               0.179358  0.120558  0.096697     0.074663  ...   \n",
       "S1OnsetToArrival_min        -0.002384 -0.002080 -0.001829    -0.003360  ...   \n",
       "S2RankinBeforeStroke         0.221005  0.119501  0.083522     0.080976  ...   \n",
       "Loc                          0.524578  0.372313  0.230749     0.180382  ...   \n",
       "...                               ...       ...       ...          ...  ...   \n",
       "S2StrokeType_missing        -0.002106 -0.009547 -0.009074    -0.022857  ...   \n",
       "S2TIAInLastMonth_No          0.009300 -0.004781  0.004765    -0.000052  ...   \n",
       "S2TIAInLastMonth_No but      0.011344  0.004500  0.006308     0.001048  ...   \n",
       "S2TIAInLastMonth_Yes        -0.013299 -0.009110 -0.007232    -0.004963  ...   \n",
       "S2TIAInLastMonth_missing    -0.009449  0.004919 -0.004923     0.000862  ...   \n",
       "\n",
       "                          S2NewAFDiagnosis_No  S2NewAFDiagnosis_Yes  \\\n",
       "Pathway                             -0.098733             -0.024122   \n",
       "S1AgeOnArrival                      -0.094955              0.053791   \n",
       "S1OnsetToArrival_min                 0.002523             -0.001035   \n",
       "S2RankinBeforeStroke                -0.036941              0.000340   \n",
       "Loc                                 -0.033281              0.009075   \n",
       "...                                       ...                   ...   \n",
       "S2StrokeType_missing                -0.000942             -0.002304   \n",
       "S2TIAInLastMonth_No                 -0.022162             -0.014063   \n",
       "S2TIAInLastMonth_No but             -0.008386             -0.005592   \n",
       "S2TIAInLastMonth_Yes                -0.003436             -0.004624   \n",
       "S2TIAInLastMonth_missing             0.024162              0.016022   \n",
       "\n",
       "                          S2NewAFDiagnosis_missing  S2StrokeType_Infarction  \\\n",
       "Pathway                                   0.104074                 0.013512   \n",
       "S1AgeOnArrival                            0.075767                -0.013737   \n",
       "S1OnsetToArrival_min                     -0.002138                 0.001413   \n",
       "S2RankinBeforeStroke                      0.035980                -0.020783   \n",
       "Loc                                       0.029644                -0.239053   \n",
       "...                                            ...                      ...   \n",
       "S2StrokeType_missing                      0.001648                -0.175815   \n",
       "S2TIAInLastMonth_No                       0.026093                 0.001848   \n",
       "S2TIAInLastMonth_No but                   0.009960                -0.004544   \n",
       "S2TIAInLastMonth_Yes                      0.004818                 0.012233   \n",
       "S2TIAInLastMonth_missing                 -0.028665                -0.002977   \n",
       "\n",
       "                          S2StrokeType_Primary Intracerebral Haemorrhage  \\\n",
       "Pathway                                                        -0.013724   \n",
       "S1AgeOnArrival                                                  0.015089   \n",
       "S1OnsetToArrival_min                                           -0.001743   \n",
       "S2RankinBeforeStroke                                            0.018959   \n",
       "Loc                                                             0.239520   \n",
       "...                                                                  ...   \n",
       "S2StrokeType_missing                                           -0.024960   \n",
       "S2TIAInLastMonth_No                                            -0.001469   \n",
       "S2TIAInLastMonth_No but                                         0.004270   \n",
       "S2TIAInLastMonth_Yes                                           -0.014351   \n",
       "S2TIAInLastMonth_missing                                        0.003243   \n",
       "\n",
       "                          S2StrokeType_missing  S2TIAInLastMonth_No  \\\n",
       "Pathway                               0.000013             0.005980   \n",
       "S1AgeOnArrival                       -0.005597             0.036863   \n",
       "S1OnsetToArrival_min                  0.001515            -0.002026   \n",
       "S2RankinBeforeStroke                  0.010545             0.090999   \n",
       "Loc                                   0.015921             0.000793   \n",
       "...                                        ...                  ...   \n",
       "S2StrokeType_missing                  1.000000            -0.001999   \n",
       "S2TIAInLastMonth_No                  -0.001999             1.000000   \n",
       "S2TIAInLastMonth_No but               0.001694            -0.028164   \n",
       "S2TIAInLastMonth_Yes                  0.009474            -0.018429   \n",
       "S2TIAInLastMonth_missing             -0.001084            -0.899093   \n",
       "\n",
       "                          S2TIAInLastMonth_No but  S2TIAInLastMonth_Yes  \\\n",
       "Pathway                                 -0.005372             -0.000174   \n",
       "S1AgeOnArrival                           0.024576             -0.001305   \n",
       "S1OnsetToArrival_min                     0.001539              0.000158   \n",
       "S2RankinBeforeStroke                     0.040320              0.001940   \n",
       "Loc                                      0.009909             -0.013113   \n",
       "...                                           ...                   ...   \n",
       "S2StrokeType_missing                     0.001694              0.009474   \n",
       "S2TIAInLastMonth_No                     -0.028164             -0.018429   \n",
       "S2TIAInLastMonth_No but                  1.000000             -0.006961   \n",
       "S2TIAInLastMonth_Yes                    -0.006961              1.000000   \n",
       "S2TIAInLastMonth_missing                -0.339602             -0.222222   \n",
       "\n",
       "                          S2TIAInLastMonth_missing  \n",
       "Pathway                                  -0.003451  \n",
       "S1AgeOnArrival                           -0.042393  \n",
       "S1OnsetToArrival_min                      0.001248  \n",
       "S2RankinBeforeStroke                     -0.098430  \n",
       "Loc                                      -0.001193  \n",
       "...                                            ...  \n",
       "S2StrokeType_missing                     -0.001084  \n",
       "S2TIAInLastMonth_No                      -0.899093  \n",
       "S2TIAInLastMonth_No but                  -0.339602  \n",
       "S2TIAInLastMonth_Yes                     -0.222222  \n",
       "S2TIAInLastMonth_missing                  1.000000  \n",
       "\n",
       "[101 rows x 101 columns]"
      ]
     },
     "execution_count": 21,
     "metadata": {},
     "output_type": "execute_result"
    }
   ],
   "source": [
    "corr_matrix = filtered_data.corr()\n",
    "corr_matrix"
   ]
  },
  {
   "cell_type": "markdown",
   "metadata": {},
   "source": [
    "Here's the code to look at the ranked correlation values for a particular feature"
   ]
  },
  {
   "cell_type": "code",
   "execution_count": 22,
   "metadata": {},
   "outputs": [
    {
     "name": "stdout",
     "output_type": "stream",
     "text": [
      "S1OnsetDateType_Precise               -0.014053\n",
      "S1OnsetTimeType_Precise               -0.012887\n",
      "S2Thrombolysis                        -0.010115\n",
      "S1OnsetInHospital_No                  -0.007131\n",
      "S1OnsetTimeType_Best estimate         -0.007100\n",
      "                                         ...   \n",
      "S1OnsetInHospital_Yes                  0.007131\n",
      "S1OnsetDateType_Stroke during sleep    0.008899\n",
      "S1OnsetDateType_Best estimate          0.008993\n",
      "S1OnsetTimeType_Not known              0.020393\n",
      "S1OnsetToArrival_min                   1.000000\n",
      "Name: S1OnsetToArrival_min, Length: 101, dtype: float64\n"
     ]
    }
   ],
   "source": [
    "print (corr_matrix['S1OnsetToArrival_min'].sort_values())"
   ]
  },
  {
   "cell_type": "markdown",
   "metadata": {},
   "source": [
    "Here's the code to look at the correlation value for a particular pair of features"
   ]
  },
  {
   "cell_type": "code",
   "execution_count": 23,
   "metadata": {},
   "outputs": [
    {
     "data": {
      "text/plain": [
       "0.0007465883989168095"
      ]
     },
     "execution_count": 23,
     "metadata": {},
     "output_type": "execute_result"
    }
   ],
   "source": [
    "corr_matrix.loc['S1OnsetToArrival_min'][\"MoreEqual80y_Yes\"]"
   ]
  },
  {
   "cell_type": "markdown",
   "metadata": {},
   "source": [
    "Let's look at all of the feature pairs that have a correlation of +/- 1 (by using the absolute value of the correlation matrix).\n",
    "\n",
    "I used code for a function \"getIndexes\" from https://thispointer.com/python-find-indexes-of-an-element-in-pandas-dataframe/ and edited it to take a third argument to ignore the diagonal (because features with themselves will have a value 1, and we are not interetsted in this result)."
   ]
  },
  {
   "cell_type": "code",
   "execution_count": 24,
   "metadata": {},
   "outputs": [],
   "source": [
    "def getIndexes(dfObj, value, ignore_diagonal=False):\n",
    "    ''' Get index positions of value in dataframe i.e. dfObj.'''\n",
    "    listOfPos = list()\n",
    "    # Get bool dataframe with True at positions where the given value exists\n",
    "    result = dfObj.isin([value])\n",
    "    # Get list of columns that contains the value\n",
    "    seriesObj = result.any()\n",
    "    columnNames = list(seriesObj[seriesObj == True].index)\n",
    "    # Iterate over list of columns and fetch the rows indexes where value exists\n",
    "    for col in columnNames:\n",
    "        rows = list(result[col][result[col] == True].index)\n",
    "        for row in rows:\n",
    "            if ignore_diagonal and row != col: #not return the diagonal\n",
    "                listOfPos.append((row, col))\n",
    "    # Return a list of tuples indicating the positions of value in the dataframe\n",
    "    return listOfPos"
   ]
  },
  {
   "cell_type": "markdown",
   "metadata": {},
   "source": [
    "Get list of index positions (pair of feature names) of all occurrences of 1 in the dataframe, not on the diagonal.\n",
    "\n",
    "Use absolute to also include -1 occurences."
   ]
  },
  {
   "cell_type": "code",
   "execution_count": 25,
   "metadata": {},
   "outputs": [
    {
     "name": "stdout",
     "output_type": "stream",
     "text": [
      "There are 8 feature pairings with correlation of +/- 1: \n"
     ]
    },
    {
     "data": {
      "text/plain": [
       "[('S1ArriveByAmbulance_missing', 'S1OnsetInHospital_Yes'),\n",
       " ('S1OnsetInHospital_Yes', 'S1ArriveByAmbulance_missing'),\n",
       " ('AFAnticoagulentDOAC_missing', 'AFAnticoagulentVitK_missing'),\n",
       " ('AFAnticoagulentHeparin_missing', 'AFAnticoagulentVitK_missing'),\n",
       " ('AFAnticoagulentVitK_missing', 'AFAnticoagulentDOAC_missing'),\n",
       " ('AFAnticoagulentHeparin_missing', 'AFAnticoagulentDOAC_missing'),\n",
       " ('AFAnticoagulentVitK_missing', 'AFAnticoagulentHeparin_missing'),\n",
       " ('AFAnticoagulentDOAC_missing', 'AFAnticoagulentHeparin_missing')]"
      ]
     },
     "execution_count": 25,
     "metadata": {},
     "output_type": "execute_result"
    }
   ],
   "source": [
    "listOfPositions = getIndexes(corr_matrix.abs(), 1, True)\n",
    "\n",
    "#Print the feature pairings found\n",
    "print(f'There are {len(listOfPositions)} feature pairings with correlation of '\n",
    "      f'+/- 1: ')\n",
    "listOfPositions"
   ]
  },
  {
   "cell_type": "markdown",
   "metadata": {},
   "source": [
    "Odd. Why aren't there correlation of 1 for:\n",
    "MoreEqual80y_No vs. MoreEqual80y_Yes\n",
    "S1Gender_Female vs. S1Gender_Male? \n",
    "S1OnsetInHospital_No vs. S1OnsetInHospital_Yes\n",
    "\n",
    "Investigate by looking at the correlation value for these feature pairings that expected to have a 1."
   ]
  },
  {
   "cell_type": "code",
   "execution_count": 26,
   "metadata": {},
   "outputs": [
    {
     "data": {
      "text/plain": [
       "-0.9999999999999999"
      ]
     },
     "execution_count": 26,
     "metadata": {},
     "output_type": "execute_result"
    }
   ],
   "source": [
    "corr_matrix.loc[\"MoreEqual80y_No\"][\"MoreEqual80y_Yes\"]"
   ]
  },
  {
   "cell_type": "code",
   "execution_count": 27,
   "metadata": {},
   "outputs": [
    {
     "data": {
      "text/plain": [
       "-0.9999999999999999"
      ]
     },
     "execution_count": 27,
     "metadata": {},
     "output_type": "execute_result"
    }
   ],
   "source": [
    "corr_matrix.loc[\"S1Gender_Female\"][\"S1Gender_Male\"]"
   ]
  },
  {
   "cell_type": "code",
   "execution_count": 28,
   "metadata": {},
   "outputs": [
    {
     "data": {
      "text/plain": [
       "-1.000000000000001"
      ]
     },
     "execution_count": 28,
     "metadata": {},
     "output_type": "execute_result"
    }
   ],
   "source": [
    "corr_matrix.loc[\"S1OnsetInHospital_No\"][\"S1OnsetInHospital_Yes\"]"
   ]
  },
  {
   "cell_type": "markdown",
   "metadata": {},
   "source": [
    "Is this is due to rounding, or due to missing values?"
   ]
  },
  {
   "cell_type": "code",
   "execution_count": 29,
   "metadata": {},
   "outputs": [
    {
     "name": "stdout",
     "output_type": "stream",
     "text": [
      "Number of patients: 239505\n",
      "If the number of 1 recorded in the two columns equal the number of patients then it shows there should be a correlation value of 1 and it's a rounding issue\n",
      "\n",
      "Number of 1 recorded in the two columns for MoreEqual80y: 239505\n",
      "Number of 1 recorded in the two columns for Gender: 239505\n",
      "Number of 1 recorded in the two columns for OnsetInHosptial: 239505\n"
     ]
    }
   ],
   "source": [
    "print(f'Number of patients: {filtered_data.shape[0]}')\n",
    "print(\"If the number of 1 recorded in the two columns equal the number of \"\n",
    "      \"patients then it shows there should be a correlation value of 1 and \"\n",
    "      \"it's a rounding issue\")\n",
    "\n",
    "print()\n",
    "print(f'Number of 1 recorded in the two columns for MoreEqual80y: '\n",
    "      f'{filtered_data[[\"MoreEqual80y_No\",\"MoreEqual80y_Yes\"]].sum().sum()}')\n",
    "print(f'Number of 1 recorded in the two columns for Gender: '\n",
    "      f'{filtered_data[[\"S1Gender_Female\",\"S1Gender_Male\"]].sum().sum()}')\n",
    "print(f'Number of 1 recorded in the two columns for OnsetInHosptial: '\n",
    "      f'{filtered_data[[\"S1OnsetInHospital_No\",\"S1OnsetInHospital_Yes\"]].sum().sum()}')"
   ]
  },
  {
   "cell_type": "markdown",
   "metadata": {},
   "source": [
    "Due to rounding. So better to identify pairings of features based on a range around 1 and -1.\n",
    "\n",
    "Edit the getIndexes function to find values within a range: getIndexesRange."
   ]
  },
  {
   "cell_type": "code",
   "execution_count": 30,
   "metadata": {},
   "outputs": [],
   "source": [
    "def getIndexesRange(dfObj, min_value, max_value, ignore_diagonal=False):\n",
    "    ''' Get index positions of value in dataframe i.e. dfObj.'''\n",
    "    listOfPos = list()\n",
    "    # Get bool dataframe with True at positions where the given value exists\n",
    "    result = (dfObj >= min_value) & (dfObj <= max_value)\n",
    "#    result = dfObj.between(min_value, max_value)#.isin([value])\n",
    "    # Get list of columns that contains the value\n",
    "    seriesObj = result.any()\n",
    "    columnNames = list(seriesObj[seriesObj == True].index)\n",
    "    # Iterate over list of columns and fetch the rows indexes where value exists\n",
    "    for col in columnNames:\n",
    "        rows = list(result[col][result[col] == True].index)\n",
    "        for row in rows:\n",
    "            if ignore_diagonal and row != col: # not return the diagonal\n",
    "                listOfPos.append((row, col))\n",
    "    # Return a list of tuples indicating the positions of value in the dataframe\n",
    "    return listOfPos"
   ]
  },
  {
   "cell_type": "markdown",
   "metadata": {},
   "source": [
    "Get list of index positions (pair of feature names) of all occurrences between 0.99-1.01 in the dataframe, not on the diagonal. Use absolute to also include -1.01 to -0.99 "
   ]
  },
  {
   "cell_type": "code",
   "execution_count": 31,
   "metadata": {},
   "outputs": [
    {
     "name": "stdout",
     "output_type": "stream",
     "text": [
      "There are 36 feature pairings with correlation in range 0.99 to 1.01 (+/-) in Dataframe : \n"
     ]
    },
    {
     "data": {
      "text/plain": [
       "[('MoreEqual80y_Yes', 'MoreEqual80y_No'),\n",
       " ('MoreEqual80y_No', 'MoreEqual80y_Yes'),\n",
       " ('S1Gender_Male', 'S1Gender_Female'),\n",
       " ('S1Gender_Female', 'S1Gender_Male'),\n",
       " ('S1OnsetInHospital_Yes', 'S1OnsetInHospital_No'),\n",
       " ('S1ArriveByAmbulance_missing', 'S1OnsetInHospital_No'),\n",
       " ('S1OnsetInHospital_No', 'S1OnsetInHospital_Yes'),\n",
       " ('S1ArriveByAmbulance_missing', 'S1OnsetInHospital_Yes'),\n",
       " ('S1OnsetInHospital_No', 'S1ArriveByAmbulance_missing'),\n",
       " ('S1OnsetInHospital_Yes', 'S1ArriveByAmbulance_missing'),\n",
       " ('CongestiveHeartFailure_Yes', 'CongestiveHeartFailure_No'),\n",
       " ('CongestiveHeartFailure_No', 'CongestiveHeartFailure_Yes'),\n",
       " ('Hypertension_Yes', 'Hypertension_No'),\n",
       " ('Hypertension_No', 'Hypertension_Yes'),\n",
       " ('AtrialFibrillation_Yes', 'AtrialFibrillation_No'),\n",
       " ('AFAntiplatelet_missing', 'AtrialFibrillation_No'),\n",
       " ('AtrialFibrillation_No', 'AtrialFibrillation_Yes'),\n",
       " ('AFAntiplatelet_missing', 'AtrialFibrillation_Yes'),\n",
       " ('Diabetes_Yes', 'Diabetes_No'),\n",
       " ('Diabetes_No', 'Diabetes_Yes'),\n",
       " ('StrokeTIA_Yes', 'StrokeTIA_No'),\n",
       " ('StrokeTIA_No', 'StrokeTIA_Yes'),\n",
       " ('AtrialFibrillation_No', 'AFAntiplatelet_missing'),\n",
       " ('AtrialFibrillation_Yes', 'AFAntiplatelet_missing'),\n",
       " ('AFAnticoagulentDOAC_missing', 'AFAnticoagulentVitK_missing'),\n",
       " ('AFAnticoagulentHeparin_No', 'AFAnticoagulentVitK_missing'),\n",
       " ('AFAnticoagulentHeparin_missing', 'AFAnticoagulentVitK_missing'),\n",
       " ('AFAnticoagulentVitK_missing', 'AFAnticoagulentDOAC_missing'),\n",
       " ('AFAnticoagulentHeparin_No', 'AFAnticoagulentDOAC_missing'),\n",
       " ('AFAnticoagulentHeparin_missing', 'AFAnticoagulentDOAC_missing'),\n",
       " ('AFAnticoagulentVitK_missing', 'AFAnticoagulentHeparin_No'),\n",
       " ('AFAnticoagulentDOAC_missing', 'AFAnticoagulentHeparin_No'),\n",
       " ('AFAnticoagulentHeparin_missing', 'AFAnticoagulentHeparin_No'),\n",
       " ('AFAnticoagulentVitK_missing', 'AFAnticoagulentHeparin_missing'),\n",
       " ('AFAnticoagulentDOAC_missing', 'AFAnticoagulentHeparin_missing'),\n",
       " ('AFAnticoagulentHeparin_No', 'AFAnticoagulentHeparin_missing')]"
      ]
     },
     "execution_count": 31,
     "metadata": {},
     "output_type": "execute_result"
    }
   ],
   "source": [
    "min_value = 0.99\n",
    "max_value = 1.01\n",
    "listOfPositions = getIndexesRange(corr_matrix.abs(), min_value, max_value, True)\n",
    "\n",
    "print(f'There are {len(listOfPositions)} feature pairings with correlation in '\n",
    "      f'range {min_value} to {max_value} (+/-) in Dataframe : ')\n",
    "listOfPositions"
   ]
  },
  {
   "cell_type": "markdown",
   "metadata": {},
   "source": [
    "Now need to understand the correlations that have been returned.\n",
    "\n",
    "First look at the binary features, with the decisions about which feature to keep:\n",
    "\n",
    " ('MoreEqual80y_Yes', 'MoreEqual80y_No'),\\\n",
    " ('MoreEqual80y_No', 'MoreEqual80y_Yes'),\\\n",
    "Keep MoreEqual80y_Yes\\\n",
    "Remove MoreEqual80y_No\n",
    "\n",
    " ('S1Gender_Male', 'S1Gender_Female'),\\\n",
    " ('S1Gender_Female', 'S1Gender_Male'),\\\n",
    "Keep S1Gender_Female\\\n",
    "Remove S1Gender_Male\n",
    "\n",
    " ('S1OnsetInHospital_Yes', 'S1OnsetInHospital_No'),\\\n",
    " ('S1OnsetInHospital_No', 'S1OnsetInHospital_Yes'),\\\n",
    "Keep S1OnsetInHospital_Yes\\\n",
    "Remove S1OnsetInHospital_No\n",
    "\n",
    " ('CongestiveHeartFailure_Yes', 'CongestiveHeartFailure_No'),\\\n",
    " ('CongestiveHeartFailure_No', 'CongestiveHeartFailure_Yes'),\\\n",
    "Keep CongestiveHeartFailure_Yes\\\n",
    "Remove CongestiveHeartFailure_No\n",
    "\n",
    " ('Hypertension_Yes', 'Hypertension_No'),\\\n",
    " ('Hypertension_No', 'Hypertension_Yes'),\\\n",
    "Keep Hypertension_Yes\\\n",
    "Remove Hypertension_No\n",
    "\n",
    " ('AtrialFibrillation_Yes', 'AtrialFibrillation_No'),\\\n",
    " ('AtrialFibrillation_No', 'AtrialFibrillation_Yes'),\\\n",
    "Keep AtrialFibrillation_Yes\\\n",
    "Remove AtrialFibrillation_No\n",
    "\n",
    " ('Diabetes_Yes', 'Diabetes_No'),\\\n",
    " ('Diabetes_No', 'Diabetes_Yes'),\\\n",
    "Keep Diabetes_Yes\\\n",
    "Remove Diabetes_No\n",
    "\n",
    " ('StrokeTIA_Yes', 'StrokeTIA_No'),\\\n",
    " ('StrokeTIA_No', 'StrokeTIA_Yes'),\\\n",
    "Keep StrokeTIA_Yes\\\n",
    "Remove StrokeTIA_No"
   ]
  },
  {
   "cell_type": "markdown",
   "metadata": {},
   "source": [
    "Here are the more complex correlations:"
   ]
  },
  {
   "cell_type": "markdown",
   "metadata": {},
   "source": [
    "## Complex correlation 1.\n",
    "\n",
    " ('S1ArriveByAmbulance_missing', 'S1OnsetInHospital_No'),\n",
    " ('S1OnsetInHospital_No', 'S1ArriveByAmbulance_missing'),\n",
    "\n",
    " ('S1ArriveByAmbulance_missing', 'S1OnsetInHospital_Yes'),\n",
    " ('S1OnsetInHospital_Yes', 'S1ArriveByAmbulance_missing'),\n",
    "\n",
    "If have stroke onset in hospital then the arrive by ambulance is missing.\\\n",
    "'S1ArriveByAmbulance_missing' == 'S1OnsetInHospital_Yes'\\\n",
    "'S1ArriveByAmbulance_missing' is opposite to 'S1OnsetInHospital_No'\n",
    "\n",
    "#### Decision\n",
    "Keep 'S1OnsetInHospital_Yes'\\\n",
    "Remove 'S1OnsetInHospital_No'\\\n",
    "Remove 'S1ArriveByAmbulance_missing'"
   ]
  },
  {
   "cell_type": "markdown",
   "metadata": {},
   "source": [
    "## Complex correlation 2.\n",
    "\n",
    " ('AFAntiplatelet_missing', 'AtrialFibrillation_No'),\n",
    " ('AtrialFibrillation_No', 'AFAntiplatelet_missing'),\n",
    "\n",
    " ('AFAntiplatelet_missing', 'AtrialFibrillation_Yes'),\n",
    " ('AtrialFibrillation_Yes', 'AFAntiplatelet_missing'),\n",
    " \n",
    "Only if have 'AtrialFibrillation_Yes' do they need there to be a value in either 'AFAntiplatelet_No', 'AFAntiplatelet_No but' or 'AFAntiplatelet_Yes'. \n",
    "When 'AtrialFibrillation_No' = 1 then 'AFAntiplatelet_missing' = 1 (and the other AFs are 0)\n",
    "When 'AtrialFibrillation_Yes' = 1 then 'AFAntiplatelet_missing' = 0 (and one of the other AFs are 1)\n",
    "\n",
    "Description: \"Only available if \"Yes\" to Atrial Fibrillation (Q2.1.3). Whether the patient was on antiplatelet medication prior to admission\"\n",
    "\n",
    "#### Decision\n",
    "\n",
    "Remove 'AFAntiplatelet_missing'\\\n",
    "Remove 'AtrialFibrillation_No' (as decided above)\\\n",
    "Keep 'AtrialFibrillation_Yes' (as decided above)\\\n",
    "\n",
    "Note: The feature \"AFAnticoagulent\" has a similar description about only available if \"Yes\" to Atrial Fibrillation (Q2.1.3). However this feature also has a change in the rule from date 01-Dec-2017: Prior to 01-Dec-2017: Only available if \"Yes\" to Atrial Fibrillation (Q2.1.3); From 01-Dec-2017: available even if patient is not in Atrial Fibrillation prior to admission. Whether the patient was on anticoagulant medication prior to admission.\n",
    "\n",
    "However it does not appear in the correlation list (has correlation of 0.5 with 'AFAntiplatelet_missing') due to the change in rule at the date.\n",
    " \n",
    "So can not remove 'AFAnticoagulent_missing' in the same way, as it's not bound to Atrial Fibrillation for all dates. \n",
    "\n",
    "The sum of the four columns (no, no but, yes, missing) = 1. Did consider whether that was grounds to remove it - but decided that we will not because when come to explainability, lose which one was missing for the explanability."
   ]
  },
  {
   "cell_type": "markdown",
   "metadata": {},
   "source": [
    "## Explanation 3.\n",
    "\n",
    "Description for \"AFAnticoagulentDOAC\", \"AFAnticoagulentVitK\", AFAnticoagulentHeparin\" : \n",
    "\"If the patient was receiving anticoagulant medication, was it THIS antagonist\".\n",
    "\n",
    "\"If the patient was receiving anticoagulant medication, was it VitK anticoagulants\". Note: Before give thrombolysis they need to measure time taken to blood clot as not want a risk of a bleed. If te clotting is too slow, then if the patient was taking warfarin (given to help stop blood clotting, and is a VitK antagonist) they can give VitK to speed clotting time back up, and so allow patient to pass this measure and get thrombolysis.\n",
    "\n",
    "\"If the patient was receiving anticoagulant medication, was it direct oral anticoagulants (DOACs)\". Note: Do not think that there is an undo for this\n",
    "\n",
    "\"If the patient was receiving anticoagulant medication, was it Heparin\". Note: Think there may be an undo for this - could be snake venom.\n",
    "\n",
    "However, the data does not behave as would expect from this description. Would expect that when AFAnticoagulent_Yes = 1, for each of these three AFAnticoagulent to be either Y or N, but they are often recorded as \"missing\". Note: See cell below reporting about the \"28311\" patients.\n",
    "\n",
    "Perfect match. Identical across all missing columns (see following 3 barcharts).\\\n",
    " ('AFAnticoagulentDOAC_missing', 'AFAnticoagulentVitK_missing'),\n",
    " ('AFAnticoagulentVitK_missing', 'AFAnticoagulentDOAC_missing'),\n",
    "\n",
    " ('AFAnticoagulentHeparin_missing', 'AFAnticoagulentVitK_missing'),\n",
    " ('AFAnticoagulentVitK_missing', 'AFAnticoagulentHeparin_missing'),\n",
    "\n",
    " ('AFAnticoagulentHeparin_missing', 'AFAnticoagulentDOAC_missing'),\n",
    " ('AFAnticoagulentDOAC_missing', 'AFAnticoagulentHeparin_missing')\n"
   ]
  },
  {
   "cell_type": "code",
   "execution_count": 32,
   "metadata": {},
   "outputs": [
    {
     "name": "stdout",
     "output_type": "stream",
     "text": [
      "AFAnticoagulentDOAC_missing vs. AFAnticoagulentVitK_missing\n"
     ]
    },
    {
     "data": {
      "text/plain": [
       "<AxesSubplot:>"
      ]
     },
     "execution_count": 32,
     "metadata": {},
     "output_type": "execute_result"
    },
    {
     "data": {
      "image/png": "[encoded data removed]",
      "text/plain": [
       "<Figure size 432x288 with 1 Axes>"
      ]
     },
     "metadata": {
      "needs_background": "light"
     },
     "output_type": "display_data"
    }
   ],
   "source": [
    "v1 = 'AFAnticoagulentDOAC_missing'\n",
    "v2 = 'AFAnticoagulentVitK_missing'\n",
    "\n",
    "print(f'{v1} vs. {v2}')\n",
    "\n",
    "# a series to use for counting- formatted as cat1_cat2\n",
    "ts = (filtered_data['AFAnticoagulentDOAC_missing'].astype(str) + '_' + \n",
    "      filtered_data['AFAnticoagulentVitK_missing'].astype(str))\n",
    "# and plot the counts of the groups\n",
    "ts.value_counts().plot(kind = 'bar')"
   ]
  },
  {
   "cell_type": "code",
   "execution_count": 33,
   "metadata": {},
   "outputs": [
    {
     "name": "stdout",
     "output_type": "stream",
     "text": [
      "AFAnticoagulentHeparin_missing vs. AFAnticoagulentVitK_missing\n"
     ]
    },
    {
     "data": {
      "text/plain": [
       "<AxesSubplot:>"
      ]
     },
     "execution_count": 33,
     "metadata": {},
     "output_type": "execute_result"
    },
    {
     "data": {
      "image/png": "[encoded data removed]",
      "text/plain": [
       "<Figure size 432x288 with 1 Axes>"
      ]
     },
     "metadata": {
      "needs_background": "light"
     },
     "output_type": "display_data"
    }
   ],
   "source": [
    "v1 = 'AFAnticoagulentHeparin_missing'\n",
    "v2 = 'AFAnticoagulentVitK_missing'\n",
    "\n",
    "print(f'{v1} vs. {v2}')\n",
    "\n",
    "# a series to use for counting- formatted as cat1_cat2\n",
    "ts = (filtered_data[v1].astype(str) + '_' + filtered_data[v2].astype(str))\n",
    "# and plot the counts of the groups\n",
    "ts.value_counts().plot(kind = 'bar')"
   ]
  },
  {
   "cell_type": "code",
   "execution_count": 34,
   "metadata": {},
   "outputs": [
    {
     "name": "stdout",
     "output_type": "stream",
     "text": [
      "AFAnticoagulentHeparin_missing vs. AFAnticoagulentDOAC_missing\n"
     ]
    },
    {
     "data": {
      "text/plain": [
       "<AxesSubplot:>"
      ]
     },
     "execution_count": 34,
     "metadata": {},
     "output_type": "execute_result"
    },
    {
     "data": {
      "image/png": "[encoded data removed]",
      "text/plain": [
       "<Figure size 432x288 with 1 Axes>"
      ]
     },
     "metadata": {
      "needs_background": "light"
     },
     "output_type": "display_data"
    }
   ],
   "source": [
    "v1 = 'AFAnticoagulentHeparin_missing'\n",
    "v2 = 'AFAnticoagulentDOAC_missing'\n",
    "\n",
    "print(f'{v1} vs. {v2}')\n",
    "\n",
    "# a series to use for counting- formatted as cat1_cat2\n",
    "ts = (filtered_data[v1].astype(str) + '_' + filtered_data[v2].astype(str))\n",
    "# and plot the counts of the groups\n",
    "ts.value_counts().plot(kind = 'bar')"
   ]
  },
  {
   "cell_type": "markdown",
   "metadata": {},
   "source": [
    "## Explanation 4\n",
    "\n",
    " ('AFAnticoagulentHeparin_No', 'AFAnticoagulentVitK_missing'),\n",
    " ('AFAnticoagulentVitK_missing', 'AFAnticoagulentHeparin_No'),\n",
    "\n",
    " ('AFAnticoagulentDOAC_missing', 'AFAnticoagulentHeparin_No'),\n",
    " ('AFAnticoagulentHeparin_No', 'AFAnticoagulentDOAC_missing'),\n",
    "\n",
    " ('AFAnticoagulentHeparin_missing', 'AFAnticoagulentHeparin_No'),\n",
    " ('AFAnticoagulentHeparin_No', 'AFAnticoagulentHeparin_missing')]\n",
    " \n",
    "Patients are either Heparin_No = 0 with missing = 1\n",
    "Or  Heparin_No = 1 with missing = 0\n",
    "\n",
    "Only 206 patient that don't fit in this, hence the good correlation."
   ]
  },
  {
   "cell_type": "code",
   "execution_count": 35,
   "metadata": {},
   "outputs": [
    {
     "name": "stdout",
     "output_type": "stream",
     "text": [
      "AFAnticoagulentHeparin_No vs AFAnticoagulentVitK_missing\n",
      "\n",
      "206 patients AFAnticoagulentHeparin_No = 0 and AFAnticoagulentVitK_missing = 0\n",
      "148602 patients AFAnticoagulentHeparin_No = 0 and AFAnticoagulentVitK_missing = 1\n",
      "90697 patients AFAnticoagulentHeparin_No = 1 and AFAnticoagulentVitK_missing = 0\n",
      "0 patients AFAnticoagulentHeparin_No = 1 and AFAnticoagulentVitK_missing = 1\n"
     ]
    },
    {
     "data": {
      "image/png": "[encoded data removed]",
      "text/plain": [
       "<Figure size 432x288 with 1 Axes>"
      ]
     },
     "metadata": {
      "needs_background": "light"
     },
     "output_type": "display_data"
    }
   ],
   "source": [
    "v1 = 'AFAnticoagulentHeparin_No'\n",
    "v2 = 'AFAnticoagulentVitK_missing'\n",
    "\n",
    "print(f'{v1} vs {v2}')\n",
    "\n",
    "print ()\n",
    "\n",
    "# a series to use for counting- formatted as cat1_cat2\n",
    "ts = (filtered_data[v1].astype(str) + '_' + filtered_data[v2].astype(str))\n",
    "# and plot the counts of the groups\n",
    "ts.value_counts().plot(kind = 'bar')\n",
    "\n",
    "for i in range(2):\n",
    "    for j in range(2):\n",
    "        mask1 = filtered_data[v1] == i\n",
    "        mask2 = filtered_data[v2] == j\n",
    "        mask = mask1 * mask2\n",
    "        print(f'{mask.sum()} patients {v1} = {i} and {v2} = {j}')"
   ]
  },
  {
   "cell_type": "code",
   "execution_count": 36,
   "metadata": {},
   "outputs": [
    {
     "name": "stdout",
     "output_type": "stream",
     "text": [
      "AFAnticoagulentHeparin_No vs AFAnticoagulentDOAC_missing\n",
      "\n",
      "206 patients AFAnticoagulentHeparin_No = 0 and AFAnticoagulentDOAC_missing = 0\n",
      "148602 patients AFAnticoagulentHeparin_No = 0 and AFAnticoagulentDOAC_missing = 1\n",
      "90697 patients AFAnticoagulentHeparin_No = 1 and AFAnticoagulentDOAC_missing = 0\n",
      "0 patients AFAnticoagulentHeparin_No = 1 and AFAnticoagulentDOAC_missing = 1\n"
     ]
    },
    {
     "data": {
      "image/png": "[encoded data removed]",
      "text/plain": [
       "<Figure size 432x288 with 1 Axes>"
      ]
     },
     "metadata": {
      "needs_background": "light"
     },
     "output_type": "display_data"
    }
   ],
   "source": [
    "v1 = 'AFAnticoagulentHeparin_No'\n",
    "v2 = 'AFAnticoagulentDOAC_missing'\n",
    "\n",
    "print(f'{v1} vs {v2}')\n",
    "\n",
    "print ()\n",
    "\n",
    "# a series to use for counting- formatted as cat1_cat2\n",
    "ts = (filtered_data[v1].astype(str) + '_' + filtered_data[v2].astype(str))\n",
    "# and plot the counts of the groups\n",
    "ts.value_counts().plot(kind = 'bar')\n",
    "\n",
    "for i in range(2):\n",
    "    for j in range(2):\n",
    "        mask1 = filtered_data[v1] == i\n",
    "        mask2 = filtered_data[v2] == j\n",
    "        mask = mask1 * mask2\n",
    "        print(f'{mask.sum()} patients {v1} = {i} and {v2} = {j}')"
   ]
  },
  {
   "cell_type": "code",
   "execution_count": 37,
   "metadata": {},
   "outputs": [
    {
     "name": "stdout",
     "output_type": "stream",
     "text": [
      "AFAnticoagulentHeparin_missing vs AFAnticoagulentHeparin_No\n",
      "\n",
      "206 patients AFAnticoagulentHeparin_missing = 0 and AFAnticoagulentHeparin_No = 0\n",
      "90697 patients AFAnticoagulentHeparin_missing = 0 and AFAnticoagulentHeparin_No = 1\n",
      "148602 patients AFAnticoagulentHeparin_missing = 1 and AFAnticoagulentHeparin_No = 0\n",
      "0 patients AFAnticoagulentHeparin_missing = 1 and AFAnticoagulentHeparin_No = 1\n"
     ]
    },
    {
     "data": {
      "text/plain": [
       "<AxesSubplot:>"
      ]
     },
     "execution_count": 37,
     "metadata": {},
     "output_type": "execute_result"
    },
    {
     "data": {
      "image/png": "[encoded data removed]",
      "text/plain": [
       "<Figure size 432x288 with 1 Axes>"
      ]
     },
     "metadata": {
      "needs_background": "light"
     },
     "output_type": "display_data"
    }
   ],
   "source": [
    "v1 = 'AFAnticoagulentHeparin_missing'\n",
    "v2 = 'AFAnticoagulentHeparin_No'\n",
    "\n",
    "print(f'{v1} vs {v2}')\n",
    "\n",
    "print ()\n",
    "\n",
    "for i in range(2):\n",
    "    for j in range(2):\n",
    "        mask1 = filtered_data[v1] == i\n",
    "        mask2 = filtered_data[v2] == j\n",
    "        mask = mask1 * mask2\n",
    "        print(f'{mask.sum()} patients {v1} = {i} and {v2} = {j}')\n",
    "\n",
    "# a series to use for counting- formatted as cat1_cat2\n",
    "ts = (filtered_data[v1].astype(str) + '_' + filtered_data[v2].astype(str))\n",
    "# and plot the counts of the groups\n",
    "ts.value_counts().plot(kind = 'bar')"
   ]
  },
  {
   "cell_type": "markdown",
   "metadata": {},
   "source": [
    "### Correlation in a group\n",
    "\n",
    "Finding groups of features (>2) where patient has exactly only one of them chosen.\n",
    "\n",
    "There are more examples where the sum of a number of columns = 1\n",
    "1) S1OnsetTimeType_Best estimate, S1OnsetTimeType_Not known, S1OnsetTimeType_Precise\n",
    "2) S1OnsetDateType_Best estimate, S1OnsetDateType_Precise, S1OnsetDateType_Stroke during sleep\n",
    "3) \"AFAnticoagulent_No\",\"AFAnticoagulent_No but\",\"AFAnticoagulent_Yes\",\"AFAnticoagulent_missing\"\n",
    "4) \"AFAnticoagulentVitK_No\",\"AFAnticoagulentVitK_Yes\", \"AFAnticoagulentVitK_missing\"\n",
    "5) \"AFAnticoagulentDOAC_No\",\"AFAnticoagulentDOAC_Yes\",\"AFAnticoagulentDOAC_missing\"\n",
    "6) \"AFAnticoagulentHeparin_No\",\"AFAnticoagulentHeparin_Yes\",\"AFAnticoagulentHeparin_missing\"\n",
    "7) S2StrokeType_Infarction, S2StrokeType_Primary Intracerebral Haemorrhage, \"S2StrokeType_missing [note: see separate section on this group later in the notebook]\n",
    "\n",
    "Decided to not drop one of these as it does not help the explainability of the model. Left in for completeness to see the groups looked at."
   ]
  },
  {
   "cell_type": "code",
   "execution_count": 38,
   "metadata": {},
   "outputs": [
    {
     "name": "stdout",
     "output_type": "stream",
     "text": [
      "The number of patients is 239505, and the sum of the four AFAnticoagulents is 239505\n",
      "If the same number, means that each patient has exactly one chosen.\n",
      "If so, can one of the four be dropped?\n"
     ]
    }
   ],
   "source": [
    "column_names = [\"AFAnticoagulent_No\",\"AFAnticoagulent_No but\",\n",
    "                \"AFAnticoagulent_Yes\",\"AFAnticoagulent_missing\"]\n",
    "\n",
    "print(f'The number of patients is {filtered_data.shape[0]}, and the sum of the '\n",
    "      f'four AFAnticoagulents is '\n",
    "      f'{filtered_data[column_names].sum(axis=1).sum()}')\n",
    "print(f'If the same number, means that each patient has exactly one chosen.')\n",
    "print(f'If so, can one of the four be dropped?')"
   ]
  },
  {
   "cell_type": "code",
   "execution_count": 39,
   "metadata": {},
   "outputs": [
    {
     "name": "stdout",
     "output_type": "stream",
     "text": [
      "The number of patients is 239505, and the sum of the three VitK AFAnticoagulents is 239505\n",
      "If the same number, means that each patient has exactly one chosen.\n",
      "If so, can one of the three be dropped?\n"
     ]
    }
   ],
   "source": [
    "column_names = [\"AFAnticoagulentVitK_No\",\"AFAnticoagulentVitK_Yes\",\n",
    "                \"AFAnticoagulentVitK_missing\"]\n",
    "print(f'The number of patients is {filtered_data.shape[0]}, and the sum of the '\n",
    "      f'three VitK AFAnticoagulents is '\n",
    "      f'{filtered_data[column_names].sum(axis=1).sum()}')\n",
    "print(f'If the same number, means that each patient has exactly one chosen.')\n",
    "print(f'If so, can one of the three be dropped?')"
   ]
  },
  {
   "cell_type": "code",
   "execution_count": 40,
   "metadata": {},
   "outputs": [
    {
     "name": "stdout",
     "output_type": "stream",
     "text": [
      "The number of patients is 239505, and the sum of the three DOAC AFAnticoagulents is 239505\n",
      "If the same number, means that each patient has exactly one chosen.\n",
      "If so, can one of the three be dropped?\n"
     ]
    }
   ],
   "source": [
    "column_names = [\"AFAnticoagulentDOAC_No\",\"AFAnticoagulentDOAC_Yes\",\n",
    "                \"AFAnticoagulentDOAC_missing\"]\n",
    "print(f'The number of patients is {filtered_data.shape[0]}, and the sum of the '\n",
    "      f'three DOAC AFAnticoagulents is '\n",
    "      f'{filtered_data[column_names].sum(axis=1).sum()}')\n",
    "print(f'If the same number, means that each patient has exactly one chosen.')\n",
    "print(f'If so, can one of the three be dropped?')"
   ]
  },
  {
   "cell_type": "code",
   "execution_count": 41,
   "metadata": {},
   "outputs": [
    {
     "name": "stdout",
     "output_type": "stream",
     "text": [
      "The number of patients is 239505, and the sum of the three Heparin AFAnticoagulents is 239505\n",
      "If the same number, means that each patient has exactly one chosen.\n",
      "If so, can one of the three be dropped?\n"
     ]
    }
   ],
   "source": [
    "column_names = [\"AFAnticoagulentHeparin_No\",\"AFAnticoagulentHeparin_Yes\",\n",
    "                \"AFAnticoagulentHeparin_missing\"]\n",
    "print(f'The number of patients is {filtered_data.shape[0]}, and the sum of the '\n",
    "      f'three Heparin AFAnticoagulents is '\n",
    "      f'{filtered_data[column_names].sum(axis=1).sum()}')\n",
    "print(f'If the same number, means that each patient has exactly one chosen.')\n",
    "print(f'If so, can one of the three be dropped?')"
   ]
  },
  {
   "cell_type": "markdown",
   "metadata": {},
   "source": [
    "### Looking at the relationship between AFAnticoagulent_No (or AFAnticoagulent_Yes) with the number of anticoagulents recorded as being taken.\n",
    "\n",
    "For patients with AFAnticoagulent_No = 1, the number of aniticoagulents recorded as being taken.\n",
    "\n",
    "Plot shows that when a patient has Anticoagulent recorded as No, some patients still have one of the three anticoagulents recorded as being taken.\n",
    "\n",
    "Note: AFAnticoagulentVitK_Yes is actually a VitK blocker - so is, in effect warfarin. Take these 3 to stop you clotting (potentially more prone for bleeding - which is why need to check patients bleed-clot times)."
   ]
  },
  {
   "cell_type": "code",
   "execution_count": 42,
   "metadata": {},
   "outputs": [
    {
     "data": {
      "image/png": "[encoded data removed]",
      "text/plain": [
       "<Figure size 432x288 with 1 Axes>"
      ]
     },
     "metadata": {
      "needs_background": "light"
     },
     "output_type": "display_data"
    }
   ],
   "source": [
    "column_names = [\"AFAnticoagulentHeparin_Yes\", \"AFAnticoagulentVitK_Yes\", \n",
    "                \"AFAnticoagulentDOAC_Yes\"]\n",
    "\n",
    "filtered_data[\"number_of_anticoagulents\"] = (\n",
    "                                    filtered_data[column_names].sum(axis=1))\n",
    "\n",
    "ax1 = filtered_data.plot.scatter(x='AFAnticoagulent_No',\n",
    "                                 y='number_of_anticoagulents',\n",
    "                                 c='DarkBlue')"
   ]
  },
  {
   "cell_type": "markdown",
   "metadata": {},
   "source": [
    "How many patients have one recorded, when expected none?"
   ]
  },
  {
   "cell_type": "code",
   "execution_count": 43,
   "metadata": {},
   "outputs": [
    {
     "name": "stdout",
     "output_type": "stream",
     "text": [
      "Number of patients that have one anticoagulent recorded, when expected none: 1\n",
      "\n"
     ]
    },
    {
     "data": {
      "text/html": [
       "<div>\n",
       "<style scoped>\n",
       "    .dataframe tbody tr th:only-of-type {\n",
       "        vertical-align: middle;\n",
       "    }\n",
       "\n",
       "    .dataframe tbody tr th {\n",
       "        vertical-align: top;\n",
       "    }\n",
       "\n",
       "    .dataframe thead th {\n",
       "        text-align: right;\n",
       "    }\n",
       "</style>\n",
       "<table border=\"1\" class=\"dataframe\">\n",
       "  <thead>\n",
       "    <tr style=\"text-align: right;\">\n",
       "      <th></th>\n",
       "      <th>AFAnticoagulentHeparin_Yes</th>\n",
       "      <th>AFAnticoagulentVitK_Yes</th>\n",
       "      <th>AFAnticoagulentDOAC_Yes</th>\n",
       "    </tr>\n",
       "  </thead>\n",
       "  <tbody>\n",
       "    <tr>\n",
       "      <th>146109</th>\n",
       "      <td>0</td>\n",
       "      <td>0</td>\n",
       "      <td>1</td>\n",
       "    </tr>\n",
       "  </tbody>\n",
       "</table>\n",
       "</div>"
      ],
      "text/plain": [
       "        AFAnticoagulentHeparin_Yes  AFAnticoagulentVitK_Yes  \\\n",
       "146109                           0                        0   \n",
       "\n",
       "        AFAnticoagulentDOAC_Yes  \n",
       "146109                        1  "
      ]
     },
     "execution_count": 43,
     "metadata": {},
     "output_type": "execute_result"
    }
   ],
   "source": [
    "mask1 = filtered_data[\"AFAnticoagulent_No\"] == 1\n",
    "mask2 = filtered_data[\"number_of_anticoagulents\"] > 0\n",
    "mask = mask1 * mask2\n",
    "print(f\"Number of patients that have one anticoagulent recorded, when expected none:\"\n",
    "      f\" {mask.sum()}\")\n",
    "print()\n",
    "filtered_data[column_names][mask]"
   ]
  },
  {
   "cell_type": "markdown",
   "metadata": {},
   "source": [
    "So only 1 patient."
   ]
  },
  {
   "cell_type": "markdown",
   "metadata": {},
   "source": [
    "When 'AFAnticoagulent_Yes']==1, would expect all the options to be Y or N, but some are recording all missing"
   ]
  },
  {
   "cell_type": "code",
   "execution_count": 44,
   "metadata": {},
   "outputs": [
    {
     "name": "stdout",
     "output_type": "stream",
     "text": [
      "Number of patients have anticoagulent recorded as Yes, but none of the three are recorded as Yes: 16110\n"
     ]
    }
   ],
   "source": [
    "mask1 = filtered_data[\"AFAnticoagulent_Yes\"] == 1\n",
    "mask2 = filtered_data[\"number_of_anticoagulents\"] == 0\n",
    "mask = mask1 * mask2\n",
    "print(f\"Number of patients have anticoagulent recorded as Yes, but none of the \"\n",
    "      f\"three are recorded as Yes: {mask.sum()}\")"
   ]
  },
  {
   "cell_type": "code",
   "execution_count": 45,
   "metadata": {},
   "outputs": [
    {
     "name": "stdout",
     "output_type": "stream",
     "text": [
      "For just the patients recorded as having AF anticoagulent, the number of the three recorded as yes\n"
     ]
    },
    {
     "data": {
      "text/plain": [
       "<AxesSubplot:>"
      ]
     },
     "execution_count": 45,
     "metadata": {},
     "output_type": "execute_result"
    },
    {
     "data": {
      "image/png": "[encoded data removed]",
      "text/plain": [
       "<Figure size 432x288 with 1 Axes>"
      ]
     },
     "metadata": {
      "needs_background": "light"
     },
     "output_type": "display_data"
    }
   ],
   "source": [
    "print(f'For just the patients recorded as having AF anticoagulent, the number '\n",
    "      f'of the three recorded as yes')\n",
    "pd.value_counts(filtered_data[\"number_of_anticoagulents\"][mask1]).plot.bar()"
   ]
  },
  {
   "cell_type": "code",
   "execution_count": 46,
   "metadata": {},
   "outputs": [
    {
     "data": {
      "text/plain": [
       "0    16110\n",
       "1    12171\n",
       "2       29\n",
       "3        1\n",
       "Name: number_of_anticoagulents, dtype: int64"
      ]
     },
     "execution_count": 46,
     "metadata": {},
     "output_type": "execute_result"
    }
   ],
   "source": [
    "pd.value_counts(filtered_data[\"number_of_anticoagulents\"][mask1])"
   ]
  },
  {
   "cell_type": "markdown",
   "metadata": {},
   "source": [
    "Do any patient receiving an AFAnticoagulants recieve thrombolysis?"
   ]
  },
  {
   "cell_type": "code",
   "execution_count": 47,
   "metadata": {},
   "outputs": [
    {
     "data": {
      "text/plain": [
       "232676    0\n",
       "Name: S2Thrombolysis, dtype: int64"
      ]
     },
     "execution_count": 47,
     "metadata": {},
     "output_type": "execute_result"
    }
   ],
   "source": [
    "filtered_data[\"S2Thrombolysis\"][filtered_data[\"number_of_anticoagulents\"]==3]"
   ]
  },
  {
   "cell_type": "code",
   "execution_count": 48,
   "metadata": {},
   "outputs": [
    {
     "name": "stdout",
     "output_type": "stream",
     "text": [
      "Of those patients that are recorded as 'Yes' have AFAnticoagulents, here are the number of individual coagulants their recieve and which have thrombolysis\n"
     ]
    },
    {
     "data": {
      "text/plain": [
       "number_of_anticoagulents  S2Thrombolysis\n",
       "0                         0                 15412\n",
       "                          1                   698\n",
       "1                         0                 11740\n",
       "                          1                   431\n",
       "2                         0                    28\n",
       "                          1                     1\n",
       "3                         0                     1\n",
       "dtype: int64"
      ]
     },
     "execution_count": 48,
     "metadata": {},
     "output_type": "execute_result"
    }
   ],
   "source": [
    "print(\"Of those patients that are recorded as 'Yes' have AFAnticoagulents, here\"\n",
    "      \" are the number of individual coagulants their recieve and which have \"\n",
    "      \"thrombolysis\")\n",
    "groupby = filtered_data[mask1].groupby(\n",
    "                        [\"number_of_anticoagulents\", \"S2Thrombolysis\"]).size()\n",
    "groupby"
   ]
  },
  {
   "cell_type": "code",
   "execution_count": 49,
   "metadata": {},
   "outputs": [
    {
     "name": "stdout",
     "output_type": "stream",
     "text": [
      "Proportion of patients ('Yes' have AFAnticoagulents) who recieve 0 anticoagulants that receive thrombolysis: 0.0433\n",
      "Proportion of patients ('Yes' have AFAnticoagulents) who recieve 1 anticoagulants that receive thrombolysis: 0.0354\n",
      "Proportion of patients ('Yes' have AFAnticoagulents) who recieve 2 anticoagulants that receive thrombolysis: 0.0345\n"
     ]
    }
   ],
   "source": [
    "for n_ac in range(4):\n",
    "    try:\n",
    "        propn = groupby[n_ac][1]/(groupby[n_ac][0]+groupby[n_ac][1])\n",
    "        print(f\"Proportion of patients ('Yes' have AFAnticoagulents) who \"\n",
    "              f\"recieve {n_ac} anticoagulants that receive thrombolysis: \"\n",
    "              f\"{round(propn, 4)}\")\n",
    "    except:\n",
    "        continue"
   ]
  },
  {
   "cell_type": "code",
   "execution_count": 50,
   "metadata": {},
   "outputs": [
    {
     "name": "stdout",
     "output_type": "stream",
     "text": [
      "For all patients, here are the number of individual coagulants their recieve and which have thrombolysis\n"
     ]
    },
    {
     "data": {
      "text/plain": [
       "number_of_anticoagulents  S2Thrombolysis\n",
       "0                         0                 199359\n",
       "                          1                  27944\n",
       "1                         0                  11741\n",
       "                          1                    431\n",
       "2                         0                     28\n",
       "                          1                      1\n",
       "3                         0                      1\n",
       "dtype: int64"
      ]
     },
     "execution_count": 50,
     "metadata": {},
     "output_type": "execute_result"
    }
   ],
   "source": [
    "print(\"For all patients, here\"\n",
    "      \" are the number of individual coagulants their recieve and which have \"\n",
    "      \"thrombolysis\")\n",
    "groupby = filtered_data.groupby(\n",
    "                        [\"number_of_anticoagulents\", \"S2Thrombolysis\"]).size()\n",
    "groupby"
   ]
  },
  {
   "cell_type": "markdown",
   "metadata": {},
   "source": [
    "For all patients, show the proportion of patients receive thrombolysis by number of anticoagulants taken"
   ]
  },
  {
   "cell_type": "code",
   "execution_count": 51,
   "metadata": {},
   "outputs": [
    {
     "name": "stdout",
     "output_type": "stream",
     "text": [
      "Proportion of all patients who recieve 0 anticoagulants that receive thrombolysis: 0.1229\n",
      "Proportion of all patients who recieve 1 anticoagulants that receive thrombolysis: 0.0354\n",
      "Proportion of all patients who recieve 2 anticoagulants that receive thrombolysis: 0.0345\n"
     ]
    }
   ],
   "source": [
    "for n_ac in range(4):\n",
    "    try:\n",
    "        propn = groupby[n_ac][1]/(groupby[n_ac][0]+groupby[n_ac][1])\n",
    "        print(f\"Proportion of all patients who recieve {n_ac} anticoagulants \"\n",
    "              f\"that receive thrombolysis: {round(propn, 4)}\")\n",
    "    except:\n",
    "        continue"
   ]
  },
  {
   "cell_type": "markdown",
   "metadata": {},
   "source": [
    "For patients that have only 1 AFAnticolagulent recorded, is there a difference in the thrombolysis rate for the chosen anticoagulant taken?"
   ]
  },
  {
   "cell_type": "code",
   "execution_count": 52,
   "metadata": {},
   "outputs": [
    {
     "name": "stdout",
     "output_type": "stream",
     "text": [
      "Info for AFAnticoagulentHeparin_Yes = 1\n",
      "\n",
      "S2Thrombolysis\n",
      "0    185\n",
      "1     12\n",
      "dtype: int64\n",
      "\n",
      "Proportion of patients who recieve AFAnticoagulentHeparin_Yes that receive thrombolysis: 0.0609\n",
      "Info for AFAnticoagulentVitK_Yes = 1\n",
      "\n",
      "S2Thrombolysis\n",
      "0    4288\n",
      "1     229\n",
      "dtype: int64\n",
      "\n",
      "Proportion of patients who recieve AFAnticoagulentVitK_Yes that receive thrombolysis: 0.0507\n",
      "Info for AFAnticoagulentDOAC_Yes = 1\n",
      "\n",
      "S2Thrombolysis\n",
      "0    7268\n",
      "1     190\n",
      "dtype: int64\n",
      "\n",
      "Proportion of patients who recieve AFAnticoagulentDOAC_Yes that receive thrombolysis: 0.0255\n"
     ]
    }
   ],
   "source": [
    "mask1 = filtered_data[\"number_of_anticoagulents\"]==1\n",
    "\n",
    "column_names = [\"AFAnticoagulentHeparin_Yes\", \"AFAnticoagulentVitK_Yes\", \"AFAnticoagulentDOAC_Yes\"]\n",
    "\n",
    "for col_name in column_names:\n",
    "    print (f\"Info for {col_name} = 1\")\n",
    "\n",
    "    mask2 = filtered_data[col_name]==1\n",
    "    mask = mask1 * mask2\n",
    "    groupby = filtered_data[mask].groupby(\n",
    "                            [\"S2Thrombolysis\"]).size()\n",
    "    print ()\n",
    "    print(groupby)\n",
    "\n",
    "    propn = groupby[1]/(groupby[0]+groupby[1])\n",
    "    print ()\n",
    "    print(f\"Proportion of patients who recieve {col_name} \"\n",
    "          f\"that receive thrombolysis: {round(propn, 4)}\")"
   ]
  },
  {
   "cell_type": "code",
   "execution_count": 53,
   "metadata": {},
   "outputs": [
    {
     "name": "stdout",
     "output_type": "stream",
     "text": [
      "S2Thrombolysis\n",
      "0    4288\n",
      "1     229\n",
      "dtype: int64\n",
      "Proportion of patients who recieve VitK that receive thrombolysis: 0.0507\n"
     ]
    }
   ],
   "source": [
    "mask1 = filtered_data[\"number_of_anticoagulents\"]==1\n",
    "mask2 = filtered_data[\"AFAnticoagulentVitK_Yes\"]==1\n",
    "mask = mask1 * mask2\n",
    "groupby = filtered_data[mask].groupby(\n",
    "                        [\"S2Thrombolysis\"]).size()\n",
    "print(groupby)\n",
    "\n",
    "propn = groupby[1]/(groupby[0]+groupby[1])\n",
    "\n",
    "print(f\"Proportion of patients who recieve VitK \"\n",
    "      f\"that receive thrombolysis: {round(propn, 4)}\")\n"
   ]
  },
  {
   "cell_type": "code",
   "execution_count": 54,
   "metadata": {},
   "outputs": [
    {
     "name": "stdout",
     "output_type": "stream",
     "text": [
      "S2Thrombolysis\n",
      "0    7268\n",
      "1     190\n",
      "dtype: int64\n",
      "Proportion of patients who recieve DOAC that receive thrombolysis: 0.0255\n"
     ]
    }
   ],
   "source": [
    "mask1 = filtered_data[\"number_of_anticoagulents\"]==1\n",
    "mask2 = filtered_data[\"AFAnticoagulentDOAC_Yes\"]==1\n",
    "mask = mask1 * mask2\n",
    "groupby = filtered_data[mask].groupby(\n",
    "                        [\"S2Thrombolysis\"]).size()\n",
    "print(groupby)\n",
    "\n",
    "propn = groupby[1]/(groupby[0]+groupby[1])\n",
    "\n",
    "print(f\"Proportion of patients who recieve DOAC \"\n",
    "      f\"that receive thrombolysis: {round(propn, 4)}\")"
   ]
  },
  {
   "cell_type": "markdown",
   "metadata": {},
   "source": [
    "### Feature: S2NewAFDiagnosis\n",
    "\n",
    "Look at the three columns: S2NewAFDiagnosis_No, S2NewAFDiagnosis_Yes, S2NewAFDiagnosis_missing\n",
    "\n",
    "Is there a definitive link to the column \"AtrialFibrillation_Yes\"?\n",
    "\n",
    "Wonder whether all patients with already a \"AtrialFibrillation_Yes\" would have a new diagnosis of Atrial Fibrillation recorded as missing - Yes (see scatter plot below)\n",
    "\n",
    "Then for those that came in with a \"AtrialFibrillation_No\", would they all need S2NewAFDiagnosis to be completed as Yes or No?\n",
    "\n",
    "Not the case. It seems that only patients with a \"AtrialFibrillation_No\" can get a \"S2NewAFDiagnosis\", but that not all of them do. So only those that present with a symptom, say dizzy spell.\n"
   ]
  },
  {
   "cell_type": "code",
   "execution_count": 55,
   "metadata": {},
   "outputs": [
    {
     "data": {
      "image/png": "[encoded data removed]",
      "text/plain": [
       "<Figure size 432x288 with 1 Axes>"
      ]
     },
     "metadata": {
      "needs_background": "light"
     },
     "output_type": "display_data"
    }
   ],
   "source": [
    "ax1 = filtered_data.plot.scatter(x=\"AtrialFibrillation_Yes\",\n",
    "                                 y=\"S2NewAFDiagnosis_missing\",\n",
    "                                 c='DarkBlue')"
   ]
  },
  {
   "cell_type": "markdown",
   "metadata": {},
   "source": [
    "Count occurences at each of these three points"
   ]
  },
  {
   "cell_type": "code",
   "execution_count": 56,
   "metadata": {},
   "outputs": [
    {
     "name": "stdout",
     "output_type": "stream",
     "text": [
      "AtrialFibrillation_Yes vs S2NewAFDiagnosis_missing\n"
     ]
    },
    {
     "data": {
      "text/plain": [
       "<AxesSubplot:>"
      ]
     },
     "execution_count": 56,
     "metadata": {},
     "output_type": "execute_result"
    },
    {
     "data": {
      "image/png": "[encoded data removed]",
      "text/plain": [
       "<Figure size 432x288 with 1 Axes>"
      ]
     },
     "metadata": {
      "needs_background": "light"
     },
     "output_type": "display_data"
    }
   ],
   "source": [
    "v1 = 'AtrialFibrillation_Yes'\n",
    "v2 = 'S2NewAFDiagnosis_missing'\n",
    "\n",
    "print(f'{v1} vs {v2}')\n",
    "\n",
    "# a series to use for counting- formatted as cat1_cat2\n",
    "ts = (filtered_data[\"AtrialFibrillation_Yes\"].astype(str) + '_' + filtered_data[\"S2NewAFDiagnosis_missing\"].astype(str))\n",
    "# and plot the counts of the groups\n",
    "ts.value_counts().plot(kind = 'bar')"
   ]
  },
  {
   "cell_type": "markdown",
   "metadata": {},
   "source": [
    "All patients with already a \"AtrialFibrillation_Yes\" would have a new diagnosis of Atrial Fibrillation recorded as missing (bar \"1_1\", count ~ 50,000).\n",
    "\n",
    "However for the remaining patients that arrive without AtrialFibrillation, ~120000 patients had S2NewAFDiagnosis recorded as missing (bar \"0_1\") and ~70,000 had S2NewAFDiagnosis recorded as not missing (bar \"0_0\") - so either Yes or No.\n",
    "\n",
    "So not all patients that came without a prior AF diagnosis gets a No or Yes on arrival.\n",
    "\n",
    "A NewAF may only be instigated when there's a symptom to require it -eg if patent having dizzy spell."
   ]
  },
  {
   "cell_type": "markdown",
   "metadata": {},
   "source": [
    "### S2StrokeType_Infarction vs. S2StrokeType_Primary Intracerebral Haemorrhage\n",
    "\n",
    "We were expecting this to be highlighted by the correlation matrix. We needed to slacken the range to 0.97 - 1.03 to  also identify:\n",
    "S2StrokeType_Infarction vs. S2StrokeType_Primary Intracerebral Haemorrhage\n",
    "\n",
    "This did not come up as there is a third feature linked to these two: S2StrokeType_missing is also part of this group (as only one of these three has a 1, the rest 0). As there are only 1068 patients with S2StrokeType_missing = 1, that's why the correlation between Infarction and Haemorrhage is strong, but not 1."
   ]
  },
  {
   "cell_type": "code",
   "execution_count": 57,
   "metadata": {},
   "outputs": [
    {
     "data": {
      "text/plain": [
       "-0.9797280879828801"
      ]
     },
     "execution_count": 57,
     "metadata": {},
     "output_type": "execute_result"
    }
   ],
   "source": [
    "corr_matrix.loc[\"S2StrokeType_Infarction\"][\"S2StrokeType_Primary Intracerebral Haemorrhage\"]"
   ]
  },
  {
   "cell_type": "code",
   "execution_count": 58,
   "metadata": {},
   "outputs": [
    {
     "data": {
      "text/plain": [
       "-0.17581538586683762"
      ]
     },
     "execution_count": 58,
     "metadata": {},
     "output_type": "execute_result"
    }
   ],
   "source": [
    "corr_matrix.loc[\"S2StrokeType_Infarction\"][\"S2StrokeType_missing\"]"
   ]
  },
  {
   "cell_type": "code",
   "execution_count": 59,
   "metadata": {},
   "outputs": [
    {
     "data": {
      "text/plain": [
       "-0.024960097915228564"
      ]
     },
     "execution_count": 59,
     "metadata": {},
     "output_type": "execute_result"
    }
   ],
   "source": [
    "corr_matrix.loc[\"S2StrokeType_Primary Intracerebral Haemorrhage\"][\"S2StrokeType_missing\"]"
   ]
  },
  {
   "cell_type": "markdown",
   "metadata": {},
   "source": [
    "We identified that S2StrokeType_missing = 1 when, and only when, 'S2BrainImagingTime_min' = 9999\n",
    "So is the stroke type diagnosis is missing for only the patients that have not had a scan (see below).\n",
    "\n",
    "This is in 1068 of the full cases (and 296 of the filtered patient cases that the model sees)."
   ]
  },
  {
   "cell_type": "code",
   "execution_count": 60,
   "metadata": {},
   "outputs": [
    {
     "name": "stdout",
     "output_type": "stream",
     "text": [
      "S2BrainImagingTime_min==9999_S2StrokeType_missing\n"
     ]
    },
    {
     "data": {
      "text/plain": [
       "<AxesSubplot:>"
      ]
     },
     "execution_count": 60,
     "metadata": {},
     "output_type": "execute_result"
    },
    {
     "data": {
      "image/png": "[encoded data removed]",
      "text/plain": [
       "<Figure size 432x288 with 1 Axes>"
      ]
     },
     "metadata": {
      "needs_background": "light"
     },
     "output_type": "display_data"
    }
   ],
   "source": [
    "v1 = 'S2BrainImagingTime_min==9999'\n",
    "v2 = 'S2StrokeType_missing'\n",
    "\n",
    "print(f'{v1}_{v2}')\n",
    "\n",
    "# a series to use for counting- formatted as cat1_cat2\n",
    "s1 = filtered_data['S2BrainImagingTime_min'] == 9999\n",
    "ts = (s1.astype(str) + '_' + filtered_data['S2StrokeType_missing'].astype(str))\n",
    "# and plot the counts of the groups\n",
    "ts.value_counts().plot(kind = 'bar')"
   ]
  },
  {
   "cell_type": "markdown",
   "metadata": {},
   "source": [
    "Yes, these two features are linked. When 'S2BrainImagingTime_min' = 9999, means no scan was taken, and so S2StrokeType is missing."
   ]
  },
  {
   "cell_type": "code",
   "execution_count": 61,
   "metadata": {},
   "outputs": [
    {
     "name": "stdout",
     "output_type": "stream",
     "text": [
      "1068\n",
      "1068\n",
      "1068\n",
      "1068.0\n"
     ]
    }
   ],
   "source": [
    "# Two ways to calculate this number\n",
    "mask = filtered_data['S2BrainImagingTime_min']==9999\n",
    "print(mask.sum())\n",
    "df1 = filtered_data['S2StrokeType_missing'][mask]\n",
    "print(df1.sum())\n",
    "\n",
    "mask = filtered_data['S2StrokeType_missing']==1\n",
    "print(mask.sum())\n",
    "df1 = filtered_data['S2BrainImagingTime_min'][mask]\n",
    "print(df1.sum()/9999)"
   ]
  },
  {
   "cell_type": "markdown",
   "metadata": {},
   "source": [
    "Do we need to include patients in the dataset that do not get scanned?\n",
    "\n",
    "Look at whether these patients are evenly spread across the hosptials, or come from one hospital (as this is a process issue, not a patient issue). Let's use the dataset that is filtered on process times for this."
   ]
  },
  {
   "cell_type": "code",
   "execution_count": 62,
   "metadata": {},
   "outputs": [
    {
     "name": "stdout",
     "output_type": "stream",
     "text": [
      "This would remove 296 patients from the model dataset\n"
     ]
    },
    {
     "data": {
      "text/plain": [
       "296"
      ]
     },
     "execution_count": 62,
     "metadata": {},
     "output_type": "execute_result"
    }
   ],
   "source": [
    "mask = filtered_process_data['S2BrainImagingTime_min']==9999\n",
    "print(f\"This would remove {mask.sum()} patients from the model dataset\")\n",
    "df1 = filtered_process_data['S2StrokeType_missing'][mask]\n",
    "df1.sum()"
   ]
  },
  {
   "cell_type": "markdown",
   "metadata": {},
   "source": [
    "Checking that it's the same both ways (whenever 'S2StrokeType_missing'==1 then 'S2BrainImagingTime_min'==9999, and whenever 'S2BrainImagingTime_min'==9999 then 'S2StrokeType_missing'==1)"
   ]
  },
  {
   "cell_type": "code",
   "execution_count": 63,
   "metadata": {},
   "outputs": [
    {
     "name": "stdout",
     "output_type": "stream",
     "text": [
      "296\n"
     ]
    },
    {
     "data": {
      "text/plain": [
       "296.0"
      ]
     },
     "execution_count": 63,
     "metadata": {},
     "output_type": "execute_result"
    }
   ],
   "source": [
    "mask = filtered_process_data['S2StrokeType_missing']==1\n",
    "print(mask.sum())\n",
    "df1 = filtered_process_data['S2BrainImagingTime_min'][mask]\n",
    "df1.sum()/9999"
   ]
  },
  {
   "cell_type": "code",
   "execution_count": 64,
   "metadata": {},
   "outputs": [
    {
     "name": "stdout",
     "output_type": "stream",
     "text": [
      "Looking at removing 0.2913013098717684% of the patients\n"
     ]
    }
   ],
   "source": [
    "a = (df1.sum()/9999)/filtered_process_data.shape[0]\n",
    "print(f\"Looking at removing {a*100}% of the patients\")"
   ]
  },
  {
   "cell_type": "markdown",
   "metadata": {},
   "source": [
    "How are these patient spread across the hosptials?"
   ]
  },
  {
   "cell_type": "code",
   "execution_count": 65,
   "metadata": {},
   "outputs": [
    {
     "name": "stdout",
     "output_type": "stream",
     "text": [
      "There are 85 hospitals that would have patients removed\n"
     ]
    }
   ],
   "source": [
    "df2 = filtered_process_data['StrokeTeam'][mask]\n",
    "print(f\"There are {df2.nunique()} hospitals that would have patients removed\")"
   ]
  },
  {
   "cell_type": "markdown",
   "metadata": {},
   "source": [
    "The counts of patients per hosptial"
   ]
  },
  {
   "cell_type": "code",
   "execution_count": 66,
   "metadata": {},
   "outputs": [
    {
     "data": {
      "text/plain": [
       "CQAAX8797Z    23\n",
       "IUMNL9626U    18\n",
       "EQZZZ5658G    11\n",
       "VKKDD9172T    11\n",
       "VZOCK3505U    11\n",
       "UALFR2142B    11\n",
       "VZZSN1825O     9\n",
       "XDAFB7350M     9\n",
       "QWKRA8499D     9\n",
       "GWOXR9160G     8\n",
       "Name: StrokeTeam, dtype: int64"
      ]
     },
     "execution_count": 66,
     "metadata": {},
     "output_type": "execute_result"
    }
   ],
   "source": [
    "s1 = df2.value_counts()\n",
    "s1.head(10)"
   ]
  },
  {
   "cell_type": "markdown",
   "metadata": {},
   "source": [
    "The proportions of patients per hosp"
   ]
  },
  {
   "cell_type": "code",
   "execution_count": 67,
   "metadata": {},
   "outputs": [
    {
     "data": {
      "text/html": [
       "<div>\n",
       "<style scoped>\n",
       "    .dataframe tbody tr th:only-of-type {\n",
       "        vertical-align: middle;\n",
       "    }\n",
       "\n",
       "    .dataframe tbody tr th {\n",
       "        vertical-align: top;\n",
       "    }\n",
       "\n",
       "    .dataframe thead th {\n",
       "        text-align: right;\n",
       "    }\n",
       "</style>\n",
       "<table border=\"1\" class=\"dataframe\">\n",
       "  <thead>\n",
       "    <tr style=\"text-align: right;\">\n",
       "      <th></th>\n",
       "      <th>no_scan_diagnosis</th>\n",
       "      <th>admissions</th>\n",
       "      <th>proportion_not_scanned</th>\n",
       "    </tr>\n",
       "  </thead>\n",
       "  <tbody>\n",
       "    <tr>\n",
       "      <th>IUMNL9626U</th>\n",
       "      <td>18.0</td>\n",
       "      <td>481</td>\n",
       "      <td>0.037422</td>\n",
       "    </tr>\n",
       "    <tr>\n",
       "      <th>CQAAX8797Z</th>\n",
       "      <td>23.0</td>\n",
       "      <td>741</td>\n",
       "      <td>0.031039</td>\n",
       "    </tr>\n",
       "    <tr>\n",
       "      <th>HZMLX7970T</th>\n",
       "      <td>7.0</td>\n",
       "      <td>254</td>\n",
       "      <td>0.027559</td>\n",
       "    </tr>\n",
       "    <tr>\n",
       "      <th>QZMCK3259S</th>\n",
       "      <td>8.0</td>\n",
       "      <td>423</td>\n",
       "      <td>0.018913</td>\n",
       "    </tr>\n",
       "    <tr>\n",
       "      <th>VZZSN1825O</th>\n",
       "      <td>9.0</td>\n",
       "      <td>618</td>\n",
       "      <td>0.014563</td>\n",
       "    </tr>\n",
       "    <tr>\n",
       "      <th>LFPMM4706C</th>\n",
       "      <td>5.0</td>\n",
       "      <td>403</td>\n",
       "      <td>0.012407</td>\n",
       "    </tr>\n",
       "    <tr>\n",
       "      <th>VZOCK3505U</th>\n",
       "      <td>11.0</td>\n",
       "      <td>911</td>\n",
       "      <td>0.012075</td>\n",
       "    </tr>\n",
       "    <tr>\n",
       "      <th>EQZZZ5658G</th>\n",
       "      <td>11.0</td>\n",
       "      <td>995</td>\n",
       "      <td>0.011055</td>\n",
       "    </tr>\n",
       "    <tr>\n",
       "      <th>XQAGA4299B</th>\n",
       "      <td>7.0</td>\n",
       "      <td>654</td>\n",
       "      <td>0.010703</td>\n",
       "    </tr>\n",
       "    <tr>\n",
       "      <th>QNARI2373R</th>\n",
       "      <td>6.0</td>\n",
       "      <td>585</td>\n",
       "      <td>0.010256</td>\n",
       "    </tr>\n",
       "    <tr>\n",
       "      <th>GWOXR9160G</th>\n",
       "      <td>8.0</td>\n",
       "      <td>798</td>\n",
       "      <td>0.010025</td>\n",
       "    </tr>\n",
       "    <tr>\n",
       "      <th>VUHVS8909F</th>\n",
       "      <td>8.0</td>\n",
       "      <td>822</td>\n",
       "      <td>0.009732</td>\n",
       "    </tr>\n",
       "    <tr>\n",
       "      <th>OHGIK1804X</th>\n",
       "      <td>8.0</td>\n",
       "      <td>861</td>\n",
       "      <td>0.009292</td>\n",
       "    </tr>\n",
       "    <tr>\n",
       "      <th>UALFR2142B</th>\n",
       "      <td>11.0</td>\n",
       "      <td>1300</td>\n",
       "      <td>0.008462</td>\n",
       "    </tr>\n",
       "    <tr>\n",
       "      <th>VKKDD9172T</th>\n",
       "      <td>11.0</td>\n",
       "      <td>1523</td>\n",
       "      <td>0.007223</td>\n",
       "    </tr>\n",
       "  </tbody>\n",
       "</table>\n",
       "</div>"
      ],
      "text/plain": [
       "            no_scan_diagnosis  admissions  proportion_not_scanned\n",
       "IUMNL9626U               18.0         481                0.037422\n",
       "CQAAX8797Z               23.0         741                0.031039\n",
       "HZMLX7970T                7.0         254                0.027559\n",
       "QZMCK3259S                8.0         423                0.018913\n",
       "VZZSN1825O                9.0         618                0.014563\n",
       "LFPMM4706C                5.0         403                0.012407\n",
       "VZOCK3505U               11.0         911                0.012075\n",
       "EQZZZ5658G               11.0         995                0.011055\n",
       "XQAGA4299B                7.0         654                0.010703\n",
       "QNARI2373R                6.0         585                0.010256\n",
       "GWOXR9160G                8.0         798                0.010025\n",
       "VUHVS8909F                8.0         822                0.009732\n",
       "OHGIK1804X                8.0         861                0.009292\n",
       "UALFR2142B               11.0        1300                0.008462\n",
       "VKKDD9172T               11.0        1523                0.007223"
      ]
     },
     "execution_count": 67,
     "metadata": {},
     "output_type": "execute_result"
    }
   ],
   "source": [
    "s2 = filtered_process_data['StrokeTeam'].value_counts()\n",
    "df3 = pd.concat([s1.rename(\"no_scan_diagnosis\"), s2.rename('admissions')], axis=1)\n",
    "df3[\"proportion_not_scanned\"] = df3[\"no_scan_diagnosis\"]/df3['admissions']\n",
    "df3.sort_values(\"proportion_not_scanned\", ascending=False,inplace=True)\n",
    "df3.head(15)"
   ]
  },
  {
   "cell_type": "markdown",
   "metadata": {},
   "source": [
    "Decided to remove the patients that were not scanned and so do not have a stroke type. So only include in the dataset patients that get scanned. This removes 0.3% of the patients.\n",
    "\n",
    "Only need to keep \"S2StrokeType_Infarction\"\n",
    "\n",
    "Remove \"S2StrokeType_missing\"\\\n",
    "Remove \"S2StrokeType_Primary Intracerebral Haemorrhage\"\n"
   ]
  },
  {
   "cell_type": "markdown",
   "metadata": {},
   "source": [
    "### Create list of the column names to drop from the dataset\n",
    "(due to having a near perfect correlation with another feature)"
   ]
  },
  {
   "cell_type": "code",
   "execution_count": 68,
   "metadata": {},
   "outputs": [],
   "source": [
    "columns_to_drop = ['MoreEqual80y_No','S1Gender_Male','S1OnsetInHospital_No',\n",
    "                   'CongestiveHeartFailure_No','Hypertension_No',\n",
    "                   'AtrialFibrillation_No', 'Diabetes_No', 'StrokeTIA_No',\n",
    "                   'AFAntiplatelet_missing',\n",
    "                   'S1ArriveByAmbulance_missing',\n",
    "                   'S2StrokeType_missing',\n",
    "                   'S2StrokeType_Primary Intracerebral Haemorrhage']\n",
    "\n",
    "filtered_data.drop(columns=columns_to_drop, inplace=True)"
   ]
  },
  {
   "cell_type": "markdown",
   "metadata": {},
   "source": [
    "Check the correlation matrix again to see whether there are any near perfectly correlated features."
   ]
  },
  {
   "cell_type": "code",
   "execution_count": 69,
   "metadata": {},
   "outputs": [
    {
     "name": "stdout",
     "output_type": "stream",
     "text": [
      "There are 12 feature pairings with correlation in range 0.99 to 1.01 (+/-) in Dataframe : \n"
     ]
    },
    {
     "data": {
      "text/plain": [
       "[('AFAnticoagulentDOAC_missing', 'AFAnticoagulentVitK_missing'),\n",
       " ('AFAnticoagulentHeparin_No', 'AFAnticoagulentVitK_missing'),\n",
       " ('AFAnticoagulentHeparin_missing', 'AFAnticoagulentVitK_missing'),\n",
       " ('AFAnticoagulentVitK_missing', 'AFAnticoagulentDOAC_missing'),\n",
       " ('AFAnticoagulentHeparin_No', 'AFAnticoagulentDOAC_missing'),\n",
       " ('AFAnticoagulentHeparin_missing', 'AFAnticoagulentDOAC_missing'),\n",
       " ('AFAnticoagulentVitK_missing', 'AFAnticoagulentHeparin_No'),\n",
       " ('AFAnticoagulentDOAC_missing', 'AFAnticoagulentHeparin_No'),\n",
       " ('AFAnticoagulentHeparin_missing', 'AFAnticoagulentHeparin_No'),\n",
       " ('AFAnticoagulentVitK_missing', 'AFAnticoagulentHeparin_missing'),\n",
       " ('AFAnticoagulentDOAC_missing', 'AFAnticoagulentHeparin_missing'),\n",
       " ('AFAnticoagulentHeparin_No', 'AFAnticoagulentHeparin_missing')]"
      ]
     },
     "execution_count": 69,
     "metadata": {},
     "output_type": "execute_result"
    }
   ],
   "source": [
    "corr_matrix = filtered_data.corr()\n",
    "\n",
    "# Get list of index positions i.e. row & column of all occurrences of 1 in the dataframe, not on the diagonal\n",
    "min_value = 0.99\n",
    "max_value = 1.01\n",
    "listOfPositions = getIndexesRange(corr_matrix.abs(), min_value, max_value, True)\n",
    "\n",
    "print(f'There are {len(listOfPositions)} feature pairings with correlation in range {min_value} to {max_value} (+/-) in Dataframe : ')\n",
    "listOfPositions"
   ]
  },
  {
   "cell_type": "markdown",
   "metadata": {},
   "source": [
    "Dropping these columns has informed, and will be included in, \"1_process_and_impute.ipynb\""
   ]
  },
  {
   "cell_type": "markdown",
   "metadata": {},
   "source": [
    "### Interested to know the max value for these two features about process duration"
   ]
  },
  {
   "cell_type": "code",
   "execution_count": 70,
   "metadata": {},
   "outputs": [
    {
     "data": {
      "text/plain": [
       "S2BrainImagingTime_min      175742.0\n",
       "S1OnsetToArrival_min      62064145.0\n",
       "dtype: float64"
      ]
     },
     "execution_count": 70,
     "metadata": {},
     "output_type": "execute_result"
    }
   ],
   "source": [
    "filtered_data[['S2BrainImagingTime_min', 'S1OnsetToArrival_min']].max()"
   ]
  },
  {
   "cell_type": "code",
   "execution_count": 71,
   "metadata": {},
   "outputs": [
    {
     "data": {
      "text/plain": [
       "S2BrainImagingTime_min    87885.0\n",
       "S1OnsetToArrival_min       9999.0\n",
       "dtype: float64"
      ]
     },
     "execution_count": 71,
     "metadata": {},
     "output_type": "execute_result"
    }
   ],
   "source": [
    "filtered_process_data[['S2BrainImagingTime_min', 'S1OnsetToArrival_min']].max()"
   ]
  },
  {
   "cell_type": "markdown",
   "metadata": {},
   "source": [
    "## Do we want to restrict the patients to those with a certain onset to scan time?\n",
    "\n",
    "The SHAP plots show time to scan as having a much wider contribution to the outcome, masking the others. Is this becasue this is the only feature that has such a wide range? We've already restricted the dataset to only having patients with an arrival tiem of less than 4 hours (and their stroke onset not in hospital).\n",
    "\n",
    "I don't think another feature exists, other thant he scan time, that is not restricted (others are binary, or age/scores which are both naturally limited).\n",
    "\n",
    "What's the longest onset to scan time for a patient that recieves thrombolysis? (look at both datasets - one filtered by hospital admissions, and the other also filtered for onset to arrival times)"
   ]
  },
  {
   "cell_type": "code",
   "execution_count": 72,
   "metadata": {},
   "outputs": [
    {
     "data": {
      "text/plain": [
       "S2BrainImagingTime_min     492.0\n",
       "S1OnsetToArrival_min      9999.0\n",
       "dtype: float64"
      ]
     },
     "execution_count": 72,
     "metadata": {},
     "output_type": "execute_result"
    }
   ],
   "source": [
    "mask = filtered_data['S2Thrombolysis'] == 1\n",
    "filtered_data[mask][['S2BrainImagingTime_min', 'S1OnsetToArrival_min']].max()"
   ]
  },
  {
   "cell_type": "code",
   "execution_count": 73,
   "metadata": {},
   "outputs": [
    {
     "data": {
      "text/plain": [
       "S2BrainImagingTime_min     492.0\n",
       "S1OnsetToArrival_min      9999.0\n",
       "dtype: float64"
      ]
     },
     "execution_count": 73,
     "metadata": {},
     "output_type": "execute_result"
    }
   ],
   "source": [
    "mask = filtered_process_data['S2Thrombolysis'] == 1\n",
    "filtered_process_data[mask][['S2BrainImagingTime_min', 'S1OnsetToArrival_min']].max()"
   ]
  },
  {
   "cell_type": "code",
   "execution_count": 74,
   "metadata": {},
   "outputs": [
    {
     "data": {
      "text/plain": [
       "<AxesSubplot:>"
      ]
     },
     "execution_count": 74,
     "metadata": {},
     "output_type": "execute_result"
    },
    {
     "data": {
      "image/png": "[encoded data removed]",
      "text/plain": [
       "<Figure size 432x288 with 1 Axes>"
      ]
     },
     "metadata": {
      "needs_background": "light"
     },
     "output_type": "display_data"
    }
   ],
   "source": [
    "filtered_process_data['S2BrainImagingTime_min'].hist()"
   ]
  },
  {
   "cell_type": "code",
   "execution_count": 75,
   "metadata": {},
   "outputs": [
    {
     "data": {
      "text/plain": [
       "<AxesSubplot:>"
      ]
     },
     "execution_count": 75,
     "metadata": {},
     "output_type": "execute_result"
    },
    {
     "data": {
      "image/png": "[encoded data removed]",
      "text/plain": [
       "<Figure size 432x288 with 1 Axes>"
      ]
     },
     "metadata": {
      "needs_background": "light"
     },
     "output_type": "display_data"
    }
   ],
   "source": [
    "mask = filtered_process_data['S2BrainImagingTime_min'] <= 10000\n",
    "filtered_process_data[mask]['S2BrainImagingTime_min'].hist()"
   ]
  },
  {
   "cell_type": "code",
   "execution_count": 76,
   "metadata": {},
   "outputs": [
    {
     "data": {
      "text/plain": [
       "<AxesSubplot:>"
      ]
     },
     "execution_count": 76,
     "metadata": {},
     "output_type": "execute_result"
    },
    {
     "data": {
      "image/png": "[encoded data removed]",
      "text/plain": [
       "<Figure size 432x288 with 1 Axes>"
      ]
     },
     "metadata": {
      "needs_background": "light"
     },
     "output_type": "display_data"
    }
   ],
   "source": [
    "mask = filtered_process_data['S2BrainImagingTime_min'] <= 2000\n",
    "filtered_process_data[mask]['S2BrainImagingTime_min'].hist()"
   ]
  },
  {
   "cell_type": "markdown",
   "metadata": {},
   "source": [
    "We've decided not to restrict the patients based on their scan time. The other features we restrict are the features that are outside of the hospitals control (onset location, arrival time). "
   ]
  }
 ],
 "metadata": {
  "kernelspec": {
   "display_name": "Python 3 (ipykernel)",
   "language": "python",
   "name": "python3"
  },
  "language_info": {
   "codemirror_mode": {
    "name": "ipython",
    "version": 3
   },
   "file_extension": ".py",
   "mimetype": "text/x-python",
   "name": "python",
   "nbconvert_exporter": "python",
   "pygments_lexer": "ipython3",
   "version": "3.8.13"
  }
 },
 "nbformat": 4,
 "nbformat_minor": 4
}
