{
 "cells": [
  {
   "attachments": {},
   "cell_type": "markdown",
   "metadata": {},
   "source": [
    "# Reasoning behind data cleaning\n",
    "\n",
    "## Summary\n",
    "\n",
    "This notebook explains the decisions made when cleaning SSNAP extract v2. To view the cleaning steps performed, please see \"01_clean_raw_data.ipynb\".\n",
    "\n",
    "## Aims\n",
    "\n",
    "(1) Explain decisions related to variables that were included in the clean dataset - for example:\n",
    "* Why and which results were considered likely to be errors/anomalous.\n",
    "* How decided on a threshold to identify results that were considered extreme or anomalous.\n",
    "\n",
    "(2) Explain why some variables from the SSNAP data were not included in the clean dataset."
   ]
  },
  {
   "attachments": {},
   "cell_type": "markdown",
   "metadata": {},
   "source": [
    "## Set up"
   ]
  },
  {
   "cell_type": "code",
   "execution_count": 1,
   "metadata": {},
   "outputs": [],
   "source": [
    "# Import packages and functions\n",
    "import matplotlib.pyplot as plt\n",
    "import numpy as np\n",
    "import os\n",
    "import pandas as pd\n",
    "from dataclasses import dataclass\n",
    "\n",
    "# Linting\n",
    "%load_ext pycodestyle_magic\n",
    "%pycodestyle_on\n",
    "\n",
    "# Set the maximum number of columns and rows to 150\n",
    "pd.set_option('display.max_columns', 150)\n",
    "pd.set_option('display.max_rows', 150)\n",
    "\n",
    "\n",
    "# Set paths and filenames\n",
    "@dataclass(frozen=True)\n",
    "class Paths:\n",
    "    '''Singleton object for storing paths to data and files.'''\n",
    "\n",
    "    data_path = './../output/'\n",
    "    data_filename = 'reformatted_data.csv'\n",
    "    raw_path = './../data'\n",
    "    raw_filename = 'SAMueL ssnap extract v2.csv'\n",
    "    notebook = '01'\n",
    "\n",
    "\n",
    "paths = Paths()"
   ]
  },
  {
   "cell_type": "code",
   "execution_count": 2,
   "metadata": {},
   "outputs": [],
   "source": [
    "# Load data\n",
    "data = pd.read_csv(os.path.join(paths.data_path, paths.data_filename))\n",
    "raw_data = pd.read_csv(os.path.join(paths.raw_path, paths.raw_filename),\n",
    "                       low_memory=False)"
   ]
  },
  {
   "cell_type": "code",
   "execution_count": 3,
   "metadata": {},
   "outputs": [],
   "source": [
    "def compare_raw_clean(raw_data, clean_data):\n",
    "    '''\n",
    "    Merges the raw and clean data using patient ID\n",
    "    Then presents counts for the remaining columns when ID is dropped\n",
    "    '''\n",
    "    compare = pd.merge(left=clean_data, left_on='id',\n",
    "                       right=raw_data, right_on='PatientId')\n",
    "    differences = (compare\n",
    "                   .drop(columns=['id', 'PatientId'], axis=1)\n",
    "                   .value_counts(dropna=False)\n",
    "                   .reset_index(name='count'))\n",
    "    return (differences.sort_values(differences.columns[0]))\n",
    "\n",
    "\n",
    "def mark_missing(df):\n",
    "    '''\n",
    "    Identifies NaN then marks each value as missing data or having data\n",
    "    '''\n",
    "    df_missing = (pd.DataFrame(df)\n",
    "                  .isnull()\n",
    "                  .apply(lambda x: x.map({True: 'Missing data',\n",
    "                                          False: 'Have data'})))\n",
    "    return (df_missing)"
   ]
  },
  {
   "attachments": {},
   "cell_type": "markdown",
   "metadata": {},
   "source": [
    "## Included variables\n",
    "\n",
    "### Overview of dataset"
   ]
  },
  {
   "cell_type": "code",
   "execution_count": 4,
   "metadata": {},
   "outputs": [
    {
     "data": {
      "text/plain": [
       "(357103, 67)"
      ]
     },
     "execution_count": 4,
     "metadata": {},
     "output_type": "execute_result"
    }
   ],
   "source": [
    "# Show shape of the data\n",
    "data.shape"
   ]
  },
  {
   "cell_type": "code",
   "execution_count": 5,
   "metadata": {},
   "outputs": [
    {
     "data": {
      "text/html": [
       "<div>\n",
       "<style scoped>\n",
       "    .dataframe tbody tr th:only-of-type {\n",
       "        vertical-align: middle;\n",
       "    }\n",
       "\n",
       "    .dataframe tbody tr th {\n",
       "        vertical-align: top;\n",
       "    }\n",
       "\n",
       "    .dataframe thead th {\n",
       "        text-align: right;\n",
       "    }\n",
       "</style>\n",
       "<table border=\"1\" class=\"dataframe\">\n",
       "  <thead>\n",
       "    <tr style=\"text-align: right;\">\n",
       "      <th></th>\n",
       "      <th>Data type</th>\n",
       "      <th>Proportion complete</th>\n",
       "    </tr>\n",
       "  </thead>\n",
       "  <tbody>\n",
       "    <tr>\n",
       "      <th>id</th>\n",
       "      <td>int64</td>\n",
       "      <td>1.000000</td>\n",
       "    </tr>\n",
       "    <tr>\n",
       "      <th>stroke_team</th>\n",
       "      <td>object</td>\n",
       "      <td>1.000000</td>\n",
       "    </tr>\n",
       "    <tr>\n",
       "      <th>age</th>\n",
       "      <td>float64</td>\n",
       "      <td>1.000000</td>\n",
       "    </tr>\n",
       "    <tr>\n",
       "      <th>male</th>\n",
       "      <td>int64</td>\n",
       "      <td>1.000000</td>\n",
       "    </tr>\n",
       "    <tr>\n",
       "      <th>infarction</th>\n",
       "      <td>float64</td>\n",
       "      <td>1.000000</td>\n",
       "    </tr>\n",
       "    <tr>\n",
       "      <th>onset_to_arrival_time</th>\n",
       "      <td>float64</td>\n",
       "      <td>0.668412</td>\n",
       "    </tr>\n",
       "    <tr>\n",
       "      <th>onset_known</th>\n",
       "      <td>int64</td>\n",
       "      <td>1.000000</td>\n",
       "    </tr>\n",
       "    <tr>\n",
       "      <th>precise_onset_known</th>\n",
       "      <td>int64</td>\n",
       "      <td>1.000000</td>\n",
       "    </tr>\n",
       "    <tr>\n",
       "      <th>onset_during_sleep</th>\n",
       "      <td>int64</td>\n",
       "      <td>1.000000</td>\n",
       "    </tr>\n",
       "    <tr>\n",
       "      <th>arrive_by_ambulance</th>\n",
       "      <td>float64</td>\n",
       "      <td>0.999980</td>\n",
       "    </tr>\n",
       "    <tr>\n",
       "      <th>call_to_ambulance_arrival_time</th>\n",
       "      <td>float64</td>\n",
       "      <td>0.239670</td>\n",
       "    </tr>\n",
       "    <tr>\n",
       "      <th>ambulance_on_scene_time</th>\n",
       "      <td>float64</td>\n",
       "      <td>0.239670</td>\n",
       "    </tr>\n",
       "    <tr>\n",
       "      <th>ambulance_travel_to_hospital_time</th>\n",
       "      <td>float64</td>\n",
       "      <td>0.239670</td>\n",
       "    </tr>\n",
       "    <tr>\n",
       "      <th>ambulance_wait_time_at_hospital</th>\n",
       "      <td>float64</td>\n",
       "      <td>0.239670</td>\n",
       "    </tr>\n",
       "    <tr>\n",
       "      <th>month</th>\n",
       "      <td>int64</td>\n",
       "      <td>1.000000</td>\n",
       "    </tr>\n",
       "    <tr>\n",
       "      <th>year</th>\n",
       "      <td>int64</td>\n",
       "      <td>1.000000</td>\n",
       "    </tr>\n",
       "    <tr>\n",
       "      <th>weekday</th>\n",
       "      <td>object</td>\n",
       "      <td>1.000000</td>\n",
       "    </tr>\n",
       "    <tr>\n",
       "      <th>arrival_time_3_hour_period</th>\n",
       "      <td>int64</td>\n",
       "      <td>1.000000</td>\n",
       "    </tr>\n",
       "    <tr>\n",
       "      <th>arrival_to_scan_time</th>\n",
       "      <td>float64</td>\n",
       "      <td>1.000000</td>\n",
       "    </tr>\n",
       "    <tr>\n",
       "      <th>thrombolysis</th>\n",
       "      <td>int64</td>\n",
       "      <td>1.000000</td>\n",
       "    </tr>\n",
       "    <tr>\n",
       "      <th>scan_to_thrombolysis_time</th>\n",
       "      <td>float64</td>\n",
       "      <td>0.115269</td>\n",
       "    </tr>\n",
       "    <tr>\n",
       "      <th>thrombectomy</th>\n",
       "      <td>int64</td>\n",
       "      <td>1.000000</td>\n",
       "    </tr>\n",
       "    <tr>\n",
       "      <th>arrival_to_thrombectomy_time</th>\n",
       "      <td>float64</td>\n",
       "      <td>0.012162</td>\n",
       "    </tr>\n",
       "    <tr>\n",
       "      <th>congestive_heart_failure</th>\n",
       "      <td>int64</td>\n",
       "      <td>1.000000</td>\n",
       "    </tr>\n",
       "    <tr>\n",
       "      <th>hypertension</th>\n",
       "      <td>int64</td>\n",
       "      <td>1.000000</td>\n",
       "    </tr>\n",
       "    <tr>\n",
       "      <th>atrial_fibrillation</th>\n",
       "      <td>int64</td>\n",
       "      <td>1.000000</td>\n",
       "    </tr>\n",
       "    <tr>\n",
       "      <th>diabetes</th>\n",
       "      <td>int64</td>\n",
       "      <td>1.000000</td>\n",
       "    </tr>\n",
       "    <tr>\n",
       "      <th>prior_stroke_tia</th>\n",
       "      <td>int64</td>\n",
       "      <td>1.000000</td>\n",
       "    </tr>\n",
       "    <tr>\n",
       "      <th>afib_antiplatelet</th>\n",
       "      <td>int64</td>\n",
       "      <td>1.000000</td>\n",
       "    </tr>\n",
       "    <tr>\n",
       "      <th>afib_anticoagulant</th>\n",
       "      <td>float64</td>\n",
       "      <td>0.999997</td>\n",
       "    </tr>\n",
       "    <tr>\n",
       "      <th>new_afib_diagnosis</th>\n",
       "      <td>float64</td>\n",
       "      <td>0.552258</td>\n",
       "    </tr>\n",
       "    <tr>\n",
       "      <th>prior_disability</th>\n",
       "      <td>int64</td>\n",
       "      <td>1.000000</td>\n",
       "    </tr>\n",
       "    <tr>\n",
       "      <th>stroke_severity</th>\n",
       "      <td>int64</td>\n",
       "      <td>1.000000</td>\n",
       "    </tr>\n",
       "    <tr>\n",
       "      <th>nihss_complete</th>\n",
       "      <td>int64</td>\n",
       "      <td>1.000000</td>\n",
       "    </tr>\n",
       "    <tr>\n",
       "      <th>nihss_arrival_loc</th>\n",
       "      <td>int64</td>\n",
       "      <td>1.000000</td>\n",
       "    </tr>\n",
       "    <tr>\n",
       "      <th>nihss_arrival_loc_questions</th>\n",
       "      <td>int64</td>\n",
       "      <td>1.000000</td>\n",
       "    </tr>\n",
       "    <tr>\n",
       "      <th>nihss_arrival_loc_commands</th>\n",
       "      <td>int64</td>\n",
       "      <td>1.000000</td>\n",
       "    </tr>\n",
       "    <tr>\n",
       "      <th>nihss_arrival_best_gaze</th>\n",
       "      <td>int64</td>\n",
       "      <td>1.000000</td>\n",
       "    </tr>\n",
       "    <tr>\n",
       "      <th>nihss_arrival_visual</th>\n",
       "      <td>int64</td>\n",
       "      <td>1.000000</td>\n",
       "    </tr>\n",
       "    <tr>\n",
       "      <th>nihss_arrival_facial_palsy</th>\n",
       "      <td>int64</td>\n",
       "      <td>1.000000</td>\n",
       "    </tr>\n",
       "    <tr>\n",
       "      <th>nihss_arrival_motor_arm_left</th>\n",
       "      <td>int64</td>\n",
       "      <td>1.000000</td>\n",
       "    </tr>\n",
       "    <tr>\n",
       "      <th>nihss_arrival_motor_arm_right</th>\n",
       "      <td>int64</td>\n",
       "      <td>1.000000</td>\n",
       "    </tr>\n",
       "    <tr>\n",
       "      <th>nihss_arrival_motor_leg_left</th>\n",
       "      <td>int64</td>\n",
       "      <td>1.000000</td>\n",
       "    </tr>\n",
       "    <tr>\n",
       "      <th>nihss_arrival_motor_leg_right</th>\n",
       "      <td>int64</td>\n",
       "      <td>1.000000</td>\n",
       "    </tr>\n",
       "    <tr>\n",
       "      <th>nihss_arrival_limb_ataxia</th>\n",
       "      <td>int64</td>\n",
       "      <td>1.000000</td>\n",
       "    </tr>\n",
       "    <tr>\n",
       "      <th>nihss_arrival_sensory</th>\n",
       "      <td>int64</td>\n",
       "      <td>1.000000</td>\n",
       "    </tr>\n",
       "    <tr>\n",
       "      <th>nihss_arrival_best_language</th>\n",
       "      <td>int64</td>\n",
       "      <td>1.000000</td>\n",
       "    </tr>\n",
       "    <tr>\n",
       "      <th>nihss_arrival_dysarthria</th>\n",
       "      <td>int64</td>\n",
       "      <td>1.000000</td>\n",
       "    </tr>\n",
       "    <tr>\n",
       "      <th>nihss_arrival_extinction_inattention</th>\n",
       "      <td>int64</td>\n",
       "      <td>1.000000</td>\n",
       "    </tr>\n",
       "    <tr>\n",
       "      <th>discharge_destination</th>\n",
       "      <td>object</td>\n",
       "      <td>1.000000</td>\n",
       "    </tr>\n",
       "    <tr>\n",
       "      <th>death</th>\n",
       "      <td>int64</td>\n",
       "      <td>1.000000</td>\n",
       "    </tr>\n",
       "    <tr>\n",
       "      <th>discharge_disability</th>\n",
       "      <td>float64</td>\n",
       "      <td>0.992868</td>\n",
       "    </tr>\n",
       "    <tr>\n",
       "      <th>disability_6_month</th>\n",
       "      <td>float64</td>\n",
       "      <td>0.304234</td>\n",
       "    </tr>\n",
       "    <tr>\n",
       "      <th>thrombolysis_no_not_available</th>\n",
       "      <td>int64</td>\n",
       "      <td>1.000000</td>\n",
       "    </tr>\n",
       "    <tr>\n",
       "      <th>thrombolysis_no_out_of_hours</th>\n",
       "      <td>int64</td>\n",
       "      <td>1.000000</td>\n",
       "    </tr>\n",
       "    <tr>\n",
       "      <th>thrombolysis_no_scan_not_quick_enough</th>\n",
       "      <td>int64</td>\n",
       "      <td>1.000000</td>\n",
       "    </tr>\n",
       "    <tr>\n",
       "      <th>thrombolysis_no_no_reason</th>\n",
       "      <td>int64</td>\n",
       "      <td>1.000000</td>\n",
       "    </tr>\n",
       "    <tr>\n",
       "      <th>thrombolysis_no_but_haemorrhagic</th>\n",
       "      <td>int64</td>\n",
       "      <td>1.000000</td>\n",
       "    </tr>\n",
       "    <tr>\n",
       "      <th>thrombolysis_no_but_time_window</th>\n",
       "      <td>int64</td>\n",
       "      <td>1.000000</td>\n",
       "    </tr>\n",
       "    <tr>\n",
       "      <th>thrombolysis_no_but_comorbidity</th>\n",
       "      <td>int64</td>\n",
       "      <td>1.000000</td>\n",
       "    </tr>\n",
       "    <tr>\n",
       "      <th>thrombolysis_no_but_medication</th>\n",
       "      <td>int64</td>\n",
       "      <td>1.000000</td>\n",
       "    </tr>\n",
       "    <tr>\n",
       "      <th>thrombolysis_no_but_refusal</th>\n",
       "      <td>int64</td>\n",
       "      <td>1.000000</td>\n",
       "    </tr>\n",
       "    <tr>\n",
       "      <th>thrombolysis_no_but_age</th>\n",
       "      <td>int64</td>\n",
       "      <td>1.000000</td>\n",
       "    </tr>\n",
       "    <tr>\n",
       "      <th>thrombolysis_no_but_improving</th>\n",
       "      <td>int64</td>\n",
       "      <td>1.000000</td>\n",
       "    </tr>\n",
       "    <tr>\n",
       "      <th>thrombolysis_no_but_too_mild_severe</th>\n",
       "      <td>int64</td>\n",
       "      <td>1.000000</td>\n",
       "    </tr>\n",
       "    <tr>\n",
       "      <th>thrombolysis_no_but_time_unknown_wake_up</th>\n",
       "      <td>int64</td>\n",
       "      <td>1.000000</td>\n",
       "    </tr>\n",
       "    <tr>\n",
       "      <th>thrombolysis_no_but_other_medical</th>\n",
       "      <td>int64</td>\n",
       "      <td>1.000000</td>\n",
       "    </tr>\n",
       "  </tbody>\n",
       "</table>\n",
       "</div>"
      ],
      "text/plain": [
       "                                         Data type  Proportion complete\n",
       "id                                           int64             1.000000\n",
       "stroke_team                                 object             1.000000\n",
       "age                                        float64             1.000000\n",
       "male                                         int64             1.000000\n",
       "infarction                                 float64             1.000000\n",
       "onset_to_arrival_time                      float64             0.668412\n",
       "onset_known                                  int64             1.000000\n",
       "precise_onset_known                          int64             1.000000\n",
       "onset_during_sleep                           int64             1.000000\n",
       "arrive_by_ambulance                        float64             0.999980\n",
       "call_to_ambulance_arrival_time             float64             0.239670\n",
       "ambulance_on_scene_time                    float64             0.239670\n",
       "ambulance_travel_to_hospital_time          float64             0.239670\n",
       "ambulance_wait_time_at_hospital            float64             0.239670\n",
       "month                                        int64             1.000000\n",
       "year                                         int64             1.000000\n",
       "weekday                                     object             1.000000\n",
       "arrival_time_3_hour_period                   int64             1.000000\n",
       "arrival_to_scan_time                       float64             1.000000\n",
       "thrombolysis                                 int64             1.000000\n",
       "scan_to_thrombolysis_time                  float64             0.115269\n",
       "thrombectomy                                 int64             1.000000\n",
       "arrival_to_thrombectomy_time               float64             0.012162\n",
       "congestive_heart_failure                     int64             1.000000\n",
       "hypertension                                 int64             1.000000\n",
       "atrial_fibrillation                          int64             1.000000\n",
       "diabetes                                     int64             1.000000\n",
       "prior_stroke_tia                             int64             1.000000\n",
       "afib_antiplatelet                            int64             1.000000\n",
       "afib_anticoagulant                         float64             0.999997\n",
       "new_afib_diagnosis                         float64             0.552258\n",
       "prior_disability                             int64             1.000000\n",
       "stroke_severity                              int64             1.000000\n",
       "nihss_complete                               int64             1.000000\n",
       "nihss_arrival_loc                            int64             1.000000\n",
       "nihss_arrival_loc_questions                  int64             1.000000\n",
       "nihss_arrival_loc_commands                   int64             1.000000\n",
       "nihss_arrival_best_gaze                      int64             1.000000\n",
       "nihss_arrival_visual                         int64             1.000000\n",
       "nihss_arrival_facial_palsy                   int64             1.000000\n",
       "nihss_arrival_motor_arm_left                 int64             1.000000\n",
       "nihss_arrival_motor_arm_right                int64             1.000000\n",
       "nihss_arrival_motor_leg_left                 int64             1.000000\n",
       "nihss_arrival_motor_leg_right                int64             1.000000\n",
       "nihss_arrival_limb_ataxia                    int64             1.000000\n",
       "nihss_arrival_sensory                        int64             1.000000\n",
       "nihss_arrival_best_language                  int64             1.000000\n",
       "nihss_arrival_dysarthria                     int64             1.000000\n",
       "nihss_arrival_extinction_inattention         int64             1.000000\n",
       "discharge_destination                       object             1.000000\n",
       "death                                        int64             1.000000\n",
       "discharge_disability                       float64             0.992868\n",
       "disability_6_month                         float64             0.304234\n",
       "thrombolysis_no_not_available                int64             1.000000\n",
       "thrombolysis_no_out_of_hours                 int64             1.000000\n",
       "thrombolysis_no_scan_not_quick_enough        int64             1.000000\n",
       "thrombolysis_no_no_reason                    int64             1.000000\n",
       "thrombolysis_no_but_haemorrhagic             int64             1.000000\n",
       "thrombolysis_no_but_time_window              int64             1.000000\n",
       "thrombolysis_no_but_comorbidity              int64             1.000000\n",
       "thrombolysis_no_but_medication               int64             1.000000\n",
       "thrombolysis_no_but_refusal                  int64             1.000000\n",
       "thrombolysis_no_but_age                      int64             1.000000\n",
       "thrombolysis_no_but_improving                int64             1.000000\n",
       "thrombolysis_no_but_too_mild_severe          int64             1.000000\n",
       "thrombolysis_no_but_time_unknown_wake_up     int64             1.000000\n",
       "thrombolysis_no_but_other_medical            int64             1.000000"
      ]
     },
     "execution_count": 5,
     "metadata": {},
     "output_type": "execute_result"
    }
   ],
   "source": [
    "# List all columns and show their data types and proportion of completed data\n",
    "data_type_complete = pd.DataFrame(\n",
    "    {'Data type': data.dtypes,\n",
    "     'Proportion complete': data.count() / data.shape[0]})\n",
    "\n",
    "# Show all columns\n",
    "data_type_complete"
   ]
  },
  {
   "attachments": {},
   "cell_type": "markdown",
   "metadata": {},
   "source": [
    "### ID\n",
    "\n",
    "The patient ID from the SSNAP dataset is included, as this provides a consistent identifier between the raw data and different/cleaned versions of the data.\n",
    "\n",
    "*(Decision agreed between MA, KP, AL & AH on 26/05/2023).*\n",
    "\n",
    "### Stroke team\n",
    "\n",
    "No comment - as in SSNAP dataset.\n",
    "\n",
    "### Age\n",
    "\n",
    "The SSNAP data provides age and arrival time as categories. These were converted to numerical variables based on the middle value in each category. We do not have data on what the average age or arrival time was for each category, so this is an assumption. There is a chance that, for example, for ages 90 or over, the average age is actually lower than 92.5. However, in lieu of that information, this is considered a reasonable guess."
   ]
  },
  {
   "cell_type": "code",
   "execution_count": 6,
   "metadata": {},
   "outputs": [
    {
     "data": {
      "text/html": [
       "<div>\n",
       "<style scoped>\n",
       "    .dataframe tbody tr th:only-of-type {\n",
       "        vertical-align: middle;\n",
       "    }\n",
       "\n",
       "    .dataframe tbody tr th {\n",
       "        vertical-align: top;\n",
       "    }\n",
       "\n",
       "    .dataframe thead th {\n",
       "        text-align: right;\n",
       "    }\n",
       "</style>\n",
       "<table border=\"1\" class=\"dataframe\">\n",
       "  <thead>\n",
       "    <tr style=\"text-align: right;\">\n",
       "      <th></th>\n",
       "      <th>age</th>\n",
       "      <th>raw_age</th>\n",
       "      <th>count</th>\n",
       "    </tr>\n",
       "  </thead>\n",
       "  <tbody>\n",
       "    <tr>\n",
       "      <th>10</th>\n",
       "      <td>37.5</td>\n",
       "      <td>AgeUnder40</td>\n",
       "      <td>6053</td>\n",
       "    </tr>\n",
       "    <tr>\n",
       "      <th>11</th>\n",
       "      <td>42.5</td>\n",
       "      <td>Age40to44</td>\n",
       "      <td>5036</td>\n",
       "    </tr>\n",
       "    <tr>\n",
       "      <th>9</th>\n",
       "      <td>47.5</td>\n",
       "      <td>Age45to49</td>\n",
       "      <td>9248</td>\n",
       "    </tr>\n",
       "    <tr>\n",
       "      <th>8</th>\n",
       "      <td>52.5</td>\n",
       "      <td>Age50to54</td>\n",
       "      <td>15714</td>\n",
       "    </tr>\n",
       "    <tr>\n",
       "      <th>7</th>\n",
       "      <td>57.5</td>\n",
       "      <td>Age55to59</td>\n",
       "      <td>21136</td>\n",
       "    </tr>\n",
       "    <tr>\n",
       "      <th>6</th>\n",
       "      <td>62.5</td>\n",
       "      <td>Age60to64</td>\n",
       "      <td>26696</td>\n",
       "    </tr>\n",
       "    <tr>\n",
       "      <th>5</th>\n",
       "      <td>67.5</td>\n",
       "      <td>Age65to69</td>\n",
       "      <td>33405</td>\n",
       "    </tr>\n",
       "    <tr>\n",
       "      <th>3</th>\n",
       "      <td>72.5</td>\n",
       "      <td>Age70to74</td>\n",
       "      <td>45676</td>\n",
       "    </tr>\n",
       "    <tr>\n",
       "      <th>1</th>\n",
       "      <td>77.5</td>\n",
       "      <td>Age75to79</td>\n",
       "      <td>52278</td>\n",
       "    </tr>\n",
       "    <tr>\n",
       "      <th>0</th>\n",
       "      <td>82.5</td>\n",
       "      <td>Age80to84</td>\n",
       "      <td>56672</td>\n",
       "    </tr>\n",
       "    <tr>\n",
       "      <th>2</th>\n",
       "      <td>87.5</td>\n",
       "      <td>Age85to89</td>\n",
       "      <td>49002</td>\n",
       "    </tr>\n",
       "    <tr>\n",
       "      <th>4</th>\n",
       "      <td>92.5</td>\n",
       "      <td>AgeOver90</td>\n",
       "      <td>36187</td>\n",
       "    </tr>\n",
       "  </tbody>\n",
       "</table>\n",
       "</div>"
      ],
      "text/plain": [
       "     age     raw_age  count\n",
       "10  37.5  AgeUnder40   6053\n",
       "11  42.5   Age40to44   5036\n",
       "9   47.5   Age45to49   9248\n",
       "8   52.5   Age50to54  15714\n",
       "7   57.5   Age55to59  21136\n",
       "6   62.5   Age60to64  26696\n",
       "5   67.5   Age65to69  33405\n",
       "3   72.5   Age70to74  45676\n",
       "1   77.5   Age75to79  52278\n",
       "0   82.5   Age80to84  56672\n",
       "2   87.5   Age85to89  49002\n",
       "4   92.5   AgeOver90  36187"
      ]
     },
     "execution_count": 6,
     "metadata": {},
     "output_type": "execute_result"
    }
   ],
   "source": [
    "# Convert raw age to single column\n",
    "raw_ages = pd.DataFrame(raw_data['PatientId'])\n",
    "raw_ages['raw_age'] = raw_data[[\n",
    "    col for col in raw_data if col.startswith('Age')]].idxmax(1)\n",
    "\n",
    "# Merge with clean and present difference\n",
    "compare_raw_clean(raw_ages, data[['id', 'age']])"
   ]
  },
  {
   "attachments": {},
   "cell_type": "markdown",
   "metadata": {},
   "source": [
    "### Gender\n",
    "\n",
    "No comment - as in SSNAP dataset.\n",
    "\n",
    "### Stroke type\n",
    "\n",
    "It is vital that we understand stroke type, so patients were missing stroke type (missing due to having not received a scan) were completely removed from the clean dataset.\n",
    "\n",
    "*(Decision agreed between MA, KP, AL & AH on 26/05/2023).*"
   ]
  },
  {
   "cell_type": "code",
   "execution_count": 7,
   "metadata": {},
   "outputs": [
    {
     "data": {
      "text/html": [
       "<div>\n",
       "<style scoped>\n",
       "    .dataframe tbody tr th:only-of-type {\n",
       "        vertical-align: middle;\n",
       "    }\n",
       "\n",
       "    .dataframe tbody tr th {\n",
       "        vertical-align: top;\n",
       "    }\n",
       "\n",
       "    .dataframe thead th {\n",
       "        text-align: right;\n",
       "    }\n",
       "</style>\n",
       "<table border=\"1\" class=\"dataframe\">\n",
       "  <thead>\n",
       "    <tr style=\"text-align: right;\">\n",
       "      <th></th>\n",
       "      <th>S2StrokeType</th>\n",
       "      <th>ArrivaltoBrainImagingMinutes</th>\n",
       "      <th>count</th>\n",
       "    </tr>\n",
       "  </thead>\n",
       "  <tbody>\n",
       "    <tr>\n",
       "      <th>0</th>\n",
       "      <td>Have data</td>\n",
       "      <td>Have data</td>\n",
       "      <td>358993</td>\n",
       "    </tr>\n",
       "    <tr>\n",
       "      <th>1</th>\n",
       "      <td>Missing data</td>\n",
       "      <td>Missing data</td>\n",
       "      <td>1388</td>\n",
       "    </tr>\n",
       "  </tbody>\n",
       "</table>\n",
       "</div>"
      ],
      "text/plain": [
       "   S2StrokeType ArrivaltoBrainImagingMinutes   count\n",
       "0     Have data                    Have data  358993\n",
       "1  Missing data                 Missing data    1388"
      ]
     },
     "execution_count": 7,
     "metadata": {},
     "output_type": "execute_result"
    }
   ],
   "source": [
    "# Show relationship between missing stoke type and missing arrival to scan time\n",
    "(mark_missing(raw_data[['S2StrokeType', 'ArrivaltoBrainImagingMinutes']])\n",
    " .value_counts()\n",
    " .reset_index(name='count'))"
   ]
  },
  {
   "attachments": {},
   "cell_type": "markdown",
   "metadata": {},
   "source": [
    "### Onset time\n",
    "\n",
    "This section provides details relating to:\n",
    "* Onset to arrival time\n",
    "* Onset known\n",
    "* Precise onset known\n",
    "* Onset during sleep"
   ]
  },
  {
   "attachments": {},
   "cell_type": "markdown",
   "metadata": {},
   "source": [
    "**Zero onset to arrival time**\n",
    "\n",
    "There are several individuals who have 0 minutes between onset and arrival, and it does not appear to be due to having not arrived by ambulance. Dataset itself only includes patients with out-of-hospital stroke onset, so onset out-of-hospital would not be a possible explanation. Hence, it is felt that we do not trust these times and replaced them as missing.\n",
    "\n",
    "*(Decision agreed between MA, KP, AL & AH on 26/05/2023).*"
   ]
  },
  {
   "cell_type": "code",
   "execution_count": 8,
   "metadata": {},
   "outputs": [
    {
     "name": "stdout",
     "output_type": "stream",
     "text": [
      "Frequency of onset to arrival = 0 in raw data...\n"
     ]
    },
    {
     "data": {
      "text/html": [
       "<div>\n",
       "<style scoped>\n",
       "    .dataframe tbody tr th:only-of-type {\n",
       "        vertical-align: middle;\n",
       "    }\n",
       "\n",
       "    .dataframe tbody tr th {\n",
       "        vertical-align: top;\n",
       "    }\n",
       "\n",
       "    .dataframe thead th {\n",
       "        text-align: right;\n",
       "    }\n",
       "</style>\n",
       "<table border=\"1\" class=\"dataframe\">\n",
       "  <thead>\n",
       "    <tr style=\"text-align: right;\">\n",
       "      <th></th>\n",
       "      <th>S1ArriveByAmbulance</th>\n",
       "      <th>Count where onset to arrival = 0</th>\n",
       "    </tr>\n",
       "  </thead>\n",
       "  <tbody>\n",
       "    <tr>\n",
       "      <th>0</th>\n",
       "      <td>N</td>\n",
       "      <td>11</td>\n",
       "    </tr>\n",
       "    <tr>\n",
       "      <th>1</th>\n",
       "      <td>Y</td>\n",
       "      <td>48</td>\n",
       "    </tr>\n",
       "  </tbody>\n",
       "</table>\n",
       "</div>"
      ],
      "text/plain": [
       "  S1ArriveByAmbulance  Count where onset to arrival = 0\n",
       "0                   N                                11\n",
       "1                   Y                                48"
      ]
     },
     "metadata": {},
     "output_type": "display_data"
    },
    {
     "name": "stdout",
     "output_type": "stream",
     "text": [
      "Frequency of onset to arrival = 0 in clean data...\n"
     ]
    },
    {
     "data": {
      "text/plain": [
       "False    357103\n",
       "Name: onset_to_arrival_time, dtype: int64"
      ]
     },
     "metadata": {},
     "output_type": "display_data"
    }
   ],
   "source": [
    "# Count with 0 onset to arrival time in raw data, by whether they\n",
    "# arrived by ambulance\n",
    "print('Frequency of onset to arrival = 0 in raw data...')\n",
    "display(raw_data.groupby('S1ArriveByAmbulance')['OnsettoArrivalMinutes']\n",
    "        .apply(lambda x: (x == 0).sum())\n",
    "        .reset_index(name='Count where onset to arrival = 0'))\n",
    "\n",
    "# Demonstrating there are no times equal to 0 in clean data\n",
    "print('Frequency of onset to arrival = 0 in clean data...')\n",
    "display((data['onset_to_arrival_time'] == 0).value_counts())"
   ]
  },
  {
   "attachments": {},
   "cell_type": "markdown",
   "metadata": {},
   "source": [
    "**Unknown onset time**\n",
    "\n",
    "Problem: There are many cases where onset time is marked as \"unknown\" but an onset to arrival time was provided for every person in the dataset. Reasons that support lack of trust in data:\n",
    "* These typically appear to be the difference between midnight and the arrival time (e.g. of people with an onset to arrival of 1 to 2 hours, nearly all of them have an arrival time of 0000 to 3000).\n",
    "* Over 99% did not receive thrombolysis - but of those who received thrombolysis, the onset to arrival time was typically quite high and seems unusual (in the clean data, no-one has thrombolysis for an onset to arrival time greater than 12 hours).\n",
    "\n",
    "Decision: In these cases, onset to arrival time has been set as missing in the clean data...\n",
    "* Models (inc. outcome models) are typically requiring precise/best estimate (i.e. already dropping onset unknown).\n",
    "* Onset to arrival time is very important - e.g. models of onset to arrival time for haemorrhagic strokes.\n",
    "* These patients have not been removed entirely from the data, as this represents a very large proportion of people in the dataset, and could have valuable information - e.g. for descriptive analysis, to describe spread of stroke severity that arrive.\n",
    "\n",
    "*(Decision agreed between MA, KP, AL & AH on 26/05/2023).*"
   ]
  },
  {
   "cell_type": "code",
   "execution_count": 9,
   "metadata": {},
   "outputs": [
    {
     "name": "stdout",
     "output_type": "stream",
     "text": [
      "Number of people with onset time not known in raw data\n"
     ]
    },
    {
     "data": {
      "text/plain": [
       "False    241138\n",
       "True     119243\n",
       "Name: S1OnsetTimeType, dtype: int64"
      ]
     },
     "metadata": {},
     "output_type": "display_data"
    },
    {
     "name": "stdout",
     "output_type": "stream",
     "text": [
      "Onset to arrival time when onset time not known in clean data\n"
     ]
    },
    {
     "data": {
      "text/plain": [
       "NaN    118411\n",
       "Name: onset_to_arrival_time, dtype: int64"
      ]
     },
     "execution_count": 9,
     "metadata": {},
     "output_type": "execute_result"
    }
   ],
   "source": [
    "# Numbers with unknown onset time\n",
    "print('Number of people with onset time not known in raw data')\n",
    "display((raw_data['S1OnsetTimeType'] == 'NK').value_counts())\n",
    "\n",
    "print('Onset to arrival time when onset time not known in clean data')\n",
    "data.loc[data['onset_known'] == 0,\n",
    "         'onset_to_arrival_time'].value_counts(dropna=False)"
   ]
  },
  {
   "cell_type": "code",
   "execution_count": 10,
   "metadata": {},
   "outputs": [
    {
     "data": {
      "text/html": [
       "<div>\n",
       "<style scoped>\n",
       "    .dataframe tbody tr th:only-of-type {\n",
       "        vertical-align: middle;\n",
       "    }\n",
       "\n",
       "    .dataframe tbody tr th {\n",
       "        vertical-align: top;\n",
       "    }\n",
       "\n",
       "    .dataframe thead th {\n",
       "        text-align: right;\n",
       "    }\n",
       "</style>\n",
       "<table border=\"1\" class=\"dataframe\">\n",
       "  <thead>\n",
       "    <tr style=\"text-align: right;\">\n",
       "      <th></th>\n",
       "      <th>FirstArrivalTime</th>\n",
       "      <th>onset_to_arrival_hours</th>\n",
       "      <th>count</th>\n",
       "    </tr>\n",
       "  </thead>\n",
       "  <tbody>\n",
       "    <tr>\n",
       "      <th>969</th>\n",
       "      <td>0900to1200</td>\n",
       "      <td>-12.0</td>\n",
       "      <td>1</td>\n",
       "    </tr>\n",
       "    <tr>\n",
       "      <th>1111</th>\n",
       "      <td>0600to0900</td>\n",
       "      <td>-1.0</td>\n",
       "      <td>1</td>\n",
       "    </tr>\n",
       "    <tr>\n",
       "      <th>656</th>\n",
       "      <td>1800to2100</td>\n",
       "      <td>0.0</td>\n",
       "      <td>2</td>\n",
       "    </tr>\n",
       "    <tr>\n",
       "      <th>781</th>\n",
       "      <td>0300to0600</td>\n",
       "      <td>0.0</td>\n",
       "      <td>2</td>\n",
       "    </tr>\n",
       "    <tr>\n",
       "      <th>859</th>\n",
       "      <td>2100to2400</td>\n",
       "      <td>0.0</td>\n",
       "      <td>1</td>\n",
       "    </tr>\n",
       "    <tr>\n",
       "      <th>743</th>\n",
       "      <td>1200to1500</td>\n",
       "      <td>0.0</td>\n",
       "      <td>2</td>\n",
       "    </tr>\n",
       "    <tr>\n",
       "      <th>474</th>\n",
       "      <td>0600to0900</td>\n",
       "      <td>0.0</td>\n",
       "      <td>5</td>\n",
       "    </tr>\n",
       "    <tr>\n",
       "      <th>68</th>\n",
       "      <td>0000to3000</td>\n",
       "      <td>0.0</td>\n",
       "      <td>343</td>\n",
       "    </tr>\n",
       "    <tr>\n",
       "      <th>678</th>\n",
       "      <td>1500to1800</td>\n",
       "      <td>0.0</td>\n",
       "      <td>2</td>\n",
       "    </tr>\n",
       "    <tr>\n",
       "      <th>613</th>\n",
       "      <td>0900to1200</td>\n",
       "      <td>0.0</td>\n",
       "      <td>3</td>\n",
       "    </tr>\n",
       "    <tr>\n",
       "      <th>455</th>\n",
       "      <td>0600to0900</td>\n",
       "      <td>1.0</td>\n",
       "      <td>6</td>\n",
       "    </tr>\n",
       "    <tr>\n",
       "      <th>462</th>\n",
       "      <td>1200to1500</td>\n",
       "      <td>1.0</td>\n",
       "      <td>5</td>\n",
       "    </tr>\n",
       "    <tr>\n",
       "      <th>565</th>\n",
       "      <td>2100to2400</td>\n",
       "      <td>1.0</td>\n",
       "      <td>4</td>\n",
       "    </tr>\n",
       "    <tr>\n",
       "      <th>592</th>\n",
       "      <td>0300to0600</td>\n",
       "      <td>1.0</td>\n",
       "      <td>3</td>\n",
       "    </tr>\n",
       "    <tr>\n",
       "      <th>825</th>\n",
       "      <td>1800to2100</td>\n",
       "      <td>1.0</td>\n",
       "      <td>1</td>\n",
       "    </tr>\n",
       "    <tr>\n",
       "      <th>694</th>\n",
       "      <td>1500to1800</td>\n",
       "      <td>1.0</td>\n",
       "      <td>2</td>\n",
       "    </tr>\n",
       "    <tr>\n",
       "      <th>67</th>\n",
       "      <td>0000to3000</td>\n",
       "      <td>1.0</td>\n",
       "      <td>350</td>\n",
       "    </tr>\n",
       "    <tr>\n",
       "      <th>367</th>\n",
       "      <td>0900to1200</td>\n",
       "      <td>1.0</td>\n",
       "      <td>9</td>\n",
       "    </tr>\n",
       "    <tr>\n",
       "      <th>64</th>\n",
       "      <td>0000to3000</td>\n",
       "      <td>2.0</td>\n",
       "      <td>361</td>\n",
       "    </tr>\n",
       "    <tr>\n",
       "      <th>526</th>\n",
       "      <td>0300to0600</td>\n",
       "      <td>2.0</td>\n",
       "      <td>4</td>\n",
       "    </tr>\n",
       "    <tr>\n",
       "      <th>742</th>\n",
       "      <td>1200to1500</td>\n",
       "      <td>2.0</td>\n",
       "      <td>2</td>\n",
       "    </tr>\n",
       "    <tr>\n",
       "      <th>858</th>\n",
       "      <td>2100to2400</td>\n",
       "      <td>2.0</td>\n",
       "      <td>1</td>\n",
       "    </tr>\n",
       "    <tr>\n",
       "      <th>800</th>\n",
       "      <td>1800to2100</td>\n",
       "      <td>2.0</td>\n",
       "      <td>1</td>\n",
       "    </tr>\n",
       "    <tr>\n",
       "      <th>453</th>\n",
       "      <td>0600to0900</td>\n",
       "      <td>2.0</td>\n",
       "      <td>6</td>\n",
       "    </tr>\n",
       "    <tr>\n",
       "      <th>288</th>\n",
       "      <td>0900to1200</td>\n",
       "      <td>2.0</td>\n",
       "      <td>15</td>\n",
       "    </tr>\n",
       "    <tr>\n",
       "      <th>278</th>\n",
       "      <td>0000to3000</td>\n",
       "      <td>3.0</td>\n",
       "      <td>16</td>\n",
       "    </tr>\n",
       "    <tr>\n",
       "      <th>583</th>\n",
       "      <td>0600to0900</td>\n",
       "      <td>3.0</td>\n",
       "      <td>3</td>\n",
       "    </tr>\n",
       "    <tr>\n",
       "      <th>680</th>\n",
       "      <td>1500to1800</td>\n",
       "      <td>3.0</td>\n",
       "      <td>2</td>\n",
       "    </tr>\n",
       "    <tr>\n",
       "      <th>714</th>\n",
       "      <td>1200to1500</td>\n",
       "      <td>3.0</td>\n",
       "      <td>2</td>\n",
       "    </tr>\n",
       "    <tr>\n",
       "      <th>560</th>\n",
       "      <td>1800to2100</td>\n",
       "      <td>3.0</td>\n",
       "      <td>4</td>\n",
       "    </tr>\n",
       "    <tr>\n",
       "      <th>54</th>\n",
       "      <td>0300to0600</td>\n",
       "      <td>3.0</td>\n",
       "      <td>515</td>\n",
       "    </tr>\n",
       "    <tr>\n",
       "      <th>406</th>\n",
       "      <td>0900to1200</td>\n",
       "      <td>3.0</td>\n",
       "      <td>7</td>\n",
       "    </tr>\n",
       "    <tr>\n",
       "      <th>1146</th>\n",
       "      <td>1500to1800</td>\n",
       "      <td>4.0</td>\n",
       "      <td>1</td>\n",
       "    </tr>\n",
       "    <tr>\n",
       "      <th>1110</th>\n",
       "      <td>0600to0900</td>\n",
       "      <td>4.0</td>\n",
       "      <td>1</td>\n",
       "    </tr>\n",
       "    <tr>\n",
       "      <th>700</th>\n",
       "      <td>0900to1200</td>\n",
       "      <td>4.0</td>\n",
       "      <td>2</td>\n",
       "    </tr>\n",
       "    <tr>\n",
       "      <th>1068</th>\n",
       "      <td>0000to3000</td>\n",
       "      <td>4.0</td>\n",
       "      <td>1</td>\n",
       "    </tr>\n",
       "    <tr>\n",
       "      <th>44</th>\n",
       "      <td>0300to0600</td>\n",
       "      <td>4.0</td>\n",
       "      <td>654</td>\n",
       "    </tr>\n",
       "    <tr>\n",
       "      <th>502</th>\n",
       "      <td>1200to1500</td>\n",
       "      <td>4.0</td>\n",
       "      <td>5</td>\n",
       "    </tr>\n",
       "    <tr>\n",
       "      <th>527</th>\n",
       "      <td>1200to1500</td>\n",
       "      <td>5.0</td>\n",
       "      <td>4</td>\n",
       "    </tr>\n",
       "    <tr>\n",
       "      <th>517</th>\n",
       "      <td>1500to1800</td>\n",
       "      <td>5.0</td>\n",
       "      <td>4</td>\n",
       "    </tr>\n",
       "    <tr>\n",
       "      <th>732</th>\n",
       "      <td>0600to0900</td>\n",
       "      <td>5.0</td>\n",
       "      <td>2</td>\n",
       "    </tr>\n",
       "    <tr>\n",
       "      <th>970</th>\n",
       "      <td>0900to1200</td>\n",
       "      <td>5.0</td>\n",
       "      <td>1</td>\n",
       "    </tr>\n",
       "    <tr>\n",
       "      <th>806</th>\n",
       "      <td>1800to2100</td>\n",
       "      <td>5.0</td>\n",
       "      <td>1</td>\n",
       "    </tr>\n",
       "    <tr>\n",
       "      <th>37</th>\n",
       "      <td>0300to0600</td>\n",
       "      <td>5.0</td>\n",
       "      <td>820</td>\n",
       "    </tr>\n",
       "    <tr>\n",
       "      <th>713</th>\n",
       "      <td>1500to1800</td>\n",
       "      <td>6.0</td>\n",
       "      <td>2</td>\n",
       "    </tr>\n",
       "    <tr>\n",
       "      <th>810</th>\n",
       "      <td>1800to2100</td>\n",
       "      <td>6.0</td>\n",
       "      <td>1</td>\n",
       "    </tr>\n",
       "    <tr>\n",
       "      <th>34</th>\n",
       "      <td>0600to0900</td>\n",
       "      <td>6.0</td>\n",
       "      <td>947</td>\n",
       "    </tr>\n",
       "    <tr>\n",
       "      <th>234</th>\n",
       "      <td>0300to0600</td>\n",
       "      <td>6.0</td>\n",
       "      <td>26</td>\n",
       "    </tr>\n",
       "    <tr>\n",
       "      <th>971</th>\n",
       "      <td>0900to1200</td>\n",
       "      <td>6.0</td>\n",
       "      <td>1</td>\n",
       "    </tr>\n",
       "    <tr>\n",
       "      <th>506</th>\n",
       "      <td>1200to1500</td>\n",
       "      <td>6.0</td>\n",
       "      <td>4</td>\n",
       "    </tr>\n",
       "  </tbody>\n",
       "</table>\n",
       "</div>"
      ],
      "text/plain": [
       "     FirstArrivalTime  onset_to_arrival_hours  count\n",
       "969        0900to1200                   -12.0      1\n",
       "1111       0600to0900                    -1.0      1\n",
       "656        1800to2100                     0.0      2\n",
       "781        0300to0600                     0.0      2\n",
       "859        2100to2400                     0.0      1\n",
       "743        1200to1500                     0.0      2\n",
       "474        0600to0900                     0.0      5\n",
       "68         0000to3000                     0.0    343\n",
       "678        1500to1800                     0.0      2\n",
       "613        0900to1200                     0.0      3\n",
       "455        0600to0900                     1.0      6\n",
       "462        1200to1500                     1.0      5\n",
       "565        2100to2400                     1.0      4\n",
       "592        0300to0600                     1.0      3\n",
       "825        1800to2100                     1.0      1\n",
       "694        1500to1800                     1.0      2\n",
       "67         0000to3000                     1.0    350\n",
       "367        0900to1200                     1.0      9\n",
       "64         0000to3000                     2.0    361\n",
       "526        0300to0600                     2.0      4\n",
       "742        1200to1500                     2.0      2\n",
       "858        2100to2400                     2.0      1\n",
       "800        1800to2100                     2.0      1\n",
       "453        0600to0900                     2.0      6\n",
       "288        0900to1200                     2.0     15\n",
       "278        0000to3000                     3.0     16\n",
       "583        0600to0900                     3.0      3\n",
       "680        1500to1800                     3.0      2\n",
       "714        1200to1500                     3.0      2\n",
       "560        1800to2100                     3.0      4\n",
       "54         0300to0600                     3.0    515\n",
       "406        0900to1200                     3.0      7\n",
       "1146       1500to1800                     4.0      1\n",
       "1110       0600to0900                     4.0      1\n",
       "700        0900to1200                     4.0      2\n",
       "1068       0000to3000                     4.0      1\n",
       "44         0300to0600                     4.0    654\n",
       "502        1200to1500                     4.0      5\n",
       "527        1200to1500                     5.0      4\n",
       "517        1500to1800                     5.0      4\n",
       "732        0600to0900                     5.0      2\n",
       "970        0900to1200                     5.0      1\n",
       "806        1800to2100                     5.0      1\n",
       "37         0300to0600                     5.0    820\n",
       "713        1500to1800                     6.0      2\n",
       "810        1800to2100                     6.0      1\n",
       "34         0600to0900                     6.0    947\n",
       "234        0300to0600                     6.0     26\n",
       "971        0900to1200                     6.0      1\n",
       "506        1200to1500                     6.0      4"
      ]
     },
     "execution_count": 10,
     "metadata": {},
     "output_type": "execute_result"
    }
   ],
   "source": [
    "# Relationship with midnight\n",
    "# Extract people with onset time not known\n",
    "unknown_time = raw_data.loc[\n",
    "    raw_data['S1OnsetTimeType'] == 'NK',\n",
    "    ['OnsettoArrivalMinutes', 'FirstArrivalTime', 'S2Thrombolysis']]\n",
    "\n",
    "# Convert onset to arrival to hours and round down\n",
    "unknown_time['onset_to_arrival_hours'] = (\n",
    "    np.floor(unknown_time['OnsettoArrivalMinutes']/60))\n",
    "\n",
    "(unknown_time[['FirstArrivalTime', 'onset_to_arrival_hours']]\n",
    " .value_counts()\n",
    " .reset_index(name='count')\n",
    " .sort_values(by='onset_to_arrival_hours')\n",
    " .head(50))"
   ]
  },
  {
   "cell_type": "code",
   "execution_count": 11,
   "metadata": {},
   "outputs": [
    {
     "name": "stdout",
     "output_type": "stream",
     "text": [
      "NB    118119\n",
      "Y        580\n",
      "N        544\n",
      "Name: S2Thrombolysis, dtype: int64\n"
     ]
    },
    {
     "data": {
      "image/png": "[encoded data removed]",
      "text/plain": [
       "<Figure size 640x480 with 1 Axes>"
      ]
     },
     "metadata": {},
     "output_type": "display_data"
    },
    {
     "data": {
      "image/png": "[encoded data removed]",
      "text/plain": [
       "<Figure size 640x480 with 1 Axes>"
      ]
     },
     "metadata": {},
     "output_type": "display_data"
    }
   ],
   "source": [
    "# Number of patients with unknown time who received thrombolysis\n",
    "print(unknown_time['S2Thrombolysis'].value_counts(dropna=False))\n",
    "\n",
    "# Extract people who received thrombolysis\n",
    "onset = raw_data.loc[\n",
    "    raw_data['S2Thrombolysis'] == 'Y',\n",
    "    ['S1OnsetTimeType', 'OnsettoArrivalMinutes']]\n",
    "\n",
    "# Convert onset to arrival from minutes to hours\n",
    "onset['onset_to_arrival_hours'] = onset['OnsettoArrivalMinutes']/60\n",
    "\n",
    "# Create dataframes where onset time is known or not\n",
    "onset_known = onset.loc[onset['S1OnsetTimeType'] != 'NK',\n",
    "                        'onset_to_arrival_hours']\n",
    "onset_unknown = onset.loc[((onset['S1OnsetTimeType'] == 'NK') &\n",
    "                           (onset['onset_to_arrival_hours'] < 168)),\n",
    "                          'onset_to_arrival_hours']\n",
    "\n",
    "plt.boxplot(onset_known, vert=False)\n",
    "plt.xlabel('Onset to arrival time (hours)')\n",
    "plt.title('Received thrombolysis & known onset time')\n",
    "plt.show()\n",
    "\n",
    "plt.boxplot(onset_unknown, vert=False)\n",
    "plt.xlabel('Onset to arrival time (hours)')\n",
    "plt.title('Received thrombolysis & unknown onset time (hiding > 1 week)')\n",
    "plt.show()"
   ]
  },
  {
   "attachments": {},
   "cell_type": "markdown",
   "metadata": {},
   "source": [
    "**Long onset to arrival time**\n",
    "\n",
    "Problem: A large onset to arrival time is plausible, but some results are so large that they are considered to be invalid and likely errors in the data, or incredibly anomalous results.\n",
    "\n",
    "Context: The outcome model requires an onset-to-arrival time of less than a day.\n",
    "\n",
    "Decision: For dataset as a whole (beyond stricter conditions of modelling), set a threshold of one week. This is a relatively arbritray threshold based on a review of the times below, and consideration of what is likely to be really extreme results and what is normal variability.\n",
    "\n",
    "These patients are entirely removed from the dataset as the rationale is that they are not of interest as they are not on the emergency stroke pathway (as opposed to setting as missing due to likely invalid data - although some of these results are invalid - e.g. 118 years).\n",
    "\n",
    "*(Threshold agreed between MA, KP, AL & AH on 26/05/2023).*\n",
    "\n",
    "<mark>To check.</mark> Decision to drop entirely v.s. set as missing."
   ]
  },
  {
   "cell_type": "code",
   "execution_count": 12,
   "metadata": {},
   "outputs": [],
   "source": [
    "# Extract onset to arrival time when onset time is known\n",
    "onset_arrival = raw_data.loc[\n",
    "    ((raw_data['S1OnsetTimeType'] == 'P') |\n",
    "     (raw_data['S1OnsetTimeType'] == 'BE')),\n",
    "    'OnsettoArrivalMinutes']"
   ]
  },
  {
   "cell_type": "code",
   "execution_count": 13,
   "metadata": {},
   "outputs": [
    {
     "data": {
      "text/plain": [
       "0.0      241045\n",
       "1.0          72\n",
       "2.0           2\n",
       "3.0           7\n",
       "8.0           1\n",
       "10.0          1\n",
       "15.0          2\n",
       "16.0          4\n",
       "17.0          1\n",
       "18.0          1\n",
       "76.0          1\n",
       "118.0         1\n",
       "Name: OnsettoArrivalMinutes, dtype: int64"
      ]
     },
     "execution_count": 13,
     "metadata": {},
     "output_type": "execute_result"
    }
   ],
   "source": [
    "# Years\n",
    "# Convert time from minutes to years then present counts (rounded)\n",
    "onset_arrival_years = onset_arrival/525600\n",
    "round(onset_arrival_years).value_counts().sort_index()"
   ]
  },
  {
   "cell_type": "code",
   "execution_count": 14,
   "metadata": {},
   "outputs": [
    {
     "data": {
      "image/png": "[encoded data removed]",
      "text/plain": [
       "<Figure size 640x480 with 1 Axes>"
      ]
     },
     "metadata": {},
     "output_type": "display_data"
    },
    {
     "data": {
      "image/png": "[encoded data removed]",
      "text/plain": [
       "<Figure size 640x480 with 1 Axes>"
      ]
     },
     "metadata": {},
     "output_type": "display_data"
    },
    {
     "data": {
      "image/png": "[encoded data removed]",
      "text/plain": [
       "<Figure size 640x480 with 1 Axes>"
      ]
     },
     "metadata": {},
     "output_type": "display_data"
    }
   ],
   "source": [
    "# Days\n",
    "onset_arrival_days = onset_arrival/1440\n",
    "onset_arrival_days_count = (round(onset_arrival_days[onset_arrival_days < 30])\n",
    "                            .value_counts()\n",
    "                            .sort_index()\n",
    "                            .reset_index(name='count'))\n",
    "fig = plt.figure()\n",
    "plt.bar(onset_arrival_days_count['index'], onset_arrival_days_count['count'])\n",
    "plt.xlabel('Days (rounded to nearest day)')\n",
    "plt.ylabel('Number of stroke patients')\n",
    "plt.title('Onset to arrival time (<30 days)')\n",
    "plt.show()\n",
    "\n",
    "# Hours\n",
    "onset_arrival_hours = onset_arrival/60\n",
    "onset_arrival_hours_count = (\n",
    "    round(onset_arrival_hours[onset_arrival_hours < 168])\n",
    "    .value_counts()\n",
    "    .sort_index()\n",
    "    .reset_index(name='count'))\n",
    "\n",
    "plt.bar(onset_arrival_hours_count['index'],\n",
    "        onset_arrival_hours_count['count'])\n",
    "plt.xlabel('Onset to arrival time in hours (rounded to nearest hour)')\n",
    "plt.ylabel('Number of stroke patients')\n",
    "plt.title('Onset to arrival time (<7 days/168 hours)')\n",
    "plt.show()\n",
    "\n",
    "onset_arrival_hours_shorter = onset_arrival_hours_count[\n",
    "    onset_arrival_hours_count['index'] < 72]\n",
    "plt.bar(onset_arrival_hours_shorter['index'],\n",
    "        onset_arrival_hours_shorter['count'])\n",
    "plt.xlabel('Onset to arrival time in hours (rounded to nearest hour)')\n",
    "plt.ylabel('Number of stroke patients')\n",
    "plt.title('Onset to arrival time (<3 days/72 hours)')\n",
    "plt.show()"
   ]
  },
  {
   "attachments": {},
   "cell_type": "markdown",
   "metadata": {},
   "source": [
    "### Ambulance times\n",
    "\n",
    "In cases where any ambulance times are missing or inappropriate, all ambulance times are set as missing."
   ]
  },
  {
   "cell_type": "code",
   "execution_count": 15,
   "metadata": {},
   "outputs": [],
   "source": [
    "# Extract ambulance times\n",
    "raw_amb_times = raw_data[[\n",
    "    'CallConnectedtoArrivalMinutes',\n",
    "    'ArrivalPatientLocationtoArrivalMinutes',\n",
    "    'DeparturePatientLocationtoArrivalMinutes',\n",
    "    'WheelsStoptoArrivalMinutes']]\n",
    "clean_amb_times = data[[\n",
    "    'call_to_ambulance_arrival_time',\n",
    "    'ambulance_on_scene_time',\n",
    "    'ambulance_travel_to_hospital_time',\n",
    "    'ambulance_wait_time_at_hospital']]"
   ]
  },
  {
   "attachments": {},
   "cell_type": "markdown",
   "metadata": {},
   "source": [
    "**Missing times**\n",
    "\n",
    "The clean dataset either requires all times to be complete or all to be missing.\n",
    "\n",
    "Although there are apx. 15,000 patients only missing WheelsStoptoArrivalMinutes, this means they are missing ambulance_travel_to_hospital_time and ambulance_wait_time_at_hospital, so this was not included. This also allows consistency in decision on what to keep when data on ambulance times is missing.\n",
    "\n",
    "*(Decision agreed between MA, KP, AL & AH on 26/05/2023).*"
   ]
  },
  {
   "cell_type": "code",
   "execution_count": 16,
   "metadata": {},
   "outputs": [
    {
     "data": {
      "text/html": [
       "<div>\n",
       "<style scoped>\n",
       "    .dataframe tbody tr th:only-of-type {\n",
       "        vertical-align: middle;\n",
       "    }\n",
       "\n",
       "    .dataframe tbody tr th {\n",
       "        vertical-align: top;\n",
       "    }\n",
       "\n",
       "    .dataframe thead th {\n",
       "        text-align: right;\n",
       "    }\n",
       "</style>\n",
       "<table border=\"1\" class=\"dataframe\">\n",
       "  <thead>\n",
       "    <tr style=\"text-align: right;\">\n",
       "      <th></th>\n",
       "      <th>call_to_ambulance_arrival_time</th>\n",
       "      <th>ambulance_on_scene_time</th>\n",
       "      <th>ambulance_travel_to_hospital_time</th>\n",
       "      <th>ambulance_wait_time_at_hospital</th>\n",
       "      <th>count</th>\n",
       "    </tr>\n",
       "  </thead>\n",
       "  <tbody>\n",
       "    <tr>\n",
       "      <th>0</th>\n",
       "      <td>Missing time</td>\n",
       "      <td>Missing time</td>\n",
       "      <td>Missing time</td>\n",
       "      <td>Missing time</td>\n",
       "      <td>271516</td>\n",
       "    </tr>\n",
       "    <tr>\n",
       "      <th>1</th>\n",
       "      <td>Has time</td>\n",
       "      <td>Has time</td>\n",
       "      <td>Has time</td>\n",
       "      <td>Has time</td>\n",
       "      <td>85587</td>\n",
       "    </tr>\n",
       "  </tbody>\n",
       "</table>\n",
       "</div>"
      ],
      "text/plain": [
       "  call_to_ambulance_arrival_time ambulance_on_scene_time  \\\n",
       "0                   Missing time            Missing time   \n",
       "1                       Has time                Has time   \n",
       "\n",
       "  ambulance_travel_to_hospital_time ambulance_wait_time_at_hospital   count  \n",
       "0                      Missing time                    Missing time  271516  \n",
       "1                          Has time                        Has time   85587  "
      ]
     },
     "execution_count": 16,
     "metadata": {},
     "output_type": "execute_result"
    }
   ],
   "source": [
    "# Presence of missing ambulance times in clean data\n",
    "(clean_amb_times\n",
    " .isnull()\n",
    " .apply(lambda x: x.map({True: 'Missing time', False: 'Has time'}))\n",
    " .value_counts()\n",
    " .reset_index(name='count'))"
   ]
  },
  {
   "cell_type": "code",
   "execution_count": 17,
   "metadata": {},
   "outputs": [
    {
     "data": {
      "text/html": [
       "<div>\n",
       "<style scoped>\n",
       "    .dataframe tbody tr th:only-of-type {\n",
       "        vertical-align: middle;\n",
       "    }\n",
       "\n",
       "    .dataframe tbody tr th {\n",
       "        vertical-align: top;\n",
       "    }\n",
       "\n",
       "    .dataframe thead th {\n",
       "        text-align: right;\n",
       "    }\n",
       "</style>\n",
       "<table border=\"1\" class=\"dataframe\">\n",
       "  <thead>\n",
       "    <tr style=\"text-align: right;\">\n",
       "      <th></th>\n",
       "      <th>CallConnectedtoArrivalMinutes</th>\n",
       "      <th>ArrivalPatientLocationtoArrivalMinutes</th>\n",
       "      <th>DeparturePatientLocationtoArrivalMinutes</th>\n",
       "      <th>WheelsStoptoArrivalMinutes</th>\n",
       "      <th>count</th>\n",
       "    </tr>\n",
       "  </thead>\n",
       "  <tbody>\n",
       "    <tr>\n",
       "      <th>0</th>\n",
       "      <td>Missing time</td>\n",
       "      <td>Missing time</td>\n",
       "      <td>Missing time</td>\n",
       "      <td>Missing time</td>\n",
       "      <td>251882</td>\n",
       "    </tr>\n",
       "    <tr>\n",
       "      <th>1</th>\n",
       "      <td>Has time</td>\n",
       "      <td>Has time</td>\n",
       "      <td>Has time</td>\n",
       "      <td>Has time</td>\n",
       "      <td>92958</td>\n",
       "    </tr>\n",
       "    <tr>\n",
       "      <th>2</th>\n",
       "      <td>Has time</td>\n",
       "      <td>Has time</td>\n",
       "      <td>Has time</td>\n",
       "      <td>Missing time</td>\n",
       "      <td>15421</td>\n",
       "    </tr>\n",
       "    <tr>\n",
       "      <th>3</th>\n",
       "      <td>Has time</td>\n",
       "      <td>Has time</td>\n",
       "      <td>Missing time</td>\n",
       "      <td>Missing time</td>\n",
       "      <td>87</td>\n",
       "    </tr>\n",
       "    <tr>\n",
       "      <th>4</th>\n",
       "      <td>Has time</td>\n",
       "      <td>Missing time</td>\n",
       "      <td>Missing time</td>\n",
       "      <td>Has time</td>\n",
       "      <td>8</td>\n",
       "    </tr>\n",
       "    <tr>\n",
       "      <th>5</th>\n",
       "      <td>Has time</td>\n",
       "      <td>Missing time</td>\n",
       "      <td>Missing time</td>\n",
       "      <td>Missing time</td>\n",
       "      <td>7</td>\n",
       "    </tr>\n",
       "    <tr>\n",
       "      <th>6</th>\n",
       "      <td>Missing time</td>\n",
       "      <td>Has time</td>\n",
       "      <td>Has time</td>\n",
       "      <td>Has time</td>\n",
       "      <td>5</td>\n",
       "    </tr>\n",
       "    <tr>\n",
       "      <th>7</th>\n",
       "      <td>Missing time</td>\n",
       "      <td>Has time</td>\n",
       "      <td>Missing time</td>\n",
       "      <td>Missing time</td>\n",
       "      <td>5</td>\n",
       "    </tr>\n",
       "    <tr>\n",
       "      <th>8</th>\n",
       "      <td>Has time</td>\n",
       "      <td>Missing time</td>\n",
       "      <td>Has time</td>\n",
       "      <td>Has time</td>\n",
       "      <td>3</td>\n",
       "    </tr>\n",
       "    <tr>\n",
       "      <th>9</th>\n",
       "      <td>Missing time</td>\n",
       "      <td>Has time</td>\n",
       "      <td>Has time</td>\n",
       "      <td>Missing time</td>\n",
       "      <td>3</td>\n",
       "    </tr>\n",
       "    <tr>\n",
       "      <th>10</th>\n",
       "      <td>Has time</td>\n",
       "      <td>Has time</td>\n",
       "      <td>Missing time</td>\n",
       "      <td>Has time</td>\n",
       "      <td>1</td>\n",
       "    </tr>\n",
       "    <tr>\n",
       "      <th>11</th>\n",
       "      <td>Missing time</td>\n",
       "      <td>Has time</td>\n",
       "      <td>Missing time</td>\n",
       "      <td>Has time</td>\n",
       "      <td>1</td>\n",
       "    </tr>\n",
       "  </tbody>\n",
       "</table>\n",
       "</div>"
      ],
      "text/plain": [
       "   CallConnectedtoArrivalMinutes ArrivalPatientLocationtoArrivalMinutes  \\\n",
       "0                   Missing time                           Missing time   \n",
       "1                       Has time                               Has time   \n",
       "2                       Has time                               Has time   \n",
       "3                       Has time                               Has time   \n",
       "4                       Has time                           Missing time   \n",
       "5                       Has time                           Missing time   \n",
       "6                   Missing time                               Has time   \n",
       "7                   Missing time                               Has time   \n",
       "8                       Has time                           Missing time   \n",
       "9                   Missing time                               Has time   \n",
       "10                      Has time                               Has time   \n",
       "11                  Missing time                               Has time   \n",
       "\n",
       "   DeparturePatientLocationtoArrivalMinutes WheelsStoptoArrivalMinutes   count  \n",
       "0                              Missing time               Missing time  251882  \n",
       "1                                  Has time                   Has time   92958  \n",
       "2                                  Has time               Missing time   15421  \n",
       "3                              Missing time               Missing time      87  \n",
       "4                              Missing time                   Has time       8  \n",
       "5                              Missing time               Missing time       7  \n",
       "6                                  Has time                   Has time       5  \n",
       "7                              Missing time               Missing time       5  \n",
       "8                                  Has time                   Has time       3  \n",
       "9                                  Has time               Missing time       3  \n",
       "10                             Missing time                   Has time       1  \n",
       "11                             Missing time                   Has time       1  "
      ]
     },
     "execution_count": 17,
     "metadata": {},
     "output_type": "execute_result"
    }
   ],
   "source": [
    "# Missing ambulance times in raw data\n",
    "(raw_amb_times\n",
    " .isnull()\n",
    " .apply(lambda x: x.map({True: 'Missing time', False: 'Has time'}))\n",
    " .value_counts()\n",
    " .reset_index(name='count'))"
   ]
  },
  {
   "attachments": {},
   "cell_type": "markdown",
   "metadata": {},
   "source": [
    "**Negative times**\n",
    "\n",
    "We get negative times when:\n",
    "* A time is greater than the subsequent time in the sequence (e.g. call_to_ambulance_arrival is ArrivalPatient - CallConnected, but will be negative if CallConnected is larger than ArrivalPatient)\n",
    "* WheelsStoptoArrivalMinutes is positive (as calculated by 0 - WheelsStop)\n",
    "\n",
    "The clean dataset contains no negative times.\n",
    "\n",
    "*(Decision agreed between MA, KP, AL & AH on 26/05/2023).*"
   ]
  },
  {
   "cell_type": "code",
   "execution_count": 18,
   "metadata": {},
   "outputs": [
    {
     "data": {
      "text/plain": [
       "False    360309\n",
       "True         72\n",
       "dtype: int64"
      ]
     },
     "execution_count": 18,
     "metadata": {},
     "output_type": "execute_result"
    }
   ],
   "source": [
    "(raw_data['CallConnectedtoArrivalMinutes'] >\n",
    " raw_data['ArrivalPatientLocationtoArrivalMinutes']).value_counts()"
   ]
  },
  {
   "cell_type": "code",
   "execution_count": 19,
   "metadata": {},
   "outputs": [
    {
     "data": {
      "text/plain": [
       "False    360229\n",
       "True        152\n",
       "dtype: int64"
      ]
     },
     "execution_count": 19,
     "metadata": {},
     "output_type": "execute_result"
    }
   ],
   "source": [
    "(raw_data['ArrivalPatientLocationtoArrivalMinutes'] >\n",
    " raw_data['DeparturePatientLocationtoArrivalMinutes']).value_counts()"
   ]
  },
  {
   "cell_type": "code",
   "execution_count": 20,
   "metadata": {},
   "outputs": [
    {
     "data": {
      "text/plain": [
       "False    360011\n",
       "True        370\n",
       "dtype: int64"
      ]
     },
     "execution_count": 20,
     "metadata": {},
     "output_type": "execute_result"
    }
   ],
   "source": [
    "(raw_data['DeparturePatientLocationtoArrivalMinutes'] >\n",
    " raw_data['WheelsStoptoArrivalMinutes']).value_counts()"
   ]
  },
  {
   "cell_type": "code",
   "execution_count": 21,
   "metadata": {},
   "outputs": [
    {
     "data": {
      "text/plain": [
       "False    354343\n",
       "True       6038\n",
       "Name: WheelsStoptoArrivalMinutes, dtype: int64"
      ]
     },
     "execution_count": 21,
     "metadata": {},
     "output_type": "execute_result"
    }
   ],
   "source": [
    "(raw_data['WheelsStoptoArrivalMinutes'] > 0).value_counts()"
   ]
  },
  {
   "cell_type": "code",
   "execution_count": 22,
   "metadata": {},
   "outputs": [
    {
     "data": {
      "text/html": [
       "<div>\n",
       "<style scoped>\n",
       "    .dataframe tbody tr th:only-of-type {\n",
       "        vertical-align: middle;\n",
       "    }\n",
       "\n",
       "    .dataframe tbody tr th {\n",
       "        vertical-align: top;\n",
       "    }\n",
       "\n",
       "    .dataframe thead th {\n",
       "        text-align: right;\n",
       "    }\n",
       "</style>\n",
       "<table border=\"1\" class=\"dataframe\">\n",
       "  <thead>\n",
       "    <tr style=\"text-align: right;\">\n",
       "      <th></th>\n",
       "      <th>call_to_ambulance_arrival_time</th>\n",
       "      <th>ambulance_on_scene_time</th>\n",
       "      <th>ambulance_travel_to_hospital_time</th>\n",
       "      <th>ambulance_wait_time_at_hospital</th>\n",
       "      <th>count</th>\n",
       "    </tr>\n",
       "  </thead>\n",
       "  <tbody>\n",
       "    <tr>\n",
       "      <th>0</th>\n",
       "      <td>False</td>\n",
       "      <td>False</td>\n",
       "      <td>False</td>\n",
       "      <td>False</td>\n",
       "      <td>357103</td>\n",
       "    </tr>\n",
       "  </tbody>\n",
       "</table>\n",
       "</div>"
      ],
      "text/plain": [
       "   call_to_ambulance_arrival_time  ambulance_on_scene_time  \\\n",
       "0                           False                    False   \n",
       "\n",
       "   ambulance_travel_to_hospital_time  ambulance_wait_time_at_hospital   count  \n",
       "0                              False                            False  357103  "
      ]
     },
     "execution_count": 22,
     "metadata": {},
     "output_type": "execute_result"
    }
   ],
   "source": [
    "(clean_amb_times < 0).value_counts().reset_index(name='count')"
   ]
  },
  {
   "attachments": {},
   "cell_type": "markdown",
   "metadata": {},
   "source": [
    "**Times equal to zero**\n",
    "\n",
    "It is plausible that the wait time at the hospital might be 0 minutes. However, a time of 0 minutes is not plausible for:\n",
    "* Call received to ambulance arrival\n",
    "* Length of time that ambulance is on scene\n",
    "* Travel time to hospital\n",
    "\n",
    "Hence, in those cases, all times are set as NaN.\n",
    "\n",
    "*(Decision agreed between MA, KP, AL & AH on 26/05/2023).*"
   ]
  },
  {
   "cell_type": "code",
   "execution_count": 23,
   "metadata": {},
   "outputs": [
    {
     "data": {
      "text/html": [
       "<div>\n",
       "<style scoped>\n",
       "    .dataframe tbody tr th:only-of-type {\n",
       "        vertical-align: middle;\n",
       "    }\n",
       "\n",
       "    .dataframe tbody tr th {\n",
       "        vertical-align: top;\n",
       "    }\n",
       "\n",
       "    .dataframe thead th {\n",
       "        text-align: right;\n",
       "    }\n",
       "</style>\n",
       "<table border=\"1\" class=\"dataframe\">\n",
       "  <thead>\n",
       "    <tr style=\"text-align: right;\">\n",
       "      <th></th>\n",
       "      <th>CallConnectedtoArrivalMinutes</th>\n",
       "      <th>ArrivalPatientLocationtoArrivalMinutes</th>\n",
       "      <th>DeparturePatientLocationtoArrivalMinutes</th>\n",
       "      <th>WheelsStoptoArrivalMinutes</th>\n",
       "      <th>count</th>\n",
       "    </tr>\n",
       "  </thead>\n",
       "  <tbody>\n",
       "    <tr>\n",
       "      <th>0</th>\n",
       "      <td>False</td>\n",
       "      <td>False</td>\n",
       "      <td>False</td>\n",
       "      <td>False</td>\n",
       "      <td>349050</td>\n",
       "    </tr>\n",
       "    <tr>\n",
       "      <th>1</th>\n",
       "      <td>False</td>\n",
       "      <td>False</td>\n",
       "      <td>False</td>\n",
       "      <td>True</td>\n",
       "      <td>11158</td>\n",
       "    </tr>\n",
       "    <tr>\n",
       "      <th>2</th>\n",
       "      <td>False</td>\n",
       "      <td>False</td>\n",
       "      <td>True</td>\n",
       "      <td>False</td>\n",
       "      <td>118</td>\n",
       "    </tr>\n",
       "    <tr>\n",
       "      <th>3</th>\n",
       "      <td>False</td>\n",
       "      <td>False</td>\n",
       "      <td>True</td>\n",
       "      <td>True</td>\n",
       "      <td>19</td>\n",
       "    </tr>\n",
       "    <tr>\n",
       "      <th>4</th>\n",
       "      <td>False</td>\n",
       "      <td>True</td>\n",
       "      <td>False</td>\n",
       "      <td>False</td>\n",
       "      <td>19</td>\n",
       "    </tr>\n",
       "    <tr>\n",
       "      <th>5</th>\n",
       "      <td>True</td>\n",
       "      <td>False</td>\n",
       "      <td>False</td>\n",
       "      <td>False</td>\n",
       "      <td>17</td>\n",
       "    </tr>\n",
       "  </tbody>\n",
       "</table>\n",
       "</div>"
      ],
      "text/plain": [
       "   CallConnectedtoArrivalMinutes  ArrivalPatientLocationtoArrivalMinutes  \\\n",
       "0                          False                                   False   \n",
       "1                          False                                   False   \n",
       "2                          False                                   False   \n",
       "3                          False                                   False   \n",
       "4                          False                                    True   \n",
       "5                           True                                   False   \n",
       "\n",
       "   DeparturePatientLocationtoArrivalMinutes  WheelsStoptoArrivalMinutes  \\\n",
       "0                                     False                       False   \n",
       "1                                     False                        True   \n",
       "2                                      True                       False   \n",
       "3                                      True                        True   \n",
       "4                                     False                       False   \n",
       "5                                     False                       False   \n",
       "\n",
       "    count  \n",
       "0  349050  \n",
       "1   11158  \n",
       "2     118  \n",
       "3      19  \n",
       "4      19  \n",
       "5      17  "
      ]
     },
     "execution_count": 23,
     "metadata": {},
     "output_type": "execute_result"
    }
   ],
   "source": [
    "(raw_amb_times == 0).value_counts().reset_index(name='count')"
   ]
  },
  {
   "cell_type": "code",
   "execution_count": 24,
   "metadata": {},
   "outputs": [
    {
     "data": {
      "text/html": [
       "<div>\n",
       "<style scoped>\n",
       "    .dataframe tbody tr th:only-of-type {\n",
       "        vertical-align: middle;\n",
       "    }\n",
       "\n",
       "    .dataframe tbody tr th {\n",
       "        vertical-align: top;\n",
       "    }\n",
       "\n",
       "    .dataframe thead th {\n",
       "        text-align: right;\n",
       "    }\n",
       "</style>\n",
       "<table border=\"1\" class=\"dataframe\">\n",
       "  <thead>\n",
       "    <tr style=\"text-align: right;\">\n",
       "      <th></th>\n",
       "      <th>call_to_ambulance_arrival_time</th>\n",
       "      <th>ambulance_on_scene_time</th>\n",
       "      <th>ambulance_travel_to_hospital_time</th>\n",
       "      <th>ambulance_wait_time_at_hospital</th>\n",
       "      <th>count</th>\n",
       "    </tr>\n",
       "  </thead>\n",
       "  <tbody>\n",
       "    <tr>\n",
       "      <th>0</th>\n",
       "      <td>False</td>\n",
       "      <td>False</td>\n",
       "      <td>False</td>\n",
       "      <td>False</td>\n",
       "      <td>346001</td>\n",
       "    </tr>\n",
       "    <tr>\n",
       "      <th>1</th>\n",
       "      <td>False</td>\n",
       "      <td>False</td>\n",
       "      <td>False</td>\n",
       "      <td>True</td>\n",
       "      <td>11102</td>\n",
       "    </tr>\n",
       "  </tbody>\n",
       "</table>\n",
       "</div>"
      ],
      "text/plain": [
       "   call_to_ambulance_arrival_time  ambulance_on_scene_time  \\\n",
       "0                           False                    False   \n",
       "1                           False                    False   \n",
       "\n",
       "   ambulance_travel_to_hospital_time  ambulance_wait_time_at_hospital   count  \n",
       "0                              False                            False  346001  \n",
       "1                              False                             True   11102  "
      ]
     },
     "execution_count": 24,
     "metadata": {},
     "output_type": "execute_result"
    }
   ],
   "source": [
    "(clean_amb_times == 0).value_counts().reset_index(name='count')"
   ]
  },
  {
   "attachments": {},
   "cell_type": "markdown",
   "metadata": {},
   "source": [
    "**Long call to ambulance time**\n",
    "\n",
    "Problem: Although a time at 98 hours may be a valid and real time that happened, it is very anomalous and is not what we would reasonably expect to happen in future - doesn't reflect normal variation in system - and so is considered appropriate to set that time as missing. There is one very high time (120 years) that is also definietely anomalous.\n",
    "\n",
    "Decision: Set a threshold of 24 hours (relatively arbritrary - based on spread of results and judgement on what is a very extreme result). Completely dropped (rather than set as missing) as feel extreme values (but not necessarily invalid in every case).\n",
    "\n",
    "*(Threshold agreed between MA, KP, AL & AH on 26/05/2023).*\n",
    "\n",
    "<mark>To check.</mark> Decision to drop entirely v.s. set as missing."
   ]
  },
  {
   "cell_type": "code",
   "execution_count": 25,
   "metadata": {},
   "outputs": [
    {
     "data": {
      "image/png": "[encoded data removed]",
      "text/plain": [
       "<Figure size 640x480 with 1 Axes>"
      ]
     },
     "metadata": {},
     "output_type": "display_data"
    },
    {
     "data": {
      "text/plain": [
       "0.0     74679\n",
       "1.0     26572\n",
       "2.0      4266\n",
       "3.0      1341\n",
       "4.0       638\n",
       "5.0       306\n",
       "6.0       196\n",
       "7.0        99\n",
       "8.0        86\n",
       "9.0        67\n",
       "10.0       30\n",
       "11.0       21\n",
       "12.0       20\n",
       "13.0       16\n",
       "14.0       15\n",
       "15.0        8\n",
       "16.0        4\n",
       "17.0        6\n",
       "18.0        4\n",
       "19.0        2\n",
       "20.0        1\n",
       "21.0        2\n",
       "23.0        3\n",
       "24.0        7\n",
       "25.0        2\n",
       "27.0        1\n",
       "48.0        1\n",
       "98.0        1\n",
       "dtype: int64"
      ]
     },
     "execution_count": 25,
     "metadata": {},
     "output_type": "execute_result"
    }
   ],
   "source": [
    "# Extract call to ambulance arrival time from raw data\n",
    "# and convert to hours\n",
    "call_amb_hours = (\n",
    "    raw_data['ArrivalPatientLocationtoArrivalMinutes'] -\n",
    "    raw_data['CallConnectedtoArrivalMinutes'])/60\n",
    "\n",
    "# Drop NA, really high value (1061774), and negative\n",
    "call_amb_hours_filter = call_amb_hours[\n",
    "    (call_amb_hours < 100) & ~(call_amb_hours < 0)].dropna()\n",
    "\n",
    "plt.boxplot(call_amb_hours_filter, vert=0)\n",
    "plt.xlabel('Hours')\n",
    "plt.ylabel('Call to ambulance arrival time')\n",
    "plt.title('Call to ambulance arrival (hiding > 100 hours)')\n",
    "plt.show()\n",
    "\n",
    "round(call_amb_hours_filter).value_counts().sort_index()"
   ]
  },
  {
   "cell_type": "code",
   "execution_count": 26,
   "metadata": {},
   "outputs": [
    {
     "data": {
      "text/plain": [
       "24.0"
      ]
     },
     "execution_count": 26,
     "metadata": {},
     "output_type": "execute_result"
    }
   ],
   "source": [
    "# Demonstration of max time in cleaned data\n",
    "np.nanmax(data['call_to_ambulance_arrival_time'])/60"
   ]
  },
  {
   "attachments": {},
   "cell_type": "markdown",
   "metadata": {},
   "source": [
    "**Long ambulance on scene time**\n",
    "\n",
    "Problem: In the raw data, time on scene increments from 0 to 6 hours, then leaps to 24, then two totally implausible, although those are now dropped due to other data cleaning actions.\n",
    "\n",
    "Decision: Cut-off at 12 hours (arbritrary - based on range of values and judgement of what is so long that it is likely to be invalid). Since these are times that are considered invalid, all ambulance times for these patients were set as missing (since times are incremental, so invalid times have knock-on effect) - rather than being dropped from the dataset entirely.\n",
    "\n",
    "*(Threshold agreed between MA, KP, AL & AH on 26/05/2023).*\n",
    "\n",
    "<mark>To check.</mark> Decision to drop entirely v.s. set as missing."
   ]
  },
  {
   "cell_type": "code",
   "execution_count": 27,
   "metadata": {},
   "outputs": [
    {
     "data": {
      "text/plain": [
       "0.0    40189\n",
       "1.0    44296\n",
       "2.0     1005\n",
       "3.0       80\n",
       "4.0        9\n",
       "5.0        4\n",
       "6.0        3\n",
       "7.0        1\n",
       "Name: ambulance_on_scene_time, dtype: int64"
      ]
     },
     "execution_count": 27,
     "metadata": {},
     "output_type": "execute_result"
    }
   ],
   "source": [
    "# Convert time from minutes, filter from non-negative,\n",
    "# and present counts (rounded)\n",
    "amb_sc_hours = data['ambulance_on_scene_time']/60\n",
    "amb_sc_hours = amb_sc_hours[amb_sc_hours >= 0]\n",
    "round(amb_sc_hours).value_counts().sort_index()"
   ]
  },
  {
   "cell_type": "code",
   "execution_count": 28,
   "metadata": {},
   "outputs": [
    {
     "data": {
      "text/plain": [
       "0.0        51582\n",
       "1.0        55290\n",
       "2.0         1241\n",
       "3.0           94\n",
       "4.0           14\n",
       "5.0            4\n",
       "6.0            3\n",
       "7.0            1\n",
       "8.0            1\n",
       "10.0           2\n",
       "24.0           1\n",
       "8760.0         1\n",
       "17520.0        1\n",
       "dtype: int64"
      ]
     },
     "execution_count": 28,
     "metadata": {},
     "output_type": "execute_result"
    }
   ],
   "source": [
    "# From raw data\n",
    "raw_scene_time = (\n",
    "    raw_data['DeparturePatientLocationtoArrivalMinutes'] -\n",
    "    raw_data['ArrivalPatientLocationtoArrivalMinutes'])/60\n",
    "raw_scene_time = raw_scene_time[raw_scene_time >= 0]\n",
    "round(raw_scene_time).value_counts().sort_index()"
   ]
  },
  {
   "attachments": {},
   "cell_type": "markdown",
   "metadata": {},
   "source": [
    "**Long ambulance travel to hospital time**\n",
    "\n",
    "Problem: Most times are around 0 or 1 hours, and some are around 2 to 5 hours - but then there are times of 10 to 24 hours, as well as some totally implausible times.\n",
    "\n",
    "Decision: Cut-off at 6 hours (arbritrary - based on range of values and decision on what times are so large that they are likely to be invalid/erronaeous). Setting times as missing (rather than dropping entirely) as this is on basis of them being invalid (rather than extreme but plausible).\n",
    "\n",
    "*(Threshold agreed between MA & AH on 16/05/2023).*\n",
    "\n",
    "<mark>To check.</mark>\n",
    "* (KP + AL) Threshold\n",
    "* (MA + KP + AL) decision to drop entirely v.s. set as missing"
   ]
  },
  {
   "cell_type": "code",
   "execution_count": 29,
   "metadata": {},
   "outputs": [
    {
     "data": {
      "text/plain": [
       "0.0          78514\n",
       "1.0          13997\n",
       "2.0             57\n",
       "3.0              4\n",
       "4.0              1\n",
       "5.0              2\n",
       "10.0             6\n",
       "11.0             2\n",
       "14.0             1\n",
       "23.0             1\n",
       "24.0             5\n",
       "240.0            1\n",
       "1488.0           1\n",
       "8760.0           1\n",
       "1048835.0        1\n",
       "1052038.0        1\n",
       "1060339.0        1\n",
       "dtype: int64"
      ]
     },
     "execution_count": 29,
     "metadata": {},
     "output_type": "execute_result"
    }
   ],
   "source": [
    "# From raw data\n",
    "raw_travel_time = (\n",
    "    raw_data['WheelsStoptoArrivalMinutes'] -\n",
    "    raw_data['DeparturePatientLocationtoArrivalMinutes'])/60\n",
    "raw_travel_time = raw_travel_time[raw_travel_time >= 0]\n",
    "round(raw_travel_time).value_counts().sort_index()"
   ]
  },
  {
   "cell_type": "code",
   "execution_count": 30,
   "metadata": {},
   "outputs": [
    {
     "data": {
      "text/plain": [
       "3.85"
      ]
     },
     "execution_count": 30,
     "metadata": {},
     "output_type": "execute_result"
    }
   ],
   "source": [
    "# Demonstration of max time in cleaned data\n",
    "np.nanmax(data['ambulance_travel_to_hospital_time'])/60"
   ]
  },
  {
   "attachments": {},
   "cell_type": "markdown",
   "metadata": {},
   "source": [
    "**Long ambulance wait at hospital time**\n",
    "\n",
    "Problem: Majority of patients have quite a short wait time, but there are wait times that increment up and up in small steps (e.g. from a few hours through to 14, 15, 16 ..20, 22, 23... 43...). Many of these times are implausible (including times where it was weeks)\n",
    "\n",
    "Decision: Set threshold of 12 hours (arbritrary - based on evaluation of range of times, and judgement on what is likely to be invalid).\n",
    "\n",
    "*(Threshold agreed between MA & AH on 16/05/2023).*\n",
    "\n",
    "<mark>To check.</mark>\n",
    "* (KP + AL) Threshold\n",
    "* (MA + KP + AL) Decision to drop v.s. set as missing"
   ]
  },
  {
   "cell_type": "code",
   "execution_count": 31,
   "metadata": {},
   "outputs": [
    {
     "data": {
      "image/png": "[encoded data removed]",
      "text/plain": [
       "<Figure size 640x480 with 1 Axes>"
      ]
     },
     "metadata": {},
     "output_type": "display_data"
    },
    {
     "data": {
      "image/png": "[encoded data removed]",
      "text/plain": [
       "<Figure size 640x480 with 1 Axes>"
      ]
     },
     "metadata": {},
     "output_type": "display_data"
    },
    {
     "data": {
      "image/png": "[encoded data removed]",
      "text/plain": [
       "<Figure size 640x480 with 1 Axes>"
      ]
     },
     "metadata": {},
     "output_type": "display_data"
    }
   ],
   "source": [
    "# Find ambulance wait time at hospital in hours\n",
    "amb_wait_hours = (0 - raw_data['WheelsStoptoArrivalMinutes'])/60\n",
    "\n",
    "# Remove negative\n",
    "amb_wait_hours = amb_wait_hours[amb_wait_hours >= 0]\n",
    "\n",
    "plt.boxplot(amb_wait_hours[amb_wait_hours <= 100], vert=0)\n",
    "plt.xlabel('Hours')\n",
    "plt.ylabel('Ambulance wait time at hospital')\n",
    "plt.title('Ambulance hospital wait time (hiding > 100 hours)')\n",
    "plt.show()\n",
    "\n",
    "plt.boxplot(amb_wait_hours[amb_wait_hours <= 24], vert=0)\n",
    "plt.xlabel('Hours')\n",
    "plt.ylabel('Ambulance wait time at hospital')\n",
    "plt.title('Ambulance hospital wait time (hiding > 24 hours)')\n",
    "plt.show()\n",
    "\n",
    "plt.boxplot(amb_wait_hours[amb_wait_hours <= 12], vert=0)\n",
    "plt.xlabel('Hours')\n",
    "plt.ylabel('Ambulance wait time at hospital')\n",
    "plt.title('Ambulance hospital wait time (hiding > 12 hours)')\n",
    "plt.show()"
   ]
  },
  {
   "cell_type": "code",
   "execution_count": 32,
   "metadata": {},
   "outputs": [
    {
     "data": {
      "text/plain": [
       "12.0"
      ]
     },
     "execution_count": 32,
     "metadata": {},
     "output_type": "execute_result"
    }
   ],
   "source": [
    "# Max wait time in cleaned data (hours)\n",
    "np.nanmax(data['ambulance_wait_time_at_hospital'])/60"
   ]
  },
  {
   "attachments": {},
   "cell_type": "markdown",
   "metadata": {},
   "source": [
    "**Times when didn't arrive by ambulance**\n",
    "\n",
    "There are some individuals who have ambulance times yet are marked as having not arrived by ambulance. In these cases, we are not certain which of these times are true. Hence, all times have been marked as NaN for these individuals.\n",
    "\n",
    "*(Decision agreed between MA, KP, AL & AH on 26/05/2023).*"
   ]
  },
  {
   "cell_type": "code",
   "execution_count": 33,
   "metadata": {},
   "outputs": [
    {
     "data": {
      "text/plain": [
       "False    360372\n",
       "True          9\n",
       "dtype: int64"
      ]
     },
     "execution_count": 33,
     "metadata": {},
     "output_type": "execute_result"
    }
   ],
   "source": [
    "# Number of times this is the case in the raw data\n",
    "times_but_no_amb = (\n",
    "    raw_data['S1ArriveByAmbulance'] == 'N') & (\n",
    "        (raw_data['CallConnectedtoArrivalMinutes'].notnull()) |\n",
    "        (raw_data['ArrivalPatientLocationtoArrivalMinutes'].notnull()) |\n",
    "        (raw_data['DeparturePatientLocationtoArrivalMinutes'].notnull()) |\n",
    "        (raw_data['WheelsStoptoArrivalMinutes'].notnull()))\n",
    "times_but_no_amb.value_counts()"
   ]
  },
  {
   "cell_type": "code",
   "execution_count": 34,
   "metadata": {},
   "outputs": [
    {
     "data": {
      "text/plain": [
       "False    357103\n",
       "dtype: int64"
      ]
     },
     "execution_count": 34,
     "metadata": {},
     "output_type": "execute_result"
    }
   ],
   "source": [
    "# Demonstrating these are removed from the clean data\n",
    "clean_times_but_no_amb = (\n",
    "    data['arrive_by_ambulance'] == 0) & (\n",
    "        (data['call_to_ambulance_arrival_time'].notnull()) |\n",
    "        (data['ambulance_on_scene_time'].notnull()) |\n",
    "        (data['ambulance_travel_to_hospital_time'].notnull()) |\n",
    "        (data['ambulance_wait_time_at_hospital'].notnull()))\n",
    "clean_times_but_no_amb.value_counts()"
   ]
  },
  {
   "attachments": {},
   "cell_type": "markdown",
   "metadata": {},
   "source": [
    "### Day, month, year and time of arrival\n",
    "\n",
    "No comment for day, month and year (just pulled from dataset).\n",
    "\n",
    "For time of arrival, to convert from a categorical to numeric variable, we set arrival time to the start of each bracket. It is not a concern that this is different to age (where set to middle of the bracket), as the meaningful information for arrival time is the difference between each time (i.e. 3 units), which would be the same regardless of whether the start, middle or end of the bracket was used. The start was chosen as this was felt easier to understand than a half time, and as this is consistent with SAMueL1.\n",
    "\n",
    "*(Decision agreed between MA, KP, AL & AH on 19/05/2023).*"
   ]
  },
  {
   "cell_type": "code",
   "execution_count": 35,
   "metadata": {},
   "outputs": [
    {
     "data": {
      "text/html": [
       "<div>\n",
       "<style scoped>\n",
       "    .dataframe tbody tr th:only-of-type {\n",
       "        vertical-align: middle;\n",
       "    }\n",
       "\n",
       "    .dataframe tbody tr th {\n",
       "        vertical-align: top;\n",
       "    }\n",
       "\n",
       "    .dataframe thead th {\n",
       "        text-align: right;\n",
       "    }\n",
       "</style>\n",
       "<table border=\"1\" class=\"dataframe\">\n",
       "  <thead>\n",
       "    <tr style=\"text-align: right;\">\n",
       "      <th></th>\n",
       "      <th>arrival_time_3_hour_period</th>\n",
       "      <th>FirstArrivalTime</th>\n",
       "      <th>count</th>\n",
       "    </tr>\n",
       "  </thead>\n",
       "  <tbody>\n",
       "    <tr>\n",
       "      <th>6</th>\n",
       "      <td>0</td>\n",
       "      <td>0000to3000</td>\n",
       "      <td>15569</td>\n",
       "    </tr>\n",
       "    <tr>\n",
       "      <th>7</th>\n",
       "      <td>3</td>\n",
       "      <td>0300to0600</td>\n",
       "      <td>11447</td>\n",
       "    </tr>\n",
       "    <tr>\n",
       "      <th>5</th>\n",
       "      <td>6</td>\n",
       "      <td>0600to0900</td>\n",
       "      <td>24900</td>\n",
       "    </tr>\n",
       "    <tr>\n",
       "      <th>0</th>\n",
       "      <td>9</td>\n",
       "      <td>0900to1200</td>\n",
       "      <td>81323</td>\n",
       "    </tr>\n",
       "    <tr>\n",
       "      <th>1</th>\n",
       "      <td>12</td>\n",
       "      <td>1200to1500</td>\n",
       "      <td>77807</td>\n",
       "    </tr>\n",
       "    <tr>\n",
       "      <th>2</th>\n",
       "      <td>15</td>\n",
       "      <td>1500to1800</td>\n",
       "      <td>63770</td>\n",
       "    </tr>\n",
       "    <tr>\n",
       "      <th>3</th>\n",
       "      <td>18</td>\n",
       "      <td>1800to2100</td>\n",
       "      <td>49990</td>\n",
       "    </tr>\n",
       "    <tr>\n",
       "      <th>4</th>\n",
       "      <td>21</td>\n",
       "      <td>2100to2400</td>\n",
       "      <td>32297</td>\n",
       "    </tr>\n",
       "  </tbody>\n",
       "</table>\n",
       "</div>"
      ],
      "text/plain": [
       "   arrival_time_3_hour_period FirstArrivalTime  count\n",
       "6                           0       0000to3000  15569\n",
       "7                           3       0300to0600  11447\n",
       "5                           6       0600to0900  24900\n",
       "0                           9       0900to1200  81323\n",
       "1                          12       1200to1500  77807\n",
       "2                          15       1500to1800  63770\n",
       "3                          18       1800to2100  49990\n",
       "4                          21       2100to2400  32297"
      ]
     },
     "execution_count": 35,
     "metadata": {},
     "output_type": "execute_result"
    }
   ],
   "source": [
    "# Extract relevant columns and merge\n",
    "compare_time = pd.merge(\n",
    "    left=data[['id', 'arrival_time_3_hour_period']], left_on='id',\n",
    "    right=raw_data[['PatientId', 'FirstArrivalTime']], right_on='PatientId')\n",
    "\n",
    "# Table illustrating change from categorical to numerical variable\n",
    "(compare_time\n",
    " .drop(['PatientId', 'id'], axis=1)\n",
    " .value_counts(dropna=False)\n",
    " .reset_index(name='count')\n",
    " .sort_values(by='arrival_time_3_hour_period'))"
   ]
  },
  {
   "attachments": {},
   "cell_type": "markdown",
   "metadata": {},
   "source": [
    "### Scan, thrombolysis and thrombectomy"
   ]
  },
  {
   "attachments": {},
   "cell_type": "markdown",
   "metadata": {},
   "source": [
    "**Arrival to scan time**\n",
    "\n",
    "Problem: Can be very long (e.g. 2000 hours = 83 days, 8000 hours = 333 days).\n",
    "\n",
    "Context:\n",
    "* We only request out-of-hospital onset, so this is not due to in-hospital stroke where arrived at hospital prior to having had a stroke.\n",
    "* However, it might be the case that people had a stroke out-of-hospital, arrived (e.g. by ambulance) for another reason, and only later realised had a stroke (or there was something more severe being prioritised).\n",
    "* It shouldn't really be more than four hours - and it should hopefully be a matter of minutes. Often, we filter to onset-to-arrival < 4 hours and arrival-to-scan < 4 hours.\n",
    "\n",
    "Decision: <mark>To discuss</mark>"
   ]
  },
  {
   "cell_type": "code",
   "execution_count": 36,
   "metadata": {},
   "outputs": [
    {
     "data": {
      "image/png": "[encoded data removed]",
      "text/plain": [
       "<Figure size 640x480 with 1 Axes>"
      ]
     },
     "metadata": {},
     "output_type": "display_data"
    },
    {
     "data": {
      "image/png": "[encoded data removed]",
      "text/plain": [
       "<Figure size 640x480 with 1 Axes>"
      ]
     },
     "metadata": {},
     "output_type": "display_data"
    },
    {
     "name": "stdout",
     "output_type": "stream",
     "text": [
      "True     0.99868\n",
      "False    0.00132\n",
      "Name: ArrivaltoBrainImagingMinutes, dtype: float64\n"
     ]
    },
    {
     "data": {
      "image/png": "[encoded data removed]",
      "text/plain": [
       "<Figure size 640x480 with 1 Axes>"
      ]
     },
     "metadata": {},
     "output_type": "display_data"
    },
    {
     "name": "stdout",
     "output_type": "stream",
     "text": [
      "True     0.981749\n",
      "False    0.018251\n",
      "Name: ArrivaltoBrainImagingMinutes, dtype: float64\n"
     ]
    }
   ],
   "source": [
    "# Convert time from minutes to hours and drop missing\n",
    "arr_scan_hours = (raw_data['ArrivaltoBrainImagingMinutes']/60).dropna()\n",
    "\n",
    "# Create boxplot\n",
    "plt.boxplot(arr_scan_hours, vert=0)\n",
    "plt.xlabel('Hours')\n",
    "plt.ylabel('Arrival to scan time')\n",
    "plt.title('Arrival to scan time')\n",
    "plt.show()\n",
    "\n",
    "# Filter to time within one week\n",
    "plt.boxplot(arr_scan_hours[arr_scan_hours < 168], vert=0)\n",
    "plt.xlabel('Hours')\n",
    "plt.ylabel('Arrival to scan time')\n",
    "plt.title('Arrival to scan time (hiding >168 hours/7 days)')\n",
    "plt.show()\n",
    "print((arr_scan_hours < 168).value_counts(normalize=True))\n",
    "\n",
    "# Filter to time within one day\n",
    "plt.boxplot(arr_scan_hours[arr_scan_hours < 24], vert=0)\n",
    "plt.xlabel('Hours')\n",
    "plt.ylabel('Arrival to scan time')\n",
    "plt.title('Arrival to scan time (hiding >24 hours/1 day)')\n",
    "plt.show()\n",
    "print((arr_scan_hours < 24).value_counts(normalize=True))"
   ]
  },
  {
   "cell_type": "code",
   "execution_count": 37,
   "metadata": {},
   "outputs": [
    {
     "data": {
      "image/png": "[encoded data removed]",
      "text/plain": [
       "<Figure size 640x480 with 1 Axes>"
      ]
     },
     "metadata": {},
     "output_type": "display_data"
    },
    {
     "name": "stdout",
     "output_type": "stream",
     "text": [
      "False    0.617326\n",
      "True     0.382674\n",
      "Name: onset_to_arrival_time, dtype: float64\n"
     ]
    },
    {
     "data": {
      "image/png": "[encoded data removed]",
      "text/plain": [
       "<Figure size 640x480 with 1 Axes>"
      ]
     },
     "metadata": {},
     "output_type": "display_data"
    },
    {
     "name": "stdout",
     "output_type": "stream",
     "text": [
      "True     0.990589\n",
      "False    0.009411\n",
      "Name: arrival_to_scan_time, dtype: float64\n"
     ]
    }
   ],
   "source": [
    "# Filter to onset to arrival minutes < 4 hours (240 minutes)\n",
    "onset_four_arr_scan = data.loc[\n",
    "    data['onset_to_arrival_time'] < 240,\n",
    "    'arrival_to_scan_time']/60\n",
    "\n",
    "# Create boxplot\n",
    "plt.boxplot(onset_four_arr_scan, vert=0)\n",
    "plt.xlabel('Hours')\n",
    "plt.ylabel('Arrival to scan time')\n",
    "plt.title('Arrival to scan time (if onset to arrival <4h)')\n",
    "plt.show()\n",
    "print((data['onset_to_arrival_time'] < 240).value_counts(normalize=True))\n",
    "\n",
    "# Filter to arrival to scan < 20 hours\n",
    "plt.boxplot(onset_four_arr_scan[onset_four_arr_scan < 20], vert=0)\n",
    "plt.xlabel('Hours')\n",
    "plt.ylabel('Arrival to scan time')\n",
    "plt.title('Arrival to scan time (if <20h & onset to arrival <4h)')\n",
    "plt.show()\n",
    "print((onset_four_arr_scan < 20).value_counts(normalize=True))"
   ]
  },
  {
   "attachments": {},
   "cell_type": "markdown",
   "metadata": {},
   "source": [
    "**Scan to thrombolysis time**\n",
    "\n",
    "A scan to thrombolysis time of 0 is considered relatively plausible (that it could be very quick) and could be part of noise of data but not invalid results, so these have not been removed from the clean data.\n",
    "\n",
    "*(Decision agreed between MA & AH on 16/05/2023).*\n",
    "\n",
    "<mark>To check.</mark> That KP + AL agree."
   ]
  },
  {
   "cell_type": "code",
   "execution_count": 38,
   "metadata": {},
   "outputs": [
    {
     "data": {
      "text/plain": [
       "False    356812\n",
       "True        291\n",
       "Name: scan_to_thrombolysis_time, dtype: int64"
      ]
     },
     "execution_count": 38,
     "metadata": {},
     "output_type": "execute_result"
    }
   ],
   "source": [
    "(data['scan_to_thrombolysis_time'] == 0).value_counts()"
   ]
  },
  {
   "attachments": {},
   "cell_type": "markdown",
   "metadata": {},
   "source": [
    "**Thrombolysis**\n",
    "\n",
    "No comment - Y (yes) to 1, and N or NB (no or no but) to 0."
   ]
  },
  {
   "attachments": {},
   "cell_type": "markdown",
   "metadata": {},
   "source": [
    "**Thrombectomy**\n",
    "\n",
    "If ArrivaltoArterialPunctureMinutes is NaN, we conclude they did not have a thrombectomy. Is there a possibility that this could be missing for anyone who did have a thrombectomy? No, the SSNAP team suggested that this is how we identify people who have had a thrombectomy, and that everyone who had one should have a time."
   ]
  },
  {
   "cell_type": "code",
   "execution_count": 39,
   "metadata": {},
   "outputs": [
    {
     "data": {
      "text/html": [
       "<div>\n",
       "<style scoped>\n",
       "    .dataframe tbody tr th:only-of-type {\n",
       "        vertical-align: middle;\n",
       "    }\n",
       "\n",
       "    .dataframe tbody tr th {\n",
       "        vertical-align: top;\n",
       "    }\n",
       "\n",
       "    .dataframe thead th {\n",
       "        text-align: right;\n",
       "    }\n",
       "</style>\n",
       "<table border=\"1\" class=\"dataframe\">\n",
       "  <thead>\n",
       "    <tr style=\"text-align: right;\">\n",
       "      <th></th>\n",
       "      <th>thrombectomy</th>\n",
       "      <th>ArrivaltoArterialPunctureMinutes</th>\n",
       "      <th>count</th>\n",
       "    </tr>\n",
       "  </thead>\n",
       "  <tbody>\n",
       "    <tr>\n",
       "      <th>0</th>\n",
       "      <td>0</td>\n",
       "      <td>Missing data</td>\n",
       "      <td>352760</td>\n",
       "    </tr>\n",
       "    <tr>\n",
       "      <th>1</th>\n",
       "      <td>1</td>\n",
       "      <td>Have data</td>\n",
       "      <td>4343</td>\n",
       "    </tr>\n",
       "  </tbody>\n",
       "</table>\n",
       "</div>"
      ],
      "text/plain": [
       "   thrombectomy ArrivaltoArterialPunctureMinutes   count\n",
       "0             0                     Missing data  352760\n",
       "1             1                        Have data    4343"
      ]
     },
     "execution_count": 39,
     "metadata": {},
     "output_type": "execute_result"
    }
   ],
   "source": [
    "# Show where raw data had or was missing data, then compare with clean data\n",
    "raw_thrombectomy = mark_missing(raw_data['ArrivaltoArterialPunctureMinutes'])\n",
    "raw_thrombectomy['PatientId'] = raw_data['PatientId']\n",
    "compare_raw_clean(raw_thrombectomy,\n",
    "                  data[['id', 'thrombectomy']])"
   ]
  },
  {
   "attachments": {},
   "cell_type": "markdown",
   "metadata": {},
   "source": [
    "### Comorbidities\n",
    "\n",
    "**Diagnoses.** New atrial fibrillation diagnosis is missing data (should be complete for all cases where AtrialFibrillation = N), but still included in cleaned dataset for some descriptive analysis."
   ]
  },
  {
   "cell_type": "code",
   "execution_count": 40,
   "metadata": {},
   "outputs": [
    {
     "data": {
      "text/html": [
       "<div>\n",
       "<style scoped>\n",
       "    .dataframe tbody tr th:only-of-type {\n",
       "        vertical-align: middle;\n",
       "    }\n",
       "\n",
       "    .dataframe tbody tr th {\n",
       "        vertical-align: top;\n",
       "    }\n",
       "\n",
       "    .dataframe thead th {\n",
       "        text-align: right;\n",
       "    }\n",
       "</style>\n",
       "<table border=\"1\" class=\"dataframe\">\n",
       "  <thead>\n",
       "    <tr style=\"text-align: right;\">\n",
       "      <th></th>\n",
       "      <th>S2CoMAtrialFibrillation</th>\n",
       "      <th>S2NewAFDiagnosis</th>\n",
       "      <th>count</th>\n",
       "    </tr>\n",
       "  </thead>\n",
       "  <tbody>\n",
       "    <tr>\n",
       "      <th>0</th>\n",
       "      <td>N</td>\n",
       "      <td>N</td>\n",
       "      <td>185842</td>\n",
       "    </tr>\n",
       "    <tr>\n",
       "      <th>3</th>\n",
       "      <td>N</td>\n",
       "      <td>Y</td>\n",
       "      <td>13133</td>\n",
       "    </tr>\n",
       "    <tr>\n",
       "      <th>1</th>\n",
       "      <td>N</td>\n",
       "      <td>NaN</td>\n",
       "      <td>95809</td>\n",
       "    </tr>\n",
       "    <tr>\n",
       "      <th>2</th>\n",
       "      <td>Y</td>\n",
       "      <td>NaN</td>\n",
       "      <td>65597</td>\n",
       "    </tr>\n",
       "  </tbody>\n",
       "</table>\n",
       "</div>"
      ],
      "text/plain": [
       "  S2CoMAtrialFibrillation S2NewAFDiagnosis   count\n",
       "0                       N                N  185842\n",
       "3                       N                Y   13133\n",
       "1                       N              NaN   95809\n",
       "2                       Y              NaN   65597"
      ]
     },
     "execution_count": 40,
     "metadata": {},
     "output_type": "execute_result"
    }
   ],
   "source": [
    "((raw_data[['S2CoMAtrialFibrillation', 'S2NewAFDiagnosis']]\n",
    "  .value_counts(dropna=False)\n",
    "  .reset_index(name='count')\n",
    "  .sort_values(by='S2NewAFDiagnosis')))"
   ]
  },
  {
   "attachments": {},
   "cell_type": "markdown",
   "metadata": {},
   "source": [
    "**Anticoagulants and antiplatelets.** Among possible answers to these variables in the raw data were no (N) and no but (NB) - we are not aware what the difference between these are, but see no reason why there would be an issue of setting both as 0 in the clean data.\n",
    "\n",
    "<mark>To change?</mark> We don't know that NaN definetely means No. Should these be marked as NaN rather than 0 in the clean data?\n",
    "\n",
    "<mark>Changed.</mark> If anticoagulent use marked as no, but a specific anticoagulent is marked as true, all anticoagulent results are set as NaN, as we would not know which result is true."
   ]
  },
  {
   "cell_type": "code",
   "execution_count": 41,
   "metadata": {},
   "outputs": [
    {
     "data": {
      "text/html": [
       "<div>\n",
       "<style scoped>\n",
       "    .dataframe tbody tr th:only-of-type {\n",
       "        vertical-align: middle;\n",
       "    }\n",
       "\n",
       "    .dataframe tbody tr th {\n",
       "        vertical-align: top;\n",
       "    }\n",
       "\n",
       "    .dataframe thead th {\n",
       "        text-align: right;\n",
       "    }\n",
       "</style>\n",
       "<table border=\"1\" class=\"dataframe\">\n",
       "  <thead>\n",
       "    <tr style=\"text-align: right;\">\n",
       "      <th></th>\n",
       "      <th>S2CoMAtrialFibrillation</th>\n",
       "      <th>S2CoMAFAnticoagulent</th>\n",
       "      <th>count</th>\n",
       "    </tr>\n",
       "  </thead>\n",
       "  <tbody>\n",
       "    <tr>\n",
       "      <th>0</th>\n",
       "      <td>N</td>\n",
       "      <td>N</td>\n",
       "      <td>186543</td>\n",
       "    </tr>\n",
       "    <tr>\n",
       "      <th>4</th>\n",
       "      <td>N</td>\n",
       "      <td>NB</td>\n",
       "      <td>11387</td>\n",
       "    </tr>\n",
       "    <tr>\n",
       "      <th>5</th>\n",
       "      <td>N</td>\n",
       "      <td>Y</td>\n",
       "      <td>6808</td>\n",
       "    </tr>\n",
       "    <tr>\n",
       "      <th>1</th>\n",
       "      <td>N</td>\n",
       "      <td>NaN</td>\n",
       "      <td>90046</td>\n",
       "    </tr>\n",
       "    <tr>\n",
       "      <th>3</th>\n",
       "      <td>Y</td>\n",
       "      <td>N</td>\n",
       "      <td>19014</td>\n",
       "    </tr>\n",
       "    <tr>\n",
       "      <th>6</th>\n",
       "      <td>Y</td>\n",
       "      <td>NB</td>\n",
       "      <td>6578</td>\n",
       "    </tr>\n",
       "    <tr>\n",
       "      <th>2</th>\n",
       "      <td>Y</td>\n",
       "      <td>Y</td>\n",
       "      <td>40004</td>\n",
       "    </tr>\n",
       "    <tr>\n",
       "      <th>7</th>\n",
       "      <td>Y</td>\n",
       "      <td>NaN</td>\n",
       "      <td>1</td>\n",
       "    </tr>\n",
       "  </tbody>\n",
       "</table>\n",
       "</div>"
      ],
      "text/plain": [
       "  S2CoMAtrialFibrillation S2CoMAFAnticoagulent   count\n",
       "0                       N                    N  186543\n",
       "4                       N                   NB   11387\n",
       "5                       N                    Y    6808\n",
       "1                       N                  NaN   90046\n",
       "3                       Y                    N   19014\n",
       "6                       Y                   NB    6578\n",
       "2                       Y                    Y   40004\n",
       "7                       Y                  NaN       1"
      ]
     },
     "execution_count": 41,
     "metadata": {},
     "output_type": "execute_result"
    }
   ],
   "source": [
    "# Inspection of where anticoagulent data is missing\n",
    "(raw_data[['S2CoMAtrialFibrillation', 'S2CoMAFAnticoagulent']]\n",
    " .value_counts(dropna=False)\n",
    " .reset_index(name='count')\n",
    " .sort_values(by=['S2CoMAtrialFibrillation', 'S2CoMAFAnticoagulent']))"
   ]
  },
  {
   "cell_type": "code",
   "execution_count": 42,
   "metadata": {},
   "outputs": [
    {
     "data": {
      "text/html": [
       "<div>\n",
       "<style scoped>\n",
       "    .dataframe tbody tr th:only-of-type {\n",
       "        vertical-align: middle;\n",
       "    }\n",
       "\n",
       "    .dataframe tbody tr th {\n",
       "        vertical-align: top;\n",
       "    }\n",
       "\n",
       "    .dataframe thead th {\n",
       "        text-align: right;\n",
       "    }\n",
       "</style>\n",
       "<table border=\"1\" class=\"dataframe\">\n",
       "  <thead>\n",
       "    <tr style=\"text-align: right;\">\n",
       "      <th></th>\n",
       "      <th>S2CoMAFAnticoagulent</th>\n",
       "      <th>S2CoMAFAnticoagulentVitK</th>\n",
       "      <th>S2CoMAFAnticoagulentDOAC</th>\n",
       "      <th>S2CoMAFAnticoagulentHeparin</th>\n",
       "    </tr>\n",
       "  </thead>\n",
       "  <tbody>\n",
       "    <tr>\n",
       "      <th>127274</th>\n",
       "      <td>N</td>\n",
       "      <td>0.0</td>\n",
       "      <td>1.0</td>\n",
       "      <td>0.0</td>\n",
       "    </tr>\n",
       "  </tbody>\n",
       "</table>\n",
       "</div>"
      ],
      "text/plain": [
       "       S2CoMAFAnticoagulent  S2CoMAFAnticoagulentVitK  \\\n",
       "127274                    N                       0.0   \n",
       "\n",
       "        S2CoMAFAnticoagulentDOAC  S2CoMAFAnticoagulentHeparin  \n",
       "127274                       1.0                          0.0  "
      ]
     },
     "execution_count": 42,
     "metadata": {},
     "output_type": "execute_result"
    }
   ],
   "source": [
    "# Discrepancy between anticoagulant use and type of anticoagulant\n",
    "raw_data.loc[\n",
    "    (((raw_data['S2CoMAFAnticoagulent'] == 'N') |\n",
    "      (raw_data['S2CoMAFAnticoagulent'] == 'NB')\n",
    "      ) &\n",
    "     ((raw_data['S2CoMAFAnticoagulentVitK'] == 1) |\n",
    "      (raw_data['S2CoMAFAnticoagulentDOAC'] == 1) |\n",
    "      (raw_data['S2CoMAFAnticoagulentHeparin'] == 1))),\n",
    "    ['S2CoMAFAnticoagulent', 'S2CoMAFAnticoagulentVitK',\n",
    "     'S2CoMAFAnticoagulentDOAC', 'S2CoMAFAnticoagulentHeparin']]"
   ]
  },
  {
   "attachments": {},
   "cell_type": "markdown",
   "metadata": {},
   "source": [
    "### Prior disability\n",
    "\n",
    "No comment.\n",
    "\n",
    "### NIHSS data\n",
    "\n",
    "No comment.\n",
    "\n",
    "### Death and outcome data\n",
    "\n",
    "Nearly everyone who is marked to have died also had a Modified Rankin Scale (mRS) score of 6, which indicates death. There are some inconsistencies in this data:\n",
    "* mrs=6 and discharge=died but death=0 (n=9)\n",
    "* death=0 and discharge=community team but mrs=6 (n=1)\n",
    "* discharge=died and death=1 but mrs=missing (n=2)\n",
    "\n",
    "In the first two cases, as we cannot be certain which result is true, propose both variables are set as missing.\n",
    "\n",
    "In the final case, as it is not inconsistency but instead discharge disability missing (which is true for lots of people), and as there is agreement between death and discharge destination, could either set discharge as 6 (but that would falsely change number with mrs reported or leave as is, or set all as missing).\n",
    "\n",
    "<mark>To change.</mark> Check that everyone agrees with this decision."
   ]
  },
  {
   "cell_type": "code",
   "execution_count": 43,
   "metadata": {},
   "outputs": [
    {
     "data": {
      "text/plain": [
       "death  discharge_disability  discharge_destination\n",
       "1      6.0                   died                     49745\n",
       "0      6.0                   died                         9\n",
       "1      NaN                   died                         2\n",
       "0      6.0                   community_team_or_esd        1\n",
       "dtype: int64"
      ]
     },
     "execution_count": 43,
     "metadata": {},
     "output_type": "execute_result"
    }
   ],
   "source": [
    "(data.loc[((data['death'] == 1) |\n",
    "          (data['discharge_disability'] == 6) |\n",
    "          (data['discharge_destination'] == 'died')),\n",
    "          ['death', 'discharge_disability', 'discharge_destination']]\n",
    " .value_counts(dropna=False))"
   ]
  },
  {
   "attachments": {},
   "cell_type": "markdown",
   "metadata": {},
   "source": [
    "### Reasons for no thrombolysis\n",
    "\n",
    "No comment - as in SSNAP dataset - includes \"no\" and \"no but\" reasons."
   ]
  },
  {
   "attachments": {},
   "cell_type": "markdown",
   "metadata": {},
   "source": [
    "### Summary: number of patients removed during data cleaning\n",
    "\n",
    "Below is a summary of the total number of patients completely removed from the full dataset during the data cleaning process."
   ]
  },
  {
   "cell_type": "code",
   "execution_count": 44,
   "metadata": {},
   "outputs": [
    {
     "name": "stdout",
     "output_type": "stream",
     "text": [
      "\n",
      "    Original dataset contained 360381 patients.\n",
      "    We have removed 3278 patients.\n",
      "    Cleaned dataset contains 357103 patients.\n",
      "    \n"
     ]
    }
   ],
   "source": [
    "# Print change to number of patients in dataset\n",
    "original_n = len(raw_data.index)\n",
    "clean_n = len(data.index)\n",
    "drop_n = original_n - clean_n\n",
    "print(\n",
    "    f'''\n",
    "    Original dataset contained {original_n} patients.\n",
    "    We have removed {drop_n} patients.\n",
    "    Cleaned dataset contains {clean_n} patients.\n",
    "    ''')"
   ]
  },
  {
   "attachments": {},
   "cell_type": "markdown",
   "metadata": {},
   "source": [
    "## Excluded variables"
   ]
  },
  {
   "attachments": {},
   "cell_type": "markdown",
   "metadata": {},
   "source": [
    "### Anticoagulent type\n",
    "\n",
    "The type of anticoagulent is missing for alot of patients (and could be missing for others, if they are marked as having received one, but actually received multiple). Could it be that they received a type of anticoagulent that is not listed? There is covariance between receiving anticoagulents and type of anticoagulent received, and hence, to resolve the missing data issue and deal with covariance, it was suggested that only overall use of anticoagulants is kept, and type is dropped.\n",
    "\n",
    "Although we don't include type in the dataset, it is used to support cleaning (to identify discrepancies in use of anticoagulants).\n",
    "\n",
    "<mark>Changed.</mark> Previously included anticoagulent type."
   ]
  },
  {
   "cell_type": "code",
   "execution_count": 45,
   "metadata": {},
   "outputs": [
    {
     "data": {
      "text/html": [
       "<div>\n",
       "<style scoped>\n",
       "    .dataframe tbody tr th:only-of-type {\n",
       "        vertical-align: middle;\n",
       "    }\n",
       "\n",
       "    .dataframe tbody tr th {\n",
       "        vertical-align: top;\n",
       "    }\n",
       "\n",
       "    .dataframe thead th {\n",
       "        text-align: right;\n",
       "    }\n",
       "</style>\n",
       "<table border=\"1\" class=\"dataframe\">\n",
       "  <thead>\n",
       "    <tr style=\"text-align: right;\">\n",
       "      <th></th>\n",
       "      <th>S2CoMAFAnticoagulent</th>\n",
       "      <th>S2CoMAFAnticoagulentVitK</th>\n",
       "      <th>S2CoMAFAnticoagulentDOAC</th>\n",
       "      <th>S2CoMAFAnticoagulentHeparin</th>\n",
       "    </tr>\n",
       "  </thead>\n",
       "  <tbody>\n",
       "    <tr>\n",
       "      <th>S2CoMAFAnticoagulent</th>\n",
       "      <td>1.000000</td>\n",
       "      <td>0.478682</td>\n",
       "      <td>0.828293</td>\n",
       "      <td>0.091863</td>\n",
       "    </tr>\n",
       "    <tr>\n",
       "      <th>S2CoMAFAnticoagulentVitK</th>\n",
       "      <td>0.478682</td>\n",
       "      <td>1.000000</td>\n",
       "      <td>-0.063735</td>\n",
       "      <td>-0.004064</td>\n",
       "    </tr>\n",
       "    <tr>\n",
       "      <th>S2CoMAFAnticoagulentDOAC</th>\n",
       "      <td>0.828293</td>\n",
       "      <td>-0.063735</td>\n",
       "      <td>1.000000</td>\n",
       "      <td>-0.010471</td>\n",
       "    </tr>\n",
       "    <tr>\n",
       "      <th>S2CoMAFAnticoagulentHeparin</th>\n",
       "      <td>0.091863</td>\n",
       "      <td>-0.004064</td>\n",
       "      <td>-0.010471</td>\n",
       "      <td>1.000000</td>\n",
       "    </tr>\n",
       "  </tbody>\n",
       "</table>\n",
       "</div>"
      ],
      "text/plain": [
       "                             S2CoMAFAnticoagulent  S2CoMAFAnticoagulentVitK  \\\n",
       "S2CoMAFAnticoagulent                     1.000000                  0.478682   \n",
       "S2CoMAFAnticoagulentVitK                 0.478682                  1.000000   \n",
       "S2CoMAFAnticoagulentDOAC                 0.828293                 -0.063735   \n",
       "S2CoMAFAnticoagulentHeparin              0.091863                 -0.004064   \n",
       "\n",
       "                             S2CoMAFAnticoagulentDOAC  \\\n",
       "S2CoMAFAnticoagulent                         0.828293   \n",
       "S2CoMAFAnticoagulentVitK                    -0.063735   \n",
       "S2CoMAFAnticoagulentDOAC                     1.000000   \n",
       "S2CoMAFAnticoagulentHeparin                 -0.010471   \n",
       "\n",
       "                             S2CoMAFAnticoagulentHeparin  \n",
       "S2CoMAFAnticoagulent                            0.091863  \n",
       "S2CoMAFAnticoagulentVitK                       -0.004064  \n",
       "S2CoMAFAnticoagulentDOAC                       -0.010471  \n",
       "S2CoMAFAnticoagulentHeparin                     1.000000  "
      ]
     },
     "execution_count": 45,
     "metadata": {},
     "output_type": "execute_result"
    }
   ],
   "source": [
    "# Correlation between anticoagulent columns\n",
    "comorbid_marker = {'Y': 1, 'N': 0, 'NB': 0, np.nan: np.nan}\n",
    "anticoag = (pd.DataFrame(\n",
    "    raw_data['S2CoMAFAnticoagulent'].map(comorbid_marker))\n",
    "    .join(raw_data[['S2CoMAFAnticoagulentVitK',\n",
    "                    'S2CoMAFAnticoagulentDOAC',\n",
    "                    'S2CoMAFAnticoagulentHeparin']]))\n",
    "anticoag.dropna().corr()"
   ]
  },
  {
   "attachments": {},
   "cell_type": "markdown",
   "metadata": {},
   "source": [
    "### INR\n",
    "\n",
    "**Comparing INR, INR High and INR not known**\n",
    "\n",
    "* INR High is only marked as true in 31 cases\n",
    "* In all these cases, they are missing INR result and marked as INR not checked.\n",
    "\n",
    "Hence, there are serious inconsistencies between the three INR columns."
   ]
  },
  {
   "cell_type": "code",
   "execution_count": 46,
   "metadata": {},
   "outputs": [
    {
     "data": {
      "text/html": [
       "<div>\n",
       "<style scoped>\n",
       "    .dataframe tbody tr th:only-of-type {\n",
       "        vertical-align: middle;\n",
       "    }\n",
       "\n",
       "    .dataframe tbody tr th {\n",
       "        vertical-align: top;\n",
       "    }\n",
       "\n",
       "    .dataframe thead th {\n",
       "        text-align: right;\n",
       "    }\n",
       "</style>\n",
       "<table border=\"1\" class=\"dataframe\">\n",
       "  <thead>\n",
       "    <tr style=\"text-align: right;\">\n",
       "      <th></th>\n",
       "      <th>S2INR</th>\n",
       "      <th>S2INRHigh</th>\n",
       "      <th>S2INRNK</th>\n",
       "      <th>count</th>\n",
       "    </tr>\n",
       "  </thead>\n",
       "  <tbody>\n",
       "    <tr>\n",
       "      <th>0</th>\n",
       "      <td>Missing data</td>\n",
       "      <td>0.0</td>\n",
       "      <td>0.0</td>\n",
       "      <td>238845</td>\n",
       "    </tr>\n",
       "    <tr>\n",
       "      <th>1</th>\n",
       "      <td>Missing data</td>\n",
       "      <td>NaN</td>\n",
       "      <td>NaN</td>\n",
       "      <td>112376</td>\n",
       "    </tr>\n",
       "    <tr>\n",
       "      <th>2</th>\n",
       "      <td>Have data</td>\n",
       "      <td>0.0</td>\n",
       "      <td>0.0</td>\n",
       "      <td>8506</td>\n",
       "    </tr>\n",
       "    <tr>\n",
       "      <th>3</th>\n",
       "      <td>Missing data</td>\n",
       "      <td>0.0</td>\n",
       "      <td>1.0</td>\n",
       "      <td>623</td>\n",
       "    </tr>\n",
       "    <tr>\n",
       "      <th>4</th>\n",
       "      <td>Missing data</td>\n",
       "      <td>1.0</td>\n",
       "      <td>0.0</td>\n",
       "      <td>31</td>\n",
       "    </tr>\n",
       "  </tbody>\n",
       "</table>\n",
       "</div>"
      ],
      "text/plain": [
       "          S2INR  S2INRHigh  S2INRNK   count\n",
       "0  Missing data        0.0      0.0  238845\n",
       "1  Missing data        NaN      NaN  112376\n",
       "2     Have data        0.0      0.0    8506\n",
       "3  Missing data        0.0      1.0     623\n",
       "4  Missing data        1.0      0.0      31"
      ]
     },
     "execution_count": 46,
     "metadata": {},
     "output_type": "execute_result"
    }
   ],
   "source": [
    "# Look at proportion with INR high and INR result\n",
    "inr_high = mark_missing(raw_data['S2INR'])\n",
    "inr_high['S2INRHigh'] = raw_data['S2INRHigh']\n",
    "inr_high['S2INRNK'] = raw_data['S2INRNK']\n",
    "(inr_high[['S2INR', 'S2INRHigh', 'S2INRNK']]\n",
    " .value_counts(dropna=False)\n",
    " .reset_index(name='count'))"
   ]
  },
  {
   "attachments": {},
   "cell_type": "markdown",
   "metadata": {},
   "source": [
    "**Looking further into INR**\n",
    "\n",
    "Measurement of INR is contingent on whether patients were on Vitamin K antagonists (inc. Warfarin) before their stroke.\n",
    "\n",
    "*In relation to Mike's comment that expect people with INR measurements to be on anticoagulants*"
   ]
  },
  {
   "cell_type": "code",
   "execution_count": 47,
   "metadata": {},
   "outputs": [
    {
     "data": {
      "text/html": [
       "<div>\n",
       "<style scoped>\n",
       "    .dataframe tbody tr th:only-of-type {\n",
       "        vertical-align: middle;\n",
       "    }\n",
       "\n",
       "    .dataframe tbody tr th {\n",
       "        vertical-align: top;\n",
       "    }\n",
       "\n",
       "    .dataframe thead th {\n",
       "        text-align: right;\n",
       "    }\n",
       "</style>\n",
       "<table border=\"1\" class=\"dataframe\">\n",
       "  <thead>\n",
       "    <tr style=\"text-align: right;\">\n",
       "      <th></th>\n",
       "      <th>S2INR</th>\n",
       "      <th>anticoag_vitk</th>\n",
       "      <th>count</th>\n",
       "    </tr>\n",
       "  </thead>\n",
       "  <tbody>\n",
       "    <tr>\n",
       "      <th>0</th>\n",
       "      <td>Missing data</td>\n",
       "      <td>0.0</td>\n",
       "      <td>238845</td>\n",
       "    </tr>\n",
       "    <tr>\n",
       "      <th>1</th>\n",
       "      <td>Missing data</td>\n",
       "      <td>NaN</td>\n",
       "      <td>112376</td>\n",
       "    </tr>\n",
       "    <tr>\n",
       "      <th>2</th>\n",
       "      <td>Have data</td>\n",
       "      <td>1.0</td>\n",
       "      <td>8506</td>\n",
       "    </tr>\n",
       "    <tr>\n",
       "      <th>3</th>\n",
       "      <td>Missing data</td>\n",
       "      <td>1.0</td>\n",
       "      <td>654</td>\n",
       "    </tr>\n",
       "  </tbody>\n",
       "</table>\n",
       "</div>"
      ],
      "text/plain": [
       "          S2INR  anticoag_vitk   count\n",
       "0  Missing data            0.0  238845\n",
       "1  Missing data            NaN  112376\n",
       "2     Have data            1.0    8506\n",
       "3  Missing data            1.0     654"
      ]
     },
     "execution_count": 47,
     "metadata": {},
     "output_type": "execute_result"
    }
   ],
   "source": [
    "# Find whether missing INR or not, and VitK value\n",
    "inr = mark_missing(raw_data['S2INR'])\n",
    "inr['anticoag_vitk'] = raw_data['S2CoMAFAnticoagulentVitK']\n",
    "\n",
    "# Look at those counts\n",
    "inr_counts = inr.value_counts(dropna=False).reset_index(name='count')\n",
    "inr_counts"
   ]
  },
  {
   "attachments": {},
   "cell_type": "markdown",
   "metadata": {},
   "source": [
    "There are equal numbers with best estimate v.s. precise v.s. not known onset, who have INR measurement\n",
    "\n",
    "*In relation to Mike's comment that wouldn't expect INR measurement when don't know onset*"
   ]
  },
  {
   "cell_type": "code",
   "execution_count": 48,
   "metadata": {},
   "outputs": [
    {
     "data": {
      "text/html": [
       "<div>\n",
       "<style scoped>\n",
       "    .dataframe tbody tr th:only-of-type {\n",
       "        vertical-align: middle;\n",
       "    }\n",
       "\n",
       "    .dataframe tbody tr th {\n",
       "        vertical-align: top;\n",
       "    }\n",
       "\n",
       "    .dataframe thead th {\n",
       "        text-align: right;\n",
       "    }\n",
       "</style>\n",
       "<table border=\"1\" class=\"dataframe\">\n",
       "  <thead>\n",
       "    <tr style=\"text-align: right;\">\n",
       "      <th></th>\n",
       "      <th>S2INR</th>\n",
       "      <th>anticoag_vitk</th>\n",
       "      <th>S1OnsetTimeType</th>\n",
       "      <th>count</th>\n",
       "    </tr>\n",
       "  </thead>\n",
       "  <tbody>\n",
       "    <tr>\n",
       "      <th>0</th>\n",
       "      <td>Have data</td>\n",
       "      <td>1.0</td>\n",
       "      <td>BE</td>\n",
       "      <td>2949</td>\n",
       "    </tr>\n",
       "    <tr>\n",
       "      <th>1</th>\n",
       "      <td>Have data</td>\n",
       "      <td>1.0</td>\n",
       "      <td>P</td>\n",
       "      <td>2876</td>\n",
       "    </tr>\n",
       "    <tr>\n",
       "      <th>2</th>\n",
       "      <td>Have data</td>\n",
       "      <td>1.0</td>\n",
       "      <td>NK</td>\n",
       "      <td>2681</td>\n",
       "    </tr>\n",
       "    <tr>\n",
       "      <th>3</th>\n",
       "      <td>Missing data</td>\n",
       "      <td>1.0</td>\n",
       "      <td>BE</td>\n",
       "      <td>258</td>\n",
       "    </tr>\n",
       "    <tr>\n",
       "      <th>4</th>\n",
       "      <td>Missing data</td>\n",
       "      <td>1.0</td>\n",
       "      <td>NK</td>\n",
       "      <td>231</td>\n",
       "    </tr>\n",
       "    <tr>\n",
       "      <th>5</th>\n",
       "      <td>Missing data</td>\n",
       "      <td>1.0</td>\n",
       "      <td>P</td>\n",
       "      <td>165</td>\n",
       "    </tr>\n",
       "  </tbody>\n",
       "</table>\n",
       "</div>"
      ],
      "text/plain": [
       "          S2INR  anticoag_vitk S1OnsetTimeType  count\n",
       "0     Have data            1.0              BE   2949\n",
       "1     Have data            1.0               P   2876\n",
       "2     Have data            1.0              NK   2681\n",
       "3  Missing data            1.0              BE    258\n",
       "4  Missing data            1.0              NK    231\n",
       "5  Missing data            1.0               P    165"
      ]
     },
     "execution_count": 48,
     "metadata": {},
     "output_type": "execute_result"
    }
   ],
   "source": [
    "inr_onset = inr.copy()\n",
    "inr_onset['S1OnsetTimeType'] = raw_data['S1OnsetTimeType']\n",
    "(inr_onset[inr_onset['anticoag_vitk'] == 1]\n",
    " .value_counts(dropna=False)\n",
    " .reset_index(name='count'))"
   ]
  },
  {
   "attachments": {},
   "cell_type": "markdown",
   "metadata": {},
   "source": [
    "For patients who were on Vitamin K antagonists, 92.8% have INR measurements and 7.1% are missing data."
   ]
  },
  {
   "cell_type": "code",
   "execution_count": 49,
   "metadata": {},
   "outputs": [
    {
     "data": {
      "text/plain": [
       "2    0.928603\n",
       "3    0.071397\n",
       "Name: count, dtype: float64"
      ]
     },
     "execution_count": 49,
     "metadata": {},
     "output_type": "execute_result"
    }
   ],
   "source": [
    "# Look at proportion of people on VitK with INR data\n",
    "vitk = inr_counts[inr_counts['anticoag_vitk'] == 1]\n",
    "vitk['count'] / vitk['count'].sum()"
   ]
  },
  {
   "attachments": {},
   "cell_type": "markdown",
   "metadata": {},
   "source": [
    "INR measurements are present for patients with both stroke types.\n",
    "\n",
    "*In relation to Mike's comment asking if they measure when its haemorrhage*"
   ]
  },
  {
   "cell_type": "code",
   "execution_count": 50,
   "metadata": {},
   "outputs": [
    {
     "data": {
      "text/html": [
       "<div>\n",
       "<style scoped>\n",
       "    .dataframe tbody tr th:only-of-type {\n",
       "        vertical-align: middle;\n",
       "    }\n",
       "\n",
       "    .dataframe tbody tr th {\n",
       "        vertical-align: top;\n",
       "    }\n",
       "\n",
       "    .dataframe thead th {\n",
       "        text-align: right;\n",
       "    }\n",
       "</style>\n",
       "<table border=\"1\" class=\"dataframe\">\n",
       "  <thead>\n",
       "    <tr style=\"text-align: right;\">\n",
       "      <th></th>\n",
       "      <th>S2INR</th>\n",
       "      <th>stroke_type</th>\n",
       "      <th>count</th>\n",
       "    </tr>\n",
       "  </thead>\n",
       "  <tbody>\n",
       "    <tr>\n",
       "      <th>0</th>\n",
       "      <td>Missing data</td>\n",
       "      <td>I</td>\n",
       "      <td>308504</td>\n",
       "    </tr>\n",
       "    <tr>\n",
       "      <th>2</th>\n",
       "      <td>Have data</td>\n",
       "      <td>I</td>\n",
       "      <td>6637</td>\n",
       "    </tr>\n",
       "    <tr>\n",
       "      <th>1</th>\n",
       "      <td>Missing data</td>\n",
       "      <td>PIH</td>\n",
       "      <td>42012</td>\n",
       "    </tr>\n",
       "    <tr>\n",
       "      <th>3</th>\n",
       "      <td>Have data</td>\n",
       "      <td>PIH</td>\n",
       "      <td>1840</td>\n",
       "    </tr>\n",
       "    <tr>\n",
       "      <th>4</th>\n",
       "      <td>Missing data</td>\n",
       "      <td>NaN</td>\n",
       "      <td>1359</td>\n",
       "    </tr>\n",
       "    <tr>\n",
       "      <th>5</th>\n",
       "      <td>Have data</td>\n",
       "      <td>NaN</td>\n",
       "      <td>29</td>\n",
       "    </tr>\n",
       "  </tbody>\n",
       "</table>\n",
       "</div>"
      ],
      "text/plain": [
       "          S2INR stroke_type   count\n",
       "0  Missing data           I  308504\n",
       "2     Have data           I    6637\n",
       "1  Missing data         PIH   42012\n",
       "3     Have data         PIH    1840\n",
       "4  Missing data         NaN    1359\n",
       "5     Have data         NaN      29"
      ]
     },
     "execution_count": 50,
     "metadata": {},
     "output_type": "execute_result"
    }
   ],
   "source": [
    "inr_stroke = inr.drop('anticoag_vitk', axis=1)\n",
    "inr_stroke['stroke_type'] = raw_data['S2StrokeType']\n",
    "\n",
    "(inr_stroke\n",
    " .value_counts(dropna=False)\n",
    " .reset_index(name='count')\n",
    " .sort_values(by='stroke_type'))"
   ]
  },
  {
   "attachments": {},
   "cell_type": "markdown",
   "metadata": {},
   "source": [
    "Can see that individuals with INR measurement only also had thrombolysis when values were less than 4. Individuals with higher INR are mostly in thrombolysis=NB, with one in thrombolysis=N.\n",
    "\n",
    "*In relation to Mike's comment about relationship between INR measurement, haemorrhage and thrombolysis - and that would expect high INR to not have thrombolysis*"
   ]
  },
  {
   "cell_type": "code",
   "execution_count": 51,
   "metadata": {},
   "outputs": [
    {
     "data": {
      "image/png": "[encoded data removed]",
      "text/plain": [
       "<Figure size 640x480 with 1 Axes>"
      ]
     },
     "metadata": {},
     "output_type": "display_data"
    }
   ],
   "source": [
    "# Extract INR results and whether received thrombolysis\n",
    "inr_thrombolysis = raw_data.loc[\n",
    "    ~raw_data['S2INR'].isnull(),\n",
    "    ['S2INR', 'S2Thrombolysis']]\n",
    "\n",
    "inr_thrombolysis.boxplot(by='S2Thrombolysis', vert=False)\n",
    "plt.show()"
   ]
  },
  {
   "attachments": {},
   "cell_type": "markdown",
   "metadata": {},
   "source": [
    "### Mobile data to arrival\n",
    "\n",
    "This is missing for the majority of patients. Everyone who has MobileDatatoArrivalMinutes also have data for CallConnectedtoArrivalMinutes, so this variable is not needed."
   ]
  },
  {
   "cell_type": "code",
   "execution_count": 52,
   "metadata": {},
   "outputs": [
    {
     "data": {
      "text/html": [
       "<div>\n",
       "<style scoped>\n",
       "    .dataframe tbody tr th:only-of-type {\n",
       "        vertical-align: middle;\n",
       "    }\n",
       "\n",
       "    .dataframe tbody tr th {\n",
       "        vertical-align: top;\n",
       "    }\n",
       "\n",
       "    .dataframe thead th {\n",
       "        text-align: right;\n",
       "    }\n",
       "</style>\n",
       "<table border=\"1\" class=\"dataframe\">\n",
       "  <thead>\n",
       "    <tr style=\"text-align: right;\">\n",
       "      <th></th>\n",
       "      <th>MobileDatatoArrivalMinutes</th>\n",
       "      <th>CallConnectedtoArrivalMinutes</th>\n",
       "      <th>count</th>\n",
       "    </tr>\n",
       "  </thead>\n",
       "  <tbody>\n",
       "    <tr>\n",
       "      <th>0</th>\n",
       "      <td>Missing data</td>\n",
       "      <td>Missing data</td>\n",
       "      <td>251896</td>\n",
       "    </tr>\n",
       "    <tr>\n",
       "      <th>1</th>\n",
       "      <td>Missing data</td>\n",
       "      <td>Have data</td>\n",
       "      <td>92414</td>\n",
       "    </tr>\n",
       "    <tr>\n",
       "      <th>2</th>\n",
       "      <td>Have data</td>\n",
       "      <td>Have data</td>\n",
       "      <td>16071</td>\n",
       "    </tr>\n",
       "  </tbody>\n",
       "</table>\n",
       "</div>"
      ],
      "text/plain": [
       "  MobileDatatoArrivalMinutes CallConnectedtoArrivalMinutes   count\n",
       "0               Missing data                  Missing data  251896\n",
       "1               Missing data                     Have data   92414\n",
       "2                  Have data                     Have data   16071"
      ]
     },
     "execution_count": 52,
     "metadata": {},
     "output_type": "execute_result"
    }
   ],
   "source": [
    "(mark_missing(raw_data[['MobileDatatoArrivalMinutes',\n",
    "                        'CallConnectedtoArrivalMinutes']])\n",
    " .value_counts()\n",
    " .reset_index(name='count'))"
   ]
  },
  {
   "attachments": {},
   "cell_type": "markdown",
   "metadata": {},
   "source": [
    "### TIA in last month\n",
    "\n",
    "This is missing for the majority of patients. Also, it should only be completed if 2.1.5 (had stroke/TIA) is marked as yes, but this is not the case. Hence, not included in clean dataset."
   ]
  },
  {
   "cell_type": "code",
   "execution_count": 53,
   "metadata": {},
   "outputs": [
    {
     "data": {
      "text/html": [
       "<div>\n",
       "<style scoped>\n",
       "    .dataframe tbody tr th:only-of-type {\n",
       "        vertical-align: middle;\n",
       "    }\n",
       "\n",
       "    .dataframe tbody tr th {\n",
       "        vertical-align: top;\n",
       "    }\n",
       "\n",
       "    .dataframe thead th {\n",
       "        text-align: right;\n",
       "    }\n",
       "</style>\n",
       "<table border=\"1\" class=\"dataframe\">\n",
       "  <thead>\n",
       "    <tr style=\"text-align: right;\">\n",
       "      <th></th>\n",
       "      <th>S2CoMStrokeTIA</th>\n",
       "      <th>S2TIAInLastMonth</th>\n",
       "      <th>count</th>\n",
       "    </tr>\n",
       "  </thead>\n",
       "  <tbody>\n",
       "    <tr>\n",
       "      <th>0</th>\n",
       "      <td>N</td>\n",
       "      <td>NaN</td>\n",
       "      <td>268486</td>\n",
       "    </tr>\n",
       "    <tr>\n",
       "      <th>5</th>\n",
       "      <td>N</td>\n",
       "      <td>N</td>\n",
       "      <td>342</td>\n",
       "    </tr>\n",
       "    <tr>\n",
       "      <th>6</th>\n",
       "      <td>N</td>\n",
       "      <td>NK</td>\n",
       "      <td>42</td>\n",
       "    </tr>\n",
       "    <tr>\n",
       "      <th>1</th>\n",
       "      <td>Y</td>\n",
       "      <td>NaN</td>\n",
       "      <td>64115</td>\n",
       "    </tr>\n",
       "    <tr>\n",
       "      <th>2</th>\n",
       "      <td>Y</td>\n",
       "      <td>N</td>\n",
       "      <td>22205</td>\n",
       "    </tr>\n",
       "    <tr>\n",
       "      <th>3</th>\n",
       "      <td>Y</td>\n",
       "      <td>NK</td>\n",
       "      <td>3845</td>\n",
       "    </tr>\n",
       "    <tr>\n",
       "      <th>4</th>\n",
       "      <td>Y</td>\n",
       "      <td>Y</td>\n",
       "      <td>1346</td>\n",
       "    </tr>\n",
       "  </tbody>\n",
       "</table>\n",
       "</div>"
      ],
      "text/plain": [
       "  S2CoMStrokeTIA S2TIAInLastMonth   count\n",
       "0              N              NaN  268486\n",
       "5              N                N     342\n",
       "6              N               NK      42\n",
       "1              Y              NaN   64115\n",
       "2              Y                N   22205\n",
       "3              Y               NK    3845\n",
       "4              Y                Y    1346"
      ]
     },
     "execution_count": 53,
     "metadata": {},
     "output_type": "execute_result"
    }
   ],
   "source": [
    "(raw_data[['S2CoMStrokeTIA', 'S2TIAInLastMonth']]\n",
    " .value_counts(dropna=False)\n",
    " .reset_index(name='count')\n",
    " .sort_values(by='S2CoMStrokeTIA'))"
   ]
  },
  {
   "attachments": {},
   "cell_type": "markdown",
   "metadata": {},
   "source": [
    "### Stroke unit death\n",
    "\n",
    "Not included in clean dataset, as we are not currently interested in the location of death."
   ]
  },
  {
   "attachments": {},
   "cell_type": "markdown",
   "metadata": {},
   "source": [
    "### Pre-hospital impression\n",
    "\n",
    "S1PreHospitalImpression - not certain what it is (might be to do with what paramedic think is the diagnosis - e.g. fast positive) and did not ask for it, not included in cleaned dataset."
   ]
  }
 ],
 "metadata": {
  "kernelspec": {
   "display_name": "sam10",
   "language": "python",
   "name": "python3"
  },
  "language_info": {
   "codemirror_mode": {
    "name": "ipython",
    "version": 3
   },
   "file_extension": ".py",
   "mimetype": "text/x-python",
   "name": "python",
   "nbconvert_exporter": "python",
   "pygments_lexer": "ipython3",
   "version": "3.10.11"
  },
  "orig_nbformat": 4
 },
 "nbformat": 4,
 "nbformat_minor": 2
}
