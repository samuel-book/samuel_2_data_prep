{
 "cells": [
  {
   "attachments": {},
   "cell_type": "markdown",
   "metadata": {},
   "source": [
    "# Reformat data\n",
    "\n",
    "This notebook tidies SAMueL ssnap extract v2."
   ]
  },
  {
   "cell_type": "markdown",
   "metadata": {},
   "source": [
    "## Import packages"
   ]
  },
  {
   "cell_type": "code",
   "execution_count": 43,
   "metadata": {},
   "outputs": [],
   "source": [
    "# Import packages\n",
    "import numpy as np\n",
    "import os\n",
    "import pandas as pd\n",
    "\n",
    "from dataclasses import dataclass\n",
    "from datetime import datetime\n",
    "\n",
    "# Set the maximum number of columns to 100\n",
    "pd.set_option('display.max_columns', 100)\n",
    "pd.set_option('display.max_rows', 100)"
   ]
  },
  {
   "cell_type": "markdown",
   "metadata": {},
   "source": [
    "## Set up paths and filenames"
   ]
  },
  {
   "cell_type": "code",
   "execution_count": 44,
   "metadata": {},
   "outputs": [],
   "source": [
    "@dataclass(frozen=True)\n",
    "class Paths:\n",
    "    \"\"\"Singleton object for storing paths to data and database.\"\"\"\n",
    "\n",
    "    data_path: str = \"./data\"\n",
    "    data_filename: str = \"SAMueL ssnap extract v2.csv\"\n",
    "    data_save_path:str = \"./output\"\n",
    "    data_save_filename: str = \"reformatted_data.csv\"\n",
    "    database_filename: str = \"samuel.db\"\n",
    "    \n",
    "paths = Paths()"
   ]
  },
  {
   "attachments": {},
   "cell_type": "markdown",
   "metadata": {},
   "source": [
    "## Load and view data"
   ]
  },
  {
   "cell_type": "code",
   "execution_count": 45,
   "metadata": {},
   "outputs": [],
   "source": [
    "raw_data: pd.DataFrame = pd.read_csv(\n",
    "    os.path.join(paths.data_path, paths.data_filename), low_memory=False)\n",
    "\n",
    "# Set up DataFrame for cleaned data\n",
    "cleaned_data: pd.DataFrame = pd.DataFrame()"
   ]
  },
  {
   "cell_type": "code",
   "execution_count": 46,
   "metadata": {},
   "outputs": [
    {
     "data": {
      "text/plain": [
       "Index(['PatientId', 'ProClinV1Id', 'TeamName', 'AgeUnder40', 'Age40to44',\n",
       "       'Age45to49', 'Age50to54', 'Age55to59', 'Age60to64', 'Age65to69',\n",
       "       'Age70to74', 'Age75to79', 'Age80to84', 'Age85to89', 'AgeOver90',\n",
       "       'S1Gender', 'OnsettoArrivalMinutes', 'S1OnsetDateType',\n",
       "       'S1OnsetTimeType', 'S1ArriveByAmbulance', 'FirstArrivalMonthYear',\n",
       "       'FirstArrivalWeekday', 'FirstArrivalTime',\n",
       "       'S2CoMCongestiveHeartFailure', 'S2CoMHypertension',\n",
       "       'S2CoMAtrialFibrillation', 'S2CoMDiabetes', 'S2CoMStrokeTIA',\n",
       "       'S2CoMAFAntiplatelet', 'S2CoMAFAnticoagulent',\n",
       "       'S2CoMAFAnticoagulentVitK', 'S2CoMAFAnticoagulentDOAC',\n",
       "       'S2CoMAFAnticoagulentHeparin', 'S2INR', 'S2INRHigh', 'S2INRNK',\n",
       "       'S2NewAFDiagnosis', 'S2RankinBeforeStroke', 'S2NihssArrival',\n",
       "       'S2NihssArrivalLoc', 'S2NihssArrivalLocQuestions',\n",
       "       'S2NihssArrivalLocCommands', 'S2NihssArrivalBestGaze',\n",
       "       'S2NihssArrivalVisual', 'S2NihssArrivalFacialPalsy',\n",
       "       'S2NihssArrivalMotorArmLeft', 'S2NihssArrivalMotorArmRight',\n",
       "       'S2NihssArrivalMotorLegLeft', 'S2NihssArrivalMotorLegRight',\n",
       "       'S2NihssArrivalLimbAtaxia', 'S2NihssArrivalSensory',\n",
       "       'S2NihssArrivalBestLanguage', 'S2NihssArrivalDysarthria',\n",
       "       'S2NihssArrivalExtinctionInattention', 'ArrivaltoBrainImagingMinutes',\n",
       "       'S2StrokeType', 'S2Thrombolysis', 'S2ThrombolysisNoReason',\n",
       "       'S2ThrombolysisNoButHaemorrhagic', 'S2ThrombolysisNoButTimeWindow',\n",
       "       'S2ThrombolysisNoButComorbidity', 'S2ThrombolysisNoButMedication',\n",
       "       'S2ThrombolysisNoButRefusal', 'S2ThrombolysisNoButAge',\n",
       "       'S2ThrombolysisNoButImproving', 'S2ThrombolysisNoButTooMildSevere',\n",
       "       'S2ThrombolysisNoButTimeUnknownWakeUp',\n",
       "       'S2ThrombolysisNoButOtherMedical', 'ArrivaltoThrombolysisMinutes',\n",
       "       'S2TIAInLastMonth', 'ArrivaltoArterialPunctureMinutes',\n",
       "       'S7DischargeType', 'ArrivalToDeathDays', 'S7StrokeUnitDeath',\n",
       "       'S7RankinDischarge', 'S8Rankin6Month', 'S8Rankin6MonthNK',\n",
       "       'CallConnectedtoArrivalMinutes',\n",
       "       'ArrivalPatientLocationtoArrivalMinutes',\n",
       "       'DeparturePatientLocationtoArrivalMinutes',\n",
       "       'WheelsStoptoArrivalMinutes', 'MobileDatatoArrivalMinutes',\n",
       "       'S1PreHospitalImpression'],\n",
       "      dtype='object')"
      ]
     },
     "execution_count": 46,
     "metadata": {},
     "output_type": "execute_result"
    }
   ],
   "source": [
    "# List all columns in the data\n",
    "raw_data.columns"
   ]
  },
  {
   "cell_type": "code",
   "execution_count": 47,
   "metadata": {},
   "outputs": [
    {
     "data": {
      "text/plain": [
       "(360381, 83)"
      ]
     },
     "execution_count": 47,
     "metadata": {},
     "output_type": "execute_result"
    }
   ],
   "source": [
    "# Show shape of the data\n",
    "raw_data.shape"
   ]
  },
  {
   "cell_type": "code",
   "execution_count": 48,
   "metadata": {},
   "outputs": [
    {
     "name": "stdout",
     "output_type": "stream",
     "text": [
      "PatientId                                     int64\n",
      "ProClinV1Id                                   int64\n",
      "TeamName                                     object\n",
      "AgeUnder40                                    int64\n",
      "Age40to44                                     int64\n",
      "Age45to49                                     int64\n",
      "Age50to54                                     int64\n",
      "Age55to59                                     int64\n",
      "Age60to64                                     int64\n",
      "Age65to69                                     int64\n",
      "Age70to74                                     int64\n",
      "Age75to79                                     int64\n",
      "Age80to84                                     int64\n",
      "Age85to89                                     int64\n",
      "AgeOver90                                     int64\n",
      "S1Gender                                     object\n",
      "OnsettoArrivalMinutes                         int64\n",
      "S1OnsetDateType                              object\n",
      "S1OnsetTimeType                              object\n",
      "S1ArriveByAmbulance                          object\n",
      "FirstArrivalMonthYear                        object\n",
      "FirstArrivalWeekday                          object\n",
      "FirstArrivalTime                             object\n",
      "S2CoMCongestiveHeartFailure                  object\n",
      "S2CoMHypertension                            object\n",
      "S2CoMAtrialFibrillation                      object\n",
      "S2CoMDiabetes                                object\n",
      "S2CoMStrokeTIA                               object\n",
      "S2CoMAFAntiplatelet                          object\n",
      "S2CoMAFAnticoagulent                         object\n",
      "S2CoMAFAnticoagulentVitK                    float64\n",
      "S2CoMAFAnticoagulentDOAC                    float64\n",
      "S2CoMAFAnticoagulentHeparin                 float64\n",
      "S2INR                                       float64\n",
      "S2INRHigh                                   float64\n",
      "S2INRNK                                     float64\n",
      "S2NewAFDiagnosis                             object\n",
      "S2RankinBeforeStroke                          int64\n",
      "S2NihssArrival                                int64\n",
      "S2NihssArrivalLoc                             int64\n",
      "S2NihssArrivalLocQuestions                    int64\n",
      "S2NihssArrivalLocCommands                     int64\n",
      "S2NihssArrivalBestGaze                        int64\n",
      "S2NihssArrivalVisual                          int64\n",
      "S2NihssArrivalFacialPalsy                     int64\n",
      "S2NihssArrivalMotorArmLeft                    int64\n",
      "S2NihssArrivalMotorArmRight                   int64\n",
      "S2NihssArrivalMotorLegLeft                    int64\n",
      "S2NihssArrivalMotorLegRight                   int64\n",
      "S2NihssArrivalLimbAtaxia                      int64\n",
      "S2NihssArrivalSensory                         int64\n",
      "S2NihssArrivalBestLanguage                    int64\n",
      "S2NihssArrivalDysarthria                      int64\n",
      "S2NihssArrivalExtinctionInattention           int64\n",
      "ArrivaltoBrainImagingMinutes                float64\n",
      "S2StrokeType                                 object\n",
      "S2Thrombolysis                               object\n",
      "S2ThrombolysisNoReason                       object\n",
      "S2ThrombolysisNoButHaemorrhagic               int64\n",
      "S2ThrombolysisNoButTimeWindow                 int64\n",
      "S2ThrombolysisNoButComorbidity                int64\n",
      "S2ThrombolysisNoButMedication                 int64\n",
      "S2ThrombolysisNoButRefusal                    int64\n",
      "S2ThrombolysisNoButAge                        int64\n",
      "S2ThrombolysisNoButImproving                  int64\n",
      "S2ThrombolysisNoButTooMildSevere              int64\n",
      "S2ThrombolysisNoButTimeUnknownWakeUp          int64\n",
      "S2ThrombolysisNoButOtherMedical               int64\n",
      "ArrivaltoThrombolysisMinutes                float64\n",
      "S2TIAInLastMonth                             object\n",
      "ArrivaltoArterialPunctureMinutes            float64\n",
      "S7DischargeType                              object\n",
      "ArrivalToDeathDays                          float64\n",
      "S7StrokeUnitDeath                            object\n",
      "S7RankinDischarge                           float64\n",
      "S8Rankin6Month                              float64\n",
      "S8Rankin6MonthNK                            float64\n",
      "CallConnectedtoArrivalMinutes               float64\n",
      "ArrivalPatientLocationtoArrivalMinutes      float64\n",
      "DeparturePatientLocationtoArrivalMinutes    float64\n",
      "WheelsStoptoArrivalMinutes                  float64\n",
      "MobileDatatoArrivalMinutes                  float64\n",
      "S1PreHospitalImpression                      object\n",
      "dtype: object\n"
     ]
    }
   ],
   "source": [
    "# Show raw data types\n",
    "print(raw_data.dtypes)\n"
   ]
  },
  {
   "cell_type": "code",
   "execution_count": 49,
   "metadata": {},
   "outputs": [
    {
     "data": {
      "text/plain": [
       "PatientId                                   1.000000\n",
       "ProClinV1Id                                 1.000000\n",
       "TeamName                                    1.000000\n",
       "AgeUnder40                                  1.000000\n",
       "Age40to44                                   1.000000\n",
       "Age45to49                                   1.000000\n",
       "Age50to54                                   1.000000\n",
       "Age55to59                                   1.000000\n",
       "Age60to64                                   1.000000\n",
       "Age65to69                                   1.000000\n",
       "Age70to74                                   1.000000\n",
       "Age75to79                                   1.000000\n",
       "Age80to84                                   1.000000\n",
       "Age85to89                                   1.000000\n",
       "AgeOver90                                   1.000000\n",
       "S1Gender                                    1.000000\n",
       "OnsettoArrivalMinutes                       1.000000\n",
       "S1OnsetDateType                             1.000000\n",
       "S1OnsetTimeType                             1.000000\n",
       "S1ArriveByAmbulance                         1.000000\n",
       "FirstArrivalMonthYear                       1.000000\n",
       "FirstArrivalWeekday                         1.000000\n",
       "FirstArrivalTime                            1.000000\n",
       "S2CoMCongestiveHeartFailure                 1.000000\n",
       "S2CoMHypertension                           1.000000\n",
       "S2CoMAtrialFibrillation                     1.000000\n",
       "S2CoMDiabetes                               1.000000\n",
       "S2CoMStrokeTIA                              1.000000\n",
       "S2CoMAFAntiplatelet                         0.182018\n",
       "S2CoMAFAnticoagulent                        0.750134\n",
       "S2CoMAFAnticoagulentVitK                    0.688174\n",
       "S2CoMAFAnticoagulentDOAC                    0.688174\n",
       "S2CoMAFAnticoagulentHeparin                 0.688174\n",
       "S2INR                                       0.023603\n",
       "S2INRHigh                                   0.688174\n",
       "S2INRNK                                     0.688174\n",
       "S2NewAFDiagnosis                            0.552124\n",
       "S2RankinBeforeStroke                        1.000000\n",
       "S2NihssArrival                              1.000000\n",
       "S2NihssArrivalLoc                           1.000000\n",
       "S2NihssArrivalLocQuestions                  1.000000\n",
       "S2NihssArrivalLocCommands                   1.000000\n",
       "S2NihssArrivalBestGaze                      1.000000\n",
       "S2NihssArrivalVisual                        1.000000\n",
       "S2NihssArrivalFacialPalsy                   1.000000\n",
       "S2NihssArrivalMotorArmLeft                  1.000000\n",
       "S2NihssArrivalMotorArmRight                 1.000000\n",
       "S2NihssArrivalMotorLegLeft                  1.000000\n",
       "S2NihssArrivalMotorLegRight                 1.000000\n",
       "S2NihssArrivalLimbAtaxia                    1.000000\n",
       "S2NihssArrivalSensory                       1.000000\n",
       "S2NihssArrivalBestLanguage                  1.000000\n",
       "S2NihssArrivalDysarthria                    1.000000\n",
       "S2NihssArrivalExtinctionInattention         1.000000\n",
       "ArrivaltoBrainImagingMinutes                0.996149\n",
       "S2StrokeType                                0.996149\n",
       "S2Thrombolysis                              1.000000\n",
       "S2ThrombolysisNoReason                      0.004076\n",
       "S2ThrombolysisNoButHaemorrhagic             1.000000\n",
       "S2ThrombolysisNoButTimeWindow               1.000000\n",
       "S2ThrombolysisNoButComorbidity              1.000000\n",
       "S2ThrombolysisNoButMedication               1.000000\n",
       "S2ThrombolysisNoButRefusal                  1.000000\n",
       "S2ThrombolysisNoButAge                      1.000000\n",
       "S2ThrombolysisNoButImproving                1.000000\n",
       "S2ThrombolysisNoButTooMildSevere            1.000000\n",
       "S2ThrombolysisNoButTimeUnknownWakeUp        1.000000\n",
       "S2ThrombolysisNoButOtherMedical             1.000000\n",
       "ArrivaltoThrombolysisMinutes                0.114221\n",
       "S2TIAInLastMonth                            0.077085\n",
       "ArrivaltoArterialPunctureMinutes            0.012051\n",
       "S7DischargeType                             0.993149\n",
       "ArrivalToDeathDays                          0.138900\n",
       "S7StrokeUnitDeath                           0.126455\n",
       "S7RankinDischarge                           0.992852\n",
       "S8Rankin6Month                              0.304464\n",
       "S8Rankin6MonthNK                            0.629839\n",
       "CallConnectedtoArrivalMinutes               0.301029\n",
       "ArrivalPatientLocationtoArrivalMinutes      0.301018\n",
       "DeparturePatientLocationtoArrivalMinutes    0.300765\n",
       "WheelsStoptoArrivalMinutes                  0.257994\n",
       "MobileDatatoArrivalMinutes                  0.044594\n",
       "S1PreHospitalImpression                     0.300654\n",
       "dtype: float64"
      ]
     },
     "execution_count": 49,
     "metadata": {},
     "output_type": "execute_result"
    }
   ],
   "source": [
    "# Show proportion of completed data for each column\n",
    "raw_data.count() / raw_data.shape[0]"
   ]
  },
  {
   "attachments": {},
   "cell_type": "markdown",
   "metadata": {},
   "source": [
    "## Get stroke team\n",
    "\n",
    "Extract list of unique stroke teams - (1) add to cleaned dataset, and (2) save to a seperate csv file."
   ]
  },
  {
   "cell_type": "code",
   "execution_count": 50,
   "metadata": {},
   "outputs": [],
   "source": [
    "# Add column with stroke team\n",
    "cleaned_data['stroke_team'] = raw_data['TeamName']\n",
    "\n",
    "# Extract list of unique teams and save to csv\n",
    "stroke_teams = list(cleaned_data['stroke_team'].unique())\n",
    "stroke_teams = pd.Series(stroke_teams, name='stroke_team')\n",
    "stroke_teams.to_csv('output/stroke_teams.csv', index=False)"
   ]
  },
  {
   "attachments": {},
   "cell_type": "markdown",
   "metadata": {},
   "source": [
    "## Get age and gender"
   ]
  },
  {
   "cell_type": "code",
   "execution_count": 51,
   "metadata": {},
   "outputs": [],
   "source": [
    "# Dictionary defining numeric age as middle of age band\n",
    "ages: dict = {'AgeUnder40': 37.5,\n",
    "              'Age40to44': 42.5, 'Age45to49': 47.5,\n",
    "              'Age50to54': 52.5, 'Age55to59': 57.5,\n",
    "              'Age60to64': 62.5, 'Age65to69': 67.5,\n",
    "              'Age70to74': 72.5, 'Age75to79': 77.5,\n",
    "              'Age80to84': 82.5, 'Age85to89': 87.5,\n",
    "              'AgeOver90': 92.5}\n",
    "\n",
    "# Extract age band columns, and find the highest age band that patient is part of\n",
    "col_extract: pd.DataFrame = raw_data[ages.keys()]\n",
    "age_band: pd.Series = col_extract.idxmax(axis=1)\n",
    "\n",
    "# Use that ageband to find appropriate numeric age from ages dictionary\n",
    "cleaned_data['age'] = age_band.map(ages)"
   ]
  },
  {
   "cell_type": "code",
   "execution_count": 52,
   "metadata": {},
   "outputs": [],
   "source": [
    "gender: dict = {'M': 1, 'F': 0}\n",
    "cleaned_data['male'] = raw_data['S1Gender'].map(gender)"
   ]
  },
  {
   "attachments": {},
   "cell_type": "markdown",
   "metadata": {},
   "source": [
    "## Get stroke type\n",
    "\n",
    "Stroke type abbreviations: infarction (I), primary intracerebral haemorrage (PIH), or unknown if not imaged (NaN)."
   ]
  },
  {
   "cell_type": "code",
   "execution_count": 53,
   "metadata": {},
   "outputs": [],
   "source": [
    "infarction: dict = {'I': 1, 'PIH': 0}\n",
    "cleaned_data['infarction'] = raw_data['S2StrokeType'].map(infarction)"
   ]
  },
  {
   "cell_type": "markdown",
   "metadata": {},
   "source": [
    "## Get timings\n",
    "\n",
    "Onset to arrival time, precision, and whether stroke was during sleep.  \n",
    "Abbreviations: precise (P), best estimate (BE), not known (NK), during sleep (DS)."
   ]
  },
  {
   "cell_type": "code",
   "execution_count": 54,
   "metadata": {},
   "outputs": [],
   "source": [
    "# Onset to arrival time in minutes\n",
    "cleaned_data['onset_to_arrival_time'] = raw_data['OnsettoArrivalMinutes']\n",
    "\n",
    "# Whether onset time is known\n",
    "onset_known: dict = {'NK': 0, 'P': 1, 'BE': 1}\n",
    "cleaned_data['onset_known'] = raw_data['S1OnsetTimeType'].map(onset_known)\n",
    "\n",
    "# Whether onset time is precise - if not, then best estimate or not known\n",
    "precise_onset_known: dict = {'P': 1, 'BE': 0, 'NK': 0}\n",
    "cleaned_data['precise_onset_known'] = raw_data['S1OnsetTimeType'].map(precise_onset_known)\n",
    "\n",
    "# Stroke during sleep\n",
    "sleep: dict = {'DS': 1, 'P': 0, 'BE': 0}\n",
    "cleaned_data['onset_during_sleep'] = raw_data['S1OnsetDateType'].map(sleep)"
   ]
  },
  {
   "attachments": {},
   "cell_type": "markdown",
   "metadata": {},
   "source": [
    "Ambulance timings."
   ]
  },
  {
   "cell_type": "code",
   "execution_count": 55,
   "metadata": {},
   "outputs": [],
   "source": [
    "# Arrive by ambulance\n",
    "by_ambulance: dict = {'Y': 1, 'N': 0}\n",
    "cleaned_data['arrive_by_ambulance'] = raw_data['S1ArriveByAmbulance'].map(by_ambulance)\n",
    "\n",
    "# Time from call connected to ambulance arrival at patient location\n",
    "cleaned_data['call_to_ambulance_arrival_time'] = (\n",
    "    raw_data['ArrivalPatientLocationtoArrivalMinutes'] - raw_data['CallConnectedtoArrivalMinutes'])\n",
    "\n",
    "# Time that ambulance on scene at patient location\n",
    "cleaned_data['ambulance_on_scene_time'] = (\n",
    "       raw_data['DeparturePatientLocationtoArrivalMinutes'] - raw_data['ArrivalPatientLocationtoArrivalMinutes'])\n",
    "\n",
    "# Ambulance travel time to from patient location to hospital\n",
    "cleaned_data['ambulance_travel_to_hospital_time'] = (\n",
    "       raw_data['WheelsStoptoArrivalMinutes'] - raw_data['DeparturePatientLocationtoArrivalMinutes'])\n",
    "\n",
    "# Ambulance wait time at hospital\n",
    "cleaned_data['ambulance_wait_time_at_hospital'] = 0 - raw_data['WheelsStoptoArrivalMinutes']"
   ]
  },
  {
   "attachments": {},
   "cell_type": "markdown",
   "metadata": {},
   "source": [
    "Day, month, year and time of arrival."
   ]
  },
  {
   "cell_type": "code",
   "execution_count": 56,
   "metadata": {},
   "outputs": [],
   "source": [
    "# Month, year and day\n",
    "cleaned_data['month'] = pd.to_datetime(raw_data['FirstArrivalMonthYear'], format='%b-%y').dt.month\n",
    "cleaned_data['year'] = pd.to_datetime(raw_data['FirstArrivalMonthYear'], format='%b-%y').dt.year\n",
    "cleaned_data['weekday'] = raw_data['FirstArrivalWeekday']"
   ]
  },
  {
   "cell_type": "code",
   "execution_count": 57,
   "metadata": {},
   "outputs": [],
   "source": [
    "# Get arrival period (3 hour period during day)\n",
    "arrival_time_dict: dict = {\n",
    "    '0000to3000': 0,\n",
    "    '0300to0600': 3,\n",
    "    '0600to0900': 6,\n",
    "    '0900to1200': 9,\n",
    "    '1200to1500': 12,\n",
    "    '1500to1800': 15,\n",
    "    '1800to2100': 18,\n",
    "    '2100to2400': 24\n",
    "}\n",
    "cleaned_data['arrival_time_3_hour_period'] = raw_data['FirstArrivalTime'].map(arrival_time_dict)"
   ]
  },
  {
   "attachments": {},
   "cell_type": "markdown",
   "metadata": {},
   "source": [
    "Whether thrombolysis or thrombectomy were performed, and then timings from arrival (to scan) to procedure."
   ]
  },
  {
   "cell_type": "code",
   "execution_count": 58,
   "metadata": {},
   "outputs": [],
   "source": [
    "# Get arrival to scan time\n",
    "\n",
    "cleaned_data['arrival_to_scan_time'] = raw_data['ArrivaltoBrainImagingMinutes']\n",
    "\n",
    "# Get use of thrombolysis and time from scan\n",
    "f = lambda x: 1 if x=='Y' else 0\n",
    "cleaned_data['thrombolysis'] = raw_data['S2Thrombolysis'].apply(f)\n",
    "cleaned_data['scan_to_thrombolysis_time'] = (\n",
    "    raw_data['ArrivaltoThrombolysisMinutes'] - raw_data['ArrivaltoBrainImagingMinutes'])\n",
    "\n",
    "# Get use of thrombectomy and time\n",
    "f = lambda x: 1 if x > 0 else 0\n",
    "cleaned_data['thrombectomy'] = raw_data['ArrivaltoArterialPunctureMinutes'].apply(f)\n",
    "\n",
    "f = lambda x: x if x > 0 else np.nan\n",
    "cleaned_data['arrival_to_thrombectomy_time'] = raw_data['ArrivaltoArterialPunctureMinutes'].apply(f)"
   ]
  },
  {
   "cell_type": "markdown",
   "metadata": {},
   "source": [
    "## Add comorbidities"
   ]
  },
  {
   "cell_type": "code",
   "execution_count": 59,
   "metadata": {},
   "outputs": [],
   "source": [
    "comorbidities: list = ['S2CoMCongestiveHeartFailure', 'S2CoMHypertension',\n",
    "       'S2CoMAtrialFibrillation', 'S2CoMDiabetes', 'S2CoMStrokeTIA',\n",
    "       'S2CoMAFAntiplatelet', 'S2CoMAFAnticoagulent',\n",
    "       'S2CoMAFAnticoagulentVitK', 'S2CoMAFAnticoagulentDOAC',\n",
    "       'S2CoMAFAnticoagulentHeparin']\n",
    "\n",
    "rename_dict: dict = {\n",
    "    'S2CoMCongestiveHeartFailure': 'congestive_heart_failure',\n",
    "    'S2CoMHypertension': 'hypertension',\n",
    "    'S2CoMAtrialFibrillation': 'atrial_fibrillation',\n",
    "    'S2CoMDiabetes': 'diabetes',\n",
    "    'S2CoMStrokeTIA': 'prior_stroke_tia',\n",
    "    'S2CoMAFAntiplatelet': 'antiplatelet_for_atrial_fibrillation',\n",
    "    'S2CoMAFAnticoagulent': 'use_of_af_anticoagulants',\n",
    "    'S2CoMAFAnticoagulentVitK': 'vit_k_anticoagulant_for_atrial_fibrillation',\n",
    "    'S2CoMAFAnticoagulentDOAC': 'doac_anticoagulant_for_atrial_fibrillation',\n",
    "    'S2CoMAFAnticoagulentHeparin': 'heparin_anticoagulant_for_atrial_fibrillation'}\n",
    "\n",
    "cleaned_data[comorbidities] = raw_data[comorbidities]\n",
    "\n",
    "f = lambda x: 1 if x=='Y' else 0\n",
    "for col in comorbidities:\n",
    "    cleaned_data[col] = cleaned_data[col].apply(f)\n",
    "\n",
    "# Rename columns\n",
    "cleaned_data.rename(rename_dict, axis=1, inplace=True)\n"
   ]
  },
  {
   "cell_type": "markdown",
   "metadata": {},
   "source": [
    "## INR (blood clotting)\n",
    "\n",
    "Insufficient data to be of use\n",
    "\n",
    "## New AF diagnosis\n",
    "\n",
    "Not used: All zero or empty"
   ]
  },
  {
   "cell_type": "markdown",
   "metadata": {},
   "source": [
    "## Add rankin before stroke"
   ]
  },
  {
   "cell_type": "code",
   "execution_count": 60,
   "metadata": {},
   "outputs": [],
   "source": [
    "cleaned_data['prior_disability'] = raw_data['S2RankinBeforeStroke']"
   ]
  },
  {
   "cell_type": "markdown",
   "metadata": {},
   "source": [
    "## Add NIHSS data"
   ]
  },
  {
   "cell_type": "code",
   "execution_count": 61,
   "metadata": {},
   "outputs": [],
   "source": [
    "def camel_to_snake(str):\n",
    "    # Converts CamelCase to snake_case\n",
    "    # Input: str\n",
    "    snake = ''.join(['_' + i.lower() if i.isupper()\n",
    "                     else i for i in str]).lstrip('_')\n",
    "    return snake\n",
    "               "
   ]
  },
  {
   "cell_type": "code",
   "execution_count": 62,
   "metadata": {},
   "outputs": [],
   "source": [
    "cleaned_data['stroke_severity'] = raw_data['S2NihssArrival']\n",
    "\n",
    "# List of NIHSS arrival measures\n",
    "nihss: list = ['S2NihssArrivalLoc', 'S2NihssArrivalLocQuestions',\n",
    "               'S2NihssArrivalLocCommands', 'S2NihssArrivalBestGaze',\n",
    "               'S2NihssArrivalVisual', 'S2NihssArrivalFacialPalsy',\n",
    "               'S2NihssArrivalMotorArmLeft', 'S2NihssArrivalMotorArmRight',\n",
    "               'S2NihssArrivalMotorLegLeft', 'S2NihssArrivalMotorLegRight',\n",
    "               'S2NihssArrivalLimbAtaxia', 'S2NihssArrivalSensory',\n",
    "               'S2NihssArrivalBestLanguage', 'S2NihssArrivalDysarthria',\n",
    "               'S2NihssArrivalExtinctionInattention']\n",
    "\n",
    "# Presence of -1 in SSNAP indicates missing value\n",
    "f = lambda x: 0 if x == -1 else 1\n",
    "cleaned_data['nihss_complete'] = raw_data[nihss].min(axis=1).apply(f)\n",
    "\n",
    "# Add columns and rename - convert to snake case and remove 's2_'\n",
    "rename_dict: dict = {x : camel_to_snake(x).split('s2_')[1] for x in nihss}\n",
    "cleaned_data[nihss] = raw_data[nihss]\n",
    "cleaned_data.rename(rename_dict, axis=1, inplace=True)"
   ]
  },
  {
   "cell_type": "markdown",
   "metadata": {},
   "source": [
    "## Add death and outcome data"
   ]
  },
  {
   "cell_type": "code",
   "execution_count": 63,
   "metadata": {},
   "outputs": [],
   "source": [
    "# Add discharge destination\n",
    "\n",
    "rename_dict: dict = {\n",
    "    'CH': 'care_home',\n",
    "    'D': 'died',\n",
    "    'H': 'home',\n",
    "    'SE': 'somewhere_else',\n",
    "    'TC': 'community_team_or_esd',\n",
    "    'TCN': 'community_team_or_esd', \n",
    "    'TN': 'non_ssnap_hospital_team',\n",
    "    'T': 'ssnap_hospital_team',\n",
    "    np.NaN: 'missing'}\n",
    "\n",
    "f = lambda x: rename_dict[x]\n",
    "cleaned_data['discharge_destination'] = raw_data['S7DischargeType'].apply(f)\n",
    "\n",
    "# Death and outcome\n",
    "\n",
    "cleaned_data['death'] = (raw_data['ArrivalToDeathDays'] >= 0) * 1.0\n",
    "cleaned_data['discharge_disability'] = raw_data['S7RankinDischarge']\n",
    "cleaned_data['disability_6_month'] = raw_data['S8Rankin6Month']"
   ]
  },
  {
   "cell_type": "markdown",
   "metadata": {},
   "source": [
    "## Add reasons for no thrombolysis"
   ]
  },
  {
   "cell_type": "code",
   "execution_count": 64,
   "metadata": {},
   "outputs": [],
   "source": [
    "no_thrombolysis: list = [\n",
    "       'S2ThrombolysisNoButHaemorrhagic', 'S2ThrombolysisNoButTimeWindow',\n",
    "       'S2ThrombolysisNoButComorbidity', 'S2ThrombolysisNoButMedication',\n",
    "       'S2ThrombolysisNoButRefusal', 'S2ThrombolysisNoButAge',\n",
    "       'S2ThrombolysisNoButImproving', 'S2ThrombolysisNoButTooMildSevere',\n",
    "       'S2ThrombolysisNoButTimeUnknownWakeUp',\n",
    "       'S2ThrombolysisNoButOtherMedical']\n",
    "\n",
    "# Add columns and rename - convert to snake case and remove 's2_'\n",
    "rename_dict: dict = {x : camel_to_snake(x).split('s2_')[1] for x in no_thrombolysis}\n",
    "cleaned_data[no_thrombolysis] = raw_data[no_thrombolysis]\n",
    "cleaned_data.rename(rename_dict, axis=1, inplace=True)"
   ]
  },
  {
   "cell_type": "markdown",
   "metadata": {},
   "source": [
    "## Save cleaned data"
   ]
  },
  {
   "cell_type": "code",
   "execution_count": 65,
   "metadata": {},
   "outputs": [],
   "source": [
    "filename = os.path.join(paths.data_save_path, paths.data_save_filename)\n",
    "\n",
    "cleaned_data.to_csv(filename, index_label='id')"
   ]
  },
  {
   "attachments": {},
   "cell_type": "markdown",
   "metadata": {},
   "source": [
    "## Data cleaning appears to be changing results"
   ]
  },
  {
   "cell_type": "code",
   "execution_count": 66,
   "metadata": {},
   "outputs": [
    {
     "name": "stdout",
     "output_type": "stream",
     "text": [
      "Original dataset...\n",
      "I      315141\n",
      "PIH     43852\n",
      "Total stroke type entries: 358993\n",
      "Total rows in overall dataframe: 360381\n",
      "\n",
      "Cleaned dataset...\n",
      "1.0    315141\n",
      "0.0     43852\n",
      "Total stroke type entries: 358993\n",
      "Total rows in overall dataframe: 360381\n"
     ]
    }
   ],
   "source": [
    "# Demonstration in change in diagnoses\n",
    "\n",
    "print('Original dataset...')\n",
    "print(raw_data['S2StrokeType'].value_counts().to_string())\n",
    "print('Total stroke type entries: {0}'.format(raw_data['S2StrokeType'].value_counts().sum()))\n",
    "print('Total rows in overall dataframe: {0}'.format(len(raw_data.index)))\n",
    "\n",
    "print('')\n",
    "print('Cleaned dataset...')\n",
    "print(cleaned_data['infarction'].value_counts().to_string())\n",
    "print('Total stroke type entries: {0}'.format(cleaned_data['infarction'].value_counts().sum()))\n",
    "print('Total rows in overall dataframe: {0}'.format(len(cleaned_data.index)))"
   ]
  }
 ],
 "metadata": {
  "kernelspec": {
   "display_name": "Python 3 (ipykernel)",
   "language": "python",
   "name": "python3"
  },
  "language_info": {
   "codemirror_mode": {
    "name": "ipython",
    "version": 3
   },
   "file_extension": ".py",
   "mimetype": "text/x-python",
   "name": "python",
   "nbconvert_exporter": "python",
   "pygments_lexer": "ipython3",
   "version": "3.10.11"
  }
 },
 "nbformat": 4,
 "nbformat_minor": 4
}
