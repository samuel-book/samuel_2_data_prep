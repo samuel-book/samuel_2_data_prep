{
 "cells": [
  {
   "cell_type": "markdown",
   "metadata": {},
   "source": [
    "# Reformat data"
   ]
  },
  {
   "cell_type": "code",
   "execution_count": 1,
   "metadata": {},
   "outputs": [],
   "source": [
    "import numpy as np\n",
    "import os\n",
    "import pandas as pd\n",
    "\n",
    "from dataclasses import dataclass\n",
    "from datetime import datetime\n",
    "\n",
    "# Set the maximum number of columns to 100\n",
    "pd.set_option('display.max_columns', 100)\n",
    "pd.set_option('display.max_rows', 100)"
   ]
  },
  {
   "cell_type": "markdown",
   "metadata": {},
   "source": [
    "## Set up paths and filenames"
   ]
  },
  {
   "cell_type": "code",
   "execution_count": 2,
   "metadata": {},
   "outputs": [],
   "source": [
    "@dataclass(frozen=True)\n",
    "class Paths:\n",
    "    \"\"\"Singleton object for storing paths to data and database.\"\"\"\n",
    "\n",
    "    data_path: str = \"./data\"\n",
    "    data_filename: str = \"MichaelAllen_HQIP425_300323.csv\"\n",
    "    data_save_path:str = \"./output\"\n",
    "    data_save_filename: str = \"reformatted_data.csv\"\n",
    "    database_filename: str = \"samuel.db\"\n",
    "    \n",
    "paths = Paths()"
   ]
  },
  {
   "cell_type": "markdown",
   "metadata": {},
   "source": [
    "## load data"
   ]
  },
  {
   "cell_type": "code",
   "execution_count": null,
   "metadata": {},
   "outputs": [],
   "source": [
    "raw_data: pd.DataFrame = pd.read_csv(\n",
    "    os.path.join(paths.data_path, paths.data_filename), low_memory=False)\n",
    "\n",
    "# Set up DataFrame for cleaned data\n",
    "cleaned_data: pd.DataFrame = pd.DataFrame()\n",
    "\n",
    "# Show the first 5 rows of the raw data\n",
    "raw_data.tail()"
   ]
  },
  {
   "cell_type": "code",
   "execution_count": 4,
   "metadata": {},
   "outputs": [
    {
     "data": {
      "text/plain": [
       "Index(['TeamName', 'AgeUnder40', 'Age40to44', 'Age45to49', 'Age50to54',\n",
       "       'Age55to59', 'Age60to64', 'Age65to69', 'Age70to74', 'Age75to79',\n",
       "       'Age80to84', 'Age85to89', 'AgeOver90', 'S1Gender',\n",
       "       'OnsettoArrivalMinutes', 'S1OnsetDateType', 'S1OnsetTimeType',\n",
       "       'S1ArriveByAmbulance', 'FirstArrivalMonthYear', 'FirstArrivalWeekday',\n",
       "       'FirstArrivalTime', 'S2CoMCongestiveHeartFailure', 'S2CoMHypertension',\n",
       "       'S2CoMAtrialFibrillation', 'S2CoMDiabetes', 'S2CoMStrokeTIA',\n",
       "       'S2CoMAFAntiplatelet', 'S2CoMAFAnticoagulent',\n",
       "       'S2CoMAFAnticoagulentVitK', 'S2CoMAFAnticoagulentDOAC',\n",
       "       'S2CoMAFAnticoagulentHeparin', 'S2INR', 'S2INRHigh', 'S2INRNK',\n",
       "       'S2NewAFDiagnosis', 'S2RankinBeforeStroke', 'S2NihssArrival',\n",
       "       'S2NihssArrivalLoc', 'S2NihssArrivalLocQuestions',\n",
       "       'S2NihssArrivalLocCommands', 'S2NihssArrivalBestGaze',\n",
       "       'S2NihssArrivalVisual', 'S2NihssArrivalFacialPalsy',\n",
       "       'S2NihssArrivalMotorArmLeft', 'S2NihssArrivalMotorArmRight',\n",
       "       'S2NihssArrivalMotorLegLeft', 'S2NihssArrivalMotorLegRight',\n",
       "       'S2NihssArrivalLimbAtaxia', 'S2NihssArrivalSensory',\n",
       "       'S2NihssArrivalBestLanguage', 'S2NihssArrivalDysarthria',\n",
       "       'S2NihssArrivalExtinctionInattention', 'ArrivaltoBrainImagingMinutes',\n",
       "       'S2StrokeType', 'S2Thrombolysis', 'S2ThrombolysisNoReason',\n",
       "       'S2ThrombolysisNoButHaemorrhagic', 'S2ThrombolysisNoButTimeWindow',\n",
       "       'S2ThrombolysisNoButComorbidity', 'S2ThrombolysisNoButMedication',\n",
       "       'S2ThrombolysisNoButRefusal', 'S2ThrombolysisNoButAge',\n",
       "       'S2ThrombolysisNoButImproving', 'S2ThrombolysisNoButTooMildSevere',\n",
       "       'S2ThrombolysisNoButTimeUnknownWakeUp',\n",
       "       'S2ThrombolysisNoButOtherMedical', 'ArrivaltoThrombolysisMinutes',\n",
       "       'S2TIAInLastMonth', 'DoortoThrombolysisMinutes', 'S7DischargeType',\n",
       "       'ArrivalToDeathDays', 'S7StrokeUnitDeath', 'S7RankinDischarge',\n",
       "       'S8Rankin6Month', 'S8Rankin6MonthNK', 'CallConnectedtoArrivalMinutes',\n",
       "       'ArrivalPatientLocationtoArrivalMinutes',\n",
       "       'DeparturePatientLocationtoArrivalMinutes',\n",
       "       'WheelsStoptoArrivalMinutes', 'MobileDatatoArrivalMinutes',\n",
       "       'S1PreHospitalImpression'],\n",
       "      dtype='object')"
      ]
     },
     "execution_count": 4,
     "metadata": {},
     "output_type": "execute_result"
    }
   ],
   "source": [
    "# List all columns in the data\n",
    "raw_data.columns"
   ]
  },
  {
   "cell_type": "code",
   "execution_count": 5,
   "metadata": {},
   "outputs": [
    {
     "data": {
      "text/plain": [
       "(360381, 81)"
      ]
     },
     "execution_count": 5,
     "metadata": {},
     "output_type": "execute_result"
    }
   ],
   "source": [
    "# Show shape of the data\n",
    "raw_data.shape"
   ]
  },
  {
   "cell_type": "code",
   "execution_count": 6,
   "metadata": {},
   "outputs": [
    {
     "name": "stdout",
     "output_type": "stream",
     "text": [
      "TeamName                                     object\n",
      "AgeUnder40                                    int64\n",
      "Age40to44                                     int64\n",
      "Age45to49                                     int64\n",
      "Age50to54                                     int64\n",
      "Age55to59                                     int64\n",
      "Age60to64                                     int64\n",
      "Age65to69                                     int64\n",
      "Age70to74                                     int64\n",
      "Age75to79                                     int64\n",
      "Age80to84                                     int64\n",
      "Age85to89                                     int64\n",
      "AgeOver90                                     int64\n",
      "S1Gender                                     object\n",
      "OnsettoArrivalMinutes                         int64\n",
      "S1OnsetDateType                              object\n",
      "S1OnsetTimeType                              object\n",
      "S1ArriveByAmbulance                          object\n",
      "FirstArrivalMonthYear                        object\n",
      "FirstArrivalWeekday                          object\n",
      "FirstArrivalTime                             object\n",
      "S2CoMCongestiveHeartFailure                  object\n",
      "S2CoMHypertension                            object\n",
      "S2CoMAtrialFibrillation                      object\n",
      "S2CoMDiabetes                                object\n",
      "S2CoMStrokeTIA                               object\n",
      "S2CoMAFAntiplatelet                          object\n",
      "S2CoMAFAnticoagulent                         object\n",
      "S2CoMAFAnticoagulentVitK                    float64\n",
      "S2CoMAFAnticoagulentDOAC                    float64\n",
      "S2CoMAFAnticoagulentHeparin                 float64\n",
      "S2INR                                       float64\n",
      "S2INRHigh                                   float64\n",
      "S2INRNK                                     float64\n",
      "S2NewAFDiagnosis                             object\n",
      "S2RankinBeforeStroke                          int64\n",
      "S2NihssArrival                                int64\n",
      "S2NihssArrivalLoc                             int64\n",
      "S2NihssArrivalLocQuestions                    int64\n",
      "S2NihssArrivalLocCommands                     int64\n",
      "S2NihssArrivalBestGaze                        int64\n",
      "S2NihssArrivalVisual                          int64\n",
      "S2NihssArrivalFacialPalsy                     int64\n",
      "S2NihssArrivalMotorArmLeft                    int64\n",
      "S2NihssArrivalMotorArmRight                   int64\n",
      "S2NihssArrivalMotorLegLeft                    int64\n",
      "S2NihssArrivalMotorLegRight                   int64\n",
      "S2NihssArrivalLimbAtaxia                      int64\n",
      "S2NihssArrivalSensory                         int64\n",
      "S2NihssArrivalBestLanguage                    int64\n",
      "S2NihssArrivalDysarthria                      int64\n",
      "S2NihssArrivalExtinctionInattention           int64\n",
      "ArrivaltoBrainImagingMinutes                float64\n",
      "S2StrokeType                                 object\n",
      "S2Thrombolysis                               object\n",
      "S2ThrombolysisNoReason                       object\n",
      "S2ThrombolysisNoButHaemorrhagic               int64\n",
      "S2ThrombolysisNoButTimeWindow                 int64\n",
      "S2ThrombolysisNoButComorbidity                int64\n",
      "S2ThrombolysisNoButMedication                 int64\n",
      "S2ThrombolysisNoButRefusal                    int64\n",
      "S2ThrombolysisNoButAge                        int64\n",
      "S2ThrombolysisNoButImproving                  int64\n",
      "S2ThrombolysisNoButTooMildSevere              int64\n",
      "S2ThrombolysisNoButTimeUnknownWakeUp          int64\n",
      "S2ThrombolysisNoButOtherMedical               int64\n",
      "ArrivaltoThrombolysisMinutes                float64\n",
      "S2TIAInLastMonth                             object\n",
      "DoortoThrombolysisMinutes                   float64\n",
      "S7DischargeType                              object\n",
      "ArrivalToDeathDays                          float64\n",
      "S7StrokeUnitDeath                            object\n",
      "S7RankinDischarge                           float64\n",
      "S8Rankin6Month                              float64\n",
      "S8Rankin6MonthNK                            float64\n",
      "CallConnectedtoArrivalMinutes               float64\n",
      "ArrivalPatientLocationtoArrivalMinutes      float64\n",
      "DeparturePatientLocationtoArrivalMinutes    float64\n",
      "WheelsStoptoArrivalMinutes                  float64\n",
      "MobileDatatoArrivalMinutes                  float64\n",
      "S1PreHospitalImpression                      object\n",
      "dtype: object\n"
     ]
    }
   ],
   "source": [
    "# Show raw data types\n",
    "print(raw_data.dtypes)\n"
   ]
  },
  {
   "cell_type": "code",
   "execution_count": 7,
   "metadata": {},
   "outputs": [
    {
     "data": {
      "text/plain": [
       "TeamName                                    1.000000\n",
       "AgeUnder40                                  1.000000\n",
       "Age40to44                                   1.000000\n",
       "Age45to49                                   1.000000\n",
       "Age50to54                                   1.000000\n",
       "Age55to59                                   1.000000\n",
       "Age60to64                                   1.000000\n",
       "Age65to69                                   1.000000\n",
       "Age70to74                                   1.000000\n",
       "Age75to79                                   1.000000\n",
       "Age80to84                                   1.000000\n",
       "Age85to89                                   1.000000\n",
       "AgeOver90                                   1.000000\n",
       "S1Gender                                    1.000000\n",
       "OnsettoArrivalMinutes                       1.000000\n",
       "S1OnsetDateType                             1.000000\n",
       "S1OnsetTimeType                             1.000000\n",
       "S1ArriveByAmbulance                         1.000000\n",
       "FirstArrivalMonthYear                       1.000000\n",
       "FirstArrivalWeekday                         1.000000\n",
       "FirstArrivalTime                            1.000000\n",
       "S2CoMCongestiveHeartFailure                 1.000000\n",
       "S2CoMHypertension                           1.000000\n",
       "S2CoMAtrialFibrillation                     1.000000\n",
       "S2CoMDiabetes                               1.000000\n",
       "S2CoMStrokeTIA                              1.000000\n",
       "S2CoMAFAntiplatelet                         0.182018\n",
       "S2CoMAFAnticoagulent                        0.750134\n",
       "S2CoMAFAnticoagulentVitK                    0.688174\n",
       "S2CoMAFAnticoagulentDOAC                    0.688174\n",
       "S2CoMAFAnticoagulentHeparin                 0.688174\n",
       "S2INR                                       0.023603\n",
       "S2INRHigh                                   0.688174\n",
       "S2INRNK                                     0.688174\n",
       "S2NewAFDiagnosis                            0.552124\n",
       "S2RankinBeforeStroke                        1.000000\n",
       "S2NihssArrival                              1.000000\n",
       "S2NihssArrivalLoc                           1.000000\n",
       "S2NihssArrivalLocQuestions                  1.000000\n",
       "S2NihssArrivalLocCommands                   1.000000\n",
       "S2NihssArrivalBestGaze                      1.000000\n",
       "S2NihssArrivalVisual                        1.000000\n",
       "S2NihssArrivalFacialPalsy                   1.000000\n",
       "S2NihssArrivalMotorArmLeft                  1.000000\n",
       "S2NihssArrivalMotorArmRight                 1.000000\n",
       "S2NihssArrivalMotorLegLeft                  1.000000\n",
       "S2NihssArrivalMotorLegRight                 1.000000\n",
       "S2NihssArrivalLimbAtaxia                    1.000000\n",
       "S2NihssArrivalSensory                       1.000000\n",
       "S2NihssArrivalBestLanguage                  1.000000\n",
       "S2NihssArrivalDysarthria                    1.000000\n",
       "S2NihssArrivalExtinctionInattention         1.000000\n",
       "ArrivaltoBrainImagingMinutes                0.996149\n",
       "S2StrokeType                                0.996149\n",
       "S2Thrombolysis                              1.000000\n",
       "S2ThrombolysisNoReason                      0.004076\n",
       "S2ThrombolysisNoButHaemorrhagic             1.000000\n",
       "S2ThrombolysisNoButTimeWindow               1.000000\n",
       "S2ThrombolysisNoButComorbidity              1.000000\n",
       "S2ThrombolysisNoButMedication               1.000000\n",
       "S2ThrombolysisNoButRefusal                  1.000000\n",
       "S2ThrombolysisNoButAge                      1.000000\n",
       "S2ThrombolysisNoButImproving                1.000000\n",
       "S2ThrombolysisNoButTooMildSevere            1.000000\n",
       "S2ThrombolysisNoButTimeUnknownWakeUp        1.000000\n",
       "S2ThrombolysisNoButOtherMedical             1.000000\n",
       "ArrivaltoThrombolysisMinutes                0.114221\n",
       "S2TIAInLastMonth                            0.077085\n",
       "DoortoThrombolysisMinutes                   0.012051\n",
       "S7DischargeType                             0.993149\n",
       "ArrivalToDeathDays                          0.138900\n",
       "S7StrokeUnitDeath                           0.126455\n",
       "S7RankinDischarge                           0.992852\n",
       "S8Rankin6Month                              0.304464\n",
       "S8Rankin6MonthNK                            0.629839\n",
       "CallConnectedtoArrivalMinutes               0.301029\n",
       "ArrivalPatientLocationtoArrivalMinutes      0.301018\n",
       "DeparturePatientLocationtoArrivalMinutes    0.300765\n",
       "WheelsStoptoArrivalMinutes                  0.257994\n",
       "MobileDatatoArrivalMinutes                  0.044594\n",
       "S1PreHospitalImpression                     0.300654\n",
       "dtype: float64"
      ]
     },
     "execution_count": 7,
     "metadata": {},
     "output_type": "execute_result"
    }
   ],
   "source": [
    "# Show proportion of completed data for each column\n",
    "raw_data.count() / raw_data.shape[0]"
   ]
  },
  {
   "cell_type": "markdown",
   "metadata": {},
   "source": [
    "## Get Stroke Team"
   ]
  },
  {
   "cell_type": "code",
   "execution_count": 8,
   "metadata": {},
   "outputs": [],
   "source": [
    "cleaned_data['stroke team'] = raw_data['TeamName']"
   ]
  },
  {
   "cell_type": "markdown",
   "metadata": {},
   "source": [
    "## Extract ages and get gender"
   ]
  },
  {
   "cell_type": "code",
   "execution_count": 9,
   "metadata": {},
   "outputs": [],
   "source": [
    "ages: dict = {'AgeUnder40': 37.5, 'Age40to44': 42.5, 'Age45to49': 47.5, \n",
    "       'Age50to54': 52.5, 'Age55to59': 57.5, 'Age60to64': 62.5, 'Age65to69': 67.5, \n",
    "       'Age70to74': 72.5, 'Age75to79': 77.5, 'Age80to84': 82.5, 'Age85to89': 87.5, \n",
    "       'AgeOver90': 92.5}\n",
    "\n",
    "col_extract: pd.DataFrame = raw_data[ages.keys()]\n",
    "# Find column of col_extract with highest value\n",
    "age_band: pd.Series = col_extract.idxmax(axis=1)\n",
    "f = lambda x: ages[x]\n",
    "cleaned_data['age'] = age_band.apply(f)"
   ]
  },
  {
   "cell_type": "code",
   "execution_count": 10,
   "metadata": {},
   "outputs": [],
   "source": [
    "f = lambda x: 1 if x=='M' else 0\n",
    "cleaned_data['male'] = raw_data['S1Gender'].apply(f)"
   ]
  },
  {
   "cell_type": "markdown",
   "metadata": {},
   "source": [
    "## Get stroke type"
   ]
  },
  {
   "cell_type": "code",
   "execution_count": 11,
   "metadata": {},
   "outputs": [],
   "source": [
    "f = lambda x: 1 if x=='I' else 0\n",
    "cleaned_data['infarction'] = raw_data['S2StrokeType'].apply(f)"
   ]
  },
  {
   "cell_type": "markdown",
   "metadata": {},
   "source": [
    "## Get timings"
   ]
  },
  {
   "cell_type": "code",
   "execution_count": 12,
   "metadata": {},
   "outputs": [],
   "source": [
    "# Onset to arrival\n",
    "cleaned_data['onset-to-arrival time'] = raw_data['OnsettoArrivalMinutes']\n",
    "\n",
    "# Onset time known\n",
    "f = lambda x: 0 if x=='NK' else 1\n",
    "cleaned_data['onset known'] = raw_data['S1OnsetTimeType'].apply(f)\n",
    "\n",
    "# Precise onset time\n",
    "f = lambda x: 1 if x=='P' else 0\n",
    "cleaned_data['precise onset known'] = raw_data['S1OnsetTimeType'].apply(f)\n",
    "\n",
    "# Stroke suring sleep\n",
    "f = lambda x: 1 if x=='DS' else 0\n",
    "cleaned_data['onset during sleep'] = raw_data['S1OnsetDateType'].apply(f)\n",
    "\n",
    "# Arrive by ambulance\n",
    "f = lambda x: 1 if x=='Y' else 0\n",
    "cleaned_data['arrive by ambulance'] = raw_data['S1ArriveByAmbulance'].apply(f)\n",
    "\n",
    "# Call to ambulance arrival\n",
    "cleaned_data['call-to-ambulance-arrival time'] = (\n",
    "    raw_data['ArrivalPatientLocationtoArrivalMinutes'] - raw_data['CallConnectedtoArrivalMinutes'])\n",
    "\n",
    "# Ambulance on scence\n",
    "cleaned_data['ambulance on-scene time'] = (\n",
    "       raw_data['DeparturePatientLocationtoArrivalMinutes'] - raw_data['ArrivalPatientLocationtoArrivalMinutes'])\n",
    "\n",
    "# Ambulance travel time to hospital\n",
    "cleaned_data['ambulance travel-to-hospital time'] = (\n",
    "       raw_data['WheelsStoptoArrivalMinutes'] - raw_data['DeparturePatientLocationtoArrivalMinutes'])\n",
    "\n",
    "# Ambulance wait time at hospital\n",
    "cleaned_data['ambulance wait time at hospital'] = 0 - raw_data['WheelsStoptoArrivalMinutes']"
   ]
  },
  {
   "cell_type": "code",
   "execution_count": 13,
   "metadata": {},
   "outputs": [],
   "source": [
    "# Get month and year and conver to numbers\n",
    "\n",
    "def f(date_string):\n",
    "\n",
    "    # Parse the date string into a datetime object\n",
    "    date_obj = datetime.strptime(date_string, '%b-%y')\n",
    "\n",
    "    # Extract the month number and year from the datetime object\n",
    "    month_number = date_obj.month\n",
    "    year = date_obj.year\n",
    "\n",
    "    return month_number, year\n",
    "\n",
    "month: list = []\n",
    "year: list = []\n",
    "\n",
    "for index, row_data in raw_data.iterrows():\n",
    "    m, y = f(row_data['FirstArrivalMonthYear'])\n",
    "    month.append(m)\n",
    "    year.append(y)\n",
    "\n",
    "cleaned_data['month'] = month\n",
    "cleaned_data['year'] = year"
   ]
  },
  {
   "cell_type": "code",
   "execution_count": 14,
   "metadata": {},
   "outputs": [],
   "source": [
    "# Get arrival weekday\n",
    "\n",
    "cleaned_data['weekday'] = raw_data['FirstArrivalWeekday']"
   ]
  },
  {
   "cell_type": "code",
   "execution_count": 15,
   "metadata": {},
   "outputs": [],
   "source": [
    "# Get arrival period (3 hour period during day)\n",
    "\n",
    "arrival_time_dict: dict = {\n",
    "    '0000to3000': 0,\n",
    "    '0300to0600': 3,\n",
    "    '0600to0900': 6,\n",
    "    '0900to1200': 9,\n",
    "    '1200to1500': 12,\n",
    "    '1500to1800': 15,\n",
    "    '1800to2100': 18,\n",
    "    '2100to2400': 24\n",
    "}\n",
    "\n",
    "f = lambda x: arrival_time_dict[x]\n",
    "cleaned_data['arrival time 3 hour period'] = raw_data['FirstArrivalTime'].apply(f)"
   ]
  },
  {
   "cell_type": "code",
   "execution_count": 16,
   "metadata": {},
   "outputs": [],
   "source": [
    "# Get arrival to scan time\n",
    "\n",
    "cleaned_data['arrival-to-scan time'] = raw_data['ArrivaltoBrainImagingMinutes']\n",
    "\n",
    "# Get use of thrombolysis and time from scan\n",
    "f = lambda x: 1 if x=='Y' else 0\n",
    "cleaned_data['thrombolysis'] = raw_data['S2Thrombolysis'].apply(f)\n",
    "cleaned_data['scan-to-thrombolysis time'] = (\n",
    "    raw_data['ArrivaltoThrombolysisMinutes'] - raw_data['ArrivaltoBrainImagingMinutes'])"
   ]
  },
  {
   "cell_type": "markdown",
   "metadata": {},
   "source": [
    "## Add comorbidities"
   ]
  },
  {
   "cell_type": "code",
   "execution_count": 17,
   "metadata": {},
   "outputs": [],
   "source": [
    "comorbidities: list = ['S2CoMCongestiveHeartFailure', 'S2CoMHypertension',\n",
    "       'S2CoMAtrialFibrillation', 'S2CoMDiabetes', 'S2CoMStrokeTIA',\n",
    "       'S2CoMAFAntiplatelet', 'S2CoMAFAnticoagulent',\n",
    "       'S2CoMAFAnticoagulentVitK', 'S2CoMAFAnticoagulentDOAC',\n",
    "       'S2CoMAFAnticoagulentHeparin']\n",
    "\n",
    "rename_dict: dict = {\n",
    "    'S2CoMCongestiveHeartFailure': 'congestive heart failure',\n",
    "    'S2CoMHypertension': 'hypertension',\n",
    "    'S2CoMAtrialFibrillation': 'atrial fibrillation',\n",
    "    'S2CoMDiabetes': 'diabetes',\n",
    "    'S2CoMStrokeTIA': 'prior stroke/TIA',\n",
    "    'S2CoMAFAntiplatelet': 'antiplatelet for atrial fibrillation',\n",
    "    'S2CoMAFAnticoagulent': 'use of AF anticoagulants',\n",
    "    'S2CoMAFAnticoagulentVitK': 'vit k anticoagulant for atrial fibrillation',\n",
    "    'S2CoMAFAnticoagulentDOAC': 'DOAC anticoagulant for atrial fibrillation',\n",
    "    'S2CoMAFAnticoagulentHeparin': 'heparin anticoagulant for atrial fibrillation'}\n",
    "\n",
    "cleaned_data[comorbidities] = raw_data[comorbidities]\n",
    "\n",
    "f = lambda x: 1 if x=='Y' else 0\n",
    "for col in comorbidities:\n",
    "    cleaned_data[col] = cleaned_data[col].apply(f)\n",
    "\n",
    "# Rename columns\n",
    "cleaned_data.rename(rename_dict, axis=1, inplace=True)\n"
   ]
  },
  {
   "cell_type": "markdown",
   "metadata": {},
   "source": [
    "## INR (blood clotting)\n",
    "\n",
    "Insufficient data to be of use\n",
    "\n",
    "## New AF diagnosis\n",
    "\n",
    "Not used: All zero or empty"
   ]
  },
  {
   "cell_type": "markdown",
   "metadata": {},
   "source": [
    "## Add rankin before stroke"
   ]
  },
  {
   "cell_type": "code",
   "execution_count": 18,
   "metadata": {},
   "outputs": [],
   "source": [
    "cleaned_data['prior disability'] = raw_data['S2RankinBeforeStroke']"
   ]
  },
  {
   "cell_type": "markdown",
   "metadata": {},
   "source": [
    "## Add NIHSS data"
   ]
  },
  {
   "cell_type": "code",
   "execution_count": 19,
   "metadata": {},
   "outputs": [],
   "source": [
    "cleaned_data['stroke severity'] = raw_data['S2NihssArrival']\n",
    "\n",
    "nihss: list = ['S2NihssArrivalLoc', 'S2NihssArrivalLocQuestions',\n",
    "       'S2NihssArrivalLocCommands', 'S2NihssArrivalBestGaze',\n",
    "       'S2NihssArrivalVisual', 'S2NihssArrivalFacialPalsy',\n",
    "       'S2NihssArrivalMotorArmLeft', 'S2NihssArrivalMotorArmRight',\n",
    "       'S2NihssArrivalMotorLegLeft', 'S2NihssArrivalMotorLegRight',\n",
    "       'S2NihssArrivalLimbAtaxia', 'S2NihssArrivalSensory',\n",
    "       'S2NihssArrivalBestLanguage', 'S2NihssArrivalDysarthria',\n",
    "       'S2NihssArrivalExtinctionInattention']\n",
    "\n",
    "# Presence of -1 in SSNAP indicates missing value\n",
    "f = lambda x: 0 if x == -1 else 1\n",
    "cleaned_data['nihss complete'] = raw_data[nihss].min(axis=1).apply(f)\n",
    "\n",
    "# Add columns and rename\n",
    "rename_dict: dict = {x : x[2:] for x in nihss}\n",
    "cleaned_data[nihss] = raw_data[nihss]\n",
    "cleaned_data.rename(rename_dict, axis=1, inplace=True)"
   ]
  },
  {
   "cell_type": "markdown",
   "metadata": {},
   "source": [
    "## Add death and outcome data"
   ]
  },
  {
   "cell_type": "code",
   "execution_count": 20,
   "metadata": {},
   "outputs": [],
   "source": [
    "# Add discharge destimation\n",
    "\n",
    "rename_dict: dict = {\n",
    "    'CH': 'care home', 'D': 'died', 'H': 'home', 'SE': 'somewhere else',\n",
    "    'TC': 'community team or ESD', 'TCN': 'community team or ESD', \n",
    "    'TN': 'non-ssnap hospital team', 'T': 'ssnap hospital team', np.NaN: 'missing'}\n",
    "\n",
    "f = lambda x: rename_dict[x]\n",
    "cleaned_data['discharge destination'] = raw_data['S7DischargeType'].apply(f)\n",
    "\n",
    "# Death and outcome\n",
    "\n",
    "cleaned_data['death'] = (raw_data['ArrivalToDeathDays'] >= 0) * 1.0\n",
    "cleaned_data['discharge disability'] = raw_data['S7RankinDischarge']\n",
    "cleaned_data['6 month disability'] = raw_data['S8Rankin6Month']"
   ]
  },
  {
   "cell_type": "markdown",
   "metadata": {},
   "source": [
    "## Add reasons for no thrombolysis"
   ]
  },
  {
   "cell_type": "code",
   "execution_count": 21,
   "metadata": {},
   "outputs": [],
   "source": [
    "no_thrombolysis: list = [\n",
    "       'S2ThrombolysisNoButHaemorrhagic', 'S2ThrombolysisNoButTimeWindow',\n",
    "       'S2ThrombolysisNoButComorbidity', 'S2ThrombolysisNoButMedication',\n",
    "       'S2ThrombolysisNoButRefusal', 'S2ThrombolysisNoButAge',\n",
    "       'S2ThrombolysisNoButImproving', 'S2ThrombolysisNoButTooMildSevere',\n",
    "       'S2ThrombolysisNoButTimeUnknownWakeUp',\n",
    "       'S2ThrombolysisNoButOtherMedical']\n",
    "\n",
    "# Add columns and rename\n",
    "rename_dict: dict = {x : x[2:] for x in no_thrombolysis}\n",
    "cleaned_data[no_thrombolysis] = raw_data[no_thrombolysis]\n",
    "cleaned_data.rename(rename_dict, axis=1, inplace=True)"
   ]
  },
  {
   "cell_type": "code",
   "execution_count": null,
   "metadata": {},
   "outputs": [],
   "source": [
    "cleaned_data.tail(10)"
   ]
  },
  {
   "cell_type": "markdown",
   "metadata": {},
   "source": [
    "## Save cleaned data"
   ]
  },
  {
   "cell_type": "code",
   "execution_count": 23,
   "metadata": {},
   "outputs": [],
   "source": [
    "filename = os.path.join(paths.data_save_path, paths.data_save_filename)\n",
    "\n",
    "cleaned_data.to_csv(filename, index_label='id')"
   ]
  }
 ],
 "metadata": {
  "kernelspec": {
   "display_name": "Python 3 (ipykernel)",
   "language": "python",
   "name": "python3"
  },
  "language_info": {
   "codemirror_mode": {
    "name": "ipython",
    "version": 3
   },
   "file_extension": ".py",
   "mimetype": "text/x-python",
   "name": "python",
   "nbconvert_exporter": "python",
   "pygments_lexer": "ipython3",
   "version": "3.10.9"
  }
 },
 "nbformat": 4,
 "nbformat_minor": 4
}
